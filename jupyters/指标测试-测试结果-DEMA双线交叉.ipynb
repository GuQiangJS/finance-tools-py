{
 "cells": [
  {
   "cell_type": "code",
   "execution_count": 1,
   "metadata": {},
   "outputs": [],
   "source": [
    "import QUANTAXIS as QA\n",
    "import datetime\n",
    "import talib\n",
    "import traceback\n",
    "from finance_tools_py.backtest import BackTest\n",
    "from finance_tools_py.backtest import MinAmountChecker\n",
    "import finance_tools_py\n",
    "from finance_tools_py.simulation import Simulation\n",
    "from finance_tools_py.simulation.callbacks import CallBack\n",
    "from finance_tools_py.simulation.callbacks.talib import DEMA\n",
    "from finance_tools_py.simulation.callbacks import Rolling_Future\n",
    "import pandas as pd\n",
    "import numpy as np\n",
    "import concurrent.futures\n",
    "import os"
   ]
  },
  {
   "cell_type": "code",
   "execution_count": 2,
   "metadata": {
    "ExecuteTime": {
     "end_time": "2020-03-08T14:33:49.235980Z",
     "start_time": "2020-03-08T14:31:03.542258Z"
    },
    "scrolled": true
   },
   "outputs": [
    {
     "name": "stderr",
     "output_type": "stream",
     "text": [
      "QUANTAXIS>> Selecting the Best Server IP of TDX\n"
     ]
    },
    {
     "name": "stdout",
     "output_type": "stream",
     "text": [
      "USING DEFAULT STOCK IP\n",
      "USING DEFAULT FUTURE IP\n"
     ]
    },
    {
     "name": "stderr",
     "output_type": "stream",
     "text": [
      "QUANTAXIS>> === The BEST SERVER ===\n",
      " stock_ip 124.160.88.183 future_ip 124.74.236.94\n"
     ]
    },
    {
     "data": {
      "application/vnd.jupyter.widget-view+json": {
       "model_id": "37d4d00b557f4bc1843e47363ff7a125",
       "version_major": 2,
       "version_minor": 0
      },
      "text/plain": [
       "HBox(children=(IntProgress(value=0, description='Reading datas...', max=3811, style=ProgressStyle(description_…"
      ]
     },
     "metadata": {},
     "output_type": "display_data"
    },
    {
     "name": "stdout",
     "output_type": "stream",
     "text": [
      "QA Error QA_fetch_stock_day_adv parameter code=002977 , start=2005-01-01, end=2020-03-17 call QA_fetch_stock_day return None\n",
      "QA Error QA_fetch_stock_day_adv parameter code=002978 , start=2005-01-01, end=2020-03-17 call QA_fetch_stock_day return None\n",
      "QA Error QA_fetch_stock_day_adv parameter code=300819 , start=2005-01-01, end=2020-03-17 call QA_fetch_stock_day return None\n",
      "QA Error QA_fetch_stock_day_adv parameter code=300821 , start=2005-01-01, end=2020-03-17 call QA_fetch_stock_day return None\n",
      "QA Error QA_fetch_stock_day_adv parameter code=300822 , start=2005-01-01, end=2020-03-17 call QA_fetch_stock_day return None\n",
      "QA Error QA_fetch_stock_day_adv parameter code=300823 , start=2005-01-01, end=2020-03-17 call QA_fetch_stock_day return None\n",
      "QA Error QA_fetch_stock_day_adv parameter code=300825 , start=2005-01-01, end=2020-03-17 call QA_fetch_stock_day return None\n",
      "QA Error QA_fetch_stock_day_adv parameter code=603221 , start=2005-01-01, end=2020-03-17 call QA_fetch_stock_day return None\n",
      "QA Error QA_fetch_stock_day_adv parameter code=603353 , start=2005-01-01, end=2020-03-17 call QA_fetch_stock_day return None\n",
      "QA Error QA_fetch_stock_day_adv parameter code=603551 , start=2005-01-01, end=2020-03-17 call QA_fetch_stock_day return None\n",
      "QA Error QA_fetch_stock_day_adv parameter code=603893 , start=2005-01-01, end=2020-03-17 call QA_fetch_stock_day return None\n",
      "QA Error QA_fetch_stock_day_adv parameter code=603949 , start=2005-01-01, end=2020-03-17 call QA_fetch_stock_day return None\n",
      "QA Error QA_fetch_stock_day_adv parameter code=688051 , start=2005-01-01, end=2020-03-17 call QA_fetch_stock_day return None\n",
      "QA Error QA_fetch_stock_day_adv parameter code=688189 , start=2005-01-01, end=2020-03-17 call QA_fetch_stock_day return None\n",
      "QA Error QA_fetch_stock_day_adv parameter code=688228 , start=2005-01-01, end=2020-03-17 call QA_fetch_stock_day return None\n",
      "QA Error QA_fetch_stock_day_adv parameter code=688278 , start=2005-01-01, end=2020-03-17 call QA_fetch_stock_day return None\n",
      "QA Error QA_fetch_stock_day_adv parameter code=688398 , start=2005-01-01, end=2020-03-17 call QA_fetch_stock_day return None\n",
      "\n",
      "Datas readed.\n"
     ]
    }
   ],
   "source": [
    "filename=\"DEMA双线交叉.csv\"\n",
    "\n",
    "start='2005-01-01'\n",
    "\n",
    "code_list=QA.QA_fetch_get_stock_list('pytdx')\n",
    "## 合并所有股票一同回测\n",
    "from tqdm.auto import tqdm\n",
    "qfqs={}\n",
    "hfqs={}\n",
    "for symbol in tqdm(code_list['code'].values,\"Reading datas...\"):\n",
    "    try:\n",
    "        data=QA.QA_fetch_stock_day_adv(symbol,start=start,end='2020-03-17')\n",
    "        if data and not data.data.empty:\n",
    "            qfq=data.to_qfq().data.reset_index()\n",
    "            qfq['date']=pd.to_datetime(qfq['date'])\n",
    "            qfqs[symbol]=qfq\n",
    "            hfq=data.to_hfq().data.reset_index()\n",
    "            hfq['date']=pd.to_datetime(hfq['date'])\n",
    "            hfqs[symbol]=hfq\n",
    "    except:\n",
    "        traceback.print_exc()\n",
    "        continue\n",
    "print('Datas readed.')\n",
    "code_list=qfqs.keys()"
   ]
  },
  {
   "cell_type": "code",
   "execution_count": 3,
   "metadata": {
    "ExecuteTime": {
     "end_time": "2020-03-09T03:00:26.936124Z",
     "start_time": "2020-03-09T03:00:26.889241Z"
    }
   },
   "outputs": [],
   "source": [
    "class chker(MinAmountChecker):\n",
    "    def __init__(self, buy_dict, sell_dict, min_price=3000, min_increase=1.15, **kwargs):\n",
    "        super().__init__(buy_dict, sell_dict, **kwargs)\n",
    "        self._min_price = min_price\n",
    "        self._min_increase = min_increase\n",
    "\n",
    "    def on_check_sell(self,\n",
    "                      date: datetime.datetime.timestamp,\n",
    "                      code: str,\n",
    "                      price: float,\n",
    "                      cash: float,\n",
    "                      hold_amount: float,\n",
    "                      hold_price: float) -> bool:\n",
    "        if price < hold_price:\n",
    "            # 当前价格小于持仓价时，不可卖\n",
    "            return False\n",
    "        if code in self.sell_dict.keys() and date in self.sell_dict[code]:\n",
    "            # 其他情况均可卖\n",
    "            return True\n",
    "        if hold_amount > 0 and self._min_increase > 0 and price >= hold_price * self._min_increase:\n",
    "            # 当前价格超过成本价15%时，可卖\n",
    "            return True\n",
    "        return False\n",
    "\n",
    "    def on_calc_buy_amount(self, date, code: str, price: float, cash: float) -> float:\n",
    "        amount = 100\n",
    "        if self._min_price > 0:\n",
    "            if cash < self._min_price:\n",
    "                return super().on_calc_buy_amount(date, code, price, cash)\n",
    "            while True:\n",
    "                amount = amount + 100\n",
    "                if price * amount > self._min_price:\n",
    "                    break\n",
    "            amount = amount - 100\n",
    "        return amount\n",
    "\n",
    "    def on_calc_sell_amount(self,\n",
    "                            date: datetime.datetime.timestamp,\n",
    "                            code: str,\n",
    "                            price: float,\n",
    "                            cash: float,\n",
    "                            hold_amount: float,\n",
    "                            hold_price: float) -> float:\n",
    "        \"\"\"返回所有持仓数量，一次卖出所有\"\"\"\n",
    "        return hold_amount\n",
    "\n",
    "\n",
    "class Cross_DEMA(CallBack):\n",
    "    def __init__(self,t1,t2):\n",
    "        self.t1=t1\n",
    "        self.t2=t2\n",
    "\n",
    "    \"\"\"双线相交法\"\"\"\n",
    "    def on_preparing_data(self, data, **kwargs):\n",
    "        data['{}日线上穿{}日线'.format(self.t1,self.t2)]=0\n",
    "        data['{}日线下穿{}日线'.format(self.t1,self.t2)]=0\n",
    "        #下穿。t1.dema<t2.dema & t1.dema.shift>t2.dema.shift\n",
    "        data.loc[(data['dema_close_{}'.format(self.t1)]<data['dema_close_{}'.format(self.t2)]) & (data['dema_close_{}'.format(self.t1)].shift()>data['dema_close_{}'.format(self.t2)].shift()),'{}日线下穿{}日线'.format(self.t1,self.t2)]=1\n",
    "        #上穿。t1.dema>t2.dema & t1.dema.shift<t2.dema.shift\n",
    "        data.loc[(data['dema_close_{}'.format(self.t1)]>data['dema_close_{}'.format(self.t2)]) & (data['dema_close_{}'.format(self.t1)].shift()<data['dema_close_{}'.format(self.t2)].shift()),'{}日线上穿{}日线'.format(self.t1,self.t2)]=1\n",
    "\n",
    "class Rolling_Future_New(Rolling_Future):\n",
    "    def on_preparing_data(self, data, **kwargs):\n",
    "        super().on_preparing_data(data, **kwargs)\n",
    "        data['未来{}日涨跌'.format(self.timeperiod)]=np.sign(data['rolling_{}_{}_mean'.format(self.col_name,self.timeperiod)]-data[self.col_name])\n",
    "        data.rename(columns={'rolling_close_{}_mean/close'.format(self.timeperiod):'未来 {} 日均价/当前'.format(self.timeperiod)},inplace=True)"
   ]
  },
  {
   "cell_type": "code",
   "execution_count": 4,
   "metadata": {},
   "outputs": [],
   "source": [
    "def test(datas,t1=5,t2=20):\n",
    "    \"\"\"\n",
    "    datas: 前复权数据字典\n",
    "    \"\"\"\n",
    "    simdatas={}\n",
    "    buys={}\n",
    "    sells={}\n",
    "    for k,v in tqdm(datas.items(),\"分析买卖点...\"):\n",
    "\n",
    "        s=Simulation(v,'',callbacks=[DEMA(t1),\n",
    "                        DEMA(t2),\n",
    "                        Cross_DEMA(t1,t2),\n",
    "                        Rolling_Future_New(timeperiod=t1),\n",
    "                        Rolling_Future_New(timeperiod=t2)])\n",
    "        s.simulate()\n",
    "        simdatas[k]=s.data\n",
    "        buys[k]=s.data[(s.data['date']>start) & (s.data['date']<'2019-01-01')].loc[s.data['{}日线下穿{}日线'.format(t1,t2)]==1]['date'].dt.to_pydatetime()\n",
    "        sells[k]=s.data[(s.data['date']>start) & (s.data['date']<'2019-01-01')].loc[s.data['{}日线下穿{}日线'.format(t1,t2)]==1]['date'].dt.to_pydatetime()\n",
    "    \n",
    "    return simdatas,buys,sells"
   ]
  },
  {
   "cell_type": "code",
   "execution_count": 5,
   "metadata": {},
   "outputs": [],
   "source": [
    "alldata_fqf=pd.concat(hfqs.values()).sort_values('date')"
   ]
  },
  {
   "cell_type": "code",
   "execution_count": 6,
   "metadata": {},
   "outputs": [
    {
     "data": {
      "application/vnd.jupyter.widget-view+json": {
       "model_id": "c2d021ecb44943d7962aab0882143dbb",
       "version_major": 2,
       "version_minor": 0
      },
      "text/plain": [
       "HBox(children=(IntProgress(value=0, description='分析买卖点...', max=3794, style=ProgressStyle(description_width='i…"
      ]
     },
     "metadata": {},
     "output_type": "display_data"
    },
    {
     "name": "stderr",
     "output_type": "stream",
     "text": [
      "C:\\Users\\guqiang\\AppData\\Local\\conda\\conda\\envs\\stock_ai\\lib\\site-packages\\ipykernel_launcher.py:65: RuntimeWarning: invalid value encountered in sign\n"
     ]
    },
    {
     "name": "stdout",
     "output_type": "stream",
     "text": [
      "\n"
     ]
    },
    {
     "data": {
      "application/vnd.jupyter.widget-view+json": {
       "model_id": "64abd95d5a334d9aa589e3be17d554a1",
       "version_major": 2,
       "version_minor": 0
      },
      "text/plain": [
       "HBox(children=(IntProgress(value=0, description='回测计算中...', max=8001644, style=ProgressStyle(description_width…"
      ]
     },
     "metadata": {},
     "output_type": "display_data"
    },
    {
     "name": "stdout",
     "output_type": "stream",
     "text": [
      "\n",
      "数据时间:2005-01-04 00:00:00~2020-03-09 00:00:00（可交易天数3688）\n",
      "初始资金:50000.00\n",
      "交易次数:16883 (买入/卖出各算1次)\n",
      "可用资金:6384.75\n",
      "当前持仓:        buy_price  amount  price_cur\n",
      "code                                \n",
      "000521   7.755975   100.0   7.293191\n",
      "000537  21.325662   100.0  12.209716\n",
      "000571  12.848637   200.0   3.294242\n",
      "600026  11.325617   100.0  10.512334\n",
      "600601  14.654043   200.0   6.166599\n",
      "601518   3.898520   100.0   3.007138\n",
      "当前总资产:16315.87\n",
      "资金变化率:12.77%\n",
      "资产变化率:32.63%\n",
      "总手续费:84449.55\n",
      "总印花税:22243.99\n",
      "   available_cash  total_assets_cur  total_assets_buy  buy_cur_diff  \\\n",
      "0         6384.75          11579.16          16315.87      -4736.71   \n",
      "\n",
      "   trade_times  init_cash  t1  t2  \n",
      "0        16883      50000   3   9  \n"
     ]
    },
    {
     "data": {
      "application/vnd.jupyter.widget-view+json": {
       "model_id": "3944ebca9f7148da837643960cb893c1",
       "version_major": 2,
       "version_minor": 0
      },
      "text/plain": [
       "HBox(children=(IntProgress(value=0, description='分析买卖点...', max=3794, style=ProgressStyle(description_width='i…"
      ]
     },
     "metadata": {},
     "output_type": "display_data"
    },
    {
     "name": "stderr",
     "output_type": "stream",
     "text": [
      "C:\\Users\\guqiang\\AppData\\Local\\conda\\conda\\envs\\stock_ai\\lib\\site-packages\\ipykernel_launcher.py:65: RuntimeWarning: invalid value encountered in sign\n"
     ]
    },
    {
     "name": "stdout",
     "output_type": "stream",
     "text": [
      "\n"
     ]
    },
    {
     "data": {
      "application/vnd.jupyter.widget-view+json": {
       "model_id": "a3be314d4a584825a213175127182815",
       "version_major": 2,
       "version_minor": 0
      },
      "text/plain": [
       "HBox(children=(IntProgress(value=0, description='回测计算中...', max=8001644, style=ProgressStyle(description_width…"
      ]
     },
     "metadata": {},
     "output_type": "display_data"
    },
    {
     "name": "stdout",
     "output_type": "stream",
     "text": [
      "\n",
      "数据时间:2005-01-04 00:00:00~2020-03-09 00:00:00（可交易天数3688）\n",
      "初始资金:50000.00\n",
      "交易次数:18032 (买入/卖出各算1次)\n",
      "可用资金:3333.05\n",
      "当前持仓:        buy_price  amount  price_cur\n",
      "code                                \n",
      "000897   7.371168   100.0   6.294212\n",
      "000960  60.752245   100.0  20.170619\n",
      "002145  30.190000   100.0  13.229904\n",
      "600228  29.362500   100.0   8.275500\n",
      "600959  53.280000   100.0   5.097635\n",
      "当前总资产:21428.64\n",
      "资金变化率:6.67%\n",
      "资产变化率:42.86%\n",
      "总手续费:90359.94\n",
      "总印花税:24826.66\n",
      "   available_cash  total_assets_cur  total_assets_buy  buy_cur_diff  \\\n",
      "0         3333.05           8639.84          21428.64      -12788.8   \n",
      "\n",
      "   trade_times  init_cash  t1  t2  \n",
      "0        18032      50000   3  12  \n"
     ]
    },
    {
     "data": {
      "application/vnd.jupyter.widget-view+json": {
       "model_id": "155531282ef54dd4a27bac0f8fbc6faf",
       "version_major": 2,
       "version_minor": 0
      },
      "text/plain": [
       "HBox(children=(IntProgress(value=0, description='分析买卖点...', max=3794, style=ProgressStyle(description_width='i…"
      ]
     },
     "metadata": {},
     "output_type": "display_data"
    },
    {
     "name": "stderr",
     "output_type": "stream",
     "text": [
      "C:\\Users\\guqiang\\AppData\\Local\\conda\\conda\\envs\\stock_ai\\lib\\site-packages\\ipykernel_launcher.py:65: RuntimeWarning: invalid value encountered in sign\n"
     ]
    },
    {
     "name": "stdout",
     "output_type": "stream",
     "text": [
      "\n"
     ]
    },
    {
     "data": {
      "application/vnd.jupyter.widget-view+json": {
       "model_id": "f310f0c84a6d4fc8b14f741ba11b9316",
       "version_major": 2,
       "version_minor": 0
      },
      "text/plain": [
       "HBox(children=(IntProgress(value=0, description='回测计算中...', max=8001644, style=ProgressStyle(description_width…"
      ]
     },
     "metadata": {},
     "output_type": "display_data"
    },
    {
     "name": "stdout",
     "output_type": "stream",
     "text": [
      "\n",
      "数据时间:2005-01-04 00:00:00~2020-03-09 00:00:00（可交易天数3688）\n",
      "初始资金:50000.00\n",
      "交易次数:14470 (买入/卖出各算1次)\n",
      "可用资金:6122.78\n",
      "当前持仓:        buy_price  amount  price_cur\n",
      "code                                \n",
      "000068  12.523739   100.0   5.352407\n",
      "600723  10.447358   100.0   8.815032\n",
      "600880  44.193686   100.0  27.409382\n",
      "600998  31.227052   100.0  18.241901\n",
      "当前总资产:15961.96\n",
      "资金变化率:12.25%\n",
      "资产变化率:31.92%\n",
      "总手续费:72478.04\n",
      "总印花税:17952.49\n",
      "   available_cash  total_assets_cur  total_assets_buy  buy_cur_diff  \\\n",
      "0         6122.78          12104.65          15961.96      -3857.31   \n",
      "\n",
      "   trade_times  init_cash  t1  t2  \n",
      "0        14470      50000   3  15  \n"
     ]
    },
    {
     "data": {
      "application/vnd.jupyter.widget-view+json": {
       "model_id": "312def29e967484188abde9a50127e4c",
       "version_major": 2,
       "version_minor": 0
      },
      "text/plain": [
       "HBox(children=(IntProgress(value=0, description='分析买卖点...', max=3794, style=ProgressStyle(description_width='i…"
      ]
     },
     "metadata": {},
     "output_type": "display_data"
    },
    {
     "name": "stderr",
     "output_type": "stream",
     "text": [
      "C:\\Users\\guqiang\\AppData\\Local\\conda\\conda\\envs\\stock_ai\\lib\\site-packages\\ipykernel_launcher.py:65: RuntimeWarning: invalid value encountered in sign\n"
     ]
    },
    {
     "name": "stdout",
     "output_type": "stream",
     "text": [
      "\n"
     ]
    },
    {
     "data": {
      "application/vnd.jupyter.widget-view+json": {
       "model_id": "965e02beeb8341cb966a1eda41d9e9ea",
       "version_major": 2,
       "version_minor": 0
      },
      "text/plain": [
       "HBox(children=(IntProgress(value=0, description='回测计算中...', max=8001644, style=ProgressStyle(description_width…"
      ]
     },
     "metadata": {},
     "output_type": "display_data"
    },
    {
     "name": "stdout",
     "output_type": "stream",
     "text": [
      "\n",
      "数据时间:2005-01-04 00:00:00~2020-03-09 00:00:00（可交易天数3688）\n",
      "初始资金:50000.00\n",
      "交易次数:13619 (买入/卖出各算1次)\n",
      "可用资金:135.42\n",
      "当前持仓:        buy_price  amount  price_cur\n",
      "code                                \n",
      "601798  23.231421   100.0   6.220191\n",
      "601818   6.871221   200.0   5.465963\n",
      "603167  21.178613   100.0  10.671991\n",
      "603609  29.261088   100.0  18.584708\n",
      "当前总资产:8876.78\n",
      "资金变化率:0.27%\n",
      "资产变化率:17.75%\n",
      "总手续费:68102.48\n",
      "总印花税:15817.44\n",
      "   available_cash  total_assets_cur  total_assets_buy  buy_cur_diff  \\\n",
      "0          135.42            4776.3           8876.78      -4100.48   \n",
      "\n",
      "   trade_times  init_cash  t1  t2  \n",
      "0        13619      50000   4  12  \n"
     ]
    },
    {
     "data": {
      "application/vnd.jupyter.widget-view+json": {
       "model_id": "bfe002fd82904097a22901d7b99db781",
       "version_major": 2,
       "version_minor": 0
      },
      "text/plain": [
       "HBox(children=(IntProgress(value=0, description='分析买卖点...', max=3794, style=ProgressStyle(description_width='i…"
      ]
     },
     "metadata": {},
     "output_type": "display_data"
    },
    {
     "name": "stderr",
     "output_type": "stream",
     "text": [
      "C:\\Users\\guqiang\\AppData\\Local\\conda\\conda\\envs\\stock_ai\\lib\\site-packages\\ipykernel_launcher.py:65: RuntimeWarning: invalid value encountered in sign\n"
     ]
    },
    {
     "name": "stdout",
     "output_type": "stream",
     "text": [
      "\n"
     ]
    },
    {
     "data": {
      "application/vnd.jupyter.widget-view+json": {
       "model_id": "9558df26d1074b0aac124249c13504ba",
       "version_major": 2,
       "version_minor": 0
      },
      "text/plain": [
       "HBox(children=(IntProgress(value=0, description='回测计算中...', max=8001644, style=ProgressStyle(description_width…"
      ]
     },
     "metadata": {},
     "output_type": "display_data"
    },
    {
     "name": "stdout",
     "output_type": "stream",
     "text": [
      "\n",
      "数据时间:2005-01-04 00:00:00~2020-03-09 00:00:00（可交易天数3688）\n",
      "初始资金:50000.00\n",
      "交易次数:17715 (买入/卖出各算1次)\n",
      "可用资金:22.10\n",
      "当前持仓:        buy_price  amount  price_cur\n",
      "code                                \n",
      "000017  31.733757   100.0   5.690736\n",
      "000528  48.119884   100.0  28.508152\n",
      "002724  41.954283   100.0  13.636914\n",
      "600523  47.316387   100.0  27.164361\n",
      "600895  49.719242   100.0  25.113530\n",
      "601002  16.335060   200.0   7.024964\n",
      "601918  13.909072   100.0   4.459477\n",
      "601985  11.730000   100.0   5.022228\n",
      "603609  27.849317   200.0  18.584708\n",
      "当前总资产:33307.24\n",
      "资金变化率:0.04%\n",
      "资产变化率:66.61%\n",
      "总手续费:89297.69\n",
      "总印花税:25284.26\n",
      "   available_cash  total_assets_cur  total_assets_buy  buy_cur_diff  \\\n",
      "0            22.1          16103.58          33307.24     -17203.66   \n",
      "\n",
      "   trade_times  init_cash  t1  t2  \n",
      "0        17715      50000   4  16  \n"
     ]
    },
    {
     "data": {
      "application/vnd.jupyter.widget-view+json": {
       "model_id": "e7744dc507724cc4a41226836844b4b1",
       "version_major": 2,
       "version_minor": 0
      },
      "text/plain": [
       "HBox(children=(IntProgress(value=0, description='分析买卖点...', max=3794, style=ProgressStyle(description_width='i…"
      ]
     },
     "metadata": {},
     "output_type": "display_data"
    },
    {
     "name": "stderr",
     "output_type": "stream",
     "text": [
      "C:\\Users\\guqiang\\AppData\\Local\\conda\\conda\\envs\\stock_ai\\lib\\site-packages\\ipykernel_launcher.py:65: RuntimeWarning: invalid value encountered in sign\n"
     ]
    },
    {
     "name": "stdout",
     "output_type": "stream",
     "text": [
      "\n"
     ]
    },
    {
     "data": {
      "application/vnd.jupyter.widget-view+json": {
       "model_id": "cd1f63fe53ce401bafac464aef367180",
       "version_major": 2,
       "version_minor": 0
      },
      "text/plain": [
       "HBox(children=(IntProgress(value=0, description='回测计算中...', max=8001644, style=ProgressStyle(description_width…"
      ]
     },
     "metadata": {},
     "output_type": "display_data"
    },
    {
     "name": "stdout",
     "output_type": "stream",
     "text": [
      "\n",
      "数据时间:2005-01-04 00:00:00~2020-03-09 00:00:00（可交易天数3688）\n",
      "初始资金:50000.00\n",
      "交易次数:15085 (买入/卖出各算1次)\n",
      "可用资金:2804.58\n",
      "当前持仓:        buy_price  amount  price_cur\n",
      "code                                \n",
      "000166   7.843067   100.0   6.845694\n",
      "000666  26.732307   100.0  15.828478\n",
      "000677  23.381399   100.0  10.460100\n",
      "000922  20.497946   200.0  10.226405\n",
      "002134  23.168781   100.0  11.753369\n",
      "002238  50.029493   100.0  18.400747\n",
      "002561  15.183152   100.0  10.747734\n",
      "600675  52.876572   100.0  21.445268\n",
      "600880  44.193686   100.0  27.409382\n",
      "603966  25.642234   200.0  14.124307\n",
      "当前总资产:36373.46\n",
      "资金变化率:5.61%\n",
      "资产变化率:72.75%\n",
      "总手续费:75641.59\n",
      "总印花税:20606.60\n",
      "   available_cash  total_assets_cur  total_assets_buy  buy_cur_diff  \\\n",
      "0         2804.58           19963.8          36373.46     -16409.66   \n",
      "\n",
      "   trade_times  init_cash  t1  t2  \n",
      "0        15085      50000   4  20  \n"
     ]
    },
    {
     "data": {
      "application/vnd.jupyter.widget-view+json": {
       "model_id": "889d1832f27a4e8cbe6c737daa5a050f",
       "version_major": 2,
       "version_minor": 0
      },
      "text/plain": [
       "HBox(children=(IntProgress(value=0, description='分析买卖点...', max=3794, style=ProgressStyle(description_width='i…"
      ]
     },
     "metadata": {},
     "output_type": "display_data"
    },
    {
     "name": "stderr",
     "output_type": "stream",
     "text": [
      "C:\\Users\\guqiang\\AppData\\Local\\conda\\conda\\envs\\stock_ai\\lib\\site-packages\\ipykernel_launcher.py:65: RuntimeWarning: invalid value encountered in sign\n"
     ]
    },
    {
     "name": "stdout",
     "output_type": "stream",
     "text": [
      "\n"
     ]
    },
    {
     "data": {
      "application/vnd.jupyter.widget-view+json": {
       "model_id": "0c4c03645dde47dabaf411a6b42f0625",
       "version_major": 2,
       "version_minor": 0
      },
      "text/plain": [
       "HBox(children=(IntProgress(value=0, description='回测计算中...', max=8001644, style=ProgressStyle(description_width…"
      ]
     },
     "metadata": {},
     "output_type": "display_data"
    },
    {
     "name": "stdout",
     "output_type": "stream",
     "text": [
      "\n",
      "数据时间:2005-01-04 00:00:00~2020-03-09 00:00:00（可交易天数3688）\n",
      "初始资金:50000.00\n",
      "交易次数:19268 (买入/卖出各算1次)\n",
      "可用资金:89.56\n",
      "当前持仓:         buy_price  amount  price_cur\n",
      "code                                 \n",
      "000702   21.875200   100.0   7.116800\n",
      "002442   40.982017   100.0  11.640238\n",
      "002724   41.954283   100.0  13.636914\n",
      "600052    7.406792   100.0   5.547351\n",
      "600220   10.927950   300.0   5.291479\n",
      "600350   13.249873   100.0   9.238716\n",
      "600726    5.653166   200.0   2.277832\n",
      "601179    7.906319   400.0   4.923835\n",
      "601958   16.427494   200.0   8.793641\n",
      "603611  102.425255   100.0  57.725190\n",
      "当前总资产:33735.94\n",
      "资金变化率:0.18%\n",
      "资产变化率:67.47%\n",
      "总手续费:96750.00\n",
      "总印花税:27386.34\n",
      "   available_cash  total_assets_cur  total_assets_buy  buy_cur_diff  \\\n",
      "0           89.56          16351.35          33735.94     -17384.59   \n",
      "\n",
      "   trade_times  init_cash  t1  t2  \n",
      "0        19268      50000   5  15  \n"
     ]
    },
    {
     "data": {
      "application/vnd.jupyter.widget-view+json": {
       "model_id": "239d95edae674d6ab7ab6b82ab66b476",
       "version_major": 2,
       "version_minor": 0
      },
      "text/plain": [
       "HBox(children=(IntProgress(value=0, description='分析买卖点...', max=3794, style=ProgressStyle(description_width='i…"
      ]
     },
     "metadata": {},
     "output_type": "display_data"
    },
    {
     "name": "stderr",
     "output_type": "stream",
     "text": [
      "C:\\Users\\guqiang\\AppData\\Local\\conda\\conda\\envs\\stock_ai\\lib\\site-packages\\ipykernel_launcher.py:65: RuntimeWarning: invalid value encountered in sign\n"
     ]
    },
    {
     "name": "stdout",
     "output_type": "stream",
     "text": [
      "\n"
     ]
    },
    {
     "data": {
      "application/vnd.jupyter.widget-view+json": {
       "model_id": "6225965673654e8183ad5d1261cc0c1d",
       "version_major": 2,
       "version_minor": 0
      },
      "text/plain": [
       "HBox(children=(IntProgress(value=0, description='回测计算中...', max=8001644, style=ProgressStyle(description_width…"
      ]
     },
     "metadata": {},
     "output_type": "display_data"
    },
    {
     "name": "stdout",
     "output_type": "stream",
     "text": [
      "\n",
      "数据时间:2005-01-04 00:00:00~2020-03-09 00:00:00（可交易天数3688）\n",
      "初始资金:50000.00\n",
      "交易次数:15002 (买入/卖出各算1次)\n",
      "可用资金:3174.34\n",
      "当前持仓:        buy_price  amount  price_cur\n",
      "code                                \n",
      "000166  13.490000   100.0   6.845694\n",
      "000505  13.390500   200.0   6.633100\n",
      "000593  28.311621   100.0   8.129234\n",
      "000702  21.875200   100.0   7.116800\n",
      "600722  10.787000   100.0   5.708400\n",
      "600746  15.759627   100.0  10.168332\n",
      "600759  10.689471   100.0   5.082224\n",
      "600792  30.408866   100.0   9.566497\n",
      "600858  58.742340   100.0  16.626072\n",
      "600998  31.227052   100.0  18.241901\n",
      "600999  44.660467   100.0  28.924737\n",
      "601015  24.230000   100.0   5.744976\n",
      "601179   9.410689   200.0   4.923835\n",
      "601608  11.289601   500.0   5.828817\n",
      "603333  22.669141   100.0  15.574455\n",
      "当前总资产:44664.46\n",
      "资金变化率:6.35%\n",
      "资产变化率:89.33%\n",
      "总手续费:75688.06\n",
      "总印花税:23396.85\n",
      "   available_cash  total_assets_cur  total_assets_buy  buy_cur_diff  \\\n",
      "0         3174.34          22173.07          44664.46     -22491.39   \n",
      "\n",
      "   trade_times  init_cash  t1  t2  \n",
      "0        15002      50000   5  20  \n"
     ]
    },
    {
     "data": {
      "application/vnd.jupyter.widget-view+json": {
       "model_id": "ce01fb6262d640d49a74e35f337e84f2",
       "version_major": 2,
       "version_minor": 0
      },
      "text/plain": [
       "HBox(children=(IntProgress(value=0, description='分析买卖点...', max=3794, style=ProgressStyle(description_width='i…"
      ]
     },
     "metadata": {},
     "output_type": "display_data"
    },
    {
     "name": "stderr",
     "output_type": "stream",
     "text": [
      "C:\\Users\\guqiang\\AppData\\Local\\conda\\conda\\envs\\stock_ai\\lib\\site-packages\\ipykernel_launcher.py:65: RuntimeWarning: invalid value encountered in sign\n"
     ]
    },
    {
     "name": "stdout",
     "output_type": "stream",
     "text": [
      "\n"
     ]
    },
    {
     "data": {
      "application/vnd.jupyter.widget-view+json": {
       "model_id": "26a64b3658454e248648f1d8a7caf6b5",
       "version_major": 2,
       "version_minor": 0
      },
      "text/plain": [
       "HBox(children=(IntProgress(value=0, description='回测计算中...', max=8001644, style=ProgressStyle(description_width…"
      ]
     },
     "metadata": {},
     "output_type": "display_data"
    },
    {
     "name": "stdout",
     "output_type": "stream",
     "text": [
      "\n",
      "数据时间:2005-01-04 00:00:00~2020-03-09 00:00:00（可交易天数3688）\n",
      "初始资金:50000.00\n",
      "交易次数:13940 (买入/卖出各算1次)\n",
      "可用资金:3851.92\n",
      "当前持仓:         buy_price  amount  price_cur\n",
      "code                                 \n",
      "000593   28.311621   100.0   8.129234\n",
      "000755   10.531084   100.0   6.222913\n",
      "002207   14.884328   100.0  11.804812\n",
      "300400  110.512849   100.0  39.528566\n",
      "600400   54.057724   100.0  53.652074\n",
      "600800   18.965603   200.0   6.884312\n",
      "600999   44.660467   100.0  28.924737\n",
      "601006   22.790270   200.0  12.677881\n",
      "601179    6.807269   400.0   4.923835\n",
      "601186   26.635064   100.0  12.352457\n",
      "601326    5.171912   100.0   2.962577\n",
      "603309   58.649929   100.0  30.140719\n",
      "当前总资产:50267.50\n",
      "资金变化率:7.70%\n",
      "资产变化率:100.53%\n",
      "总手续费:70189.76\n",
      "总印花税:21809.30\n",
      "   available_cash  total_assets_cur  total_assets_buy  buy_cur_diff  \\\n",
      "0         3851.92           29105.7           50267.5      -21161.8   \n",
      "\n",
      "   trade_times  init_cash  t1  t2  \n",
      "0        13940      50000   5  25  \n"
     ]
    },
    {
     "data": {
      "application/vnd.jupyter.widget-view+json": {
       "model_id": "fb5b73bceb414b288a596bf996033332",
       "version_major": 2,
       "version_minor": 0
      },
      "text/plain": [
       "HBox(children=(IntProgress(value=0, description='分析买卖点...', max=3794, style=ProgressStyle(description_width='i…"
      ]
     },
     "metadata": {},
     "output_type": "display_data"
    },
    {
     "name": "stderr",
     "output_type": "stream",
     "text": [
      "C:\\Users\\guqiang\\AppData\\Local\\conda\\conda\\envs\\stock_ai\\lib\\site-packages\\ipykernel_launcher.py:65: RuntimeWarning: invalid value encountered in sign\n"
     ]
    },
    {
     "name": "stdout",
     "output_type": "stream",
     "text": [
      "\n"
     ]
    },
    {
     "data": {
      "application/vnd.jupyter.widget-view+json": {
       "model_id": "376a7a61e40b4aaa977ddf3ecfbb690f",
       "version_major": 2,
       "version_minor": 0
      },
      "text/plain": [
       "HBox(children=(IntProgress(value=0, description='回测计算中...', max=8001644, style=ProgressStyle(description_width…"
      ]
     },
     "metadata": {},
     "output_type": "display_data"
    },
    {
     "name": "stdout",
     "output_type": "stream",
     "text": [
      "\n",
      "数据时间:2005-01-04 00:00:00~2020-03-09 00:00:00（可交易天数3688）\n",
      "初始资金:50000.00\n",
      "交易次数:13689 (买入/卖出各算1次)\n",
      "可用资金:1186.39\n",
      "当前持仓:        buy_price  amount  price_cur\n",
      "code                                \n",
      "000702  21.875200   100.0   7.116800\n",
      "000927  10.879275   100.0   5.858071\n",
      "000955  30.985812   100.0  18.292560\n",
      "600221  12.343737   200.0   5.054954\n",
      "600241  50.476055   100.0   9.991449\n",
      "600353  97.744366   100.0  36.467471\n",
      "600743  12.185310   100.0   7.471933\n",
      "600792  30.408866   100.0   9.566497\n",
      "600803  58.500000   100.0  28.708147\n",
      "600998  31.227052   100.0  18.241901\n",
      "600999  44.660467   100.0  28.924737\n",
      "601228   7.111220   100.0   3.411091\n",
      "当前总资产:43260.50\n",
      "资金变化率:2.37%\n",
      "资产变化率:86.52%\n",
      "总手续费:69527.44\n",
      "总印花税:23470.94\n",
      "   available_cash  total_assets_cur  total_assets_buy  buy_cur_diff  \\\n",
      "0         1186.39          19602.44           43260.5     -23658.06   \n",
      "\n",
      "   trade_times  init_cash  t1  t2  \n",
      "0        13689      50000   6  18  \n"
     ]
    },
    {
     "data": {
      "application/vnd.jupyter.widget-view+json": {
       "model_id": "1e2b5a73596d4e769d56aa6c3f1b309b",
       "version_major": 2,
       "version_minor": 0
      },
      "text/plain": [
       "HBox(children=(IntProgress(value=0, description='分析买卖点...', max=3794, style=ProgressStyle(description_width='i…"
      ]
     },
     "metadata": {},
     "output_type": "display_data"
    },
    {
     "name": "stderr",
     "output_type": "stream",
     "text": [
      "C:\\Users\\guqiang\\AppData\\Local\\conda\\conda\\envs\\stock_ai\\lib\\site-packages\\ipykernel_launcher.py:65: RuntimeWarning: invalid value encountered in sign\n"
     ]
    },
    {
     "name": "stdout",
     "output_type": "stream",
     "text": [
      "\n"
     ]
    },
    {
     "data": {
      "application/vnd.jupyter.widget-view+json": {
       "model_id": "6b0c63f8571e4ea2868e00d7a17fe3e1",
       "version_major": 2,
       "version_minor": 0
      },
      "text/plain": [
       "HBox(children=(IntProgress(value=0, description='回测计算中...', max=8001644, style=ProgressStyle(description_width…"
      ]
     },
     "metadata": {},
     "output_type": "display_data"
    },
    {
     "name": "stdout",
     "output_type": "stream",
     "text": [
      "\n",
      "数据时间:2005-01-04 00:00:00~2020-03-09 00:00:00（可交易天数3688）\n",
      "初始资金:50000.00\n",
      "交易次数:18369 (买入/卖出各算1次)\n",
      "可用资金:12578.95\n",
      "当前持仓:        buy_price  amount  price_cur\n",
      "code                                \n",
      "000570  20.671577   100.0   9.593328\n",
      "000573   6.841838   100.0   4.865311\n",
      "000608  23.798684   200.0  14.684780\n",
      "000613  22.487750   100.0   8.995100\n",
      "000755  10.531084   100.0   6.222913\n",
      "002171  83.783893   100.0  43.506130\n",
      "002578  31.255464   200.0  16.739459\n",
      "300029  15.096230   100.0   6.089666\n",
      "600021  57.544889   100.0  15.504590\n",
      "600369  55.800368   100.0  24.010551\n",
      "600795  41.990038   100.0  15.312144\n",
      "600800  24.716028   100.0   6.884312\n",
      "600891  24.558549   100.0   1.854599\n",
      "601107   5.595950   200.0   4.547590\n",
      "601186  26.066804   200.0  12.352457\n",
      "当前总资产:66324.56\n",
      "资金变化率:25.16%\n",
      "资产变化率:132.65%\n",
      "总手续费:93684.28\n",
      "总印花税:31119.80\n",
      "   available_cash  total_assets_cur  total_assets_buy  buy_cur_diff  \\\n",
      "0        12578.95          36527.67          66324.56     -29796.89   \n",
      "\n",
      "   trade_times  init_cash  t1  t2  \n",
      "0        18369      50000   6  24  \n"
     ]
    },
    {
     "data": {
      "application/vnd.jupyter.widget-view+json": {
       "model_id": "40d55eff3cf942a5baf69bc4f285d092",
       "version_major": 2,
       "version_minor": 0
      },
      "text/plain": [
       "HBox(children=(IntProgress(value=0, description='分析买卖点...', max=3794, style=ProgressStyle(description_width='i…"
      ]
     },
     "metadata": {},
     "output_type": "display_data"
    },
    {
     "name": "stderr",
     "output_type": "stream",
     "text": [
      "C:\\Users\\guqiang\\AppData\\Local\\conda\\conda\\envs\\stock_ai\\lib\\site-packages\\ipykernel_launcher.py:65: RuntimeWarning: invalid value encountered in sign\n"
     ]
    },
    {
     "name": "stdout",
     "output_type": "stream",
     "text": [
      "\n"
     ]
    },
    {
     "data": {
      "application/vnd.jupyter.widget-view+json": {
       "model_id": "9fb35bc290a6437d93bb2a3b9728adf2",
       "version_major": 2,
       "version_minor": 0
      },
      "text/plain": [
       "HBox(children=(IntProgress(value=0, description='回测计算中...', max=8001644, style=ProgressStyle(description_width…"
      ]
     },
     "metadata": {},
     "output_type": "display_data"
    },
    {
     "name": "stdout",
     "output_type": "stream",
     "text": [
      "\n",
      "数据时间:2005-01-04 00:00:00~2020-03-09 00:00:00（可交易天数3688）\n",
      "初始资金:50000.00\n",
      "交易次数:17209 (买入/卖出各算1次)\n",
      "可用资金:840.12\n",
      "当前持仓:         buy_price  amount  price_cur\n",
      "code                                 \n",
      "000038   45.779433   100.0  20.772363\n",
      "000613   23.762300   100.0   8.995100\n",
      "000761   11.199197   200.0   6.362120\n",
      "002496  123.988953   100.0  42.847624\n",
      "002510   43.339866   100.0  24.784859\n",
      "300028  107.859996   100.0   1.857563\n",
      "300256   55.225146   100.0  29.884761\n",
      "600225    6.108777   100.0   3.381195\n",
      "600726    6.377931   200.0   2.277832\n",
      "600833   57.709511   100.0  18.751071\n",
      "601326    7.900000   100.0   2.962577\n",
      "601616    9.694888   200.0   6.385589\n",
      "601727   16.259699   200.0   5.492178\n",
      "603555   58.582233   100.0   6.484326\n",
      "当前总资产:62572.08\n",
      "资金变化率:1.68%\n",
      "资产变化率:125.14%\n",
      "总手续费:87635.62\n",
      "总印花税:30589.53\n",
      "   available_cash  total_assets_cur  total_assets_buy  buy_cur_diff  \\\n",
      "0          840.12          21015.81          62572.08     -41556.27   \n",
      "\n",
      "   trade_times  init_cash  t1  t2  \n",
      "0        17209      50000   6  30  \n"
     ]
    },
    {
     "data": {
      "application/vnd.jupyter.widget-view+json": {
       "model_id": "59aa2128dbc94538afca4fb3b7a2defd",
       "version_major": 2,
       "version_minor": 0
      },
      "text/plain": [
       "HBox(children=(IntProgress(value=0, description='分析买卖点...', max=3794, style=ProgressStyle(description_width='i…"
      ]
     },
     "metadata": {},
     "output_type": "display_data"
    },
    {
     "name": "stderr",
     "output_type": "stream",
     "text": [
      "C:\\Users\\guqiang\\AppData\\Local\\conda\\conda\\envs\\stock_ai\\lib\\site-packages\\ipykernel_launcher.py:65: RuntimeWarning: invalid value encountered in sign\n"
     ]
    },
    {
     "name": "stdout",
     "output_type": "stream",
     "text": [
      "\n"
     ]
    },
    {
     "data": {
      "application/vnd.jupyter.widget-view+json": {
       "model_id": "4dc8e187a3744a13a52ea26b5f822f60",
       "version_major": 2,
       "version_minor": 0
      },
      "text/plain": [
       "HBox(children=(IntProgress(value=0, description='回测计算中...', max=8001644, style=ProgressStyle(description_width…"
      ]
     },
     "metadata": {},
     "output_type": "display_data"
    },
    {
     "name": "stdout",
     "output_type": "stream",
     "text": [
      "\n",
      "数据时间:2005-01-04 00:00:00~2020-03-09 00:00:00（可交易天数3688）\n",
      "初始资金:50000.00\n",
      "交易次数:17856 (买入/卖出各算1次)\n",
      "可用资金:13657.88\n",
      "当前持仓:         buy_price  amount  price_cur\n",
      "code                                 \n",
      "000707   10.694759   100.0   3.726763\n",
      "000750   61.072081   100.0  24.979691\n",
      "000809   29.219400   100.0   6.350017\n",
      "000886   12.612044   200.0   6.264727\n",
      "002211   13.956724   100.0   9.141959\n",
      "002324   84.661243   100.0  84.073946\n",
      "002510   43.339866   100.0  24.784859\n",
      "300400  110.512849   100.0  39.528566\n",
      "600021   57.544889   100.0  15.504590\n",
      "600023   11.837510   100.0   5.655389\n",
      "600795   41.990038   100.0  15.312144\n",
      "600800   18.047695   200.0   6.884312\n",
      "600891   24.558549   100.0   1.854599\n",
      "601008   21.388523   100.0   6.285044\n",
      "601098   30.558262   200.0  13.646511\n",
      "601179    7.593677   400.0   4.923835\n",
      "601798   14.717895   200.0   6.220191\n",
      "601929   20.780954   100.0   4.893625\n",
      "603366   41.813424   100.0  15.581805\n",
      "当前总资产:89219.61\n",
      "资金变化率:27.32%\n",
      "资产变化率:178.44%\n",
      "总手续费:91896.62\n",
      "总印花税:34218.92\n",
      "   available_cash  total_assets_cur  total_assets_buy  buy_cur_diff  \\\n",
      "0        13657.88          47997.86          89219.61     -41221.75   \n",
      "\n",
      "   trade_times  init_cash  t1  t2  \n",
      "0        17856      50000   7  21  \n"
     ]
    },
    {
     "data": {
      "application/vnd.jupyter.widget-view+json": {
       "model_id": "0c8c1930a24c469499dada5c0c7719e2",
       "version_major": 2,
       "version_minor": 0
      },
      "text/plain": [
       "HBox(children=(IntProgress(value=0, description='分析买卖点...', max=3794, style=ProgressStyle(description_width='i…"
      ]
     },
     "metadata": {},
     "output_type": "display_data"
    },
    {
     "name": "stderr",
     "output_type": "stream",
     "text": [
      "C:\\Users\\guqiang\\AppData\\Local\\conda\\conda\\envs\\stock_ai\\lib\\site-packages\\ipykernel_launcher.py:65: RuntimeWarning: invalid value encountered in sign\n"
     ]
    },
    {
     "name": "stdout",
     "output_type": "stream",
     "text": [
      "\n"
     ]
    },
    {
     "data": {
      "application/vnd.jupyter.widget-view+json": {
       "model_id": "2b2d2aeb16ab4f4d806c5fd844f3c221",
       "version_major": 2,
       "version_minor": 0
      },
      "text/plain": [
       "HBox(children=(IntProgress(value=0, description='回测计算中...', max=8001644, style=ProgressStyle(description_width…"
      ]
     },
     "metadata": {},
     "output_type": "display_data"
    },
    {
     "name": "stdout",
     "output_type": "stream",
     "text": [
      "\n",
      "数据时间:2005-01-04 00:00:00~2020-03-09 00:00:00（可交易天数3688）\n",
      "初始资金:50000.00\n",
      "交易次数:18797 (买入/卖出各算1次)\n",
      "可用资金:720.73\n",
      "当前持仓:         buy_price  amount  price_cur\n",
      "code                                 \n",
      "000518    7.354800   100.0   3.920400\n",
      "000554   10.101431   300.0   6.920809\n",
      "000564   10.958297   100.0   3.705131\n",
      "000628   26.520000   100.0  12.038000\n",
      "000633    7.991500   200.0   4.158000\n",
      "000726   41.153341   100.0  33.821390\n",
      "002433   89.276530   100.0  21.007075\n",
      "002459   26.030858   100.0  20.946500\n",
      "300028  107.859996   100.0   1.857563\n",
      "600021   57.544889   100.0  15.504590\n",
      "600225    6.108777   100.0   3.381195\n",
      "600329   82.076881   100.0  39.608064\n",
      "600468  115.145434   100.0  33.223133\n",
      "600694   98.588788   100.0  39.589918\n",
      "600979   46.073976   100.0  17.498734\n",
      "600998   31.227052   100.0  18.241901\n",
      "601107    5.406257   100.0   4.547590\n",
      "601339   13.346161   200.0   9.032970\n",
      "601857   15.003958   100.0   6.913111\n",
      "603003   44.847113   100.0   8.855315\n",
      "603555   58.582233   100.0   6.484326\n",
      "当前总资产:94994.61\n",
      "资金变化率:1.44%\n",
      "资产变化率:189.99%\n",
      "总手续费:96774.56\n",
      "总印花税:37064.36\n",
      "   available_cash  total_assets_cur  total_assets_buy  buy_cur_diff  \\\n",
      "0          720.73          34549.56          94994.61     -60445.05   \n",
      "\n",
      "   trade_times  init_cash  t1  t2  \n",
      "0        18797      50000   7  28  \n"
     ]
    },
    {
     "data": {
      "application/vnd.jupyter.widget-view+json": {
       "model_id": "58d0a597b2e741b3b1b54e11dfe86d63",
       "version_major": 2,
       "version_minor": 0
      },
      "text/plain": [
       "HBox(children=(IntProgress(value=0, description='分析买卖点...', max=3794, style=ProgressStyle(description_width='i…"
      ]
     },
     "metadata": {},
     "output_type": "display_data"
    },
    {
     "name": "stderr",
     "output_type": "stream",
     "text": [
      "C:\\Users\\guqiang\\AppData\\Local\\conda\\conda\\envs\\stock_ai\\lib\\site-packages\\ipykernel_launcher.py:65: RuntimeWarning: invalid value encountered in sign\n"
     ]
    },
    {
     "name": "stdout",
     "output_type": "stream",
     "text": [
      "\n"
     ]
    },
    {
     "data": {
      "application/vnd.jupyter.widget-view+json": {
       "model_id": "c72c6ce44b27439e837d3d372eb80db6",
       "version_major": 2,
       "version_minor": 0
      },
      "text/plain": [
       "HBox(children=(IntProgress(value=0, description='回测计算中...', max=8001644, style=ProgressStyle(description_width…"
      ]
     },
     "metadata": {},
     "output_type": "display_data"
    },
    {
     "name": "stdout",
     "output_type": "stream",
     "text": [
      "\n",
      "数据时间:2005-01-04 00:00:00~2020-03-09 00:00:00（可交易天数3688）\n",
      "初始资金:50000.00\n",
      "交易次数:14766 (买入/卖出各算1次)\n",
      "可用资金:643.56\n",
      "当前持仓:        buy_price  amount  price_cur\n",
      "code                                \n",
      "000717  21.240876   100.0   9.491584\n",
      "002324  87.431899   100.0  84.073946\n",
      "300254  31.718833   100.0  12.729829\n",
      "300400  98.740828   100.0  39.528566\n",
      "300492  62.349226   100.0  47.777779\n",
      "600369  55.800368   100.0  24.010551\n",
      "601600   9.592021   600.0   3.163057\n",
      "601989  29.844511   100.0   7.501338\n",
      "603555  58.582233   100.0   6.484326\n",
      "当前总资产:50969.65\n",
      "资金变化率:1.29%\n",
      "资产变化率:101.94%\n",
      "总手续费:74445.87\n",
      "总印花税:22798.49\n",
      "   available_cash  total_assets_cur  total_assets_buy  buy_cur_diff  \\\n",
      "0          643.56          25701.18          50969.65     -25268.47   \n",
      "\n",
      "   trade_times  init_cash  t1  t2  \n",
      "0        14766      50000   7  35  \n"
     ]
    },
    {
     "data": {
      "application/vnd.jupyter.widget-view+json": {
       "model_id": "3cbe0e430e67468cb1464c80356900ac",
       "version_major": 2,
       "version_minor": 0
      },
      "text/plain": [
       "HBox(children=(IntProgress(value=0, description='分析买卖点...', max=3794, style=ProgressStyle(description_width='i…"
      ]
     },
     "metadata": {},
     "output_type": "display_data"
    },
    {
     "name": "stderr",
     "output_type": "stream",
     "text": [
      "C:\\Users\\guqiang\\AppData\\Local\\conda\\conda\\envs\\stock_ai\\lib\\site-packages\\ipykernel_launcher.py:65: RuntimeWarning: invalid value encountered in sign\n"
     ]
    },
    {
     "name": "stdout",
     "output_type": "stream",
     "text": [
      "\n"
     ]
    },
    {
     "data": {
      "application/vnd.jupyter.widget-view+json": {
       "model_id": "d3a6f1a644fc46399d163b862058c1eb",
       "version_major": 2,
       "version_minor": 0
      },
      "text/plain": [
       "HBox(children=(IntProgress(value=0, description='回测计算中...', max=8001644, style=ProgressStyle(description_width…"
      ]
     },
     "metadata": {},
     "output_type": "display_data"
    },
    {
     "name": "stdout",
     "output_type": "stream",
     "text": [
      "\n",
      "数据时间:2005-01-04 00:00:00~2020-03-09 00:00:00（可交易天数3688）\n",
      "初始资金:50000.00\n",
      "交易次数:15584 (买入/卖出各算1次)\n",
      "可用资金:1711.47\n",
      "当前持仓:         buy_price  amount  price_cur\n",
      "code                                 \n",
      "000633   19.024500   200.0   4.158000\n",
      "000698   12.905288   100.0   8.284029\n",
      "002674   21.161408   100.0  10.603043\n",
      "300028  107.859996   100.0   1.857563\n",
      "300152   98.794343   100.0  22.305845\n",
      "600021   57.544889   100.0  15.504590\n",
      "600058   63.952374   100.0  12.322325\n",
      "600163   11.650800   100.0   6.643350\n",
      "600369   53.798171   100.0  24.010551\n",
      "600493   48.766100   100.0  16.466626\n",
      "600717   38.146199   200.0  11.497148\n",
      "600746   20.862027   100.0  10.168332\n",
      "600868   12.180754   100.0   6.246990\n",
      "601179    9.223371   200.0   4.923835\n",
      "601928   10.577339   100.0   8.089808\n",
      "603169   46.338758   100.0   8.370695\n",
      "当前总资产:71629.51\n",
      "资金变化率:3.42%\n",
      "资产变化率:143.26%\n",
      "总手续费:79689.41\n",
      "总印花税:28815.63\n",
      "   available_cash  total_assets_cur  total_assets_buy  buy_cur_diff  \\\n",
      "0         1711.47          20914.64          71629.51     -50714.87   \n",
      "\n",
      "   trade_times  init_cash  t1  t2  \n",
      "0        15584      50000   8  24  \n"
     ]
    },
    {
     "data": {
      "application/vnd.jupyter.widget-view+json": {
       "model_id": "a2040153a6eb492f9f1ec2965c78f24e",
       "version_major": 2,
       "version_minor": 0
      },
      "text/plain": [
       "HBox(children=(IntProgress(value=0, description='分析买卖点...', max=3794, style=ProgressStyle(description_width='i…"
      ]
     },
     "metadata": {},
     "output_type": "display_data"
    },
    {
     "name": "stderr",
     "output_type": "stream",
     "text": [
      "C:\\Users\\guqiang\\AppData\\Local\\conda\\conda\\envs\\stock_ai\\lib\\site-packages\\ipykernel_launcher.py:65: RuntimeWarning: invalid value encountered in sign\n"
     ]
    },
    {
     "name": "stdout",
     "output_type": "stream",
     "text": [
      "\n"
     ]
    },
    {
     "data": {
      "application/vnd.jupyter.widget-view+json": {
       "model_id": "ca3cfb6b16ae488dabb683a915460cbc",
       "version_major": 2,
       "version_minor": 0
      },
      "text/plain": [
       "HBox(children=(IntProgress(value=0, description='回测计算中...', max=8001644, style=ProgressStyle(description_width…"
      ]
     },
     "metadata": {},
     "output_type": "display_data"
    },
    {
     "name": "stdout",
     "output_type": "stream",
     "text": [
      "\n",
      "数据时间:2005-01-04 00:00:00~2020-03-09 00:00:00（可交易天数3688）\n",
      "初始资金:50000.00\n",
      "交易次数:15514 (买入/卖出各算1次)\n",
      "可用资金:1601.99\n",
      "当前持仓:         buy_price  amount  price_cur\n",
      "code                                 \n",
      "000633   24.475000   100.0   4.158000\n",
      "002336   20.756117   100.0   6.326291\n",
      "002455   48.118522   100.0  32.996887\n",
      "002517  122.147461   100.0  19.909361\n",
      "600221   14.361752   100.0   5.054954\n",
      "600461   29.139881   100.0  26.448640\n",
      "600829   31.572221   100.0  19.479958\n",
      "600833   57.709511   100.0  18.751071\n",
      "600917   12.939231   200.0   7.000805\n",
      "600998   31.227052   100.0  18.241901\n",
      "601179    8.113093   700.0   4.923835\n",
      "601727   15.201100   200.0   5.492178\n",
      "601857   15.003958   100.0   6.913111\n",
      "601899    9.461422   400.0   7.939996\n",
      "601999   12.743798   200.0   8.251388\n",
      "当前总资产:58693.69\n",
      "资金变化率:3.20%\n",
      "资产变化率:117.39%\n",
      "总手续费:78363.05\n",
      "总印花税:28156.59\n",
      "   available_cash  total_assets_cur  total_assets_buy  buy_cur_diff  \\\n",
      "0         1601.99          28201.56          58693.69     -30492.13   \n",
      "\n",
      "   trade_times  init_cash  t1  t2  \n",
      "0        15514      50000   8  32  \n"
     ]
    },
    {
     "data": {
      "application/vnd.jupyter.widget-view+json": {
       "model_id": "bbb214209a79489d918f5f64544cf7ab",
       "version_major": 2,
       "version_minor": 0
      },
      "text/plain": [
       "HBox(children=(IntProgress(value=0, description='分析买卖点...', max=3794, style=ProgressStyle(description_width='i…"
      ]
     },
     "metadata": {},
     "output_type": "display_data"
    },
    {
     "name": "stderr",
     "output_type": "stream",
     "text": [
      "C:\\Users\\guqiang\\AppData\\Local\\conda\\conda\\envs\\stock_ai\\lib\\site-packages\\ipykernel_launcher.py:65: RuntimeWarning: invalid value encountered in sign\n"
     ]
    },
    {
     "name": "stdout",
     "output_type": "stream",
     "text": [
      "\n"
     ]
    },
    {
     "data": {
      "application/vnd.jupyter.widget-view+json": {
       "model_id": "e3b2304b035d434aadd7cc888b2d81f2",
       "version_major": 2,
       "version_minor": 0
      },
      "text/plain": [
       "HBox(children=(IntProgress(value=0, description='回测计算中...', max=8001644, style=ProgressStyle(description_width…"
      ]
     },
     "metadata": {},
     "output_type": "display_data"
    },
    {
     "name": "stdout",
     "output_type": "stream",
     "text": [
      "\n",
      "数据时间:2005-01-04 00:00:00~2020-03-09 00:00:00（可交易天数3688）\n",
      "初始资金:50000.00\n",
      "交易次数:17139 (买入/卖出各算1次)\n",
      "可用资金:16143.92\n",
      "当前持仓:         buy_price  amount  price_cur\n",
      "code                                 \n",
      "000627   29.046910   100.0  16.162090\n",
      "000633   10.956000   100.0   4.158000\n",
      "000815  113.000307   100.0  27.030187\n",
      "000892   20.960000   100.0   4.870000\n",
      "000905   49.932412   100.0  16.044852\n",
      "002454   48.461098   100.0  15.220766\n",
      "600028   19.152456   500.0  14.172576\n",
      "600163   11.471250   100.0   6.643350\n",
      "600369   55.800368   100.0  24.010551\n",
      "600610   55.980000   100.0   9.780000\n",
      "600628   41.550491   100.0  23.641027\n",
      "600743   13.833993   100.0   7.471933\n",
      "600795   32.017577   200.0  15.312144\n",
      "600854   10.996597   100.0   5.356730\n",
      "601179    8.003794   300.0   4.923835\n",
      "603518   24.969208   100.0  13.761681\n",
      "当前总资产:83220.66\n",
      "资金变化率:32.29%\n",
      "资产变化率:166.44%\n",
      "总手续费:88540.48\n",
      "总印花税:34430.52\n",
      "   available_cash  total_assets_cur  total_assets_buy  buy_cur_diff  \\\n",
      "0        16143.92           45184.9          83220.66     -38035.76   \n",
      "\n",
      "   trade_times  init_cash  t1  t2  \n",
      "0        17139      50000   8  40  \n"
     ]
    },
    {
     "data": {
      "application/vnd.jupyter.widget-view+json": {
       "model_id": "34b66275c60946efb2725e7f33415dea",
       "version_major": 2,
       "version_minor": 0
      },
      "text/plain": [
       "HBox(children=(IntProgress(value=0, description='分析买卖点...', max=3794, style=ProgressStyle(description_width='i…"
      ]
     },
     "metadata": {},
     "output_type": "display_data"
    },
    {
     "name": "stderr",
     "output_type": "stream",
     "text": [
      "C:\\Users\\guqiang\\AppData\\Local\\conda\\conda\\envs\\stock_ai\\lib\\site-packages\\ipykernel_launcher.py:65: RuntimeWarning: invalid value encountered in sign\n"
     ]
    },
    {
     "name": "stdout",
     "output_type": "stream",
     "text": [
      "\n"
     ]
    },
    {
     "data": {
      "application/vnd.jupyter.widget-view+json": {
       "model_id": "498433d9beb443778fc2e9fcc771b382",
       "version_major": 2,
       "version_minor": 0
      },
      "text/plain": [
       "HBox(children=(IntProgress(value=0, description='回测计算中...', max=8001644, style=ProgressStyle(description_width…"
      ]
     },
     "metadata": {},
     "output_type": "display_data"
    },
    {
     "name": "stdout",
     "output_type": "stream",
     "text": [
      "\n",
      "数据时间:2005-01-04 00:00:00~2020-03-09 00:00:00（可交易天数3688）\n",
      "初始资金:50000.00\n",
      "交易次数:15511 (买入/卖出各算1次)\n",
      "可用资金:7022.31\n",
      "当前持仓:         buy_price  amount  price_cur\n",
      "code                                 \n",
      "000633   25.289000   100.0   4.158000\n",
      "000987   98.761397   100.0  34.221046\n",
      "300028  107.859996   100.0   1.857563\n",
      "600021   57.544889   100.0  15.504590\n",
      "600369   53.798171   100.0  24.010551\n",
      "600808    8.629730   200.0   5.188414\n",
      "600820   62.309981   100.0  20.372302\n",
      "600988   62.764940   100.0  41.734042\n",
      "601158   10.781863   200.0   7.719645\n",
      "601179   12.672381   100.0   4.923835\n",
      "601727   24.094265   100.0   5.492178\n",
      "603555   58.582233   100.0   6.484326\n",
      "当前总资产:67272.36\n",
      "资金变化率:14.04%\n",
      "资产变化率:134.54%\n",
      "总手续费:79615.01\n",
      "总印花税:29119.21\n",
      "   available_cash  total_assets_cur  total_assets_buy  buy_cur_diff  \\\n",
      "0         7022.31          25479.77          67272.36     -41792.59   \n",
      "\n",
      "   trade_times  init_cash  t1  t2  \n",
      "0        15511      50000   9  27  \n"
     ]
    },
    {
     "data": {
      "application/vnd.jupyter.widget-view+json": {
       "model_id": "294b043feac1468ea46f7feafddad310",
       "version_major": 2,
       "version_minor": 0
      },
      "text/plain": [
       "HBox(children=(IntProgress(value=0, description='分析买卖点...', max=3794, style=ProgressStyle(description_width='i…"
      ]
     },
     "metadata": {},
     "output_type": "display_data"
    },
    {
     "name": "stderr",
     "output_type": "stream",
     "text": [
      "C:\\Users\\guqiang\\AppData\\Local\\conda\\conda\\envs\\stock_ai\\lib\\site-packages\\ipykernel_launcher.py:65: RuntimeWarning: invalid value encountered in sign\n"
     ]
    },
    {
     "name": "stdout",
     "output_type": "stream",
     "text": [
      "\n"
     ]
    },
    {
     "data": {
      "application/vnd.jupyter.widget-view+json": {
       "model_id": "527984626f2e4568ba7db6f0610b5dd1",
       "version_major": 2,
       "version_minor": 0
      },
      "text/plain": [
       "HBox(children=(IntProgress(value=0, description='回测计算中...', max=8001644, style=ProgressStyle(description_width…"
      ]
     },
     "metadata": {},
     "output_type": "display_data"
    },
    {
     "name": "stdout",
     "output_type": "stream",
     "text": [
      "\n",
      "数据时间:2005-01-04 00:00:00~2020-03-09 00:00:00（可交易天数3688）\n",
      "初始资金:50000.00\n",
      "交易次数:16447 (买入/卖出各算1次)\n",
      "可用资金:1785.37\n",
      "当前持仓:         buy_price  amount  price_cur\n",
      "code                                 \n",
      "000819  117.026833   100.0  25.910872\n",
      "000892   20.960000   100.0   4.870000\n",
      "000905   49.932412   100.0  16.044852\n",
      "000966   23.142146   200.0  12.188575\n",
      "002454   48.461098   100.0  15.220766\n",
      "002470   50.095306   100.0  12.081895\n",
      "600011   16.577023   300.0  10.298141\n",
      "600054   62.321639   100.0  27.208985\n",
      "600369   55.800368   100.0  24.010551\n",
      "600628   41.550491   100.0  23.641027\n",
      "600795   43.747469   100.0  15.312144\n",
      "600917   12.345970   100.0   7.000805\n",
      "601857   15.003958   100.0   6.913111\n",
      "601968    8.785049   200.0   4.733138\n",
      "601989   29.844511   100.0   7.501338\n",
      "603003   44.847113   100.0   8.855315\n",
      "603025   45.503295   100.0  19.602147\n",
      "603609   28.349184   100.0  18.584708\n",
      "当前总资产:79722.88\n",
      "资金变化率:3.57%\n",
      "资产变化率:159.45%\n",
      "总手续费:84246.92\n",
      "总印花税:31878.98\n",
      "   available_cash  total_assets_cur  total_assets_buy  buy_cur_diff  \\\n",
      "0         1785.37          31535.01          79722.88     -48187.87   \n",
      "\n",
      "   trade_times  init_cash  t1  t2  \n",
      "0        16447      50000   9  36  \n"
     ]
    },
    {
     "data": {
      "application/vnd.jupyter.widget-view+json": {
       "model_id": "e947d8029d5d492c9672377dfa3e1dda",
       "version_major": 2,
       "version_minor": 0
      },
      "text/plain": [
       "HBox(children=(IntProgress(value=0, description='分析买卖点...', max=3794, style=ProgressStyle(description_width='i…"
      ]
     },
     "metadata": {},
     "output_type": "display_data"
    },
    {
     "name": "stderr",
     "output_type": "stream",
     "text": [
      "C:\\Users\\guqiang\\AppData\\Local\\conda\\conda\\envs\\stock_ai\\lib\\site-packages\\ipykernel_launcher.py:65: RuntimeWarning: invalid value encountered in sign\n"
     ]
    },
    {
     "name": "stdout",
     "output_type": "stream",
     "text": [
      "\n"
     ]
    },
    {
     "data": {
      "application/vnd.jupyter.widget-view+json": {
       "model_id": "c011e4f14cd94f37a7ceace598ecfd59",
       "version_major": 2,
       "version_minor": 0
      },
      "text/plain": [
       "HBox(children=(IntProgress(value=0, description='回测计算中...', max=8001644, style=ProgressStyle(description_width…"
      ]
     },
     "metadata": {},
     "output_type": "display_data"
    },
    {
     "name": "stdout",
     "output_type": "stream",
     "text": [
      "\n",
      "数据时间:2005-01-04 00:00:00~2020-03-09 00:00:00（可交易天数3688）\n",
      "初始资金:50000.00\n",
      "交易次数:16033 (买入/卖出各算1次)\n",
      "可用资金:39262.88\n",
      "当前持仓:        buy_price  amount  price_cur\n",
      "code                                \n",
      "000005  11.022000   100.0   4.999500\n",
      "000731  24.703799   100.0  18.086508\n",
      "000905  40.866886   200.0  16.044852\n",
      "000906  30.064149   200.0  13.007499\n",
      "000975  30.739887   100.0  28.391727\n",
      "002033  43.859451   100.0  30.691684\n",
      "002685  55.447407   100.0  19.586440\n",
      "600163  11.351550   100.0   6.643350\n",
      "600168  24.694496   100.0  13.187607\n",
      "600601   8.171299   400.0   6.166599\n",
      "601218  12.962764   200.0   6.753691\n",
      "601333   6.599452   100.0   3.477386\n",
      "601390  12.547264   100.0   6.485958\n",
      "601628  43.578062   100.0  35.083653\n",
      "601898   7.485532   400.0   5.125953\n",
      "当前总资产:88758.71\n",
      "资金变化率:78.53%\n",
      "资产变化率:177.52%\n",
      "总手续费:82227.97\n",
      "总印花税:31955.89\n",
      "   available_cash  total_assets_cur  total_assets_buy  buy_cur_diff  \\\n",
      "0        39262.88          67604.49          88758.71     -21154.22   \n",
      "\n",
      "   trade_times  init_cash  t1  t2  \n",
      "0        16033      50000   9  45  \n"
     ]
    },
    {
     "data": {
      "application/vnd.jupyter.widget-view+json": {
       "model_id": "ab5c1a2eb4f94b618f943eaca7e13cf9",
       "version_major": 2,
       "version_minor": 0
      },
      "text/plain": [
       "HBox(children=(IntProgress(value=0, description='分析买卖点...', max=3794, style=ProgressStyle(description_width='i…"
      ]
     },
     "metadata": {},
     "output_type": "display_data"
    },
    {
     "name": "stderr",
     "output_type": "stream",
     "text": [
      "C:\\Users\\guqiang\\AppData\\Local\\conda\\conda\\envs\\stock_ai\\lib\\site-packages\\ipykernel_launcher.py:65: RuntimeWarning: invalid value encountered in sign\n"
     ]
    },
    {
     "name": "stdout",
     "output_type": "stream",
     "text": [
      "\n"
     ]
    },
    {
     "data": {
      "application/vnd.jupyter.widget-view+json": {
       "model_id": "3b382c6422444c30a8c5c8b1bc8217e2",
       "version_major": 2,
       "version_minor": 0
      },
      "text/plain": [
       "HBox(children=(IntProgress(value=0, description='回测计算中...', max=8001644, style=ProgressStyle(description_width…"
      ]
     },
     "metadata": {},
     "output_type": "display_data"
    },
    {
     "name": "stdout",
     "output_type": "stream",
     "text": [
      "\n",
      "数据时间:2005-01-04 00:00:00~2020-03-09 00:00:00（可交易天数3688）\n",
      "初始资金:50000.00\n",
      "交易次数:14537 (买入/卖出各算1次)\n",
      "可用资金:694.57\n",
      "当前持仓:         buy_price  amount  price_cur\n",
      "code                                 \n",
      "000554   12.229749   200.0   6.920809\n",
      "000633   24.475000   100.0   4.158000\n",
      "000753   12.638082   200.0   8.972040\n",
      "000905   49.932412   100.0  16.044852\n",
      "002517  122.147461   100.0  19.909361\n",
      "300198   92.344665   100.0  38.659267\n",
      "600609    7.603500   100.0   5.315600\n",
      "600808   10.372036   200.0   5.188414\n",
      "601179   12.672381   100.0   4.923835\n",
      "601628   48.399412   200.0  35.083653\n",
      "601727   16.237872   200.0   5.492178\n",
      "601985    6.612162   500.0   5.022228\n",
      "当前总资产:54893.63\n",
      "资金变化率:1.39%\n",
      "资产变化率:109.79%\n",
      "总手续费:73849.51\n",
      "总印花税:25472.81\n",
      "   available_cash  total_assets_cur  total_assets_buy  buy_cur_diff  \\\n",
      "0          694.57           24438.2          54893.63     -30455.43   \n",
      "\n",
      "   trade_times  init_cash  t1  t2  \n",
      "0        14537      50000  10  30  \n"
     ]
    },
    {
     "data": {
      "application/vnd.jupyter.widget-view+json": {
       "model_id": "c2ca28889a8c47e3b94095d67e78731b",
       "version_major": 2,
       "version_minor": 0
      },
      "text/plain": [
       "HBox(children=(IntProgress(value=0, description='分析买卖点...', max=3794, style=ProgressStyle(description_width='i…"
      ]
     },
     "metadata": {},
     "output_type": "display_data"
    },
    {
     "name": "stderr",
     "output_type": "stream",
     "text": [
      "C:\\Users\\guqiang\\AppData\\Local\\conda\\conda\\envs\\stock_ai\\lib\\site-packages\\ipykernel_launcher.py:65: RuntimeWarning: invalid value encountered in sign\n"
     ]
    },
    {
     "name": "stdout",
     "output_type": "stream",
     "text": [
      "\n"
     ]
    },
    {
     "data": {
      "application/vnd.jupyter.widget-view+json": {
       "model_id": "67366ab457ec49d48be3ea55ba014a1f",
       "version_major": 2,
       "version_minor": 0
      },
      "text/plain": [
       "HBox(children=(IntProgress(value=0, description='回测计算中...', max=8001644, style=ProgressStyle(description_width…"
      ]
     },
     "metadata": {},
     "output_type": "display_data"
    },
    {
     "name": "stdout",
     "output_type": "stream",
     "text": [
      "\n",
      "数据时间:2005-01-04 00:00:00~2020-03-09 00:00:00（可交易天数3688）\n",
      "初始资金:50000.00\n",
      "交易次数:17180 (买入/卖出各算1次)\n",
      "可用资金:28913.95\n",
      "当前持仓:         buy_price  amount  price_cur\n",
      "code                                 \n",
      "000498   12.130350   400.0   7.451496\n",
      "000776   62.979714   100.0  37.620912\n",
      "000851   23.757636   200.0  11.876041\n",
      "000905   49.932412   100.0  16.044852\n",
      "002470   56.950017   100.0  12.081895\n",
      "002685   55.447407   100.0  19.586440\n",
      "600057   15.606000   100.0  10.810156\n",
      "600316  104.046207   100.0  30.995590\n",
      "600336   24.012665   200.0  20.631402\n",
      "600339   19.438692   200.0   5.293691\n",
      "600369   55.800368   100.0  24.010551\n",
      "600560   88.890790   100.0  31.784409\n",
      "600939    6.460000   100.0   4.550452\n",
      "600998   31.227052   100.0  18.241901\n",
      "601098   25.999273   100.0  13.646511\n",
      "601158   10.284244   300.0   7.719645\n",
      "601390   10.327363   200.0   6.485958\n",
      "601898    7.485532   100.0   5.125953\n",
      "601988    7.061397   200.0   6.464925\n",
      "603399   30.257116   100.0  13.346964\n",
      "当前总资产:112879.10\n",
      "资金变化率:57.83%\n",
      "资产变化率:225.76%\n",
      "总手续费:89841.16\n",
      "总印花税:37127.86\n",
      "   available_cash  total_assets_cur  total_assets_buy  buy_cur_diff  \\\n",
      "0        28913.95           68145.5          112879.1      -44733.6   \n",
      "\n",
      "   trade_times  init_cash  t1  t2  \n",
      "0        17180      50000  10  40  \n"
     ]
    },
    {
     "data": {
      "application/vnd.jupyter.widget-view+json": {
       "model_id": "a6139794f19649b5aff3c132dd734041",
       "version_major": 2,
       "version_minor": 0
      },
      "text/plain": [
       "HBox(children=(IntProgress(value=0, description='分析买卖点...', max=3794, style=ProgressStyle(description_width='i…"
      ]
     },
     "metadata": {},
     "output_type": "display_data"
    },
    {
     "name": "stderr",
     "output_type": "stream",
     "text": [
      "C:\\Users\\guqiang\\AppData\\Local\\conda\\conda\\envs\\stock_ai\\lib\\site-packages\\ipykernel_launcher.py:65: RuntimeWarning: invalid value encountered in sign\n"
     ]
    },
    {
     "name": "stdout",
     "output_type": "stream",
     "text": [
      "\n"
     ]
    },
    {
     "data": {
      "application/vnd.jupyter.widget-view+json": {
       "model_id": "0e7fc58a7928409aad5394c836b3a596",
       "version_major": 2,
       "version_minor": 0
      },
      "text/plain": [
       "HBox(children=(IntProgress(value=0, description='回测计算中...', max=8001644, style=ProgressStyle(description_width…"
      ]
     },
     "metadata": {},
     "output_type": "display_data"
    },
    {
     "name": "stdout",
     "output_type": "stream",
     "text": [
      "\n",
      "数据时间:2005-01-04 00:00:00~2020-03-09 00:00:00（可交易天数3688）\n",
      "初始资金:50000.00\n",
      "交易次数:15165 (买入/卖出各算1次)\n",
      "可用资金:8934.47\n",
      "当前持仓:         buy_price  amount  price_cur\n",
      "code                                 \n",
      "000409   15.350000   100.0   4.777388\n",
      "000516  224.505607   100.0  83.226516\n",
      "000582   29.699879   200.0  15.668477\n",
      "000882    7.416531   100.0   4.449920\n",
      "000892   15.110000   100.0   4.870000\n",
      "000912   21.033623   100.0   7.672034\n",
      "300364   28.166996   100.0  20.040942\n",
      "300400   91.593530   100.0  39.528566\n",
      "300486   53.280000   100.0  27.249759\n",
      "600023    7.269462   100.0   5.655389\n",
      "600117   10.807297   500.0   4.739029\n",
      "600163   11.471250   200.0   6.643350\n",
      "600243   12.581002   100.0   5.746412\n",
      "600335   43.542829   100.0  29.616036\n",
      "600361   52.471400   100.0   9.668639\n",
      "600367   21.413321   100.0  11.078353\n",
      "600528   95.746578   100.0  41.254404\n",
      "600716    8.235030   200.0   6.249660\n",
      "600856   53.378777   100.0   5.408565\n",
      "600860   13.413981   100.0   6.851227\n",
      "600866   13.919374   300.0   8.472459\n",
      "600997   28.455436   100.0  19.349902\n",
      "601179    6.390878   100.0   4.923835\n",
      "当前总资产:107507.16\n",
      "资金变化率:17.87%\n",
      "资产变化率:215.01%\n",
      "总手续费:79283.47\n",
      "总印花税:34018.84\n",
      "   available_cash  total_assets_cur  total_assets_buy  buy_cur_diff  \\\n",
      "0         8934.47          52694.81         107507.16     -54812.35   \n",
      "\n",
      "   trade_times  init_cash  t1  t2  \n",
      "0        15165      50000  10  50  \n"
     ]
    },
    {
     "data": {
      "application/vnd.jupyter.widget-view+json": {
       "model_id": "50afd3433a1c4ad28a683769af2dc201",
       "version_major": 2,
       "version_minor": 0
      },
      "text/plain": [
       "HBox(children=(IntProgress(value=0, description='分析买卖点...', max=3794, style=ProgressStyle(description_width='i…"
      ]
     },
     "metadata": {},
     "output_type": "display_data"
    },
    {
     "name": "stderr",
     "output_type": "stream",
     "text": [
      "C:\\Users\\guqiang\\AppData\\Local\\conda\\conda\\envs\\stock_ai\\lib\\site-packages\\ipykernel_launcher.py:65: RuntimeWarning: invalid value encountered in sign\n"
     ]
    },
    {
     "name": "stdout",
     "output_type": "stream",
     "text": [
      "\n"
     ]
    },
    {
     "data": {
      "application/vnd.jupyter.widget-view+json": {
       "model_id": "c0710bb9021b414fbd1e6c4ec3cabfe1",
       "version_major": 2,
       "version_minor": 0
      },
      "text/plain": [
       "HBox(children=(IntProgress(value=0, description='回测计算中...', max=8001644, style=ProgressStyle(description_width…"
      ]
     },
     "metadata": {},
     "output_type": "display_data"
    },
    {
     "name": "stdout",
     "output_type": "stream",
     "text": [
      "\n",
      "数据时间:2005-01-04 00:00:00~2020-03-09 00:00:00（可交易天数3688）\n",
      "初始资金:50000.00\n",
      "交易次数:17697 (买入/卖出各算1次)\n",
      "可用资金:33779.89\n",
      "当前持仓:        buy_price  amount  price_cur\n",
      "code                                \n",
      "000892  14.275000   200.0   4.870000\n",
      "000905  49.932412   100.0  16.044852\n",
      "000966  25.108840   100.0  12.188575\n",
      "002059  24.519142   100.0   9.650351\n",
      "002106  49.015411   100.0  34.601819\n",
      "300057  31.760510   100.0  15.035752\n",
      "600011  19.237057   300.0  10.298141\n",
      "600108  15.129773   100.0   6.340330\n",
      "600221  13.164939   300.0   5.054954\n",
      "600537  26.600140   100.0  10.585381\n",
      "600759  10.584467   200.0   5.082224\n",
      "600820  62.309981   100.0  20.372302\n",
      "601339  14.028827   100.0   9.032970\n",
      "601555  27.393149   200.0  10.953864\n",
      "601857  15.003958   100.0   6.913111\n",
      "603002  12.117292   100.0   7.613053\n",
      "当前总资产:86503.64\n",
      "资金变化率:67.56%\n",
      "资产变化率:173.01%\n",
      "总手续费:92370.10\n",
      "总印花税:37346.49\n",
      "   available_cash  total_assets_cur  total_assets_buy  buy_cur_diff  \\\n",
      "0        33779.89          57404.89          86503.64     -29098.75   \n",
      "\n",
      "   trade_times  init_cash  t1  t2  \n",
      "0        17697      50000  11  33  \n"
     ]
    },
    {
     "data": {
      "application/vnd.jupyter.widget-view+json": {
       "model_id": "7015df90d7434a9ebeaf18e2b0cff03f",
       "version_major": 2,
       "version_minor": 0
      },
      "text/plain": [
       "HBox(children=(IntProgress(value=0, description='分析买卖点...', max=3794, style=ProgressStyle(description_width='i…"
      ]
     },
     "metadata": {},
     "output_type": "display_data"
    },
    {
     "name": "stderr",
     "output_type": "stream",
     "text": [
      "C:\\Users\\guqiang\\AppData\\Local\\conda\\conda\\envs\\stock_ai\\lib\\site-packages\\ipykernel_launcher.py:65: RuntimeWarning: invalid value encountered in sign\n"
     ]
    },
    {
     "name": "stdout",
     "output_type": "stream",
     "text": [
      "\n"
     ]
    },
    {
     "data": {
      "application/vnd.jupyter.widget-view+json": {
       "model_id": "99ba780098ea4fd2a4e1c210906740a8",
       "version_major": 2,
       "version_minor": 0
      },
      "text/plain": [
       "HBox(children=(IntProgress(value=0, description='回测计算中...', max=8001644, style=ProgressStyle(description_width…"
      ]
     },
     "metadata": {},
     "output_type": "display_data"
    },
    {
     "name": "stdout",
     "output_type": "stream",
     "text": [
      "\n",
      "数据时间:2005-01-04 00:00:00~2020-03-09 00:00:00（可交易天数3688）\n",
      "初始资金:50000.00\n",
      "交易次数:14679 (买入/卖出各算1次)\n",
      "可用资金:22063.22\n",
      "当前持仓:        buy_price  amount  price_cur\n",
      "code                                \n",
      "000552  15.013680   100.0  10.492205\n",
      "000850  14.920157   300.0  11.762517\n",
      "000906  26.727785   300.0  13.007499\n",
      "002259  15.848683   100.0   5.791362\n",
      "002275  47.712138   100.0  22.955129\n",
      "600028  22.044875   300.0  14.172576\n",
      "600053  49.305767   100.0  47.065455\n",
      "600058  49.254391   100.0  12.322325\n",
      "600210  13.795995   100.0   8.810406\n",
      "600283  21.333071   100.0  14.981528\n",
      "600361  35.650753   200.0   9.668639\n",
      "600662  21.277768   100.0  12.099783\n",
      "600717  15.864702   100.0  11.497148\n",
      "600782  23.277273   100.0  13.916034\n",
      "601005   5.533638   100.0   3.726736\n",
      "601099  19.001176   200.0  10.663199\n",
      "601186  14.378889   300.0  12.352457\n",
      "601218   9.150955   300.0   6.753691\n",
      "601369  15.154712   100.0  11.962639\n",
      "601390  10.285729   600.0   6.485958\n",
      "601518   3.898520   100.0   3.007138\n",
      "601898   7.359441   100.0   5.125953\n",
      "601991  10.418612   300.0   5.728319\n",
      "当前总资产:98920.41\n",
      "资金变化率:44.13%\n",
      "资产变化率:197.84%\n",
      "总手续费:75615.39\n",
      "总印花税:31007.84\n",
      "   available_cash  total_assets_cur  total_assets_buy  buy_cur_diff  \\\n",
      "0        22063.22          67529.67          98920.41     -31390.74   \n",
      "\n",
      "   trade_times  init_cash  t1  t2  \n",
      "0        14679      50000  11  44  \n"
     ]
    },
    {
     "data": {
      "application/vnd.jupyter.widget-view+json": {
       "model_id": "978a8836c54c475bbc31cf5366101bb3",
       "version_major": 2,
       "version_minor": 0
      },
      "text/plain": [
       "HBox(children=(IntProgress(value=0, description='分析买卖点...', max=3794, style=ProgressStyle(description_width='i…"
      ]
     },
     "metadata": {},
     "output_type": "display_data"
    },
    {
     "name": "stderr",
     "output_type": "stream",
     "text": [
      "C:\\Users\\guqiang\\AppData\\Local\\conda\\conda\\envs\\stock_ai\\lib\\site-packages\\ipykernel_launcher.py:65: RuntimeWarning: invalid value encountered in sign\n"
     ]
    },
    {
     "name": "stdout",
     "output_type": "stream",
     "text": [
      "\n"
     ]
    },
    {
     "data": {
      "application/vnd.jupyter.widget-view+json": {
       "model_id": "b9c1305293274b4e893eee49a6e09f28",
       "version_major": 2,
       "version_minor": 0
      },
      "text/plain": [
       "HBox(children=(IntProgress(value=0, description='回测计算中...', max=8001644, style=ProgressStyle(description_width…"
      ]
     },
     "metadata": {},
     "output_type": "display_data"
    },
    {
     "name": "stdout",
     "output_type": "stream",
     "text": [
      "\n",
      "数据时间:2005-01-04 00:00:00~2020-03-09 00:00:00（可交易天数3688）\n",
      "初始资金:50000.00\n",
      "交易次数:19526 (买入/卖出各算1次)\n",
      "可用资金:8584.19\n",
      "当前持仓:         buy_price  amount  price_cur\n",
      "code                                 \n",
      "000301   15.738586   200.0   9.742793\n",
      "000632   10.980000   100.0   8.982000\n",
      "000892   15.110000   100.0   4.870000\n",
      "002092   53.516580   100.0  19.724172\n",
      "002104  194.318862   100.0  49.944557\n",
      "002280  433.249339   100.0  45.559790\n",
      "002490   25.572485   100.0   6.868389\n",
      "002499   45.282649   100.0  12.020706\n",
      "300010  220.939717   100.0  90.735303\n",
      "300389  121.787209   100.0  44.225456\n",
      "300678   59.820000   100.0  44.687841\n",
      "600363   50.529440   100.0  33.417402\n",
      "600582  185.787771   100.0  60.581702\n",
      "600815   11.955218   200.0   4.696514\n",
      "600843   30.608000   100.0  13.824000\n",
      "600870   12.787500   100.0   3.700000\n",
      "601118    7.427082   400.0   4.601585\n",
      "601169   23.607710   100.0  17.669445\n",
      "601677   14.824839   200.0  12.163559\n",
      "601991   11.200815   200.0   5.728319\n",
      "601997   15.616493   100.0  12.539587\n",
      "603007   50.430000   100.0  16.797886\n",
      "603088   53.080749   100.0  18.341817\n",
      "603366   23.494563   100.0  15.581805\n",
      "当前总资产:184950.82\n",
      "资金变化率:17.17%\n",
      "资产变化率:369.90%\n",
      "总手续费:106135.79\n",
      "总印花税:51979.42\n",
      "   available_cash  total_assets_cur  total_assets_buy  buy_cur_diff  \\\n",
      "0         8584.19          68898.25         184950.82    -116052.57   \n",
      "\n",
      "   trade_times  init_cash  t1  t2  \n",
      "0        19526      50000  11  55  \n"
     ]
    },
    {
     "data": {
      "application/vnd.jupyter.widget-view+json": {
       "model_id": "754dbc05d6ea4346bb17416699b2d3b7",
       "version_major": 2,
       "version_minor": 0
      },
      "text/plain": [
       "HBox(children=(IntProgress(value=0, description='分析买卖点...', max=3794, style=ProgressStyle(description_width='i…"
      ]
     },
     "metadata": {},
     "output_type": "display_data"
    },
    {
     "name": "stderr",
     "output_type": "stream",
     "text": [
      "C:\\Users\\guqiang\\AppData\\Local\\conda\\conda\\envs\\stock_ai\\lib\\site-packages\\ipykernel_launcher.py:65: RuntimeWarning: invalid value encountered in sign\n"
     ]
    },
    {
     "name": "stdout",
     "output_type": "stream",
     "text": [
      "\n"
     ]
    },
    {
     "data": {
      "application/vnd.jupyter.widget-view+json": {
       "model_id": "5a9a92bb833a418181371a3a97a657e4",
       "version_major": 2,
       "version_minor": 0
      },
      "text/plain": [
       "HBox(children=(IntProgress(value=0, description='回测计算中...', max=8001644, style=ProgressStyle(description_width…"
      ]
     },
     "metadata": {},
     "output_type": "display_data"
    },
    {
     "name": "stdout",
     "output_type": "stream",
     "text": [
      "\n",
      "数据时间:2005-01-04 00:00:00~2020-03-09 00:00:00（可交易天数3688）\n",
      "初始资金:50000.00\n",
      "交易次数:18317 (买入/卖出各算1次)\n",
      "可用资金:13578.20\n",
      "当前持仓:         buy_price  amount  price_cur\n",
      "code                                 \n",
      "000565   41.076764   100.0  15.669481\n",
      "000613   24.817100   100.0   8.995100\n",
      "000776   62.979714   100.0  37.620912\n",
      "000780   12.714043   100.0   6.329512\n",
      "000833   12.978193   100.0   7.825051\n",
      "000906   41.176087   100.0  13.007499\n",
      "002067   31.152748   100.0   9.208065\n",
      "002106   49.015411   100.0  34.601819\n",
      "002685   55.447407   100.0  19.586440\n",
      "002736   31.600000   100.0  13.614865\n",
      "300179   88.823628   100.0  46.611468\n",
      "600006   12.204396   100.0   6.714508\n",
      "600560   88.890790   100.0  31.784409\n",
      "600582  185.787771   100.0  60.581702\n",
      "600726    7.396743   500.0   2.277832\n",
      "600795   43.747469   100.0  15.312144\n",
      "600820   62.309981   100.0  20.372302\n",
      "600998   31.227052   100.0  18.241901\n",
      "601016   10.251872   100.0   4.942211\n",
      "601229   26.155625   100.0  22.289233\n",
      "601966   25.780000   100.0  22.502514\n",
      "603002   12.117292   200.0   7.613053\n",
      "603003   44.847113   100.0   8.855315\n",
      "当前总资产:117998.34\n",
      "资金变化率:27.16%\n",
      "资产变化率:236.00%\n",
      "总手续费:95614.58\n",
      "总印花税:39908.68\n",
      "   available_cash  total_assets_cur  total_assets_buy  buy_cur_diff  \\\n",
      "0         13578.2          58706.37         117998.34     -59291.97   \n",
      "\n",
      "   trade_times  init_cash  t1  t2  \n",
      "0        18317      50000  12  36  \n"
     ]
    },
    {
     "data": {
      "application/vnd.jupyter.widget-view+json": {
       "model_id": "d1b07bfd7ef6460081663dbe6133951b",
       "version_major": 2,
       "version_minor": 0
      },
      "text/plain": [
       "HBox(children=(IntProgress(value=0, description='分析买卖点...', max=3794, style=ProgressStyle(description_width='i…"
      ]
     },
     "metadata": {},
     "output_type": "display_data"
    },
    {
     "name": "stderr",
     "output_type": "stream",
     "text": [
      "C:\\Users\\guqiang\\AppData\\Local\\conda\\conda\\envs\\stock_ai\\lib\\site-packages\\ipykernel_launcher.py:65: RuntimeWarning: invalid value encountered in sign\n"
     ]
    },
    {
     "name": "stdout",
     "output_type": "stream",
     "text": [
      "\n"
     ]
    },
    {
     "data": {
      "application/vnd.jupyter.widget-view+json": {
       "model_id": "59b44b4fec11417d97f9d234cdc095c7",
       "version_major": 2,
       "version_minor": 0
      },
      "text/plain": [
       "HBox(children=(IntProgress(value=0, description='回测计算中...', max=8001644, style=ProgressStyle(description_width…"
      ]
     },
     "metadata": {},
     "output_type": "display_data"
    },
    {
     "name": "stdout",
     "output_type": "stream",
     "text": [
      "\n",
      "数据时间:2005-01-04 00:00:00~2020-03-09 00:00:00（可交易天数3688）\n",
      "初始资金:50000.00\n",
      "交易次数:13640 (买入/卖出各算1次)\n",
      "可用资金:2024.69\n",
      "当前持仓:         buy_price  amount  price_cur\n",
      "code                                 \n",
      "000505   12.656000   100.0   6.633100\n",
      "000767    6.962854   100.0   4.363906\n",
      "000892   15.110000   100.0   4.870000\n",
      "000975   30.739887   100.0  28.391727\n",
      "002386   14.225641   200.0  10.850591\n",
      "002496  120.615103   100.0  42.847624\n",
      "300389  121.787209   100.0  44.225456\n",
      "600028   24.063265   200.0  14.172576\n",
      "600058   49.254391   100.0  12.322325\n",
      "600163   11.471250   100.0   6.643350\n",
      "600186   10.312500   300.0   6.267483\n",
      "600361   53.075565   200.0   9.668639\n",
      "600396   26.830247   100.0   7.067479\n",
      "600491  108.656804   100.0  55.444075\n",
      "600528   95.746578   100.0  41.254404\n",
      "600997   28.455436   100.0  19.349902\n",
      "601099   20.875907   200.0  10.663199\n",
      "601222   60.684363   100.0  27.877807\n",
      "601390   12.547264   100.0   6.485958\n",
      "601628   43.578062   100.0  35.083653\n",
      "当前总资产:102076.06\n",
      "资金变化率:4.05%\n",
      "资产变化率:204.15%\n",
      "总手续费:69896.75\n",
      "总印花税:27336.24\n",
      "   available_cash  total_assets_cur  total_assets_buy  buy_cur_diff  \\\n",
      "0         2024.69          47262.02         102076.06     -54814.04   \n",
      "\n",
      "   trade_times  init_cash  t1  t2  \n",
      "0        13640      50000  12  48  \n"
     ]
    },
    {
     "data": {
      "application/vnd.jupyter.widget-view+json": {
       "model_id": "f3d9fb3c3246431eb8e70824eb273e33",
       "version_major": 2,
       "version_minor": 0
      },
      "text/plain": [
       "HBox(children=(IntProgress(value=0, description='分析买卖点...', max=3794, style=ProgressStyle(description_width='i…"
      ]
     },
     "metadata": {},
     "output_type": "display_data"
    },
    {
     "name": "stderr",
     "output_type": "stream",
     "text": [
      "C:\\Users\\guqiang\\AppData\\Local\\conda\\conda\\envs\\stock_ai\\lib\\site-packages\\ipykernel_launcher.py:65: RuntimeWarning: invalid value encountered in sign\n"
     ]
    },
    {
     "name": "stdout",
     "output_type": "stream",
     "text": [
      "\n"
     ]
    },
    {
     "data": {
      "application/vnd.jupyter.widget-view+json": {
       "model_id": "a8d7ba12a7574f1c9e703a92d2afe901",
       "version_major": 2,
       "version_minor": 0
      },
      "text/plain": [
       "HBox(children=(IntProgress(value=0, description='回测计算中...', max=8001644, style=ProgressStyle(description_width…"
      ]
     },
     "metadata": {},
     "output_type": "display_data"
    },
    {
     "name": "stdout",
     "output_type": "stream",
     "text": [
      "\n",
      "数据时间:2005-01-04 00:00:00~2020-03-09 00:00:00（可交易天数3688）\n",
      "初始资金:50000.00\n",
      "交易次数:17899 (买入/卖出各算1次)\n",
      "可用资金:11163.72\n",
      "当前持仓:         buy_price  amount  price_cur\n",
      "code                                 \n",
      "000040   15.376652   100.0   5.003961\n",
      "000918   13.327846   200.0   8.002828\n",
      "002386   14.225641   200.0  10.850591\n",
      "002496  120.615103   100.0  42.847624\n",
      "002499   45.745241   100.0  12.020706\n",
      "002611   58.094822   100.0  34.833386\n",
      "002657  497.633530   100.0  61.647234\n",
      "300028  100.285350   100.0   1.857563\n",
      "300656   55.520000   100.0  40.067897\n",
      "600336   22.143415   100.0  20.631402\n",
      "600718  107.042232   100.0  47.828018\n",
      "600765   58.969439   100.0  40.996150\n",
      "600854   10.996597   100.0   5.356730\n",
      "601618    6.838824   500.0   3.086439\n",
      "601880    7.087281   100.0   4.746232\n",
      "603855   10.360000   100.0   9.804235\n",
      "当前总资产:131080.80\n",
      "资金变化率:22.33%\n",
      "资产变化率:262.16%\n",
      "总手续费:95665.81\n",
      "总印花税:42665.61\n",
      "   available_cash  total_assets_cur  total_assets_buy  buy_cur_diff  \\\n",
      "0        11163.72          49241.74          131080.8     -81839.06   \n",
      "\n",
      "   trade_times  init_cash  t1  t2  \n",
      "0        17899      50000  12  60  \n"
     ]
    },
    {
     "data": {
      "application/vnd.jupyter.widget-view+json": {
       "model_id": "156c4ead02d94a4b9f9686a720b5ae72",
       "version_major": 2,
       "version_minor": 0
      },
      "text/plain": [
       "HBox(children=(IntProgress(value=0, description='分析买卖点...', max=3794, style=ProgressStyle(description_width='i…"
      ]
     },
     "metadata": {},
     "output_type": "display_data"
    },
    {
     "name": "stderr",
     "output_type": "stream",
     "text": [
      "C:\\Users\\guqiang\\AppData\\Local\\conda\\conda\\envs\\stock_ai\\lib\\site-packages\\ipykernel_launcher.py:65: RuntimeWarning: invalid value encountered in sign\n"
     ]
    },
    {
     "name": "stdout",
     "output_type": "stream",
     "text": [
      "\n"
     ]
    },
    {
     "data": {
      "application/vnd.jupyter.widget-view+json": {
       "model_id": "d9d90d1a538e476496bfc6244396c22a",
       "version_major": 2,
       "version_minor": 0
      },
      "text/plain": [
       "HBox(children=(IntProgress(value=0, description='回测计算中...', max=8001644, style=ProgressStyle(description_width…"
      ]
     },
     "metadata": {},
     "output_type": "display_data"
    },
    {
     "name": "stdout",
     "output_type": "stream",
     "text": [
      "\n",
      "数据时间:2005-01-04 00:00:00~2020-03-09 00:00:00（可交易天数3688）\n",
      "初始资金:50000.00\n",
      "交易次数:18537 (买入/卖出各算1次)\n",
      "可用资金:12800.39\n",
      "当前持仓:         buy_price  amount  price_cur\n",
      "code                                 \n",
      "000570   18.293002   200.0   9.593328\n",
      "000767    7.587377   500.0   4.363906\n",
      "000780   12.714043   100.0   6.329512\n",
      "000875    8.683646   200.0   5.874231\n",
      "000906   28.627363   200.0  13.007499\n",
      "000912   21.033623   100.0   7.672034\n",
      "002534   22.034767   100.0  16.100273\n",
      "300400   91.593530   100.0  39.528566\n",
      "600146   46.648800   100.0  20.592000\n",
      "600235   15.474175   100.0   7.795555\n",
      "600361   36.415350   400.0   9.668639\n",
      "600369   55.800368   100.0  24.010551\n",
      "600582  185.787771   100.0  60.581702\n",
      "600601    9.224488   400.0   6.166599\n",
      "600824   62.124788   100.0  23.232491\n",
      "601177   14.832452   200.0   8.939109\n",
      "601390   12.547264   200.0   6.485958\n",
      "601616   13.570890   100.0   6.385589\n",
      "601898    7.359441   100.0   5.125953\n",
      "当前总资产:104860.98\n",
      "资金变化率:25.60%\n",
      "资产变化率:209.72%\n",
      "总手续费:96543.10\n",
      "总印花税:38580.91\n",
      "   available_cash  total_assets_cur  total_assets_buy  buy_cur_diff  \\\n",
      "0        12800.39          51831.88         104860.98      -53029.1   \n",
      "\n",
      "   trade_times  init_cash  t1  t2  \n",
      "0        18537      50000  13  39  \n"
     ]
    },
    {
     "data": {
      "application/vnd.jupyter.widget-view+json": {
       "model_id": "f682aaed61af41e7a98f82ebf9b8b367",
       "version_major": 2,
       "version_minor": 0
      },
      "text/plain": [
       "HBox(children=(IntProgress(value=0, description='分析买卖点...', max=3794, style=ProgressStyle(description_width='i…"
      ]
     },
     "metadata": {},
     "output_type": "display_data"
    },
    {
     "name": "stderr",
     "output_type": "stream",
     "text": [
      "C:\\Users\\guqiang\\AppData\\Local\\conda\\conda\\envs\\stock_ai\\lib\\site-packages\\ipykernel_launcher.py:65: RuntimeWarning: invalid value encountered in sign\n"
     ]
    },
    {
     "name": "stdout",
     "output_type": "stream",
     "text": [
      "\n"
     ]
    },
    {
     "data": {
      "application/vnd.jupyter.widget-view+json": {
       "model_id": "4a5db9df4c9f473a8630b5ffa530bc8f",
       "version_major": 2,
       "version_minor": 0
      },
      "text/plain": [
       "HBox(children=(IntProgress(value=0, description='回测计算中...', max=8001644, style=ProgressStyle(description_width…"
      ]
     },
     "metadata": {},
     "output_type": "display_data"
    },
    {
     "name": "stdout",
     "output_type": "stream",
     "text": [
      "\n",
      "数据时间:2005-01-04 00:00:00~2020-03-09 00:00:00（可交易天数3688）\n",
      "初始资金:50000.00\n",
      "交易次数:12520 (买入/卖出各算1次)\n",
      "可用资金:7742.02\n",
      "当前持仓:         buy_price  amount  price_cur\n",
      "code                                 \n",
      "000669   94.050013   100.0  11.098460\n",
      "000767    6.904668   100.0   4.363906\n",
      "000892   12.270000   200.0   4.870000\n",
      "002067   29.958648   100.0   9.208065\n",
      "002104  194.318862   100.0  49.944557\n",
      "002570   41.030938   100.0  15.654167\n",
      "300389  121.787209   100.0  44.225456\n",
      "600052    7.406792   100.0   5.547351\n",
      "600163   11.471250   100.0   6.643350\n",
      "600361   36.223165   200.0   9.668639\n",
      "600491  108.656804   100.0  55.444075\n",
      "600528   95.746578   100.0  41.254404\n",
      "600716    7.945030   100.0   6.249660\n",
      "600853   12.911224   200.0   8.901740\n",
      "601003   41.373430   100.0  25.386508\n",
      "601099   26.298112   100.0  10.663199\n",
      "601186   15.903357   100.0  12.352457\n",
      "当前总资产:100308.07\n",
      "资金变化率:15.48%\n",
      "资产变化率:200.62%\n",
      "总手续费:64477.23\n",
      "总印花税:25466.66\n",
      "   available_cash  total_assets_cur  total_assets_buy  buy_cur_diff  \\\n",
      "0         7742.02          42233.66         100308.07     -58074.41   \n",
      "\n",
      "   trade_times  init_cash  t1  t2  \n",
      "0        12520      50000  13  52  \n"
     ]
    },
    {
     "data": {
      "application/vnd.jupyter.widget-view+json": {
       "model_id": "5eed314179054f198697c33490ee4309",
       "version_major": 2,
       "version_minor": 0
      },
      "text/plain": [
       "HBox(children=(IntProgress(value=0, description='分析买卖点...', max=3794, style=ProgressStyle(description_width='i…"
      ]
     },
     "metadata": {},
     "output_type": "display_data"
    },
    {
     "name": "stderr",
     "output_type": "stream",
     "text": [
      "C:\\Users\\guqiang\\AppData\\Local\\conda\\conda\\envs\\stock_ai\\lib\\site-packages\\ipykernel_launcher.py:65: RuntimeWarning: invalid value encountered in sign\n"
     ]
    },
    {
     "name": "stdout",
     "output_type": "stream",
     "text": [
      "\n"
     ]
    },
    {
     "data": {
      "application/vnd.jupyter.widget-view+json": {
       "model_id": "c843467aa0464869a7c267e9f2a7c967",
       "version_major": 2,
       "version_minor": 0
      },
      "text/plain": [
       "HBox(children=(IntProgress(value=0, description='回测计算中...', max=8001644, style=ProgressStyle(description_width…"
      ]
     },
     "metadata": {},
     "output_type": "display_data"
    },
    {
     "name": "stdout",
     "output_type": "stream",
     "text": [
      "\n",
      "数据时间:2005-01-04 00:00:00~2020-03-09 00:00:00（可交易天数3688）\n",
      "初始资金:50000.00\n",
      "交易次数:14752 (买入/卖出各算1次)\n",
      "可用资金:14333.43\n",
      "当前持仓:         buy_price  amount  price_cur\n",
      "code                                 \n",
      "000516  225.428955   100.0  83.226516\n",
      "002037  108.446429   100.0  26.401920\n",
      "002386   14.225641   200.0  10.850591\n",
      "002657  497.633530   100.0  61.647234\n",
      "600077   25.276898   100.0  10.433401\n",
      "600112  100.520008   100.0   6.398337\n",
      "600361   35.562583   200.0   9.668639\n",
      "600448   13.842000   100.0  14.580000\n",
      "600662   47.964031   100.0  12.099783\n",
      "600726    7.054378   200.0   2.277832\n",
      "600853   11.326371   100.0   8.901740\n",
      "601766   14.030999   100.0   7.849076\n",
      "当前总资产:130148.87\n",
      "资金变化率:28.67%\n",
      "资产变化率:260.30%\n",
      "总手续费:79103.41\n",
      "总印花税:38060.09\n",
      "   available_cash  total_assets_cur  total_assets_buy  buy_cur_diff  \\\n",
      "0        14333.43          42046.64         130148.87     -88102.23   \n",
      "\n",
      "   trade_times  init_cash  t1  t2  \n",
      "0        14752      50000  13  65  \n"
     ]
    },
    {
     "data": {
      "application/vnd.jupyter.widget-view+json": {
       "model_id": "9d7e3307aeca4fa38d43d34f6ba80e09",
       "version_major": 2,
       "version_minor": 0
      },
      "text/plain": [
       "HBox(children=(IntProgress(value=0, description='分析买卖点...', max=3794, style=ProgressStyle(description_width='i…"
      ]
     },
     "metadata": {},
     "output_type": "display_data"
    },
    {
     "name": "stderr",
     "output_type": "stream",
     "text": [
      "C:\\Users\\guqiang\\AppData\\Local\\conda\\conda\\envs\\stock_ai\\lib\\site-packages\\ipykernel_launcher.py:65: RuntimeWarning: invalid value encountered in sign\n"
     ]
    },
    {
     "name": "stdout",
     "output_type": "stream",
     "text": [
      "\n"
     ]
    },
    {
     "data": {
      "application/vnd.jupyter.widget-view+json": {
       "model_id": "83883f8a0f0948dabbea5b14efbb4b15",
       "version_major": 2,
       "version_minor": 0
      },
      "text/plain": [
       "HBox(children=(IntProgress(value=0, description='回测计算中...', max=8001644, style=ProgressStyle(description_width…"
      ]
     },
     "metadata": {},
     "output_type": "display_data"
    },
    {
     "name": "stdout",
     "output_type": "stream",
     "text": [
      "\n",
      "数据时间:2005-01-04 00:00:00~2020-03-09 00:00:00（可交易天数3688）\n",
      "初始资金:50000.00\n",
      "交易次数:13980 (买入/卖出各算1次)\n",
      "可用资金:2497.07\n",
      "当前持仓:         buy_price  amount  price_cur\n",
      "code                                 \n",
      "000668   24.663702   100.0  17.062824\n",
      "000898   27.181447   400.0   7.433286\n",
      "002480   54.357136   100.0  16.266205\n",
      "002807   10.922397   100.0   5.363924\n",
      "300400   91.593530   100.0  39.528566\n",
      "600117   13.224973   300.0   4.739029\n",
      "600361   35.940422   200.0   9.668639\n",
      "600396   26.830247   100.0   7.067479\n",
      "600491  108.656804   100.0  55.444075\n",
      "600582  185.787771   100.0  60.581702\n",
      "600665   21.446572   100.0   6.898313\n",
      "600716   11.936371   100.0   6.249660\n",
      "600759   10.584467   200.0   5.082224\n",
      "600856   53.378777   100.0   5.408565\n",
      "601222   60.684363   100.0  27.877807\n",
      "601628   38.229009   200.0  35.083653\n",
      "当前总资产:99313.69\n",
      "资金变化率:4.99%\n",
      "资产变化率:198.63%\n",
      "总手续费:72176.37\n",
      "总印花税:29434.65\n",
      "   available_cash  total_assets_cur  total_assets_buy  buy_cur_diff  \\\n",
      "0         2497.07          41633.91          99313.69     -57679.78   \n",
      "\n",
      "   trade_times  init_cash  t1  t2  \n",
      "0        13980      50000  14  42  \n"
     ]
    },
    {
     "data": {
      "application/vnd.jupyter.widget-view+json": {
       "model_id": "2cbc5e001ece488caf96d2c903f481b0",
       "version_major": 2,
       "version_minor": 0
      },
      "text/plain": [
       "HBox(children=(IntProgress(value=0, description='分析买卖点...', max=3794, style=ProgressStyle(description_width='i…"
      ]
     },
     "metadata": {},
     "output_type": "display_data"
    },
    {
     "name": "stderr",
     "output_type": "stream",
     "text": [
      "C:\\Users\\guqiang\\AppData\\Local\\conda\\conda\\envs\\stock_ai\\lib\\site-packages\\ipykernel_launcher.py:65: RuntimeWarning: invalid value encountered in sign\n"
     ]
    },
    {
     "name": "stdout",
     "output_type": "stream",
     "text": [
      "\n"
     ]
    },
    {
     "data": {
      "application/vnd.jupyter.widget-view+json": {
       "model_id": "ebf6dc4ce1db491c8dc1991c6041af20",
       "version_major": 2,
       "version_minor": 0
      },
      "text/plain": [
       "HBox(children=(IntProgress(value=0, description='回测计算中...', max=8001644, style=ProgressStyle(description_width…"
      ]
     },
     "metadata": {},
     "output_type": "display_data"
    },
    {
     "name": "stdout",
     "output_type": "stream",
     "text": [
      "\n",
      "数据时间:2005-01-04 00:00:00~2020-03-09 00:00:00（可交易天数3688）\n",
      "初始资金:50000.00\n",
      "交易次数:22335 (买入/卖出各算1次)\n",
      "可用资金:17361.15\n",
      "当前持仓:         buy_price  amount  price_cur\n",
      "code                                 \n",
      "000524   24.181350   100.0   9.225713\n",
      "000669   94.050013   100.0  11.098460\n",
      "000766   15.680000   100.0   6.280000\n",
      "000780   14.257115   100.0   6.329512\n",
      "002092   53.516580   100.0  19.724172\n",
      "002162   15.240569   100.0   7.984206\n",
      "002280  434.806244   100.0  45.559790\n",
      "002295   27.165201   100.0  10.888660\n",
      "002576   51.724639   100.0  13.182553\n",
      "002595  124.388073   100.0  87.338040\n",
      "002657  497.633530   100.0  61.647234\n",
      "300028  100.285350   100.0   1.857563\n",
      "300170  203.821600   100.0  76.082685\n",
      "300315  229.799229   100.0  73.432078\n",
      "300400   93.019986   100.0  39.528566\n",
      "600010   22.660323   200.0   8.913525\n",
      "600234   45.722881   100.0  21.967680\n",
      "600371   36.407516   200.0  23.689769\n",
      "600491  108.656804   100.0  55.444075\n",
      "600509   21.724472   100.0  13.751610\n",
      "600560   90.339730   100.0  31.784409\n",
      "600608   13.385168   100.0   7.457205\n",
      "600653    4.241333   900.0   2.508000\n",
      "600695   14.144000   100.0  11.752000\n",
      "600718  107.042232   100.0  47.828018\n",
      "600726    3.685947   100.0   2.277832\n",
      "601118    7.718593   300.0   4.601585\n",
      "601677   14.824839   200.0  12.163559\n",
      "601898    6.828074   200.0   5.125953\n",
      "601969   12.287824   100.0   5.060285\n",
      "当前总资产:279293.93\n",
      "资金变化率:34.72%\n",
      "资产变化率:558.59%\n",
      "总手续费:124075.83\n",
      "总印花税:63344.04\n",
      "   available_cash  total_assets_cur  total_assets_buy  buy_cur_diff  \\\n",
      "0        17361.15          97725.62         279293.93    -181568.31   \n",
      "\n",
      "   trade_times  init_cash  t1  t2  \n",
      "0        22335      50000  14  56  \n"
     ]
    },
    {
     "data": {
      "application/vnd.jupyter.widget-view+json": {
       "model_id": "f925814804554cc8824c3c66fdbfce59",
       "version_major": 2,
       "version_minor": 0
      },
      "text/plain": [
       "HBox(children=(IntProgress(value=0, description='分析买卖点...', max=3794, style=ProgressStyle(description_width='i…"
      ]
     },
     "metadata": {},
     "output_type": "display_data"
    },
    {
     "name": "stderr",
     "output_type": "stream",
     "text": [
      "C:\\Users\\guqiang\\AppData\\Local\\conda\\conda\\envs\\stock_ai\\lib\\site-packages\\ipykernel_launcher.py:65: RuntimeWarning: invalid value encountered in sign\n"
     ]
    },
    {
     "name": "stdout",
     "output_type": "stream",
     "text": [
      "\n"
     ]
    },
    {
     "data": {
      "application/vnd.jupyter.widget-view+json": {
       "model_id": "83212e9fdfea4141a1fb6ceb680e087f",
       "version_major": 2,
       "version_minor": 0
      },
      "text/plain": [
       "HBox(children=(IntProgress(value=0, description='回测计算中...', max=8001644, style=ProgressStyle(description_width…"
      ]
     },
     "metadata": {},
     "output_type": "display_data"
    },
    {
     "name": "stdout",
     "output_type": "stream",
     "text": [
      "\n",
      "数据时间:2005-01-04 00:00:00~2020-03-09 00:00:00（可交易天数3688）\n",
      "初始资金:50000.00\n",
      "交易次数:15309 (买入/卖出各算1次)\n",
      "可用资金:60580.95\n",
      "当前持仓:         buy_price  amount  price_cur\n",
      "code                                 \n",
      "000533   15.049077   300.0   4.190249\n",
      "000625   86.717690   100.0  47.555550\n",
      "000657   24.891520   100.0  14.843598\n",
      "000682    8.433054   200.0   7.010611\n",
      "000897   11.164448   200.0   6.294212\n",
      "002385  118.212301   100.0  83.161081\n",
      "002420    7.047697   100.0   4.033075\n",
      "002554   44.754505   100.0  20.417347\n",
      "300145  196.342374   100.0  78.738031\n",
      "300337   42.422140   100.0  16.972838\n",
      "600007   31.391031   100.0  22.497094\n",
      "600027    7.864114   400.0   5.818673\n",
      "600115   10.769440   100.0   6.528055\n",
      "600854    9.926368   200.0   5.356730\n",
      "600874   28.648639   100.0  11.366815\n",
      "600908   12.910116   400.0   5.629280\n",
      "600986   53.275761   100.0  18.093901\n",
      "601186   14.399087   100.0  12.352457\n",
      "601766   16.530526   300.0   7.849076\n",
      "601929    7.270764   100.0   4.893625\n",
      "601969   12.156781   200.0   5.060285\n",
      "601991   11.999145   200.0   5.728319\n",
      "当前总资产:155714.77\n",
      "资金变化率:121.16%\n",
      "资产变化率:311.43%\n",
      "总手续费:83395.19\n",
      "总印花税:43085.58\n",
      "   available_cash  total_assets_cur  total_assets_buy  buy_cur_diff  \\\n",
      "0        60580.95          108807.3         155714.77     -46907.47   \n",
      "\n",
      "   trade_times  init_cash  t1  t2  \n",
      "0        15309      50000  14  70  \n"
     ]
    },
    {
     "data": {
      "application/vnd.jupyter.widget-view+json": {
       "model_id": "ce30209188d24aee8bd0a8a32ab2ebb7",
       "version_major": 2,
       "version_minor": 0
      },
      "text/plain": [
       "HBox(children=(IntProgress(value=0, description='分析买卖点...', max=3794, style=ProgressStyle(description_width='i…"
      ]
     },
     "metadata": {},
     "output_type": "display_data"
    },
    {
     "name": "stderr",
     "output_type": "stream",
     "text": [
      "C:\\Users\\guqiang\\AppData\\Local\\conda\\conda\\envs\\stock_ai\\lib\\site-packages\\ipykernel_launcher.py:65: RuntimeWarning: invalid value encountered in sign\n"
     ]
    },
    {
     "name": "stdout",
     "output_type": "stream",
     "text": [
      "\n"
     ]
    },
    {
     "data": {
      "application/vnd.jupyter.widget-view+json": {
       "model_id": "9f596aff505f4b50b9ddd1e65cc1e48b",
       "version_major": 2,
       "version_minor": 0
      },
      "text/plain": [
       "HBox(children=(IntProgress(value=0, description='回测计算中...', max=8001644, style=ProgressStyle(description_width…"
      ]
     },
     "metadata": {},
     "output_type": "display_data"
    },
    {
     "name": "stdout",
     "output_type": "stream",
     "text": [
      "\n",
      "数据时间:2005-01-04 00:00:00~2020-03-09 00:00:00（可交易天数3688）\n",
      "初始资金:50000.00\n",
      "交易次数:14935 (买入/卖出各算1次)\n",
      "可用资金:4943.58\n",
      "当前持仓:         buy_price  amount  price_cur\n",
      "code                                 \n",
      "000089   30.814372   100.0  22.004470\n",
      "000516  224.505607   100.0  83.226516\n",
      "000766   15.680000   100.0   6.280000\n",
      "000791   24.332683   100.0   6.720234\n",
      "000831   89.944511   100.0  26.047500\n",
      "300389  121.787209   100.0  44.225456\n",
      "600028   18.062469   400.0  14.172576\n",
      "600107   27.216000   100.0   8.470000\n",
      "600491  108.656804   100.0  55.444075\n",
      "600582  185.787771   100.0  60.581702\n",
      "601099   20.741819   200.0  10.663199\n",
      "601218    9.730080   200.0   6.753691\n",
      "601222   55.374645   200.0  27.877807\n",
      "603100   11.035029   100.0  10.358389\n",
      "当前总资产:113313.87\n",
      "资金变化率:9.89%\n",
      "资产变化率:226.63%\n",
      "总手续费:77805.59\n",
      "总印花税:33114.42\n",
      "   available_cash  total_assets_cur  total_assets_buy  buy_cur_diff  \\\n",
      "0         4943.58          52007.38         113313.87     -61306.49   \n",
      "\n",
      "   trade_times  init_cash  t1  t2  \n",
      "0        14935      50000  15  45  \n"
     ]
    },
    {
     "data": {
      "application/vnd.jupyter.widget-view+json": {
       "model_id": "ef833b82592440fd9bf9280c39847d5d",
       "version_major": 2,
       "version_minor": 0
      },
      "text/plain": [
       "HBox(children=(IntProgress(value=0, description='分析买卖点...', max=3794, style=ProgressStyle(description_width='i…"
      ]
     },
     "metadata": {},
     "output_type": "display_data"
    },
    {
     "name": "stderr",
     "output_type": "stream",
     "text": [
      "C:\\Users\\guqiang\\AppData\\Local\\conda\\conda\\envs\\stock_ai\\lib\\site-packages\\ipykernel_launcher.py:65: RuntimeWarning: invalid value encountered in sign\n"
     ]
    },
    {
     "name": "stdout",
     "output_type": "stream",
     "text": [
      "\n"
     ]
    },
    {
     "data": {
      "application/vnd.jupyter.widget-view+json": {
       "model_id": "d3135b4ed28d4c11aa9154314e07afd5",
       "version_major": 2,
       "version_minor": 0
      },
      "text/plain": [
       "HBox(children=(IntProgress(value=0, description='回测计算中...', max=8001644, style=ProgressStyle(description_width…"
      ]
     },
     "metadata": {},
     "output_type": "display_data"
    },
    {
     "name": "stdout",
     "output_type": "stream",
     "text": [
      "\n",
      "数据时间:2005-01-04 00:00:00~2020-03-09 00:00:00（可交易天数3688）\n",
      "初始资金:50000.00\n",
      "交易次数:18253 (买入/卖出各算1次)\n",
      "可用资金:17298.57\n",
      "当前持仓:         buy_price  amount  price_cur\n",
      "code                                 \n",
      "000516  225.428955   100.0  83.226516\n",
      "000701   22.151174   100.0  10.284162\n",
      "000716   21.248072   100.0   8.879623\n",
      "000927   10.283539   100.0   5.858071\n",
      "002105   12.502710   100.0   9.449837\n",
      "002305   11.824351   100.0   8.261106\n",
      "002657  497.633530   100.0  61.647234\n",
      "002741   84.284848   100.0  37.540036\n",
      "300402   18.462677   300.0   8.633481\n",
      "600027    7.619221   100.0   5.818673\n",
      "600163    9.715650   200.0   6.643350\n",
      "600397   13.016782   100.0   9.050129\n",
      "600491  108.656804   100.0  55.444075\n",
      "600653    4.536000   400.0   2.508000\n",
      "600746   15.693187   100.0  10.168332\n",
      "600854   10.996597   100.0   5.356730\n",
      "600939    6.100000   100.0   4.550452\n",
      "601016    7.177773   400.0   4.942211\n",
      "601099   26.298112   100.0  10.663199\n",
      "601186   14.399087   200.0  12.352457\n",
      "601368   12.950000   100.0   5.891231\n",
      "601618    7.480455   500.0   3.086439\n",
      "当前总资产:144754.85\n",
      "资金变化率:34.60%\n",
      "资产变化率:289.51%\n",
      "总手续费:96673.56\n",
      "总印花税:47388.70\n",
      "   available_cash  total_assets_cur  total_assets_buy  buy_cur_diff  \\\n",
      "0        17298.57          61420.02         144754.85     -83334.83   \n",
      "\n",
      "   trade_times  init_cash  t1  t2  \n",
      "0        18253      50000  15  60  \n"
     ]
    },
    {
     "data": {
      "application/vnd.jupyter.widget-view+json": {
       "model_id": "0426ee1c05a74b32a1cb5a4af9e3972c",
       "version_major": 2,
       "version_minor": 0
      },
      "text/plain": [
       "HBox(children=(IntProgress(value=0, description='分析买卖点...', max=3794, style=ProgressStyle(description_width='i…"
      ]
     },
     "metadata": {},
     "output_type": "display_data"
    },
    {
     "name": "stderr",
     "output_type": "stream",
     "text": [
      "C:\\Users\\guqiang\\AppData\\Local\\conda\\conda\\envs\\stock_ai\\lib\\site-packages\\ipykernel_launcher.py:65: RuntimeWarning: invalid value encountered in sign\n"
     ]
    },
    {
     "name": "stdout",
     "output_type": "stream",
     "text": [
      "\n"
     ]
    },
    {
     "data": {
      "application/vnd.jupyter.widget-view+json": {
       "model_id": "e80e7f46f3ef4395b3c40bbb0ef40cc3",
       "version_major": 2,
       "version_minor": 0
      },
      "text/plain": [
       "HBox(children=(IntProgress(value=0, description='回测计算中...', max=8001644, style=ProgressStyle(description_width…"
      ]
     },
     "metadata": {},
     "output_type": "display_data"
    },
    {
     "name": "stdout",
     "output_type": "stream",
     "text": [
      "\n",
      "数据时间:2005-01-04 00:00:00~2020-03-09 00:00:00（可交易天数3688）\n",
      "初始资金:50000.00\n",
      "交易次数:15635 (买入/卖出各算1次)\n",
      "可用资金:18857.29\n",
      "当前持仓:         buy_price  amount  price_cur\n",
      "code                                 \n",
      "000156   52.348736   200.0  17.201370\n",
      "000428   42.546972   100.0  16.668468\n",
      "000665   21.519796   100.0  14.081345\n",
      "002260  120.341438   100.0   7.275922\n",
      "002708   49.678035   100.0  22.880002\n",
      "002771   58.586721   100.0  40.989219\n",
      "300209  115.154289   100.0  46.720548\n",
      "600027   10.681142   100.0   5.818673\n",
      "600361   40.918052   300.0   9.668639\n",
      "600586   41.282427   100.0  30.131733\n",
      "600652   23.583764   100.0   3.815234\n",
      "600716    7.945030   100.0   6.249660\n",
      "600821   12.062000   100.0   8.029000\n",
      "600836   99.121903   100.0  28.313285\n",
      "600839   15.868118   100.0   8.449247\n",
      "600890   15.782600   100.0  12.337000\n",
      "600908    9.322151   200.0   5.629280\n",
      "601099   26.298112   100.0  10.663199\n",
      "601390   11.402313   300.0   6.485958\n",
      "601628   42.356882   100.0  35.083653\n",
      "601766   16.491745   300.0   7.849076\n",
      "601918    7.294704   200.0   4.459477\n",
      "603167   12.513813   100.0  10.671991\n",
      "当前总资产:124826.34\n",
      "资金变化率:37.71%\n",
      "资产变化率:249.65%\n",
      "总手续费:82052.73\n",
      "总印花税:38037.19\n",
      "   available_cash  total_assets_cur  total_assets_buy  buy_cur_diff  \\\n",
      "0        18857.29          62334.23         124826.34     -62492.11   \n",
      "\n",
      "   trade_times  init_cash  t1  t2  \n",
      "0        15635      50000  15  75  \n"
     ]
    },
    {
     "data": {
      "application/vnd.jupyter.widget-view+json": {
       "model_id": "befb4809ff3b45539f416a291bad455d",
       "version_major": 2,
       "version_minor": 0
      },
      "text/plain": [
       "HBox(children=(IntProgress(value=0, description='分析买卖点...', max=3794, style=ProgressStyle(description_width='i…"
      ]
     },
     "metadata": {},
     "output_type": "display_data"
    },
    {
     "name": "stderr",
     "output_type": "stream",
     "text": [
      "C:\\Users\\guqiang\\AppData\\Local\\conda\\conda\\envs\\stock_ai\\lib\\site-packages\\ipykernel_launcher.py:65: RuntimeWarning: invalid value encountered in sign\n"
     ]
    },
    {
     "name": "stdout",
     "output_type": "stream",
     "text": [
      "\n"
     ]
    },
    {
     "data": {
      "application/vnd.jupyter.widget-view+json": {
       "model_id": "a534df750faa449ab7affc13a8b27809",
       "version_major": 2,
       "version_minor": 0
      },
      "text/plain": [
       "HBox(children=(IntProgress(value=0, description='回测计算中...', max=8001644, style=ProgressStyle(description_width…"
      ]
     },
     "metadata": {},
     "output_type": "display_data"
    },
    {
     "name": "stdout",
     "output_type": "stream",
     "text": [
      "\n",
      "数据时间:2005-01-04 00:00:00~2020-03-09 00:00:00（可交易天数3688）\n",
      "初始资金:50000.00\n",
      "交易次数:13333 (买入/卖出各算1次)\n",
      "可用资金:16487.37\n",
      "当前持仓:         buy_price  amount  price_cur\n",
      "code                                 \n",
      "000516  224.505607   100.0  83.226516\n",
      "000829  115.220874   100.0  26.726423\n",
      "002104  194.318862   100.0  49.944557\n",
      "002499   45.745241   100.0  12.020706\n",
      "300400   93.019986   100.0  39.528566\n",
      "600361   32.234246   200.0   9.668639\n",
      "600405  107.039282   100.0  40.151077\n",
      "600491  108.656804   100.0  55.444075\n",
      "600653    3.904000   300.0   2.508000\n",
      "600820   57.470981   100.0  20.372302\n",
      "600886   50.556407   100.0  40.061858\n",
      "当前总资产:123758.82\n",
      "资金变化率:32.97%\n",
      "资产变化率:247.52%\n",
      "总手续费:69544.88\n",
      "总印花税:29051.38\n",
      "   available_cash  total_assets_cur  total_assets_buy  buy_cur_diff  \\\n",
      "0        16487.37           55921.1         123758.82     -67837.72   \n",
      "\n",
      "   trade_times  init_cash  t1  t2  \n",
      "0        13333      50000  16  48  \n"
     ]
    },
    {
     "data": {
      "application/vnd.jupyter.widget-view+json": {
       "model_id": "67495e48535a47079c7adfcd325391b0",
       "version_major": 2,
       "version_minor": 0
      },
      "text/plain": [
       "HBox(children=(IntProgress(value=0, description='分析买卖点...', max=3794, style=ProgressStyle(description_width='i…"
      ]
     },
     "metadata": {},
     "output_type": "display_data"
    },
    {
     "name": "stderr",
     "output_type": "stream",
     "text": [
      "C:\\Users\\guqiang\\AppData\\Local\\conda\\conda\\envs\\stock_ai\\lib\\site-packages\\ipykernel_launcher.py:65: RuntimeWarning: invalid value encountered in sign\n"
     ]
    },
    {
     "name": "stdout",
     "output_type": "stream",
     "text": [
      "\n"
     ]
    },
    {
     "data": {
      "application/vnd.jupyter.widget-view+json": {
       "model_id": "4c6d714bd8a84cef8d6cbf22552dc6e7",
       "version_major": 2,
       "version_minor": 0
      },
      "text/plain": [
       "HBox(children=(IntProgress(value=0, description='回测计算中...', max=8001644, style=ProgressStyle(description_width…"
      ]
     },
     "metadata": {},
     "output_type": "display_data"
    },
    {
     "name": "stdout",
     "output_type": "stream",
     "text": [
      "\n",
      "数据时间:2005-01-04 00:00:00~2020-03-09 00:00:00（可交易天数3688）\n",
      "初始资金:50000.00\n",
      "交易次数:13262 (买入/卖出各算1次)\n",
      "可用资金:30373.36\n",
      "当前持仓:         buy_price  amount  price_cur\n",
      "code                                 \n",
      "000630   23.296758   100.0  15.178557\n",
      "000761   10.435615   100.0   6.362120\n",
      "000798   26.046435   100.0  13.517770\n",
      "002005   92.556801   100.0  19.475075\n",
      "002385  118.212301   100.0  83.161081\n",
      "300465   92.230000   100.0  41.637410\n",
      "600027    7.619221   100.0   5.818673\n",
      "600090   14.806000   100.0   5.142058\n",
      "600108   11.948371   100.0   6.340330\n",
      "600159   11.296084   100.0   6.739355\n",
      "600398   44.027768   100.0  24.102383\n",
      "600491  108.656804   100.0  55.444075\n",
      "600726    6.658633   300.0   2.277832\n",
      "600808    7.787207   100.0   5.188414\n",
      "600958   21.186309   100.0  11.149622\n",
      "601766   15.694624   500.0   7.849076\n",
      "603017   97.051800   100.0  45.278396\n",
      "当前总资产:108934.01\n",
      "资金变化率:60.75%\n",
      "资产变化率:217.87%\n",
      "总手续费:71053.37\n",
      "总印花税:34186.43\n",
      "   available_cash  total_assets_cur  total_assets_buy  buy_cur_diff  \\\n",
      "0        30373.36          69434.78         108934.01     -39499.23   \n",
      "\n",
      "   trade_times  init_cash  t1  t2  \n",
      "0        13262      50000  16  64  \n"
     ]
    },
    {
     "data": {
      "application/vnd.jupyter.widget-view+json": {
       "model_id": "10f10a1c080a4c52a2ce1c86c34753de",
       "version_major": 2,
       "version_minor": 0
      },
      "text/plain": [
       "HBox(children=(IntProgress(value=0, description='分析买卖点...', max=3794, style=ProgressStyle(description_width='i…"
      ]
     },
     "metadata": {},
     "output_type": "display_data"
    },
    {
     "name": "stderr",
     "output_type": "stream",
     "text": [
      "C:\\Users\\guqiang\\AppData\\Local\\conda\\conda\\envs\\stock_ai\\lib\\site-packages\\ipykernel_launcher.py:65: RuntimeWarning: invalid value encountered in sign\n"
     ]
    },
    {
     "name": "stdout",
     "output_type": "stream",
     "text": [
      "\n"
     ]
    },
    {
     "data": {
      "application/vnd.jupyter.widget-view+json": {
       "model_id": "17db251541eb43ecabbee401bc760fe9",
       "version_major": 2,
       "version_minor": 0
      },
      "text/plain": [
       "HBox(children=(IntProgress(value=0, description='回测计算中...', max=8001644, style=ProgressStyle(description_width…"
      ]
     },
     "metadata": {},
     "output_type": "display_data"
    },
    {
     "name": "stdout",
     "output_type": "stream",
     "text": [
      "\n",
      "数据时间:2005-01-04 00:00:00~2020-03-09 00:00:00（可交易天数3688）\n",
      "初始资金:50000.00\n",
      "交易次数:15497 (买入/卖出各算1次)\n",
      "可用资金:21055.83\n",
      "当前持仓:         buy_price  amount  price_cur\n",
      "code                                 \n",
      "000502   47.112000   100.0  11.476000\n",
      "000625   83.408726   100.0  47.555550\n",
      "000665   26.525623   200.0  14.081345\n",
      "000669   91.395264   100.0  11.098460\n",
      "002106   45.424787   100.0  34.601819\n",
      "002367  100.112784   100.0  63.717922\n",
      "002473   63.927806   100.0  16.142966\n",
      "300002  362.264449   100.0  61.162067\n",
      "300209  114.077242   100.0  46.720548\n",
      "600103   12.300681   200.0   4.891588\n",
      "600380   87.088111   100.0  55.435506\n",
      "601107    5.710697   100.0   4.547590\n",
      "601727   12.626785   200.0   5.492178\n",
      "601880    7.569928   300.0   4.746232\n",
      "603628   13.692219   100.0   7.528422\n",
      "当前总资产:135038.83\n",
      "资金变化率:42.11%\n",
      "资产变化率:270.08%\n",
      "总手续费:83173.99\n",
      "总印花税:41259.67\n",
      "   available_cash  total_assets_cur  total_assets_buy  buy_cur_diff  \\\n",
      "0        21055.83           63371.4         135038.83     -71667.43   \n",
      "\n",
      "   trade_times  init_cash  t1  t2  \n",
      "0        15497      50000  16  80  \n"
     ]
    },
    {
     "data": {
      "application/vnd.jupyter.widget-view+json": {
       "model_id": "654ecec16c7641dcb55c7e3cd0adc6fe",
       "version_major": 2,
       "version_minor": 0
      },
      "text/plain": [
       "HBox(children=(IntProgress(value=0, description='分析买卖点...', max=3794, style=ProgressStyle(description_width='i…"
      ]
     },
     "metadata": {},
     "output_type": "display_data"
    },
    {
     "name": "stderr",
     "output_type": "stream",
     "text": [
      "C:\\Users\\guqiang\\AppData\\Local\\conda\\conda\\envs\\stock_ai\\lib\\site-packages\\ipykernel_launcher.py:65: RuntimeWarning: invalid value encountered in sign\n"
     ]
    },
    {
     "name": "stdout",
     "output_type": "stream",
     "text": [
      "\n"
     ]
    },
    {
     "data": {
      "application/vnd.jupyter.widget-view+json": {
       "model_id": "d265526fda31475b9cf8d304f1c73018",
       "version_major": 2,
       "version_minor": 0
      },
      "text/plain": [
       "HBox(children=(IntProgress(value=0, description='回测计算中...', max=8001644, style=ProgressStyle(description_width…"
      ]
     },
     "metadata": {},
     "output_type": "display_data"
    },
    {
     "name": "stdout",
     "output_type": "stream",
     "text": [
      "\n",
      "数据时间:2005-01-04 00:00:00~2020-03-09 00:00:00（可交易天数3688）\n",
      "初始资金:50000.00\n",
      "交易次数:20847 (买入/卖出各算1次)\n",
      "可用资金:4939.22\n",
      "当前持仓:         buy_price  amount  price_cur\n",
      "code                                 \n",
      "000652   25.428335   200.0  27.714852\n",
      "000669   90.601916   200.0  11.098460\n",
      "000898   14.584494   800.0   7.433286\n",
      "002280  434.806244   100.0  45.559790\n",
      "002627   20.838185   100.0  18.722487\n",
      "002657  497.633530   100.0  61.647234\n",
      "300028  100.285350   100.0   1.857563\n",
      "300084   63.942128   100.0  18.841744\n",
      "300170  203.821600   100.0  76.082685\n",
      "300400   93.019986   100.0  39.528566\n",
      "600361   29.388620   300.0   9.668639\n",
      "600371   55.180786   100.0  23.689769\n",
      "600560   90.339730   100.0  31.784409\n",
      "600718  107.042232   100.0  47.828018\n",
      "601099   26.298112   100.0  10.663199\n",
      "601668   12.266549   100.0  10.012932\n",
      "601798   11.269396   100.0   6.220191\n",
      "当前总资产:220303.83\n",
      "资金变化率:9.88%\n",
      "资产变化率:440.61%\n",
      "总手续费:115256.86\n",
      "总印花税:59354.37\n",
      "   available_cash  total_assets_cur  total_assets_buy  buy_cur_diff  \\\n",
      "0         4939.22          60792.96         220303.83    -159510.87   \n",
      "\n",
      "   trade_times  init_cash  t1  t2  \n",
      "0        20847      50000  17  51  \n"
     ]
    },
    {
     "data": {
      "application/vnd.jupyter.widget-view+json": {
       "model_id": "edf6ca642abb414e9e4ac5969e065468",
       "version_major": 2,
       "version_minor": 0
      },
      "text/plain": [
       "HBox(children=(IntProgress(value=0, description='分析买卖点...', max=3794, style=ProgressStyle(description_width='i…"
      ]
     },
     "metadata": {},
     "output_type": "display_data"
    },
    {
     "name": "stderr",
     "output_type": "stream",
     "text": [
      "C:\\Users\\guqiang\\AppData\\Local\\conda\\conda\\envs\\stock_ai\\lib\\site-packages\\ipykernel_launcher.py:65: RuntimeWarning: invalid value encountered in sign\n"
     ]
    },
    {
     "name": "stdout",
     "output_type": "stream",
     "text": [
      "\n"
     ]
    },
    {
     "data": {
      "application/vnd.jupyter.widget-view+json": {
       "model_id": "8e832e0afc72490fa0953c2d7b863379",
       "version_major": 2,
       "version_minor": 0
      },
      "text/plain": [
       "HBox(children=(IntProgress(value=0, description='回测计算中...', max=8001644, style=ProgressStyle(description_width…"
      ]
     },
     "metadata": {},
     "output_type": "display_data"
    },
    {
     "name": "stdout",
     "output_type": "stream",
     "text": [
      "\n",
      "数据时间:2005-01-04 00:00:00~2020-03-09 00:00:00（可交易天数3688）\n",
      "初始资金:50000.00\n",
      "交易次数:16246 (买入/卖出各算1次)\n",
      "可用资金:19896.39\n",
      "当前持仓:         buy_price  amount  price_cur\n",
      "code                                 \n",
      "000156   82.731294   100.0  17.201370\n",
      "000557   10.300278   100.0   4.523166\n",
      "000605   45.159199   100.0  13.100124\n",
      "000676   20.557903   100.0  16.190050\n",
      "000837   30.792388   100.0   8.653409\n",
      "001979   24.195376   100.0  20.392207\n",
      "002060   15.805484   100.0  11.348782\n",
      "002162   11.057316   300.0   7.984206\n",
      "002275   27.356837   100.0  22.955129\n",
      "002473   63.927806   100.0  16.142966\n",
      "002708   49.678035   100.0  22.880002\n",
      "002807   10.922397   100.0   5.363924\n",
      "300075  164.824169   100.0  93.223303\n",
      "300209  115.154289   100.0  46.720548\n",
      "300465   92.230000   100.0  41.637410\n",
      "600027    7.945745   300.0   5.818673\n",
      "600212   22.580000   100.0   6.720000\n",
      "600242   23.840488   100.0   9.389828\n",
      "600398   44.027768   100.0  24.102383\n",
      "600629   54.685799   100.0  26.424425\n",
      "600653    6.486000   200.0   2.508000\n",
      "600697   45.309913   100.0  26.623010\n",
      "600698   14.105000   100.0   3.419000\n",
      "600706   20.878000   100.0  11.979110\n",
      "600836   99.121903   100.0  28.313285\n",
      "601099   26.298112   100.0  10.663199\n",
      "601168   11.711613   200.0   6.912254\n",
      "601991   11.999145   200.0   5.728319\n",
      "603017   97.051800   100.0  45.278396\n",
      "当前总资产:151790.09\n",
      "资金变化率:39.79%\n",
      "资产变化率:303.58%\n",
      "总手续费:87454.76\n",
      "总印花税:42140.84\n",
      "   available_cash  total_assets_cur  total_assets_buy  buy_cur_diff  \\\n",
      "0        19896.39          80391.48         151790.09     -71398.61   \n",
      "\n",
      "   trade_times  init_cash  t1  t2  \n",
      "0        16246      50000  17  68  \n"
     ]
    },
    {
     "data": {
      "application/vnd.jupyter.widget-view+json": {
       "model_id": "34a234c4c474412aaa54bd98ac1c9163",
       "version_major": 2,
       "version_minor": 0
      },
      "text/plain": [
       "HBox(children=(IntProgress(value=0, description='分析买卖点...', max=3794, style=ProgressStyle(description_width='i…"
      ]
     },
     "metadata": {},
     "output_type": "display_data"
    },
    {
     "name": "stderr",
     "output_type": "stream",
     "text": [
      "C:\\Users\\guqiang\\AppData\\Local\\conda\\conda\\envs\\stock_ai\\lib\\site-packages\\ipykernel_launcher.py:65: RuntimeWarning: invalid value encountered in sign\n"
     ]
    },
    {
     "name": "stdout",
     "output_type": "stream",
     "text": [
      "\n"
     ]
    },
    {
     "data": {
      "application/vnd.jupyter.widget-view+json": {
       "model_id": "c4e3844b54214b9db2a48ef55a0f0c57",
       "version_major": 2,
       "version_minor": 0
      },
      "text/plain": [
       "HBox(children=(IntProgress(value=0, description='回测计算中...', max=8001644, style=ProgressStyle(description_width…"
      ]
     },
     "metadata": {},
     "output_type": "display_data"
    },
    {
     "name": "stdout",
     "output_type": "stream",
     "text": [
      "\n",
      "数据时间:2005-01-04 00:00:00~2020-03-09 00:00:00（可交易天数3688）\n",
      "初始资金:50000.00\n",
      "交易次数:13028 (买入/卖出各算1次)\n",
      "可用资金:7723.53\n",
      "当前持仓:         buy_price  amount  price_cur\n",
      "code                                 \n",
      "000625   83.408726   100.0  47.555550\n",
      "000750   56.439416   100.0  24.979691\n",
      "002097  113.031340   100.0  32.878314\n",
      "002215  168.134943   100.0  51.469465\n",
      "002420    5.759354   200.0   4.033075\n",
      "002490   24.897911   100.0   6.868389\n",
      "002500   18.106710   300.0   8.901102\n",
      "300139  125.001824   100.0  44.095350\n",
      "300386  169.520000   100.0  70.531843\n",
      "600068   52.709990   200.0  30.297993\n",
      "600739  114.995860   100.0  73.470860\n",
      "601099   26.298112   100.0  10.663199\n",
      "601117   10.344253   300.0   7.750302\n",
      "601669   15.722001   100.0   4.971532\n",
      "601898    5.700710   100.0   5.125953\n",
      "当前总资产:118267.77\n",
      "资金变化率:15.45%\n",
      "资产变化率:236.54%\n",
      "总手续费:71365.17\n",
      "总印花税:36337.77\n",
      "   available_cash  total_assets_cur  total_assets_buy  buy_cur_diff  \\\n",
      "0         7723.53          56846.18         118267.77     -61421.59   \n",
      "\n",
      "   trade_times  init_cash  t1  t2  \n",
      "0        13028      50000  17  85  \n"
     ]
    },
    {
     "data": {
      "application/vnd.jupyter.widget-view+json": {
       "model_id": "8c504cbcb67444feafa8d231762fefec",
       "version_major": 2,
       "version_minor": 0
      },
      "text/plain": [
       "HBox(children=(IntProgress(value=0, description='分析买卖点...', max=3794, style=ProgressStyle(description_width='i…"
      ]
     },
     "metadata": {},
     "output_type": "display_data"
    },
    {
     "name": "stderr",
     "output_type": "stream",
     "text": [
      "C:\\Users\\guqiang\\AppData\\Local\\conda\\conda\\envs\\stock_ai\\lib\\site-packages\\ipykernel_launcher.py:65: RuntimeWarning: invalid value encountered in sign\n"
     ]
    },
    {
     "name": "stdout",
     "output_type": "stream",
     "text": [
      "\n"
     ]
    },
    {
     "data": {
      "application/vnd.jupyter.widget-view+json": {
       "model_id": "9ab18aeb5c614c68955066e8ce16aa2b",
       "version_major": 2,
       "version_minor": 0
      },
      "text/plain": [
       "HBox(children=(IntProgress(value=0, description='回测计算中...', max=8001644, style=ProgressStyle(description_width…"
      ]
     },
     "metadata": {},
     "output_type": "display_data"
    },
    {
     "name": "stdout",
     "output_type": "stream",
     "text": [
      "\n",
      "数据时间:2005-01-04 00:00:00~2020-03-09 00:00:00（可交易天数3688）\n",
      "初始资金:50000.00\n",
      "交易次数:12860 (买入/卖出各算1次)\n",
      "可用资金:12232.02\n",
      "当前持仓:         buy_price  amount  price_cur\n",
      "code                                 \n",
      "000533   15.281719   100.0   4.190249\n",
      "000669   90.601916   200.0  11.098460\n",
      "000722   15.519226   100.0   8.134556\n",
      "000927   10.283539   100.0   5.858071\n",
      "000975   30.277429   100.0  28.391727\n",
      "002425   61.861938   100.0  24.351245\n",
      "002657  497.633530   100.0  61.647234\n",
      "600361   52.703134   100.0   9.668639\n",
      "600859   60.998711   100.0  25.748369\n",
      "600861   14.140225   100.0  13.363507\n",
      "601107    5.710697   100.0   4.547590\n",
      "当前总资产:106793.42\n",
      "资金变化率:24.46%\n",
      "资产变化率:213.59%\n",
      "总手续费:67260.58\n",
      "总印花税:30758.09\n",
      "   available_cash  total_assets_cur  total_assets_buy  buy_cur_diff  \\\n",
      "0        12232.02          33041.83         106793.42     -73751.59   \n",
      "\n",
      "   trade_times  init_cash  t1  t2  \n",
      "0        12860      50000  18  54  \n"
     ]
    },
    {
     "data": {
      "application/vnd.jupyter.widget-view+json": {
       "model_id": "c5a301815a2a4f86bcb971303a3c8132",
       "version_major": 2,
       "version_minor": 0
      },
      "text/plain": [
       "HBox(children=(IntProgress(value=0, description='分析买卖点...', max=3794, style=ProgressStyle(description_width='i…"
      ]
     },
     "metadata": {},
     "output_type": "display_data"
    },
    {
     "name": "stderr",
     "output_type": "stream",
     "text": [
      "C:\\Users\\guqiang\\AppData\\Local\\conda\\conda\\envs\\stock_ai\\lib\\site-packages\\ipykernel_launcher.py:65: RuntimeWarning: invalid value encountered in sign\n"
     ]
    },
    {
     "name": "stdout",
     "output_type": "stream",
     "text": [
      "\n"
     ]
    },
    {
     "data": {
      "application/vnd.jupyter.widget-view+json": {
       "model_id": "870afb4918fd4497b851a4b546694c65",
       "version_major": 2,
       "version_minor": 0
      },
      "text/plain": [
       "HBox(children=(IntProgress(value=0, description='回测计算中...', max=8001644, style=ProgressStyle(description_width…"
      ]
     },
     "metadata": {},
     "output_type": "display_data"
    },
    {
     "name": "stdout",
     "output_type": "stream",
     "text": [
      "\n",
      "数据时间:2005-01-04 00:00:00~2020-03-09 00:00:00（可交易天数3688）\n",
      "初始资金:50000.00\n",
      "交易次数:13823 (买入/卖出各算1次)\n",
      "可用资金:11786.36\n",
      "当前持仓:         buy_price  amount   price_cur\n",
      "code                                  \n",
      "000505   12.656000   100.0    6.633100\n",
      "000671  172.817156   100.0  136.927891\n",
      "000750   43.619714   200.0   24.979691\n",
      "000967   55.300746   100.0   32.338784\n",
      "002037  108.446429   100.0   26.401920\n",
      "002106   45.424787   100.0   34.601819\n",
      "002260  120.341438   100.0    7.275922\n",
      "002367  100.112784   100.0   63.717922\n",
      "002470   52.808197   100.0   12.081895\n",
      "002473   63.927806   100.0   16.142966\n",
      "300406  122.371295   100.0   83.019095\n",
      "300418  185.453865   100.0   85.139073\n",
      "600103   12.300681   100.0    4.891588\n",
      "600361   52.256217   100.0    9.668639\n",
      "600398   44.027768   100.0   24.102383\n",
      "601099   26.298112   100.0   10.663199\n",
      "601991   20.133903   300.0    5.728319\n",
      "当前总资产:144004.80\n",
      "资金变化率:23.57%\n",
      "资产变化率:288.01%\n",
      "总手续费:76092.75\n",
      "总印花税:38388.87\n",
      "   available_cash  total_assets_cur  total_assets_buy  buy_cur_diff  \\\n",
      "0        11786.36          73861.41          144004.8     -70143.39   \n",
      "\n",
      "   trade_times  init_cash  t1  t2  \n",
      "0        13823      50000  18  72  \n"
     ]
    },
    {
     "data": {
      "application/vnd.jupyter.widget-view+json": {
       "model_id": "a59242c54fad4a3e9a98b34d047a4852",
       "version_major": 2,
       "version_minor": 0
      },
      "text/plain": [
       "HBox(children=(IntProgress(value=0, description='分析买卖点...', max=3794, style=ProgressStyle(description_width='i…"
      ]
     },
     "metadata": {},
     "output_type": "display_data"
    },
    {
     "name": "stderr",
     "output_type": "stream",
     "text": [
      "C:\\Users\\guqiang\\AppData\\Local\\conda\\conda\\envs\\stock_ai\\lib\\site-packages\\ipykernel_launcher.py:65: RuntimeWarning: invalid value encountered in sign\n"
     ]
    },
    {
     "name": "stdout",
     "output_type": "stream",
     "text": [
      "\n"
     ]
    },
    {
     "data": {
      "application/vnd.jupyter.widget-view+json": {
       "model_id": "3562ec3c0e254a629d0eac814980f345",
       "version_major": 2,
       "version_minor": 0
      },
      "text/plain": [
       "HBox(children=(IntProgress(value=0, description='回测计算中...', max=8001644, style=ProgressStyle(description_width…"
      ]
     },
     "metadata": {},
     "output_type": "display_data"
    },
    {
     "name": "stdout",
     "output_type": "stream",
     "text": [
      "\n",
      "数据时间:2005-01-04 00:00:00~2020-03-09 00:00:00（可交易天数3688）\n",
      "初始资金:50000.00\n",
      "交易次数:12742 (买入/卖出各算1次)\n",
      "可用资金:22944.63\n",
      "当前持仓:         buy_price  amount  price_cur\n",
      "code                                 \n",
      "000410   60.911451   100.0  12.006171\n",
      "000561    9.669000   200.0   8.063000\n",
      "000625   83.408726   100.0  47.555550\n",
      "000701   21.249769   100.0  10.284162\n",
      "000837   30.792388   100.0   8.653409\n",
      "002576   51.697853   100.0  13.182553\n",
      "002807   11.265615   100.0   5.363924\n",
      "300004   54.720961   100.0  23.966475\n",
      "300139  125.001824   100.0  44.095350\n",
      "300386  169.520000   100.0  70.531843\n",
      "600400   54.218371   200.0  53.652074\n",
      "600429    8.980080   500.0   7.340528\n",
      "600509   30.902190   100.0  13.751610\n",
      "600569    7.496956   400.0   3.598373\n",
      "601099   26.298112   100.0  10.663199\n",
      "601106    8.347605  1000.0   2.801788\n",
      "601117    9.992718   400.0   7.750302\n",
      "601208   13.504953   100.0  14.036375\n",
      "601390   15.535680   200.0   6.485958\n",
      "601669   10.087111   800.0   4.971532\n",
      "601901   11.786655   300.0   8.295131\n",
      "当前总资产:138195.82\n",
      "资金变化率:45.89%\n",
      "资产变化率:276.39%\n",
      "总手续费:70610.65\n",
      "总印花税:35878.02\n",
      "   available_cash  total_assets_cur  total_assets_buy  buy_cur_diff  \\\n",
      "0        22944.63          81471.19         138195.82     -56724.63   \n",
      "\n",
      "   trade_times  init_cash  t1  t2  \n",
      "0        12742      50000  18  90  \n"
     ]
    },
    {
     "data": {
      "application/vnd.jupyter.widget-view+json": {
       "model_id": "cda910597f234738adb00d4a30a6c675",
       "version_major": 2,
       "version_minor": 0
      },
      "text/plain": [
       "HBox(children=(IntProgress(value=0, description='分析买卖点...', max=3794, style=ProgressStyle(description_width='i…"
      ]
     },
     "metadata": {},
     "output_type": "display_data"
    },
    {
     "name": "stderr",
     "output_type": "stream",
     "text": [
      "C:\\Users\\guqiang\\AppData\\Local\\conda\\conda\\envs\\stock_ai\\lib\\site-packages\\ipykernel_launcher.py:65: RuntimeWarning: invalid value encountered in sign\n"
     ]
    },
    {
     "name": "stdout",
     "output_type": "stream",
     "text": [
      "\n"
     ]
    },
    {
     "data": {
      "application/vnd.jupyter.widget-view+json": {
       "model_id": "e02403f50e154de9b2854425e40670b0",
       "version_major": 2,
       "version_minor": 0
      },
      "text/plain": [
       "HBox(children=(IntProgress(value=0, description='回测计算中...', max=8001644, style=ProgressStyle(description_width…"
      ]
     },
     "metadata": {},
     "output_type": "display_data"
    },
    {
     "name": "stdout",
     "output_type": "stream",
     "text": [
      "\n",
      "数据时间:2005-01-04 00:00:00~2020-03-09 00:00:00（可交易天数3688）\n",
      "初始资金:50000.00\n",
      "交易次数:12857 (买入/卖出各算1次)\n",
      "可用资金:17395.40\n",
      "当前持仓:         buy_price  amount  price_cur\n",
      "code                                 \n",
      "000301   21.648869   100.0   9.742793\n",
      "000625   86.717690   100.0  47.555550\n",
      "000669   94.050013   100.0  11.098460\n",
      "000898   25.952194   200.0   7.433286\n",
      "000975   30.277429   100.0  28.391727\n",
      "002385  118.212301   100.0  83.161081\n",
      "002420    7.047697   100.0   4.033075\n",
      "600006   11.067241   100.0   6.714508\n",
      "600398   44.027768   100.0  24.102383\n",
      "600726    5.963779   300.0   2.277832\n",
      "601107    5.763503   200.0   4.547590\n",
      "601618    7.216533   500.0   3.086439\n",
      "601766   26.625416   100.0   7.849076\n",
      "601968   13.770000   100.0   4.733138\n",
      "当前总资产:74480.39\n",
      "资金变化率:34.79%\n",
      "资产变化率:148.96%\n",
      "总手续费:67175.42\n",
      "总印花税:30145.20\n",
      "   available_cash  total_assets_cur  total_assets_buy  buy_cur_diff  \\\n",
      "0         17395.4          44756.33          74480.39     -29724.06   \n",
      "\n",
      "   trade_times  init_cash  t1  t2  \n",
      "0        12857      50000  19  57  \n"
     ]
    },
    {
     "data": {
      "application/vnd.jupyter.widget-view+json": {
       "model_id": "080e2754a8154b59aa2752e70f2d135d",
       "version_major": 2,
       "version_minor": 0
      },
      "text/plain": [
       "HBox(children=(IntProgress(value=0, description='分析买卖点...', max=3794, style=ProgressStyle(description_width='i…"
      ]
     },
     "metadata": {},
     "output_type": "display_data"
    },
    {
     "name": "stderr",
     "output_type": "stream",
     "text": [
      "C:\\Users\\guqiang\\AppData\\Local\\conda\\conda\\envs\\stock_ai\\lib\\site-packages\\ipykernel_launcher.py:65: RuntimeWarning: invalid value encountered in sign\n"
     ]
    },
    {
     "name": "stdout",
     "output_type": "stream",
     "text": [
      "\n"
     ]
    },
    {
     "data": {
      "application/vnd.jupyter.widget-view+json": {
       "model_id": "93967e45fb044e49a8b2c7b5f54e06fd",
       "version_major": 2,
       "version_minor": 0
      },
      "text/plain": [
       "HBox(children=(IntProgress(value=0, description='回测计算中...', max=8001644, style=ProgressStyle(description_width…"
      ]
     },
     "metadata": {},
     "output_type": "display_data"
    },
    {
     "name": "stdout",
     "output_type": "stream",
     "text": [
      "\n",
      "数据时间:2005-01-04 00:00:00~2020-03-09 00:00:00（可交易天数3688）\n",
      "初始资金:50000.00\n",
      "交易次数:13539 (买入/卖出各算1次)\n",
      "可用资金:10731.63\n",
      "当前持仓:         buy_price  amount  price_cur\n",
      "code                                 \n",
      "000625   83.408726   100.0  47.555550\n",
      "000750   56.439416   100.0  24.979691\n",
      "000831   89.944511   100.0  26.047500\n",
      "000898   12.508427   100.0   7.433286\n",
      "000967   55.300746   100.0  32.338784\n",
      "002337   97.423465   100.0  18.623840\n",
      "002500   25.366879   100.0   8.901102\n",
      "300209  114.077242   100.0  46.720548\n",
      "300406  122.371295   100.0  83.019095\n",
      "600177   45.663317   100.0  45.189237\n",
      "600361   27.904112   300.0   9.668639\n",
      "600380   87.088111   100.0  55.435506\n",
      "600397   13.016782   100.0   9.050129\n",
      "600739  114.995860   100.0  73.470860\n",
      "601016   24.577567   100.0   4.942211\n",
      "601800   21.493892   100.0  11.428368\n",
      "601901   12.629179   300.0   8.295131\n",
      "601919   11.565560   300.0   4.494821\n",
      "601991    8.830435   400.0   5.728319\n",
      "603308   24.554258   100.0  17.696152\n",
      "当前总资产:128716.51\n",
      "资金变化率:21.46%\n",
      "资产变化率:257.43%\n",
      "总手续费:73567.41\n",
      "总印花税:36747.39\n",
      "   available_cash  total_assets_cur  total_assets_buy  buy_cur_diff  \\\n",
      "0        10731.63          71043.72         128716.51     -57672.79   \n",
      "\n",
      "   trade_times  init_cash  t1  t2  \n",
      "0        13539      50000  19  76  \n"
     ]
    },
    {
     "data": {
      "application/vnd.jupyter.widget-view+json": {
       "model_id": "219d3be13978424db99ac015e9e3d247",
       "version_major": 2,
       "version_minor": 0
      },
      "text/plain": [
       "HBox(children=(IntProgress(value=0, description='分析买卖点...', max=3794, style=ProgressStyle(description_width='i…"
      ]
     },
     "metadata": {},
     "output_type": "display_data"
    },
    {
     "name": "stderr",
     "output_type": "stream",
     "text": [
      "C:\\Users\\guqiang\\AppData\\Local\\conda\\conda\\envs\\stock_ai\\lib\\site-packages\\ipykernel_launcher.py:65: RuntimeWarning: invalid value encountered in sign\n"
     ]
    },
    {
     "name": "stdout",
     "output_type": "stream",
     "text": [
      "\n"
     ]
    },
    {
     "data": {
      "application/vnd.jupyter.widget-view+json": {
       "model_id": "b693a390dc76436bae220743e887351e",
       "version_major": 2,
       "version_minor": 0
      },
      "text/plain": [
       "HBox(children=(IntProgress(value=0, description='回测计算中...', max=8001644, style=ProgressStyle(description_width…"
      ]
     },
     "metadata": {},
     "output_type": "display_data"
    },
    {
     "name": "stdout",
     "output_type": "stream",
     "text": [
      "\n",
      "数据时间:2005-01-04 00:00:00~2020-03-09 00:00:00（可交易天数3688）\n",
      "初始资金:50000.00\n",
      "交易次数:15534 (买入/卖出各算1次)\n",
      "可用资金:17911.51\n",
      "当前持仓:         buy_price  amount  price_cur\n",
      "code                                 \n",
      "000410   60.911451   100.0  12.006171\n",
      "000581   93.273020   300.0  63.861818\n",
      "000612   42.120905   300.0  10.142260\n",
      "000698   11.872140   200.0   8.284029\n",
      "000761   10.774985   200.0   6.362120\n",
      "000767   11.074623   200.0   4.363906\n",
      "002293  121.093453   100.0  60.141350\n",
      "002576   53.291647   100.0  13.182553\n",
      "002657  479.052115   100.0  61.647234\n",
      "300386  169.520000   100.0  70.531843\n",
      "600052    7.406792   100.0   5.547351\n",
      "600333   11.921252   200.0   6.760695\n",
      "600361   33.903777   400.0   9.668639\n",
      "600380   83.868372   100.0  55.435506\n",
      "600890   15.782600   100.0  12.337000\n",
      "600961   21.151932   200.0  10.335261\n",
      "601099   26.298112   100.0  10.663199\n",
      "601117   11.733737   200.0   7.750302\n",
      "601633   53.503606   100.0  31.454093\n",
      "601777   11.707829   100.0   3.277069\n",
      "601901   14.622966   200.0   8.295131\n",
      "601918    6.803350   100.0   4.459477\n",
      "当前总资产:199645.46\n",
      "资金变化率:35.82%\n",
      "资产变化率:399.29%\n",
      "总手续费:85410.98\n",
      "总印花税:45721.74\n",
      "   available_cash  total_assets_cur  total_assets_buy  buy_cur_diff  \\\n",
      "0        17911.51          88478.77         199645.46    -111166.69   \n",
      "\n",
      "   trade_times  init_cash  t1  t2  \n",
      "0        15534      50000  19  95  \n"
     ]
    },
    {
     "data": {
      "application/vnd.jupyter.widget-view+json": {
       "model_id": "84f79f946382469d90a427c825425043",
       "version_major": 2,
       "version_minor": 0
      },
      "text/plain": [
       "HBox(children=(IntProgress(value=0, description='分析买卖点...', max=3794, style=ProgressStyle(description_width='i…"
      ]
     },
     "metadata": {},
     "output_type": "display_data"
    },
    {
     "name": "stderr",
     "output_type": "stream",
     "text": [
      "C:\\Users\\guqiang\\AppData\\Local\\conda\\conda\\envs\\stock_ai\\lib\\site-packages\\ipykernel_launcher.py:65: RuntimeWarning: invalid value encountered in sign\n"
     ]
    },
    {
     "name": "stdout",
     "output_type": "stream",
     "text": [
      "\n"
     ]
    },
    {
     "data": {
      "application/vnd.jupyter.widget-view+json": {
       "model_id": "33587349c3a64647b8556dc95fdbc450",
       "version_major": 2,
       "version_minor": 0
      },
      "text/plain": [
       "HBox(children=(IntProgress(value=0, description='回测计算中...', max=8001644, style=ProgressStyle(description_width…"
      ]
     },
     "metadata": {},
     "output_type": "display_data"
    },
    {
     "name": "stdout",
     "output_type": "stream",
     "text": [
      "\n",
      "数据时间:2005-01-04 00:00:00~2020-03-09 00:00:00（可交易天数3688）\n",
      "初始资金:50000.00\n",
      "交易次数:14827 (买入/卖出各算1次)\n",
      "可用资金:18614.25\n",
      "当前持仓:         buy_price  amount  price_cur\n",
      "code                                 \n",
      "000156   82.731294   100.0  17.201370\n",
      "000573   15.685715   100.0   4.865311\n",
      "000605   45.159199   100.0  13.100124\n",
      "000783   57.397013   100.0  24.046062\n",
      "000850   13.506849   100.0  11.762517\n",
      "000892   12.270000   100.0   4.870000\n",
      "000898   22.079671   400.0   7.433286\n",
      "000982   23.749398   100.0  11.874699\n",
      "002060   15.805484   100.0  11.348782\n",
      "002473   63.927806   100.0  16.142966\n",
      "002553   44.722139   100.0  23.715283\n",
      "300145  196.342374   100.0  78.738031\n",
      "300332   18.743557   200.0  10.025037\n",
      "600027    7.945745   300.0   5.818673\n",
      "600242   23.840488   100.0   9.389828\n",
      "600376   52.347301   100.0  37.196554\n",
      "600601    6.991929   100.0   6.166599\n",
      "600608   27.251445   100.0   7.457205\n",
      "600759   10.794476   100.0   5.082224\n",
      "600854   10.996597   100.0   5.356730\n",
      "601628   41.440996   100.0  35.083653\n",
      "601901   14.622966   100.0   8.295131\n",
      "601968    6.578445   100.0   4.733138\n",
      "601991   11.999145   200.0   5.728319\n",
      "603100   11.280707   100.0  10.358389\n",
      "603198   29.698699   100.0  18.992004\n",
      "603616   48.966286   100.0  15.298660\n",
      "603818   30.719908   100.0  15.658545\n",
      "当前总资产:124661.13\n",
      "资金变化率:37.23%\n",
      "资产变化率:249.32%\n",
      "总手续费:79036.94\n",
      "总印花税:37780.17\n",
      "   available_cash  total_assets_cur  total_assets_buy  buy_cur_diff  \\\n",
      "0        18614.25          66157.21         124661.13     -58503.92   \n",
      "\n",
      "   trade_times  init_cash  t1  t2  \n",
      "0        14827      50000  20  60  \n"
     ]
    },
    {
     "data": {
      "application/vnd.jupyter.widget-view+json": {
       "model_id": "9f9ab39621e14b8b84b1d27eba958be9",
       "version_major": 2,
       "version_minor": 0
      },
      "text/plain": [
       "HBox(children=(IntProgress(value=0, description='分析买卖点...', max=3794, style=ProgressStyle(description_width='i…"
      ]
     },
     "metadata": {},
     "output_type": "display_data"
    },
    {
     "name": "stderr",
     "output_type": "stream",
     "text": [
      "C:\\Users\\guqiang\\AppData\\Local\\conda\\conda\\envs\\stock_ai\\lib\\site-packages\\ipykernel_launcher.py:65: RuntimeWarning: invalid value encountered in sign\n"
     ]
    },
    {
     "name": "stdout",
     "output_type": "stream",
     "text": [
      "\n"
     ]
    },
    {
     "data": {
      "application/vnd.jupyter.widget-view+json": {
       "model_id": "384dc51e6f71468cbfbe3b9b39951678",
       "version_major": 2,
       "version_minor": 0
      },
      "text/plain": [
       "HBox(children=(IntProgress(value=0, description='回测计算中...', max=8001644, style=ProgressStyle(description_width…"
      ]
     },
     "metadata": {},
     "output_type": "display_data"
    },
    {
     "name": "stdout",
     "output_type": "stream",
     "text": [
      "\n",
      "数据时间:2005-01-04 00:00:00~2020-03-09 00:00:00（可交易天数3688）\n",
      "初始资金:50000.00\n",
      "交易次数:14338 (买入/卖出各算1次)\n",
      "可用资金:2940.13\n",
      "当前持仓:         buy_price  amount  price_cur\n",
      "code                                 \n",
      "000407   26.505678   100.0   8.904454\n",
      "000410   60.911451   100.0  12.006171\n",
      "000502   49.120300   100.0  11.476000\n",
      "000625   83.408726   100.0  47.555550\n",
      "000720    7.948800   100.0   6.489600\n",
      "000721   23.895344   100.0  11.705080\n",
      "000831   89.944511   100.0  26.047500\n",
      "002060   15.805484   100.0  11.348782\n",
      "002295   27.058191   100.0  10.888660\n",
      "002701   97.027525   100.0  38.969238\n",
      "002807   11.013249   100.0   5.363924\n",
      "300278   88.627000   100.0  18.674515\n",
      "300386  169.520000   100.0  70.531843\n",
      "600117    7.585336   100.0   4.739029\n",
      "600191   28.289247   100.0  11.099931\n",
      "600321   23.448938   100.0  12.097130\n",
      "600361   28.503747   500.0   9.668639\n",
      "600586   41.282427   100.0  30.131733\n",
      "600739  114.995860   100.0  73.470860\n",
      "600744    7.338485   100.0   3.380492\n",
      "601002   10.815756   100.0   7.024964\n",
      "601106    9.219384   500.0   2.801788\n",
      "601117    8.724538   500.0   7.750302\n",
      "601558   11.361219   100.0   6.367277\n",
      "601669    9.838794   700.0   4.971532\n",
      "601677   14.877559   100.0  12.163559\n",
      "当前总资产:134129.23\n",
      "资金变化率:5.88%\n",
      "资产变化率:268.26%\n",
      "总手续费:78923.87\n",
      "总印花税:40219.99\n",
      "   available_cash  total_assets_cur  total_assets_buy  buy_cur_diff  \\\n",
      "0         2940.13           60574.2         134129.23     -73555.03   \n",
      "\n",
      "   trade_times  init_cash  t1  t2  \n",
      "0        14338      50000  20  80  \n"
     ]
    },
    {
     "data": {
      "application/vnd.jupyter.widget-view+json": {
       "model_id": "6c2bb0215f7e4e69ad2517dddf138aa2",
       "version_major": 2,
       "version_minor": 0
      },
      "text/plain": [
       "HBox(children=(IntProgress(value=0, description='分析买卖点...', max=3794, style=ProgressStyle(description_width='i…"
      ]
     },
     "metadata": {},
     "output_type": "display_data"
    },
    {
     "name": "stderr",
     "output_type": "stream",
     "text": [
      "C:\\Users\\guqiang\\AppData\\Local\\conda\\conda\\envs\\stock_ai\\lib\\site-packages\\ipykernel_launcher.py:65: RuntimeWarning: invalid value encountered in sign\n"
     ]
    },
    {
     "name": "stdout",
     "output_type": "stream",
     "text": [
      "\n"
     ]
    },
    {
     "data": {
      "application/vnd.jupyter.widget-view+json": {
       "model_id": "c5b58feae6f24412a36c94c670c491de",
       "version_major": 2,
       "version_minor": 0
      },
      "text/plain": [
       "HBox(children=(IntProgress(value=0, description='回测计算中...', max=8001644, style=ProgressStyle(description_width…"
      ]
     },
     "metadata": {},
     "output_type": "display_data"
    },
    {
     "name": "stdout",
     "output_type": "stream",
     "text": [
      "\n",
      "数据时间:2005-01-04 00:00:00~2020-03-09 00:00:00（可交易天数3688）\n",
      "初始资金:50000.00\n",
      "交易次数:18649 (买入/卖出各算1次)\n",
      "可用资金:49192.48\n",
      "当前持仓:         buy_price  amount  price_cur\n",
      "code                                 \n",
      "000068   14.447027   100.0   5.352407\n",
      "000090   47.083306   100.0  33.161971\n",
      "000150   31.398577   100.0  10.036874\n",
      "000517   20.563646   100.0  11.400381\n",
      "000627   25.273883   100.0  16.162090\n",
      "000683   17.420498   300.0   7.768153\n",
      "000698   11.872140   100.0   8.284029\n",
      "000700   21.725766   100.0  13.045715\n",
      "000970   47.452299   100.0  27.968235\n",
      "000982   22.512451   100.0  11.874699\n",
      "002374   82.076031   100.0  18.565191\n",
      "002375  124.637790   100.0  33.103301\n",
      "002516   48.048804   100.0  25.616596\n",
      "300029   10.920460   200.0   6.089666\n",
      "300359  509.159706   100.0  54.981144\n",
      "300599   13.224758   100.0  11.663169\n",
      "300688   58.482978   100.0  45.645506\n",
      "600200   48.631568   100.0  20.658974\n",
      "600236   28.102008   200.0  27.890737\n",
      "600288   87.815387   100.0  35.853548\n",
      "600339   13.405308   100.0   5.293691\n",
      "600398   41.120420   300.0  24.102383\n",
      "600520   21.149151   100.0  12.917290\n",
      "600685   57.316744   100.0  23.424458\n",
      "600706   20.878000   100.0  11.979110\n",
      "600821   14.485500   100.0   8.029000\n",
      "601117   11.733737   200.0   7.750302\n",
      "601118    6.059818   800.0   4.601585\n",
      "601186   15.903357   100.0  12.352457\n",
      "601633   47.236822   200.0  31.454093\n",
      "601766   15.344589   200.0   7.849076\n",
      "601901   12.591368   300.0   8.295131\n",
      "601969    7.818242   500.0   5.060285\n",
      "601999   12.759233   100.0   8.251388\n",
      "603196   11.068413   100.0   8.416177\n",
      "603309   46.719087   100.0  30.140719\n",
      "603757   55.780000   100.0  32.079830\n",
      "当前总资产:250343.76\n",
      "资金变化率:98.38%\n",
      "资产变化率:500.69%\n",
      "总手续费:102967.95\n",
      "总印花税:56364.41\n",
      "   available_cash  total_assets_cur  total_assets_buy  buy_cur_diff  \\\n",
      "0        49192.48         137286.16         250343.76     -113057.6   \n",
      "\n",
      "   trade_times  init_cash  t1   t2  \n",
      "0        18649      50000  20  100  \n"
     ]
    },
    {
     "data": {
      "application/vnd.jupyter.widget-view+json": {
       "model_id": "111fc9c9b01740b79b91ecda7888c01e",
       "version_major": 2,
       "version_minor": 0
      },
      "text/plain": [
       "HBox(children=(IntProgress(value=0, description='分析买卖点...', max=3794, style=ProgressStyle(description_width='i…"
      ]
     },
     "metadata": {},
     "output_type": "display_data"
    },
    {
     "name": "stderr",
     "output_type": "stream",
     "text": [
      "C:\\Users\\guqiang\\AppData\\Local\\conda\\conda\\envs\\stock_ai\\lib\\site-packages\\ipykernel_launcher.py:65: RuntimeWarning: invalid value encountered in sign\n"
     ]
    },
    {
     "name": "stdout",
     "output_type": "stream",
     "text": [
      "\n"
     ]
    },
    {
     "data": {
      "application/vnd.jupyter.widget-view+json": {
       "model_id": "37b40bfc68824a598f7bce9609c85ec1",
       "version_major": 2,
       "version_minor": 0
      },
      "text/plain": [
       "HBox(children=(IntProgress(value=0, description='回测计算中...', max=8001644, style=ProgressStyle(description_width…"
      ]
     },
     "metadata": {},
     "output_type": "display_data"
    },
    {
     "name": "stdout",
     "output_type": "stream",
     "text": [
      "\n",
      "数据时间:2005-01-04 00:00:00~2020-03-09 00:00:00（可交易天数3688）\n",
      "初始资金:50000.00\n",
      "交易次数:14397 (买入/卖出各算1次)\n",
      "可用资金:8845.71\n",
      "当前持仓:         buy_price  amount  price_cur\n",
      "code                                 \n",
      "000573   15.685715   100.0   4.865311\n",
      "000630   27.474597   100.0  15.178557\n",
      "000783   44.970567   200.0  24.046062\n",
      "000833   22.114863   100.0   7.825051\n",
      "002106   45.424787   100.0  34.601819\n",
      "002260  120.341438   100.0   7.275922\n",
      "002473   63.927806   100.0  16.142966\n",
      "002516   48.048804   100.0  25.616596\n",
      "300209  115.154289   100.0  46.720548\n",
      "600103   10.962061   300.0   4.891588\n",
      "600237   14.819472   200.0  10.235918\n",
      "600361   40.868395   300.0   9.668639\n",
      "600637   67.925976   200.0  20.934607\n",
      "600759   10.794476   100.0   5.082224\n",
      "600780    9.052969   400.0   5.170907\n",
      "600804  242.434313   100.0  43.667956\n",
      "600890   15.782600   100.0  12.337000\n",
      "601901   11.039335   400.0   8.295131\n",
      "603066   58.414018   100.0  37.832630\n",
      "603167   12.711054   100.0  10.671991\n",
      "当前总资产:137805.84\n",
      "资金变化率:17.69%\n",
      "资产变化率:275.61%\n",
      "总手续费:76484.43\n",
      "总印花税:36953.20\n",
      "   available_cash  total_assets_cur  total_assets_buy  buy_cur_diff  \\\n",
      "0         8845.71          56425.36         137805.84     -81380.48   \n",
      "\n",
      "   trade_times  init_cash  t1  t2  \n",
      "0        14397      50000  21  63  \n"
     ]
    },
    {
     "data": {
      "application/vnd.jupyter.widget-view+json": {
       "model_id": "9139c46f03954825b3e527c457d5ffad",
       "version_major": 2,
       "version_minor": 0
      },
      "text/plain": [
       "HBox(children=(IntProgress(value=0, description='分析买卖点...', max=3794, style=ProgressStyle(description_width='i…"
      ]
     },
     "metadata": {},
     "output_type": "display_data"
    },
    {
     "name": "stderr",
     "output_type": "stream",
     "text": [
      "C:\\Users\\guqiang\\AppData\\Local\\conda\\conda\\envs\\stock_ai\\lib\\site-packages\\ipykernel_launcher.py:65: RuntimeWarning: invalid value encountered in sign\n"
     ]
    },
    {
     "name": "stdout",
     "output_type": "stream",
     "text": [
      "\n"
     ]
    },
    {
     "data": {
      "application/vnd.jupyter.widget-view+json": {
       "model_id": "a81092a169f047ae9c4a889683a566cb",
       "version_major": 2,
       "version_minor": 0
      },
      "text/plain": [
       "HBox(children=(IntProgress(value=0, description='回测计算中...', max=8001644, style=ProgressStyle(description_width…"
      ]
     },
     "metadata": {},
     "output_type": "display_data"
    },
    {
     "name": "stdout",
     "output_type": "stream",
     "text": [
      "\n",
      "数据时间:2005-01-04 00:00:00~2020-03-09 00:00:00（可交易天数3688）\n",
      "初始资金:50000.00\n",
      "交易次数:12974 (买入/卖出各算1次)\n",
      "可用资金:11383.84\n",
      "当前持仓:         buy_price  amount  price_cur\n",
      "code                                 \n",
      "000410   60.911451   100.0  12.006171\n",
      "000625   83.408726   100.0  47.555550\n",
      "000721   23.895344   100.0  11.705080\n",
      "000766   15.680000   100.0   6.280000\n",
      "000783   57.397013   100.0  24.046062\n",
      "002561   21.557438   100.0  10.747734\n",
      "300386  169.520000   100.0  70.531843\n",
      "600068   52.709990   200.0  30.297993\n",
      "600333   11.921252   100.0   6.760695\n",
      "600361   29.590316   500.0   9.668639\n",
      "600397   13.016782   100.0   9.050129\n",
      "600657   15.371492   100.0   9.032633\n",
      "600781   26.323000   100.0   5.965998\n",
      "601001   15.114386   100.0   8.179802\n",
      "601002   10.815756   100.0   7.024964\n",
      "601107    5.659251   200.0   4.547590\n",
      "601117   12.294961   200.0   7.750302\n",
      "601127   23.970000   100.0  10.788919\n",
      "601390   16.846677   200.0   6.485958\n",
      "601669   15.722001   100.0   4.971532\n",
      "601890   23.726101   100.0  15.343091\n",
      "601901   11.766344   400.0   8.295131\n",
      "当前总资产:107222.78\n",
      "资金变化率:22.77%\n",
      "资产变化率:214.45%\n",
      "总手续费:70504.48\n",
      "总印花税:33870.58\n",
      "   available_cash  total_assets_cur  total_assets_buy  buy_cur_diff  \\\n",
      "0        11383.84           55351.6         107222.78     -51871.18   \n",
      "\n",
      "   trade_times  init_cash  t1  t2  \n",
      "0        12974      50000  21  84  \n"
     ]
    },
    {
     "data": {
      "application/vnd.jupyter.widget-view+json": {
       "model_id": "b7c30f946a244934a31fc32c29c3d11c",
       "version_major": 2,
       "version_minor": 0
      },
      "text/plain": [
       "HBox(children=(IntProgress(value=0, description='分析买卖点...', max=3794, style=ProgressStyle(description_width='i…"
      ]
     },
     "metadata": {},
     "output_type": "display_data"
    },
    {
     "name": "stderr",
     "output_type": "stream",
     "text": [
      "C:\\Users\\guqiang\\AppData\\Local\\conda\\conda\\envs\\stock_ai\\lib\\site-packages\\ipykernel_launcher.py:65: RuntimeWarning: invalid value encountered in sign\n"
     ]
    },
    {
     "name": "stdout",
     "output_type": "stream",
     "text": [
      "\n"
     ]
    },
    {
     "data": {
      "application/vnd.jupyter.widget-view+json": {
       "model_id": "c8895dd82e1b45b0bb4415439f0c3dd7",
       "version_major": 2,
       "version_minor": 0
      },
      "text/plain": [
       "HBox(children=(IntProgress(value=0, description='回测计算中...', max=8001644, style=ProgressStyle(description_width…"
      ]
     },
     "metadata": {},
     "output_type": "display_data"
    },
    {
     "name": "stdout",
     "output_type": "stream",
     "text": [
      "\n",
      "数据时间:2005-01-04 00:00:00~2020-03-09 00:00:00（可交易天数3688）\n",
      "初始资金:50000.00\n",
      "交易次数:13428 (买入/卖出各算1次)\n",
      "可用资金:6003.48\n",
      "当前持仓:        buy_price  amount  price_cur\n",
      "code                                \n",
      "000038  44.652683   100.0  20.772363\n",
      "000040  18.907219   200.0   5.003961\n",
      "000609  50.435836   100.0  14.277750\n",
      "000683  15.139574   200.0   7.768153\n",
      "000783  55.585790   100.0  24.046062\n",
      "000930  30.744328   100.0  18.565342\n",
      "002298  48.592036   100.0  28.503518\n",
      "300332  23.061860   100.0  10.025037\n",
      "600033  18.898032   200.0  13.643438\n",
      "600117   7.802060   300.0   4.739029\n",
      "600248  24.179674   100.0  13.770416\n",
      "600288  92.068303   100.0  35.853548\n",
      "600320  55.693272   100.0  22.038302\n",
      "600369  35.619153   200.0  24.010551\n",
      "600380  68.306988   200.0  55.435506\n",
      "600396  26.830247   100.0   7.067479\n",
      "600767  30.212500   100.0   5.287500\n",
      "600820  48.170046   100.0  20.372302\n",
      "601028  21.805368   100.0  14.903121\n",
      "601117   9.378502   400.0   7.750302\n",
      "601186  15.903357   100.0  12.352457\n",
      "601558  25.281834   100.0   6.367277\n",
      "601633  43.917442   200.0  31.454093\n",
      "601919   6.976879   100.0   4.494821\n",
      "603015  25.617185   100.0  13.420997\n",
      "603308  23.989792   100.0  17.696152\n",
      "603703  43.215922   100.0  40.377506\n",
      "当前总资产:121554.87\n",
      "资金变化率:12.01%\n",
      "资产变化率:243.11%\n",
      "总手续费:72810.06\n",
      "总印花税:39098.68\n",
      "   available_cash  total_assets_cur  total_assets_buy  buy_cur_diff  \\\n",
      "0         6003.48          71007.64         121554.87     -50547.23   \n",
      "\n",
      "   trade_times  init_cash  t1   t2  \n",
      "0        13428      50000  21  105  \n"
     ]
    },
    {
     "data": {
      "application/vnd.jupyter.widget-view+json": {
       "model_id": "5522effd002c4d6092dc842f02182c30",
       "version_major": 2,
       "version_minor": 0
      },
      "text/plain": [
       "HBox(children=(IntProgress(value=0, description='分析买卖点...', max=3794, style=ProgressStyle(description_width='i…"
      ]
     },
     "metadata": {},
     "output_type": "display_data"
    },
    {
     "name": "stderr",
     "output_type": "stream",
     "text": [
      "C:\\Users\\guqiang\\AppData\\Local\\conda\\conda\\envs\\stock_ai\\lib\\site-packages\\ipykernel_launcher.py:65: RuntimeWarning: invalid value encountered in sign\n"
     ]
    },
    {
     "name": "stdout",
     "output_type": "stream",
     "text": [
      "\n"
     ]
    },
    {
     "data": {
      "application/vnd.jupyter.widget-view+json": {
       "model_id": "59f57530975c4368b0a00fe8ab1c31a6",
       "version_major": 2,
       "version_minor": 0
      },
      "text/plain": [
       "HBox(children=(IntProgress(value=0, description='回测计算中...', max=8001644, style=ProgressStyle(description_width…"
      ]
     },
     "metadata": {},
     "output_type": "display_data"
    },
    {
     "name": "stdout",
     "output_type": "stream",
     "text": [
      "\n",
      "数据时间:2005-01-04 00:00:00~2020-03-09 00:00:00（可交易天数3688）\n",
      "初始资金:50000.00\n",
      "交易次数:13937 (买入/卖出各算1次)\n",
      "可用资金:13554.93\n",
      "当前持仓:         buy_price  amount   price_cur\n",
      "code                                  \n",
      "000671  172.817156   100.0  136.927891\n",
      "000750   56.439416   100.0   24.979691\n",
      "000783   57.397013   100.0   24.046062\n",
      "000908   18.707528   200.0    4.816421\n",
      "000912   11.330756   100.0    7.672034\n",
      "000967   55.300746   100.0   32.338784\n",
      "002337   97.423465   100.0   18.623840\n",
      "002500   25.366879   100.0    8.901102\n",
      "300139  125.001824   100.0   44.095350\n",
      "600126   25.921039   100.0   17.952675\n",
      "600361   52.256217   100.0    9.668639\n",
      "600601   11.519336   100.0    6.166599\n",
      "600739  114.995860   100.0   73.470860\n",
      "600853   12.911224   200.0    8.901740\n",
      "601107    5.710697   100.0    4.547590\n",
      "601186   25.194722   100.0   12.352457\n",
      "601800   21.493892   100.0   11.428368\n",
      "601991   12.302695   200.0    5.728319\n",
      "603339   22.730981   100.0   13.956217\n",
      "当前总资产:110429.22\n",
      "资金变化率:27.11%\n",
      "资产变化率:220.86%\n",
      "总手续费:76579.01\n",
      "总印花税:37564.16\n",
      "   available_cash  total_assets_cur  total_assets_buy  buy_cur_diff  \\\n",
      "0        13554.93          62157.04         110429.22     -48272.18   \n",
      "\n",
      "   trade_times  init_cash  t1  t2  \n",
      "0        13937      50000  22  66  \n"
     ]
    },
    {
     "data": {
      "application/vnd.jupyter.widget-view+json": {
       "model_id": "c72887add70042f5821599dcd737865d",
       "version_major": 2,
       "version_minor": 0
      },
      "text/plain": [
       "HBox(children=(IntProgress(value=0, description='分析买卖点...', max=3794, style=ProgressStyle(description_width='i…"
      ]
     },
     "metadata": {},
     "output_type": "display_data"
    },
    {
     "name": "stderr",
     "output_type": "stream",
     "text": [
      "C:\\Users\\guqiang\\AppData\\Local\\conda\\conda\\envs\\stock_ai\\lib\\site-packages\\ipykernel_launcher.py:65: RuntimeWarning: invalid value encountered in sign\n"
     ]
    },
    {
     "name": "stdout",
     "output_type": "stream",
     "text": [
      "\n"
     ]
    },
    {
     "data": {
      "application/vnd.jupyter.widget-view+json": {
       "model_id": "842932dc8a24402dbe6e1a75176c0f8e",
       "version_major": 2,
       "version_minor": 0
      },
      "text/plain": [
       "HBox(children=(IntProgress(value=0, description='回测计算中...', max=8001644, style=ProgressStyle(description_width…"
      ]
     },
     "metadata": {},
     "output_type": "display_data"
    },
    {
     "name": "stdout",
     "output_type": "stream",
     "text": [
      "\n",
      "数据时间:2005-01-04 00:00:00~2020-03-09 00:00:00（可交易天数3688）\n",
      "初始资金:50000.00\n",
      "交易次数:19145 (买入/卖出各算1次)\n",
      "可用资金:12610.58\n",
      "当前持仓:         buy_price  amount  price_cur\n",
      "code                                 \n",
      "000498   11.309600   100.0   7.451496\n",
      "000534   27.560815   100.0  16.062563\n",
      "000581   93.273020   300.0  63.861818\n",
      "000612   39.089168   300.0  10.142260\n",
      "000701   23.627963   100.0  10.284162\n",
      "002373  112.541586   100.0  96.389949\n",
      "002374   56.804413   100.0  18.565191\n",
      "002535   24.327467   200.0   9.138236\n",
      "002657  479.052115   100.0  61.647234\n",
      "300359  509.159706   100.0  54.981144\n",
      "600288   87.815387   100.0  35.853548\n",
      "600380   83.868372   100.0  55.435506\n",
      "600433   46.394514   100.0  21.692059\n",
      "600795   25.439240   100.0  15.312144\n",
      "600863   12.789043   100.0  11.712700\n",
      "600898   22.995681   100.0   9.250535\n",
      "600961   18.113034   200.0  10.335261\n",
      "601001   15.114386   100.0   8.179802\n",
      "601107    5.659251   200.0   4.547590\n",
      "601117   10.796288   300.0   7.750302\n",
      "601118    7.032382   200.0   4.601585\n",
      "601368   11.533804   100.0   5.891231\n",
      "601866    3.629691   200.0   2.285409\n",
      "601901   12.972919   300.0   8.295131\n",
      "601988    6.859311   400.0   6.464925\n",
      "601997   14.833635   100.0  12.539587\n",
      "603618   26.632884   100.0  17.599184\n",
      "当前总资产:230693.40\n",
      "资金变化率:25.22%\n",
      "资产变化率:461.39%\n",
      "总手续费:106528.90\n",
      "总印花税:59862.23\n",
      "   available_cash  total_assets_cur  total_assets_buy  buy_cur_diff  \\\n",
      "0        12610.58          94277.82          230693.4    -136415.58   \n",
      "\n",
      "   trade_times  init_cash  t1  t2  \n",
      "0        19145      50000  22  88  \n"
     ]
    },
    {
     "data": {
      "application/vnd.jupyter.widget-view+json": {
       "model_id": "53da58ec51b64845ac50097aa4b50daf",
       "version_major": 2,
       "version_minor": 0
      },
      "text/plain": [
       "HBox(children=(IntProgress(value=0, description='分析买卖点...', max=3794, style=ProgressStyle(description_width='i…"
      ]
     },
     "metadata": {},
     "output_type": "display_data"
    },
    {
     "name": "stderr",
     "output_type": "stream",
     "text": [
      "C:\\Users\\guqiang\\AppData\\Local\\conda\\conda\\envs\\stock_ai\\lib\\site-packages\\ipykernel_launcher.py:65: RuntimeWarning: invalid value encountered in sign\n"
     ]
    },
    {
     "name": "stdout",
     "output_type": "stream",
     "text": [
      "\n"
     ]
    },
    {
     "data": {
      "application/vnd.jupyter.widget-view+json": {
       "model_id": "abf2f7a25a1b4fb68d41ebb2389f60b9",
       "version_major": 2,
       "version_minor": 0
      },
      "text/plain": [
       "HBox(children=(IntProgress(value=0, description='回测计算中...', max=8001644, style=ProgressStyle(description_width…"
      ]
     },
     "metadata": {},
     "output_type": "display_data"
    },
    {
     "name": "stdout",
     "output_type": "stream",
     "text": [
      "\n",
      "数据时间:2005-01-04 00:00:00~2020-03-09 00:00:00（可交易天数3688）\n",
      "初始资金:50000.00\n",
      "交易次数:16716 (买入/卖出各算1次)\n",
      "可用资金:71444.63\n",
      "当前持仓:         buy_price  amount  price_cur\n",
      "code                                 \n",
      "000005   10.741500   100.0   4.999500\n",
      "000514   27.469305   100.0  11.044018\n",
      "000592   25.992200   100.0   8.720400\n",
      "000655   14.068851   100.0   9.113156\n",
      "000681   61.724000   100.0  22.108295\n",
      "000738   39.971008   200.0  18.347685\n",
      "000758   46.883813   100.0  20.434565\n",
      "000783   55.585790   100.0  24.046062\n",
      "000913   27.769055   100.0  15.732442\n",
      "002244   43.845256   100.0  25.580714\n",
      "002260  106.251557   100.0   7.275922\n",
      "002270   12.809386   200.0  10.519283\n",
      "002426   53.616032   100.0  10.863431\n",
      "002454   30.977441   100.0  15.220766\n",
      "002473   61.642444   100.0  16.142966\n",
      "002772   50.617199   100.0  14.585033\n",
      "300068   56.020898   100.0  31.826406\n",
      "300112   50.701191   100.0  31.597723\n",
      "300247   51.113029   100.0  20.956139\n",
      "300313   24.469719   100.0   9.629757\n",
      "300332   23.061860   100.0  10.025037\n",
      "600027    7.619221   100.0   5.818673\n",
      "600311   24.310000   100.0  13.260000\n",
      "600333   11.921252   200.0   6.760695\n",
      "600393   27.395691   100.0  12.289340\n",
      "600418   41.426199   100.0  17.675774\n",
      "600491  110.609558   100.0  55.444075\n",
      "600530   43.372735   100.0  19.917225\n",
      "600537   25.021670   100.0  10.585381\n",
      "600623   31.202562   100.0  11.481954\n",
      "600706   20.878000   100.0  11.979110\n",
      "600744    6.887753   100.0   3.380492\n",
      "600778   12.925857   200.0   7.133507\n",
      "600917   14.340555   100.0   7.000805\n",
      "600999   36.177603   200.0  28.924737\n",
      "601028   21.805368   100.0  14.903121\n",
      "601106    4.159010   300.0   2.801788\n",
      "601179    6.436204   200.0   4.923835\n",
      "601288    5.388182   100.0   5.363693\n",
      "601857   15.039531   300.0   6.913111\n",
      "603011   26.312142   100.0  15.419909\n",
      "603703   43.215922   100.0  40.377506\n",
      "当前总资产:228486.12\n",
      "资金变化率:142.89%\n",
      "资产变化率:456.97%\n",
      "总手续费:92899.82\n",
      "总印花税:52328.02\n",
      "   available_cash  total_assets_cur  total_assets_buy  buy_cur_diff  \\\n",
      "0        71444.63         145160.98         228486.12     -83325.14   \n",
      "\n",
      "   trade_times  init_cash  t1   t2  \n",
      "0        16716      50000  22  110  \n"
     ]
    },
    {
     "data": {
      "application/vnd.jupyter.widget-view+json": {
       "model_id": "d4647a01ee7f4b9f9f23c09f7040eac7",
       "version_major": 2,
       "version_minor": 0
      },
      "text/plain": [
       "HBox(children=(IntProgress(value=0, description='分析买卖点...', max=3794, style=ProgressStyle(description_width='i…"
      ]
     },
     "metadata": {},
     "output_type": "display_data"
    },
    {
     "name": "stderr",
     "output_type": "stream",
     "text": [
      "C:\\Users\\guqiang\\AppData\\Local\\conda\\conda\\envs\\stock_ai\\lib\\site-packages\\ipykernel_launcher.py:65: RuntimeWarning: invalid value encountered in sign\n"
     ]
    },
    {
     "name": "stdout",
     "output_type": "stream",
     "text": [
      "\n"
     ]
    },
    {
     "data": {
      "application/vnd.jupyter.widget-view+json": {
       "model_id": "3f34b775980845b2a123fa23453be23f",
       "version_major": 2,
       "version_minor": 0
      },
      "text/plain": [
       "HBox(children=(IntProgress(value=0, description='回测计算中...', max=8001644, style=ProgressStyle(description_width…"
      ]
     },
     "metadata": {},
     "output_type": "display_data"
    },
    {
     "name": "stdout",
     "output_type": "stream",
     "text": [
      "\n",
      "数据时间:2005-01-04 00:00:00~2020-03-09 00:00:00（可交易天数3688）\n",
      "初始资金:50000.00\n",
      "交易次数:11372 (买入/卖出各算1次)\n",
      "可用资金:1960.32\n",
      "当前持仓:         buy_price  amount  price_cur\n",
      "code                                 \n",
      "000404   10.916372   100.0   7.268769\n",
      "000783   57.397013   100.0  24.046062\n",
      "000967   55.300746   100.0  32.338784\n",
      "000972   12.645925   200.0  10.421767\n",
      "000995   25.584400   100.0  11.444040\n",
      "002500   25.366879   100.0   8.901102\n",
      "300002  362.264449   100.0  61.162067\n",
      "300209  114.077242   100.0  46.720548\n",
      "300386  169.520000   100.0  70.531843\n",
      "600156   15.855680   100.0   8.513302\n",
      "600380   87.088111   100.0  55.435506\n",
      "600491  108.656804   100.0  55.444075\n",
      "600569    7.496956   100.0   3.598373\n",
      "600739  114.995860   100.0  73.470860\n",
      "601106    8.932277   300.0   2.801788\n",
      "601669   15.722001   100.0   4.971532\n",
      "601901   14.622966   100.0   8.295131\n",
      "601919   10.201992   400.0   4.494821\n",
      "当前总资产:129736.53\n",
      "资金变化率:3.92%\n",
      "资产变化率:259.47%\n",
      "总手续费:63220.57\n",
      "总印花税:32293.13\n",
      "   available_cash  total_assets_cur  total_assets_buy  buy_cur_diff  \\\n",
      "0         1960.32          53897.34         129736.53     -75839.19   \n",
      "\n",
      "   trade_times  init_cash  t1  t2  \n",
      "0        11372      50000  23  69  \n"
     ]
    },
    {
     "data": {
      "application/vnd.jupyter.widget-view+json": {
       "model_id": "9ff6329405424ba98eac315531924846",
       "version_major": 2,
       "version_minor": 0
      },
      "text/plain": [
       "HBox(children=(IntProgress(value=0, description='分析买卖点...', max=3794, style=ProgressStyle(description_width='i…"
      ]
     },
     "metadata": {},
     "output_type": "display_data"
    },
    {
     "name": "stderr",
     "output_type": "stream",
     "text": [
      "C:\\Users\\guqiang\\AppData\\Local\\conda\\conda\\envs\\stock_ai\\lib\\site-packages\\ipykernel_launcher.py:65: RuntimeWarning: invalid value encountered in sign\n"
     ]
    },
    {
     "name": "stdout",
     "output_type": "stream",
     "text": [
      "\n"
     ]
    },
    {
     "data": {
      "application/vnd.jupyter.widget-view+json": {
       "model_id": "34f020c30360432c8099d7e0b33a57ae",
       "version_major": 2,
       "version_minor": 0
      },
      "text/plain": [
       "HBox(children=(IntProgress(value=0, description='回测计算中...', max=8001644, style=ProgressStyle(description_width…"
      ]
     },
     "metadata": {},
     "output_type": "display_data"
    },
    {
     "name": "stdout",
     "output_type": "stream",
     "text": [
      "\n",
      "数据时间:2005-01-04 00:00:00~2020-03-09 00:00:00（可交易天数3688）\n",
      "初始资金:50000.00\n",
      "交易次数:14864 (买入/卖出各算1次)\n",
      "可用资金:13219.51\n",
      "当前持仓:         buy_price  amount  price_cur\n",
      "code                                 \n",
      "000720    8.000000   100.0   6.489600\n",
      "002373  112.541586   100.0  96.389949\n",
      "002514   99.954414   100.0  33.651319\n",
      "300189   50.643977   100.0  21.783403\n",
      "300354  164.176814   100.0  40.470759\n",
      "300359  509.159706   100.0  54.981144\n",
      "600288   87.815387   100.0  35.853548\n",
      "600467   54.599559   100.0  21.089231\n",
      "600668   27.255253   100.0  22.296771\n",
      "600698   14.105000   200.0   3.419000\n",
      "600730   49.693599   200.0  15.469257\n",
      "600820   48.170046   100.0  20.372302\n",
      "600863   12.789043   200.0  11.712700\n",
      "600959   14.145713   200.0   5.097635\n",
      "601107    5.607806   100.0   4.547590\n",
      "601117   11.733737   200.0   7.750302\n",
      "601390   12.547264   100.0   6.485958\n",
      "601633   44.778620   200.0  31.454093\n",
      "601777   11.707829   100.0   3.277069\n",
      "601798   14.717895   100.0   6.220191\n",
      "601901   14.622966   200.0   8.295131\n",
      "601999   12.759233   100.0   8.251388\n",
      "603323   13.755074   200.0   7.088859\n",
      "当前总资产:170309.93\n",
      "资金变化率:26.44%\n",
      "资产变化率:340.62%\n",
      "总手续费:82208.04\n",
      "总印花税:44056.79\n",
      "   available_cash  total_assets_cur  total_assets_buy  buy_cur_diff  \\\n",
      "0        13219.51          69492.92         170309.93    -100817.01   \n",
      "\n",
      "   trade_times  init_cash  t1  t2  \n",
      "0        14864      50000  23  92  \n"
     ]
    },
    {
     "data": {
      "application/vnd.jupyter.widget-view+json": {
       "model_id": "53aefd7162dc48bfb8c65067f83204d3",
       "version_major": 2,
       "version_minor": 0
      },
      "text/plain": [
       "HBox(children=(IntProgress(value=0, description='分析买卖点...', max=3794, style=ProgressStyle(description_width='i…"
      ]
     },
     "metadata": {},
     "output_type": "display_data"
    },
    {
     "name": "stderr",
     "output_type": "stream",
     "text": [
      "C:\\Users\\guqiang\\AppData\\Local\\conda\\conda\\envs\\stock_ai\\lib\\site-packages\\ipykernel_launcher.py:65: RuntimeWarning: invalid value encountered in sign\n"
     ]
    },
    {
     "name": "stdout",
     "output_type": "stream",
     "text": [
      "\n"
     ]
    },
    {
     "data": {
      "application/vnd.jupyter.widget-view+json": {
       "model_id": "cb177f0e2d624c81a5e3a40502391728",
       "version_major": 2,
       "version_minor": 0
      },
      "text/plain": [
       "HBox(children=(IntProgress(value=0, description='回测计算中...', max=8001644, style=ProgressStyle(description_width…"
      ]
     },
     "metadata": {},
     "output_type": "display_data"
    },
    {
     "name": "stdout",
     "output_type": "stream",
     "text": [
      "\n",
      "数据时间:2005-01-04 00:00:00~2020-03-09 00:00:00（可交易天数3688）\n",
      "初始资金:50000.00\n",
      "交易次数:15207 (买入/卖出各算1次)\n",
      "可用资金:21222.58\n",
      "当前持仓:         buy_price  amount  price_cur\n",
      "code                                 \n",
      "000551   21.504747   100.0  18.590446\n",
      "000572   13.178352   100.0   5.115024\n",
      "000655   15.698576   100.0   9.113156\n",
      "000698   11.872140   100.0   8.284029\n",
      "000712  242.698238   100.0  81.015258\n",
      "000750   55.507233   100.0  24.979691\n",
      "000758   46.883813   100.0  20.434565\n",
      "000816   54.725730   100.0   5.900074\n",
      "000831   85.827247   200.0  26.047500\n",
      "002059   24.519142   100.0   9.650351\n",
      "002060   15.693123   100.0  11.348782\n",
      "002260  106.251557   100.0   7.275922\n",
      "002473   61.642444   100.0  16.142966\n",
      "300288  458.265570   100.0  78.674044\n",
      "300490   46.270078   100.0  21.395354\n",
      "600058   47.823186   100.0  12.322325\n",
      "600099   15.878868   100.0   8.637330\n",
      "600220    6.613750   100.0   5.291479\n",
      "600361   29.599313   500.0   9.668639\n",
      "600601   11.519336   100.0   6.166599\n",
      "600730   50.327446   100.0  15.469257\n",
      "601015   14.778431   100.0   5.744976\n",
      "601107    6.495028   200.0   4.547590\n",
      "601857   11.651194   400.0   6.913111\n",
      "601991   11.200815   200.0   5.728319\n",
      "当前总资产:193552.51\n",
      "资金变化率:42.45%\n",
      "资产变化率:387.11%\n",
      "总手续费:82462.25\n",
      "总印花税:45140.58\n",
      "   available_cash  total_assets_cur  total_assets_buy  buy_cur_diff  \\\n",
      "0        21222.58          73241.99         193552.51    -120310.52   \n",
      "\n",
      "   trade_times  init_cash  t1   t2  \n",
      "0        15207      50000  23  115  \n"
     ]
    },
    {
     "data": {
      "application/vnd.jupyter.widget-view+json": {
       "model_id": "98eea2e2f2c6497faac0bebd0541460b",
       "version_major": 2,
       "version_minor": 0
      },
      "text/plain": [
       "HBox(children=(IntProgress(value=0, description='分析买卖点...', max=3794, style=ProgressStyle(description_width='i…"
      ]
     },
     "metadata": {},
     "output_type": "display_data"
    },
    {
     "name": "stderr",
     "output_type": "stream",
     "text": [
      "C:\\Users\\guqiang\\AppData\\Local\\conda\\conda\\envs\\stock_ai\\lib\\site-packages\\ipykernel_launcher.py:65: RuntimeWarning: invalid value encountered in sign\n"
     ]
    },
    {
     "name": "stdout",
     "output_type": "stream",
     "text": [
      "\n"
     ]
    },
    {
     "data": {
      "application/vnd.jupyter.widget-view+json": {
       "model_id": "2cd16520cdd648279b05b8b79af7c308",
       "version_major": 2,
       "version_minor": 0
      },
      "text/plain": [
       "HBox(children=(IntProgress(value=0, description='回测计算中...', max=8001644, style=ProgressStyle(description_width…"
      ]
     },
     "metadata": {},
     "output_type": "display_data"
    },
    {
     "name": "stdout",
     "output_type": "stream",
     "text": [
      "\n",
      "数据时间:2005-01-04 00:00:00~2020-03-09 00:00:00（可交易天数3688）\n",
      "初始资金:50000.00\n",
      "交易次数:14924 (买入/卖出各算1次)\n",
      "可用资金:10439.31\n",
      "当前持仓:         buy_price  amount  price_cur\n",
      "code                                 \n",
      "000407   26.505678   100.0   8.904454\n",
      "000410   60.911451   100.0  12.006171\n",
      "000561   10.340000   100.0   8.063000\n",
      "000570   14.664241   100.0   9.593328\n",
      "000625   83.408726   100.0  47.555550\n",
      "002060   15.805484   100.0  11.348782\n",
      "002090  119.922378   100.0  57.133589\n",
      "300002  362.264449   100.0  61.162067\n",
      "300386  169.520000   100.0  70.531843\n",
      "300490   46.270078   100.0  21.395354\n",
      "600220    6.776550   100.0   5.291479\n",
      "600361   28.061130   600.0   9.668639\n",
      "600744    7.932419   600.0   3.380492\n",
      "601028   24.420579   200.0  14.903121\n",
      "601106   10.447972   400.0   2.801788\n",
      "601118    7.522533   100.0   4.601585\n",
      "601127   23.970000   100.0  10.788919\n",
      "601669   10.865857   400.0   4.971532\n",
      "601727   11.011604   100.0   5.492178\n",
      "当前总资产:141334.40\n",
      "资金变化率:20.88%\n",
      "资产变化率:282.67%\n",
      "总手续费:82360.56\n",
      "总印花税:43266.01\n",
      "   available_cash  total_assets_cur  total_assets_buy  buy_cur_diff  \\\n",
      "0        10439.31          57745.57          141334.4     -83588.83   \n",
      "\n",
      "   trade_times  init_cash  t1  t2  \n",
      "0        14924      50000  24  72  \n"
     ]
    },
    {
     "data": {
      "application/vnd.jupyter.widget-view+json": {
       "model_id": "6fd219155d0d4f9497dd1974df054ee6",
       "version_major": 2,
       "version_minor": 0
      },
      "text/plain": [
       "HBox(children=(IntProgress(value=0, description='分析买卖点...', max=3794, style=ProgressStyle(description_width='i…"
      ]
     },
     "metadata": {},
     "output_type": "display_data"
    },
    {
     "name": "stderr",
     "output_type": "stream",
     "text": [
      "C:\\Users\\guqiang\\AppData\\Local\\conda\\conda\\envs\\stock_ai\\lib\\site-packages\\ipykernel_launcher.py:65: RuntimeWarning: invalid value encountered in sign\n"
     ]
    },
    {
     "name": "stdout",
     "output_type": "stream",
     "text": [
      "\n"
     ]
    },
    {
     "data": {
      "application/vnd.jupyter.widget-view+json": {
       "model_id": "d542668c346d4d71b7cf2821fb57bc99",
       "version_major": 2,
       "version_minor": 0
      },
      "text/plain": [
       "HBox(children=(IntProgress(value=0, description='回测计算中...', max=8001644, style=ProgressStyle(description_width…"
      ]
     },
     "metadata": {},
     "output_type": "display_data"
    },
    {
     "name": "stdout",
     "output_type": "stream",
     "text": [
      "\n",
      "数据时间:2005-01-04 00:00:00~2020-03-09 00:00:00（可交易天数3688）\n",
      "初始资金:50000.00\n",
      "交易次数:14491 (买入/卖出各算1次)\n",
      "可用资金:14092.43\n",
      "当前持仓:         buy_price  amount  price_cur\n",
      "code                                 \n",
      "000090   47.083306   100.0  33.161971\n",
      "000613   23.733000   100.0   8.995100\n",
      "000627   25.273883   100.0  16.162090\n",
      "000683   12.654452   600.0   7.768153\n",
      "000691   10.935000   100.0   6.015000\n",
      "000755   13.131943   100.0   6.222913\n",
      "000780   13.778980   200.0   6.329512\n",
      "000828   23.373929   100.0  15.377870\n",
      "000833   20.698253   100.0   7.825051\n",
      "000888   60.481787   100.0  32.806001\n",
      "002473   61.642444   100.0  16.142966\n",
      "002654   94.766537   100.0  29.735327\n",
      "300032   61.351581   100.0  17.093820\n",
      "300378   59.889354   100.0  39.403306\n",
      "600027    7.619221   100.0   5.818673\n",
      "600035   15.388166   100.0   9.222024\n",
      "600052    7.406792   100.0   5.547351\n",
      "600191   25.595033   100.0  11.099931\n",
      "600248   24.179674   100.0  13.770416\n",
      "600288   87.815387   100.0  35.853548\n",
      "600320   37.974930   300.0  22.038302\n",
      "600369   52.341419   100.0  24.010551\n",
      "600380   84.450253   100.0  55.435506\n",
      "600489  122.982054   100.0  94.961730\n",
      "600698   14.105000   200.0   3.419000\n",
      "600713   28.275579   100.0  20.826497\n",
      "600744    6.887753   400.0   3.380492\n",
      "600758    9.918635   200.0   5.106963\n",
      "600767   30.212500   100.0   5.287500\n",
      "600820   48.170046   100.0  20.372302\n",
      "600965   26.269751   200.0  14.470165\n",
      "601107    5.767558   400.0   4.547590\n",
      "601117    9.301271   500.0   7.750302\n",
      "601118    7.543171   300.0   4.601585\n",
      "601616   10.475946   200.0   6.385589\n",
      "601633   44.745175   200.0  31.454093\n",
      "601918    6.848706   100.0   4.459477\n",
      "601991   11.200815   100.0   5.728319\n",
      "603308   21.931744   200.0  17.696152\n",
      "603901   62.609399   100.0  45.145337\n",
      "603968   51.933226   100.0  30.044941\n",
      "当前总资产:190237.27\n",
      "资金变化率:28.18%\n",
      "资产变化率:380.47%\n",
      "总手续费:78258.86\n",
      "总印花税:39194.85\n",
      "   available_cash  total_assets_cur  total_assets_buy  buy_cur_diff  \\\n",
      "0        14092.43         112416.52         190237.27     -77820.75   \n",
      "\n",
      "   trade_times  init_cash  t1  t2  \n",
      "0        14491      50000  24  96  \n"
     ]
    },
    {
     "data": {
      "application/vnd.jupyter.widget-view+json": {
       "model_id": "c0b3d4b8597e4a0aae18e422ef16dcda",
       "version_major": 2,
       "version_minor": 0
      },
      "text/plain": [
       "HBox(children=(IntProgress(value=0, description='分析买卖点...', max=3794, style=ProgressStyle(description_width='i…"
      ]
     },
     "metadata": {},
     "output_type": "display_data"
    },
    {
     "name": "stderr",
     "output_type": "stream",
     "text": [
      "C:\\Users\\guqiang\\AppData\\Local\\conda\\conda\\envs\\stock_ai\\lib\\site-packages\\ipykernel_launcher.py:65: RuntimeWarning: invalid value encountered in sign\n"
     ]
    },
    {
     "name": "stdout",
     "output_type": "stream",
     "text": [
      "\n"
     ]
    },
    {
     "data": {
      "application/vnd.jupyter.widget-view+json": {
       "model_id": "4170d586168f40939c628ad00faed786",
       "version_major": 2,
       "version_minor": 0
      },
      "text/plain": [
       "HBox(children=(IntProgress(value=0, description='回测计算中...', max=8001644, style=ProgressStyle(description_width…"
      ]
     },
     "metadata": {},
     "output_type": "display_data"
    },
    {
     "name": "stdout",
     "output_type": "stream",
     "text": [
      "\n",
      "数据时间:2005-01-04 00:00:00~2020-03-09 00:00:00（可交易天数3688）\n",
      "初始资金:50000.00\n",
      "交易次数:10415 (买入/卖出各算1次)\n",
      "可用资金:8191.73\n",
      "当前持仓:         buy_price  amount  price_cur\n",
      "code                                 \n",
      "000088   29.121410   100.0  14.434683\n",
      "000712  242.698238   100.0  81.015258\n",
      "000750   55.507233   100.0  24.979691\n",
      "000831   85.827247   200.0  26.047500\n",
      "000837   30.792388   100.0   8.653409\n",
      "000905   49.932412   100.0  16.044852\n",
      "002420    7.047697   100.0   4.033075\n",
      "300288  458.265570   100.0  78.674044\n",
      "300337   48.767711   100.0  16.972838\n",
      "600597   28.878256   100.0  16.400247\n",
      "600601   10.559916   300.0   6.166599\n",
      "600744    6.789155   100.0   3.380492\n",
      "601186   25.194722   100.0  12.352457\n",
      "601800   21.694075   200.0  11.428368\n",
      "601857   12.560830   200.0   6.913111\n",
      "603028   13.812333   200.0  10.864383\n",
      "当前总资产:136438.08\n",
      "资金变化率:16.38%\n",
      "资产变化率:272.88%\n",
      "总手续费:54580.69\n",
      "总印花税:27182.79\n",
      "   available_cash  total_assets_cur  total_assets_buy  buy_cur_diff  \\\n",
      "0         8191.73          48786.48         136438.08      -87651.6   \n",
      "\n",
      "   trade_times  init_cash  t1   t2  \n",
      "0        10415      50000  24  120  \n"
     ]
    },
    {
     "data": {
      "application/vnd.jupyter.widget-view+json": {
       "model_id": "49e534813cc54a26b3f2dee03a619878",
       "version_major": 2,
       "version_minor": 0
      },
      "text/plain": [
       "HBox(children=(IntProgress(value=0, description='分析买卖点...', max=3794, style=ProgressStyle(description_width='i…"
      ]
     },
     "metadata": {},
     "output_type": "display_data"
    },
    {
     "name": "stderr",
     "output_type": "stream",
     "text": [
      "C:\\Users\\guqiang\\AppData\\Local\\conda\\conda\\envs\\stock_ai\\lib\\site-packages\\ipykernel_launcher.py:65: RuntimeWarning: invalid value encountered in sign\n"
     ]
    },
    {
     "name": "stdout",
     "output_type": "stream",
     "text": [
      "\n"
     ]
    },
    {
     "data": {
      "application/vnd.jupyter.widget-view+json": {
       "model_id": "2e8ed23f11f34603a51b9c3d7d1a479b",
       "version_major": 2,
       "version_minor": 0
      },
      "text/plain": [
       "HBox(children=(IntProgress(value=0, description='回测计算中...', max=8001644, style=ProgressStyle(description_width…"
      ]
     },
     "metadata": {},
     "output_type": "display_data"
    },
    {
     "name": "stdout",
     "output_type": "stream",
     "text": [
      "\n",
      "数据时间:2005-01-04 00:00:00~2020-03-09 00:00:00（可交易天数3688）\n",
      "初始资金:50000.00\n",
      "交易次数:15465 (买入/卖出各算1次)\n",
      "可用资金:17978.87\n",
      "当前持仓:         buy_price  amount  price_cur\n",
      "code                                 \n",
      "000040   21.858670   100.0   5.003961\n",
      "000410   60.911451   100.0  12.006171\n",
      "000534   28.289220   100.0  16.062563\n",
      "000564   13.256659   100.0   3.705131\n",
      "000625   83.408726   100.0  47.555550\n",
      "000761   10.774985   100.0   6.362120\n",
      "002106   43.900465   200.0  34.601819\n",
      "002213   54.346406   100.0  30.187549\n",
      "002215  172.259574   100.0  51.469465\n",
      "002316   63.596793   100.0  26.361404\n",
      "002367  100.112784   100.0  63.717922\n",
      "002373  112.541586   100.0  96.389949\n",
      "300279  100.528349   100.0  36.451999\n",
      "300284   50.829007   200.0  34.196096\n",
      "600058   47.823186   100.0  12.322325\n",
      "600071   22.578003   100.0  13.960123\n",
      "600172   50.641272   100.0  18.456735\n",
      "600217   11.674800   100.0   8.073000\n",
      "600654   49.228472   100.0   3.236820\n",
      "600744    8.144170   500.0   3.380492\n",
      "600996   11.312417   100.0   8.739031\n",
      "601107    5.607806   100.0   4.547590\n",
      "601117   10.720360   300.0   7.750302\n",
      "601390   15.640209   300.0   6.485958\n",
      "601901   14.622966   200.0   8.295131\n",
      "603017   97.051800   100.0  45.278396\n",
      "603299   13.596354   200.0   6.316719\n",
      "603518   31.128178   100.0  13.761681\n",
      "当前总资产:169442.00\n",
      "资金变化率:35.96%\n",
      "资产变化率:338.88%\n",
      "总手续费:88819.26\n",
      "总印花税:49743.15\n",
      "   available_cash  total_assets_cur  total_assets_buy  buy_cur_diff  \\\n",
      "0        17978.87          92986.89          169442.0     -76455.11   \n",
      "\n",
      "   trade_times  init_cash  t1  t2  \n",
      "0        15465      50000  25  75  \n"
     ]
    },
    {
     "data": {
      "application/vnd.jupyter.widget-view+json": {
       "model_id": "85782d941afd4a68b2e8bf51f9042ec7",
       "version_major": 2,
       "version_minor": 0
      },
      "text/plain": [
       "HBox(children=(IntProgress(value=0, description='分析买卖点...', max=3794, style=ProgressStyle(description_width='i…"
      ]
     },
     "metadata": {},
     "output_type": "display_data"
    },
    {
     "name": "stderr",
     "output_type": "stream",
     "text": [
      "C:\\Users\\guqiang\\AppData\\Local\\conda\\conda\\envs\\stock_ai\\lib\\site-packages\\ipykernel_launcher.py:65: RuntimeWarning: invalid value encountered in sign\n"
     ]
    },
    {
     "name": "stdout",
     "output_type": "stream",
     "text": [
      "\n"
     ]
    },
    {
     "data": {
      "application/vnd.jupyter.widget-view+json": {
       "model_id": "2dbd5b7b86a040c79235903fad3200fc",
       "version_major": 2,
       "version_minor": 0
      },
      "text/plain": [
       "HBox(children=(IntProgress(value=0, description='回测计算中...', max=8001644, style=ProgressStyle(description_width…"
      ]
     },
     "metadata": {},
     "output_type": "display_data"
    },
    {
     "name": "stdout",
     "output_type": "stream",
     "text": [
      "\n",
      "数据时间:2005-01-04 00:00:00~2020-03-09 00:00:00（可交易天数3688）\n",
      "初始资金:50000.00\n",
      "交易次数:19582 (买入/卖出各算1次)\n",
      "可用资金:54625.60\n",
      "当前持仓:        buy_price  amount  price_cur\n",
      "code                                \n",
      "000040  20.638468   100.0   5.003961\n",
      "000045  17.020684   400.0  12.208138\n",
      "000426  51.309710   100.0  24.989485\n",
      "000429  15.925138   100.0  15.144035\n",
      "000655  14.068851   100.0   9.113156\n",
      "000676  21.352279   200.0  16.190050\n",
      "000681  44.837000   200.0  22.108295\n",
      "000701  17.491704   400.0  10.284162\n",
      "000767   6.501250  1000.0   4.363906\n",
      "000783  55.585790   100.0  24.046062\n",
      "000809  17.134042   300.0   6.350017\n",
      "000828  23.373929   100.0  15.377870\n",
      "000833  14.529981   200.0   7.825051\n",
      "000935  24.432425   100.0  19.714621\n",
      "002470  44.421013   200.0  12.081895\n",
      "002473  61.642444   100.0  16.142966\n",
      "002486  43.646074   100.0  19.603035\n",
      "002505  51.874072   200.0  32.250156\n",
      "300029  14.461677   100.0   6.089666\n",
      "300185  24.514612   100.0  15.284590\n",
      "300189  48.235459   100.0  21.783403\n",
      "300201  88.798410   100.0  41.773609\n",
      "300235  93.046340   200.0  72.259208\n",
      "300254  22.232953   200.0  12.729829\n",
      "300378  59.889354   100.0  39.403306\n",
      "600012  26.118094   100.0  12.768886\n",
      "600098  28.280088   100.0  16.187278\n",
      "600135  22.086836   100.0  11.174984\n",
      "600190   7.773162   300.0   5.392457\n",
      "600237  12.558526   100.0  10.235918\n",
      "600259  47.643450   100.0  31.667400\n",
      "600288  92.068303   100.0  35.853548\n",
      "600301  12.495673   100.0   9.725932\n",
      "600398  44.027768   100.0  24.102383\n",
      "600537  21.484728   100.0  10.585381\n",
      "600595  28.053989   100.0   8.880727\n",
      "600698  14.105000   200.0   3.419000\n",
      "600744   6.887753   400.0   3.380492\n",
      "600778  15.992395   100.0   7.133507\n",
      "600823  28.720263   200.0  22.127547\n",
      "600863  12.789043   200.0  11.712700\n",
      "600917  14.340555   200.0   7.000805\n",
      "600919   7.214756   200.0   7.053025\n",
      "600965  23.515109   100.0  14.470165\n",
      "600999  46.702737   100.0  28.924737\n",
      "601028  30.035209   100.0  14.903121\n",
      "601107   5.607806   100.0   4.547590\n",
      "601118   7.295515   400.0   4.601585\n",
      "601128   9.279159   300.0   8.390381\n",
      "601588   6.919908   400.0   3.419815\n",
      "601857  12.859732   200.0   6.913111\n",
      "601918   6.848706   400.0   4.459477\n",
      "603101  20.980000   100.0  10.372696\n",
      "当前总资产:275250.37\n",
      "资金变化率:109.25%\n",
      "资产变化率:550.50%\n",
      "总手续费:110863.34\n",
      "总印花税:65623.52\n",
      "   available_cash  total_assets_cur  total_assets_buy  buy_cur_diff  \\\n",
      "0         54625.6         179605.37         275250.37      -95645.0   \n",
      "\n",
      "   trade_times  init_cash  t1   t2  \n",
      "0        19582      50000  25  100  \n"
     ]
    },
    {
     "data": {
      "application/vnd.jupyter.widget-view+json": {
       "model_id": "69c158a7255143fa9e8b15e14e60408e",
       "version_major": 2,
       "version_minor": 0
      },
      "text/plain": [
       "HBox(children=(IntProgress(value=0, description='分析买卖点...', max=3794, style=ProgressStyle(description_width='i…"
      ]
     },
     "metadata": {},
     "output_type": "display_data"
    },
    {
     "name": "stderr",
     "output_type": "stream",
     "text": [
      "C:\\Users\\guqiang\\AppData\\Local\\conda\\conda\\envs\\stock_ai\\lib\\site-packages\\ipykernel_launcher.py:65: RuntimeWarning: invalid value encountered in sign\n"
     ]
    },
    {
     "name": "stdout",
     "output_type": "stream",
     "text": [
      "\n"
     ]
    },
    {
     "data": {
      "application/vnd.jupyter.widget-view+json": {
       "model_id": "f215fb16ad574c51b0443d4e48d7e9bb",
       "version_major": 2,
       "version_minor": 0
      },
      "text/plain": [
       "HBox(children=(IntProgress(value=0, description='回测计算中...', max=8001644, style=ProgressStyle(description_width…"
      ]
     },
     "metadata": {},
     "output_type": "display_data"
    },
    {
     "name": "stdout",
     "output_type": "stream",
     "text": [
      "\n",
      "数据时间:2005-01-04 00:00:00~2020-03-09 00:00:00（可交易天数3688）\n",
      "初始资金:50000.00\n",
      "交易次数:9876 (买入/卖出各算1次)\n",
      "可用资金:8404.65\n",
      "当前持仓:         buy_price  amount  price_cur\n",
      "code                                 \n",
      "000750   55.507233   100.0  24.979691\n",
      "000821   26.747344   100.0  10.073361\n",
      "000831   85.827247   200.0  26.047500\n",
      "000905   49.932412   100.0  16.044852\n",
      "002218   45.671474   200.0  20.377708\n",
      "002811   21.330783   100.0  14.683284\n",
      "300288  458.265570   100.0  78.674044\n",
      "600172   49.936523   100.0  18.456735\n",
      "600333   11.921252   200.0   6.760695\n",
      "600369   55.800368   100.0  24.010551\n",
      "600628   41.550491   100.0  23.641027\n",
      "600843   20.640000   100.0  13.824000\n",
      "601038   12.026684   200.0   6.840416\n",
      "601106    3.968360   400.0   2.801788\n",
      "601519   83.294239   100.0  24.168126\n",
      "当前总资产:127381.83\n",
      "资金变化率:16.81%\n",
      "资产变化率:254.76%\n",
      "总手续费:51819.80\n",
      "总印花税:26166.73\n",
      "   available_cash  total_assets_cur  total_assets_buy  buy_cur_diff  \\\n",
      "0         8404.65           46386.2         127381.83     -80995.63   \n",
      "\n",
      "   trade_times  init_cash  t1   t2  \n",
      "0         9876      50000  25  125  \n"
     ]
    },
    {
     "data": {
      "application/vnd.jupyter.widget-view+json": {
       "model_id": "d50c452026084e40bc022cc7de3922b3",
       "version_major": 2,
       "version_minor": 0
      },
      "text/plain": [
       "HBox(children=(IntProgress(value=0, description='分析买卖点...', max=3794, style=ProgressStyle(description_width='i…"
      ]
     },
     "metadata": {},
     "output_type": "display_data"
    },
    {
     "name": "stderr",
     "output_type": "stream",
     "text": [
      "C:\\Users\\guqiang\\AppData\\Local\\conda\\conda\\envs\\stock_ai\\lib\\site-packages\\ipykernel_launcher.py:65: RuntimeWarning: invalid value encountered in sign\n"
     ]
    },
    {
     "name": "stdout",
     "output_type": "stream",
     "text": [
      "\n"
     ]
    },
    {
     "data": {
      "application/vnd.jupyter.widget-view+json": {
       "model_id": "b41bebdd6abc4ed8b8264ae7b2b50613",
       "version_major": 2,
       "version_minor": 0
      },
      "text/plain": [
       "HBox(children=(IntProgress(value=0, description='回测计算中...', max=8001644, style=ProgressStyle(description_width…"
      ]
     },
     "metadata": {},
     "output_type": "display_data"
    },
    {
     "name": "stdout",
     "output_type": "stream",
     "text": [
      "\n",
      "数据时间:2005-01-04 00:00:00~2020-03-09 00:00:00（可交易天数3688）\n",
      "初始资金:50000.00\n",
      "交易次数:16222 (买入/卖出各算1次)\n",
      "可用资金:4830.54\n",
      "当前持仓:         buy_price  amount  price_cur\n",
      "code                                 \n",
      "000519   28.628602   100.0  19.190644\n",
      "000581   93.273020   300.0  63.861818\n",
      "000625   83.408726   100.0  47.555550\n",
      "000831   89.944511   100.0  26.047500\n",
      "000892    7.540000   100.0   4.870000\n",
      "002149   48.715401   100.0  24.368236\n",
      "002373  112.541586   100.0  96.389949\n",
      "300359  509.159706   100.0  54.981144\n",
      "600068   52.709990   200.0  30.297993\n",
      "600242   23.840488   100.0   9.389828\n",
      "600714   29.055000   100.0   6.877000\n",
      "600839   15.868118   100.0   8.449247\n",
      "600843   20.640000   100.0  13.824000\n",
      "600853    9.638439   300.0   8.901740\n",
      "601001   15.114386   100.0   8.179802\n",
      "601117   10.312670   300.0   7.750302\n",
      "601390   21.431254   100.0   6.485958\n",
      "601901   11.438489   400.0   8.295131\n",
      "603017   97.051800   100.0  45.278396\n",
      "当前总资产:164209.13\n",
      "资金变化率:9.66%\n",
      "资产变化率:328.42%\n",
      "总手续费:88144.46\n",
      "总印花税:45327.56\n",
      "   available_cash  total_assets_cur  total_assets_buy  buy_cur_diff  \\\n",
      "0         4830.54          75551.07         164209.13     -88658.06   \n",
      "\n",
      "   trade_times  init_cash  t1  t2  \n",
      "0        16222      50000  26  78  \n"
     ]
    },
    {
     "data": {
      "application/vnd.jupyter.widget-view+json": {
       "model_id": "2db1603a93ea492d932b37e7856f000c",
       "version_major": 2,
       "version_minor": 0
      },
      "text/plain": [
       "HBox(children=(IntProgress(value=0, description='分析买卖点...', max=3794, style=ProgressStyle(description_width='i…"
      ]
     },
     "metadata": {},
     "output_type": "display_data"
    },
    {
     "name": "stderr",
     "output_type": "stream",
     "text": [
      "C:\\Users\\guqiang\\AppData\\Local\\conda\\conda\\envs\\stock_ai\\lib\\site-packages\\ipykernel_launcher.py:65: RuntimeWarning: invalid value encountered in sign\n"
     ]
    },
    {
     "name": "stdout",
     "output_type": "stream",
     "text": [
      "\n"
     ]
    },
    {
     "data": {
      "application/vnd.jupyter.widget-view+json": {
       "model_id": "9d93c618aa8043e5804f37e76de9c3d8",
       "version_major": 2,
       "version_minor": 0
      },
      "text/plain": [
       "HBox(children=(IntProgress(value=0, description='回测计算中...', max=8001644, style=ProgressStyle(description_width…"
      ]
     },
     "metadata": {},
     "output_type": "display_data"
    },
    {
     "name": "stdout",
     "output_type": "stream",
     "text": [
      "\n",
      "数据时间:2005-01-04 00:00:00~2020-03-09 00:00:00（可交易天数3688）\n",
      "初始资金:50000.00\n",
      "交易次数:14804 (买入/卖出各算1次)\n",
      "可用资金:14226.15\n",
      "当前持仓:         buy_price  amount  price_cur\n",
      "code                                 \n",
      "000400   48.687204   100.0  42.148089\n",
      "000592   21.699600   100.0   8.720400\n",
      "000681   55.549000   100.0  22.108295\n",
      "000686  120.155002   200.0  54.608642\n",
      "000720    7.961600   100.0   6.489600\n",
      "000731   23.890912   100.0  18.086508\n",
      "000758   46.883813   100.0  20.434565\n",
      "000767    7.234386   100.0   4.363906\n",
      "000783   55.585790   100.0  24.046062\n",
      "000816   54.725730   100.0   5.900074\n",
      "002060   15.693123   100.0  11.348782\n",
      "002244   43.845256   100.0  25.580714\n",
      "002260  106.251557   100.0   7.275922\n",
      "300049   82.894087   100.0  30.557590\n",
      "300490   46.270078   100.0  21.395354\n",
      "600135   22.086836   100.0  11.174984\n",
      "600180   39.689078   200.0   9.561255\n",
      "600361   31.965652   300.0   9.668639\n",
      "600491   88.574642   200.0  55.444075\n",
      "600582  164.919385   100.0  60.581702\n",
      "600675   31.332837   100.0  21.445268\n",
      "600822   28.220705   100.0  19.023598\n",
      "600823   31.049549   100.0  22.127547\n",
      "601002   11.061812   100.0   7.024964\n",
      "601016    7.197992   100.0   4.942211\n",
      "601028   30.035209   100.0  14.903121\n",
      "601186   15.903357   100.0  12.352457\n",
      "601558   25.281834   100.0   6.367277\n",
      "601857   12.624228   200.0   6.913111\n",
      "603101   20.980000   100.0  10.372696\n",
      "603518   28.990447   100.0  13.761681\n",
      "当前总资产:179447.64\n",
      "资金变化率:28.45%\n",
      "资产变化率:358.90%\n",
      "总手续费:82110.57\n",
      "总印花税:44388.18\n",
      "   available_cash  total_assets_cur  total_assets_buy  buy_cur_diff  \\\n",
      "0        14226.15          87685.49         179447.64     -91762.15   \n",
      "\n",
      "   trade_times  init_cash  t1   t2  \n",
      "0        14804      50000  26  104  \n"
     ]
    },
    {
     "data": {
      "application/vnd.jupyter.widget-view+json": {
       "model_id": "1d42901a3fd94ca18b7c23be5ba4e761",
       "version_major": 2,
       "version_minor": 0
      },
      "text/plain": [
       "HBox(children=(IntProgress(value=0, description='分析买卖点...', max=3794, style=ProgressStyle(description_width='i…"
      ]
     },
     "metadata": {},
     "output_type": "display_data"
    },
    {
     "name": "stderr",
     "output_type": "stream",
     "text": [
      "C:\\Users\\guqiang\\AppData\\Local\\conda\\conda\\envs\\stock_ai\\lib\\site-packages\\ipykernel_launcher.py:65: RuntimeWarning: invalid value encountered in sign\n"
     ]
    },
    {
     "name": "stdout",
     "output_type": "stream",
     "text": [
      "\n"
     ]
    },
    {
     "data": {
      "application/vnd.jupyter.widget-view+json": {
       "model_id": "cfde3329015a4326a9aef85161cb4eb6",
       "version_major": 2,
       "version_minor": 0
      },
      "text/plain": [
       "HBox(children=(IntProgress(value=0, description='回测计算中...', max=8001644, style=ProgressStyle(description_width…"
      ]
     },
     "metadata": {},
     "output_type": "display_data"
    },
    {
     "name": "stdout",
     "output_type": "stream",
     "text": [
      "\n",
      "数据时间:2005-01-04 00:00:00~2020-03-09 00:00:00（可交易天数3688）\n",
      "初始资金:50000.00\n",
      "交易次数:9946 (买入/卖出各算1次)\n",
      "可用资金:6082.03\n",
      "当前持仓:         buy_price  amount   price_cur\n",
      "code                                  \n",
      "000533   15.281719   100.0    4.190249\n",
      "000951   84.236800   100.0   62.847291\n",
      "001872   62.946304   100.0   36.454180\n",
      "002144   24.361775   100.0   11.103688\n",
      "300248  329.329743   100.0  115.719306\n",
      "300254   26.427434   100.0   12.729829\n",
      "600033   22.040041   100.0   13.643438\n",
      "600333   11.921252   200.0    6.760695\n",
      "600369   42.916047   200.0   24.010551\n",
      "600491  101.473459   100.0   55.444075\n",
      "600601   12.717776   200.0    6.166599\n",
      "600778   18.435468   200.0    7.133507\n",
      "600869   50.407663   100.0   25.086915\n",
      "601333    6.445845   100.0    3.477386\n",
      "601579   14.504161   200.0    8.342961\n",
      "601628   42.730020   100.0   35.083653\n",
      "601800   15.628202   100.0   11.428368\n",
      "601918    6.803350   400.0    4.459477\n",
      "601919    7.237600   100.0    4.494821\n",
      "601958   16.692857   400.0    8.793641\n",
      "当前总资产:114434.12\n",
      "资金变化率:12.16%\n",
      "资产变化率:228.87%\n",
      "总手续费:52409.13\n",
      "总印花税:27071.60\n",
      "   available_cash  total_assets_cur  total_assets_buy  buy_cur_diff  \\\n",
      "0         6082.03          61036.46         114434.12     -53397.66   \n",
      "\n",
      "   trade_times  init_cash  t1   t2  \n",
      "0         9946      50000  26  130  \n"
     ]
    },
    {
     "data": {
      "application/vnd.jupyter.widget-view+json": {
       "model_id": "e8e451a896fa4796936b595b65d8959e",
       "version_major": 2,
       "version_minor": 0
      },
      "text/plain": [
       "HBox(children=(IntProgress(value=0, description='分析买卖点...', max=3794, style=ProgressStyle(description_width='i…"
      ]
     },
     "metadata": {},
     "output_type": "display_data"
    },
    {
     "name": "stderr",
     "output_type": "stream",
     "text": [
      "C:\\Users\\guqiang\\AppData\\Local\\conda\\conda\\envs\\stock_ai\\lib\\site-packages\\ipykernel_launcher.py:65: RuntimeWarning: invalid value encountered in sign\n"
     ]
    },
    {
     "name": "stdout",
     "output_type": "stream",
     "text": [
      "\n"
     ]
    },
    {
     "data": {
      "application/vnd.jupyter.widget-view+json": {
       "model_id": "4107f12b6d9f4b18a6b1c0b19296c6b0",
       "version_major": 2,
       "version_minor": 0
      },
      "text/plain": [
       "HBox(children=(IntProgress(value=0, description='回测计算中...', max=8001644, style=ProgressStyle(description_width…"
      ]
     },
     "metadata": {},
     "output_type": "display_data"
    },
    {
     "name": "stdout",
     "output_type": "stream",
     "text": [
      "\n",
      "数据时间:2005-01-04 00:00:00~2020-03-09 00:00:00（可交易天数3688）\n",
      "初始资金:50000.00\n",
      "交易次数:21689 (买入/卖出各算1次)\n",
      "可用资金:27774.75\n",
      "当前持仓:         buy_price  amount  price_cur\n",
      "code                                 \n",
      "000088   21.168456   100.0  14.434683\n",
      "000404   10.916372   100.0   7.268769\n",
      "000517   20.563646   100.0  11.400381\n",
      "000564   13.256659   100.0   3.705131\n",
      "000581   93.273020   300.0  63.861818\n",
      "000720    8.000000   100.0   6.489600\n",
      "000755   13.131943   100.0   6.222913\n",
      "000831   89.944511   100.0  26.047500\n",
      "000982   22.512451   100.0  11.874699\n",
      "002037  107.087351   100.0  26.401920\n",
      "002077   14.991776   200.0   8.745203\n",
      "002375  124.637790   100.0  33.103301\n",
      "002473   61.642444   100.0  16.142966\n",
      "002514   76.031991   200.0  33.651319\n",
      "002701   97.027525   100.0  38.969238\n",
      "002717   83.681780   100.0  69.600086\n",
      "002807    9.879285   300.0   5.363924\n",
      "300264   44.737538   200.0  24.008406\n",
      "300337   47.880219   100.0  16.972838\n",
      "300490   46.270078   100.0  21.395354\n",
      "300533   84.861250   100.0  53.987273\n",
      "600096   15.424298   100.0   9.679961\n",
      "600288   54.463968   200.0  35.853548\n",
      "600318   45.816978   100.0  41.055482\n",
      "600339   11.339483   200.0   5.293691\n",
      "600380   83.868372   100.0  55.435506\n",
      "600385   15.792481   100.0   9.328076\n",
      "600543   23.880328   200.0  13.126191\n",
      "600668   27.255253   100.0  22.296771\n",
      "600724    8.424563   200.0   7.525918\n",
      "600744    9.838641   200.0   3.380492\n",
      "600754   61.109570   100.0  50.176602\n",
      "600767   14.958333   300.0   5.287500\n",
      "600820   38.558610   400.0  20.372302\n",
      "600839   15.868118   100.0   8.449247\n",
      "600919    7.540847   100.0   7.053025\n",
      "601008   11.734210   100.0   6.285044\n",
      "601016    6.408809   300.0   4.942211\n",
      "601117    9.011100   500.0   7.750302\n",
      "601288    5.388182   100.0   5.363693\n",
      "601616   12.926517   100.0   6.385589\n",
      "601866    3.260000   300.0   2.285409\n",
      "601880    7.620733   300.0   4.746232\n",
      "601901   11.790097   300.0   8.295131\n",
      "601918    5.815605   300.0   4.459477\n",
      "601991   10.100517   400.0   5.728319\n",
      "603308   21.992396   200.0  17.696152\n",
      "603518   25.643818   200.0  13.761681\n",
      "当前总资产:271445.35\n",
      "资金变化率:55.55%\n",
      "资产变化率:542.89%\n",
      "总手续费:121678.71\n",
      "总印花税:68787.38\n",
      "   available_cash  total_assets_cur  total_assets_buy  buy_cur_diff  \\\n",
      "0        27774.75         163023.74         271445.35    -108421.61   \n",
      "\n",
      "   trade_times  init_cash  t1  t2  \n",
      "0        21689      50000  27  81  \n"
     ]
    },
    {
     "data": {
      "application/vnd.jupyter.widget-view+json": {
       "model_id": "2476026906b343e888e77af7134f0256",
       "version_major": 2,
       "version_minor": 0
      },
      "text/plain": [
       "HBox(children=(IntProgress(value=0, description='分析买卖点...', max=3794, style=ProgressStyle(description_width='i…"
      ]
     },
     "metadata": {},
     "output_type": "display_data"
    },
    {
     "name": "stderr",
     "output_type": "stream",
     "text": [
      "C:\\Users\\guqiang\\AppData\\Local\\conda\\conda\\envs\\stock_ai\\lib\\site-packages\\ipykernel_launcher.py:65: RuntimeWarning: invalid value encountered in sign\n"
     ]
    },
    {
     "name": "stdout",
     "output_type": "stream",
     "text": [
      "\n"
     ]
    },
    {
     "data": {
      "application/vnd.jupyter.widget-view+json": {
       "model_id": "6af6d632c62b416fa5e44b6bda5d1ebe",
       "version_major": 2,
       "version_minor": 0
      },
      "text/plain": [
       "HBox(children=(IntProgress(value=0, description='回测计算中...', max=8001644, style=ProgressStyle(description_width…"
      ]
     },
     "metadata": {},
     "output_type": "display_data"
    },
    {
     "name": "stdout",
     "output_type": "stream",
     "text": [
      "\n",
      "数据时间:2005-01-04 00:00:00~2020-03-09 00:00:00（可交易天数3688）\n",
      "初始资金:50000.00\n",
      "交易次数:12959 (买入/卖出各算1次)\n",
      "可用资金:25331.60\n",
      "当前持仓:         buy_price  amount  price_cur\n",
      "code                                 \n",
      "000005    8.619600   500.0   4.999500\n",
      "000036   31.169562   100.0  16.988637\n",
      "000663   21.898599   100.0   7.728917\n",
      "000712  242.698238   100.0  81.015258\n",
      "000720    7.961600   100.0   6.489600\n",
      "000750   55.507233   100.0  24.979691\n",
      "000758   46.883813   100.0  20.434565\n",
      "000783   55.585790   100.0  24.046062\n",
      "000905   49.932412   100.0  16.044852\n",
      "002260  108.353490   100.0   7.275922\n",
      "002272   20.598803   100.0  15.030636\n",
      "600067   25.217029   100.0  16.407605\n",
      "600151   26.821636   100.0  11.620002\n",
      "600279   14.930876   200.0   9.270909\n",
      "600744    6.789155   400.0   3.380492\n",
      "600777   29.448659   100.0  15.364518\n",
      "600823   31.049549   100.0  22.127547\n",
      "601001   14.770877   100.0   8.179802\n",
      "601186   15.903357   100.0  12.352457\n",
      "601628   41.000014   100.0  35.083653\n",
      "601718    5.290820   100.0   5.480887\n",
      "601800   15.402051   100.0  11.428368\n",
      "601857   11.602158   400.0   6.913111\n",
      "601918    6.311997   200.0   4.459477\n",
      "601989   12.304672   100.0   7.501338\n",
      "603968   53.624075   100.0  30.044941\n",
      "当前总资产:132388.73\n",
      "资金变化率:50.66%\n",
      "资产变化率:264.78%\n",
      "总手续费:68926.83\n",
      "总印花税:35607.38\n",
      "   available_cash  total_assets_cur  total_assets_buy  buy_cur_diff  \\\n",
      "0         25331.6           74257.4         132388.73     -58131.33   \n",
      "\n",
      "   trade_times  init_cash  t1   t2  \n",
      "0        12959      50000  27  108  \n"
     ]
    },
    {
     "data": {
      "application/vnd.jupyter.widget-view+json": {
       "model_id": "1e304c8006d74ca1ba4ca36be45fdcfd",
       "version_major": 2,
       "version_minor": 0
      },
      "text/plain": [
       "HBox(children=(IntProgress(value=0, description='分析买卖点...', max=3794, style=ProgressStyle(description_width='i…"
      ]
     },
     "metadata": {},
     "output_type": "display_data"
    },
    {
     "name": "stderr",
     "output_type": "stream",
     "text": [
      "C:\\Users\\guqiang\\AppData\\Local\\conda\\conda\\envs\\stock_ai\\lib\\site-packages\\ipykernel_launcher.py:65: RuntimeWarning: invalid value encountered in sign\n"
     ]
    },
    {
     "name": "stdout",
     "output_type": "stream",
     "text": [
      "\n"
     ]
    },
    {
     "data": {
      "application/vnd.jupyter.widget-view+json": {
       "model_id": "9558b13fc14b422192f556f60bb4f8d1",
       "version_major": 2,
       "version_minor": 0
      },
      "text/plain": [
       "HBox(children=(IntProgress(value=0, description='回测计算中...', max=8001644, style=ProgressStyle(description_width…"
      ]
     },
     "metadata": {},
     "output_type": "display_data"
    },
    {
     "name": "stdout",
     "output_type": "stream",
     "text": [
      "\n",
      "数据时间:2005-01-04 00:00:00~2020-03-09 00:00:00（可交易天数3688）\n",
      "初始资金:50000.00\n",
      "交易次数:12042 (买入/卖出各算1次)\n",
      "可用资金:40778.51\n",
      "当前持仓:         buy_price  amount  price_cur\n",
      "code                                 \n",
      "000005   11.830500   100.0   4.999500\n",
      "000559   59.444242   100.0  30.037284\n",
      "000698   11.872140   200.0   8.284029\n",
      "000752   23.376797   100.0   7.947662\n",
      "000812   22.413284   100.0  12.399665\n",
      "000837   30.792388   100.0   8.653409\n",
      "000877   53.841939   100.0  48.472993\n",
      "002002  108.469598   100.0  47.769625\n",
      "002054   51.409397   100.0  27.047737\n",
      "002060   14.981501   100.0  11.348782\n",
      "002162   17.115314   200.0   7.984206\n",
      "002188   56.181245   100.0   9.396511\n",
      "002591   45.107114   100.0  30.881143\n",
      "002673   49.642883   100.0  24.157172\n",
      "002678   30.505709   100.0  20.136347\n",
      "002755   46.043441   100.0  27.884166\n",
      "300239   44.413375   100.0  30.092218\n",
      "600177   44.863228   100.0  45.189237\n",
      "600210   10.626239   200.0   8.810406\n",
      "600461   28.600254   100.0  26.448640\n",
      "600480   26.889106   100.0  20.946626\n",
      "600543   27.309361   100.0  13.126191\n",
      "600731   14.341531   100.0   9.641365\n",
      "600830   20.978695   100.0  10.600489\n",
      "600843   20.640000   100.0  13.824000\n",
      "601579   14.504161   100.0   8.342961\n",
      "601857   13.006589   500.0   6.913111\n",
      "601958   18.100522   400.0   8.793641\n",
      "601991   11.200815   200.0   5.728319\n",
      "603058   15.738383   100.0   7.048529\n",
      "当前总资产:150916.72\n",
      "资金变化率:81.56%\n",
      "资产变化率:301.83%\n",
      "总手续费:65783.90\n",
      "总印花税:36073.45\n",
      "   available_cash  total_assets_cur  total_assets_buy  buy_cur_diff  \\\n",
      "0        40778.51         103553.14         150916.72     -47363.58   \n",
      "\n",
      "   trade_times  init_cash  t1   t2  \n",
      "0        12042      50000  27  135  \n"
     ]
    },
    {
     "data": {
      "application/vnd.jupyter.widget-view+json": {
       "model_id": "3e3cfde0a3bf4a7f85ffd03fc58d2651",
       "version_major": 2,
       "version_minor": 0
      },
      "text/plain": [
       "HBox(children=(IntProgress(value=0, description='分析买卖点...', max=3794, style=ProgressStyle(description_width='i…"
      ]
     },
     "metadata": {},
     "output_type": "display_data"
    },
    {
     "name": "stderr",
     "output_type": "stream",
     "text": [
      "C:\\Users\\guqiang\\AppData\\Local\\conda\\conda\\envs\\stock_ai\\lib\\site-packages\\ipykernel_launcher.py:65: RuntimeWarning: invalid value encountered in sign\n"
     ]
    },
    {
     "name": "stdout",
     "output_type": "stream",
     "text": [
      "\n"
     ]
    },
    {
     "data": {
      "application/vnd.jupyter.widget-view+json": {
       "model_id": "473786c86fe147959cab011312370f4b",
       "version_major": 2,
       "version_minor": 0
      },
      "text/plain": [
       "HBox(children=(IntProgress(value=0, description='回测计算中...', max=8001644, style=ProgressStyle(description_width…"
      ]
     },
     "metadata": {},
     "output_type": "display_data"
    },
    {
     "name": "stdout",
     "output_type": "stream",
     "text": [
      "\n",
      "数据时间:2005-01-04 00:00:00~2020-03-09 00:00:00（可交易天数3688）\n",
      "初始资金:50000.00\n",
      "交易次数:11387 (买入/卖出各算1次)\n",
      "可用资金:18452.40\n",
      "当前持仓:        buy_price  amount  price_cur\n",
      "code                                \n",
      "000404  10.916372   100.0   7.268769\n",
      "000498  10.545800   100.0   7.451496\n",
      "000667  43.567067   100.0  23.164775\n",
      "000691  10.845000   100.0   6.015000\n",
      "000831  59.339920   200.0  26.047500\n",
      "002015  54.807127   100.0  61.606195\n",
      "002473  61.642444   100.0  16.142966\n",
      "600208  48.205088   100.0  18.455496\n",
      "600288  87.815387   100.0  35.853548\n",
      "600361  26.530196   400.0   9.668639\n",
      "600657  12.730588   100.0   9.032633\n",
      "600715  42.100000   100.0   6.136572\n",
      "600744  12.719102   200.0   3.380492\n",
      "600767  12.197500   500.0   5.287500\n",
      "600828  43.858035   100.0  16.476527\n",
      "600829  28.198261   100.0  19.479958\n",
      "600999  46.702737   100.0  28.924737\n",
      "601117  10.378751   300.0   7.750302\n",
      "601212   5.467168   100.0   3.152706\n",
      "601633  53.503606   100.0  31.454093\n",
      "601901  14.622966   200.0   8.295131\n",
      "当前总资产:111703.72\n",
      "资金变化率:36.90%\n",
      "资产变化率:223.41%\n",
      "总手续费:59906.11\n",
      "总印花税:29444.52\n",
      "   available_cash  total_assets_cur  total_assets_buy  buy_cur_diff  \\\n",
      "0         18452.4          63894.87         111703.72     -47808.85   \n",
      "\n",
      "   trade_times  init_cash  t1  t2  \n",
      "0        11387      50000  28  84  \n"
     ]
    },
    {
     "data": {
      "application/vnd.jupyter.widget-view+json": {
       "model_id": "b6641d186e0c49fd880ab7f7fdc9f34b",
       "version_major": 2,
       "version_minor": 0
      },
      "text/plain": [
       "HBox(children=(IntProgress(value=0, description='分析买卖点...', max=3794, style=ProgressStyle(description_width='i…"
      ]
     },
     "metadata": {},
     "output_type": "display_data"
    },
    {
     "name": "stderr",
     "output_type": "stream",
     "text": [
      "C:\\Users\\guqiang\\AppData\\Local\\conda\\conda\\envs\\stock_ai\\lib\\site-packages\\ipykernel_launcher.py:65: RuntimeWarning: invalid value encountered in sign\n"
     ]
    },
    {
     "name": "stdout",
     "output_type": "stream",
     "text": [
      "\n"
     ]
    },
    {
     "data": {
      "application/vnd.jupyter.widget-view+json": {
       "model_id": "6d5c75dd7d5a44988052f427ccba0c01",
       "version_major": 2,
       "version_minor": 0
      },
      "text/plain": [
       "HBox(children=(IntProgress(value=0, description='回测计算中...', max=8001644, style=ProgressStyle(description_width…"
      ]
     },
     "metadata": {},
     "output_type": "display_data"
    },
    {
     "name": "stdout",
     "output_type": "stream",
     "text": [
      "\n",
      "数据时间:2005-01-04 00:00:00~2020-03-09 00:00:00（可交易天数3688）\n",
      "初始资金:50000.00\n",
      "交易次数:11539 (买入/卖出各算1次)\n",
      "可用资金:20402.30\n",
      "当前持仓:         buy_price  amount  price_cur\n",
      "code                                 \n",
      "000681   55.549000   100.0  22.108295\n",
      "000712  242.698238   100.0  81.015258\n",
      "000750   55.507233   100.0  24.979691\n",
      "000755   31.771342   400.0   6.222913\n",
      "000905   49.932412   100.0  16.044852\n",
      "002420    6.553747   200.0   4.033075\n",
      "300288  458.265570   100.0  78.674044\n",
      "600052    7.837014   100.0   5.547351\n",
      "600744    6.789155   100.0   3.380492\n",
      "600755   63.001370   200.0  31.867443\n",
      "600871   21.871720   100.0   5.353057\n",
      "601186   25.194722   100.0  12.352457\n",
      "601857   15.028778   100.0   6.913111\n",
      "当前总资产:140889.24\n",
      "资金变化率:40.80%\n",
      "资产变化率:281.78%\n",
      "总手续费:60534.65\n",
      "总印花税:31524.10\n",
      "   available_cash  total_assets_cur  total_assets_buy  buy_cur_diff  \\\n",
      "0         20402.3          55708.43         140889.24     -85180.81   \n",
      "\n",
      "   trade_times  init_cash  t1   t2  \n",
      "0        11539      50000  28  112  \n"
     ]
    },
    {
     "data": {
      "application/vnd.jupyter.widget-view+json": {
       "model_id": "24c023ec82b84bbb90b9fa038f3857e2",
       "version_major": 2,
       "version_minor": 0
      },
      "text/plain": [
       "HBox(children=(IntProgress(value=0, description='分析买卖点...', max=3794, style=ProgressStyle(description_width='i…"
      ]
     },
     "metadata": {},
     "output_type": "display_data"
    },
    {
     "name": "stderr",
     "output_type": "stream",
     "text": [
      "C:\\Users\\guqiang\\AppData\\Local\\conda\\conda\\envs\\stock_ai\\lib\\site-packages\\ipykernel_launcher.py:65: RuntimeWarning: invalid value encountered in sign\n"
     ]
    },
    {
     "name": "stdout",
     "output_type": "stream",
     "text": [
      "\n"
     ]
    },
    {
     "data": {
      "application/vnd.jupyter.widget-view+json": {
       "model_id": "46f25d896cfd4b988506b4aa078b93bd",
       "version_major": 2,
       "version_minor": 0
      },
      "text/plain": [
       "HBox(children=(IntProgress(value=0, description='回测计算中...', max=8001644, style=ProgressStyle(description_width…"
      ]
     },
     "metadata": {},
     "output_type": "display_data"
    },
    {
     "name": "stdout",
     "output_type": "stream",
     "text": [
      "\n",
      "数据时间:2005-01-04 00:00:00~2020-03-09 00:00:00（可交易天数3688）\n",
      "初始资金:50000.00\n",
      "交易次数:12371 (买入/卖出各算1次)\n",
      "可用资金:11848.93\n",
      "当前持仓:         buy_price  amount  price_cur\n",
      "code                                 \n",
      "000048   47.755260   100.0  31.648800\n",
      "000062   58.691297   100.0  28.795027\n",
      "000514   24.474172   200.0  11.044018\n",
      "000521   12.326261   100.0   7.293191\n",
      "000558   48.839377   100.0  14.043271\n",
      "000572   12.310840   200.0   5.115024\n",
      "000633   11.649000   200.0   4.158000\n",
      "000686  124.034241   100.0  54.608642\n",
      "000755   15.956188   100.0   6.222913\n",
      "000875    9.931080   500.0   5.874231\n",
      "002054   51.409397   100.0  27.047737\n",
      "002162   23.107710   100.0   7.984206\n",
      "002321   24.580167   100.0  11.526153\n",
      "002355   29.310139   100.0  12.609914\n",
      "002518   92.276427   100.0  77.517907\n",
      "002667   54.516598   100.0  23.706048\n",
      "600103    7.407406   400.0   4.891588\n",
      "600193   24.551148   100.0  12.141780\n",
      "600333   11.921252   200.0   6.760695\n",
      "600376   56.488202   100.0  37.196554\n",
      "600601    6.614473   100.0   6.166599\n",
      "600677   22.469383   100.0   6.494001\n",
      "600731   14.341531   200.0   9.641365\n",
      "600869   48.845442   100.0  25.086915\n",
      "600888   50.693601   100.0  38.918600\n",
      "601010   50.821697   100.0  14.300556\n",
      "601069   26.685019   100.0  14.931094\n",
      "601311   38.637181   200.0  20.823054\n",
      "601727    7.639369   100.0   5.492178\n",
      "601777   10.711749   300.0   3.277069\n",
      "601798   14.814582   200.0   6.220191\n",
      "601918    6.697521   100.0   4.459477\n",
      "601991   11.200815   200.0   5.728319\n",
      "603766   23.409211   100.0  10.925790\n",
      "当前总资产:141632.65\n",
      "资金变化率:23.70%\n",
      "资产变化率:283.27%\n",
      "总手续费:67121.20\n",
      "总印花税:37561.60\n",
      "   available_cash  total_assets_cur  total_assets_buy  buy_cur_diff  \\\n",
      "0        11848.93          79535.67         141632.65     -62096.98   \n",
      "\n",
      "   trade_times  init_cash  t1   t2  \n",
      "0        12371      50000  28  140  \n"
     ]
    },
    {
     "data": {
      "application/vnd.jupyter.widget-view+json": {
       "model_id": "367a33e304574f6c824de084b20c0619",
       "version_major": 2,
       "version_minor": 0
      },
      "text/plain": [
       "HBox(children=(IntProgress(value=0, description='分析买卖点...', max=3794, style=ProgressStyle(description_width='i…"
      ]
     },
     "metadata": {},
     "output_type": "display_data"
    },
    {
     "name": "stderr",
     "output_type": "stream",
     "text": [
      "C:\\Users\\guqiang\\AppData\\Local\\conda\\conda\\envs\\stock_ai\\lib\\site-packages\\ipykernel_launcher.py:65: RuntimeWarning: invalid value encountered in sign\n"
     ]
    },
    {
     "name": "stdout",
     "output_type": "stream",
     "text": [
      "\n"
     ]
    },
    {
     "data": {
      "application/vnd.jupyter.widget-view+json": {
       "model_id": "dca47dd94d924224a505f014f0baf116",
       "version_major": 2,
       "version_minor": 0
      },
      "text/plain": [
       "HBox(children=(IntProgress(value=0, description='回测计算中...', max=8001644, style=ProgressStyle(description_width…"
      ]
     },
     "metadata": {},
     "output_type": "display_data"
    },
    {
     "name": "stdout",
     "output_type": "stream",
     "text": [
      "\n",
      "数据时间:2005-01-04 00:00:00~2020-03-09 00:00:00（可交易天数3688）\n",
      "初始资金:50000.00\n",
      "交易次数:18363 (买入/卖出各算1次)\n",
      "可用资金:45164.50\n",
      "当前持仓:         buy_price  amount  price_cur\n",
      "code                                 \n",
      "000404   10.916372   100.0   7.268769\n",
      "000514   27.469305   100.0  11.044018\n",
      "000609   50.435836   100.0  14.277750\n",
      "000681   38.107333   300.0  22.108295\n",
      "000683   11.823736   600.0   7.768153\n",
      "000798   26.046435   100.0  13.517770\n",
      "000800   23.872923   100.0  14.313094\n",
      "000831   51.647029   300.0  26.047500\n",
      "000833   20.698253   100.0   7.825051\n",
      "000882    7.270701   100.0   4.449920\n",
      "000888   60.481787   100.0  32.806001\n",
      "000981   29.918669   100.0   4.951706\n",
      "002162   12.329202   100.0   7.984206\n",
      "002211   12.280699   100.0   9.141959\n",
      "002270   13.509578   200.0  10.519283\n",
      "002470   45.135477   200.0  12.081895\n",
      "002473   59.544066   200.0  16.142966\n",
      "002576   25.605368   100.0  13.182553\n",
      "300306  107.053357   100.0  53.460125\n",
      "300337   49.211458   100.0  16.972838\n",
      "300490   46.270078   100.0  21.395354\n",
      "600027    7.619221   100.0   5.818673\n",
      "600098   27.949178   100.0  16.187278\n",
      "600103    7.761747   100.0   4.891588\n",
      "600106   25.760833   100.0  19.140015\n",
      "600190    7.773162   300.0   5.392457\n",
      "600191   25.595033   100.0  11.099931\n",
      "600208   48.205088   100.0  18.455496\n",
      "600225    6.108777   100.0   3.381195\n",
      "600288   87.815387   100.0  35.853548\n",
      "600369   39.048757   200.0  24.010551\n",
      "600380   84.450253   100.0  55.435506\n",
      "600500   28.755041   100.0  21.200035\n",
      "600503   25.555076   200.0  10.239294\n",
      "600609    7.603500   100.0   5.315600\n",
      "600651   20.851357   100.0   7.046392\n",
      "600653    5.381143   700.0   2.508000\n",
      "600657   12.730588   100.0   9.032633\n",
      "600744    8.831536   600.0   3.380492\n",
      "600767   18.862500   200.0   5.287500\n",
      "600861   14.140225   100.0  13.363507\n",
      "600917   14.340555   100.0   7.000805\n",
      "600999   36.095240   200.0  28.924737\n",
      "601016    7.319306   100.0   4.942211\n",
      "601117    9.236190   500.0   7.750302\n",
      "601128   10.725568   100.0   8.390381\n",
      "601390   11.387353   300.0   6.485958\n",
      "601633   44.276946   200.0  31.454093\n",
      "601777   11.128079   300.0   3.277069\n",
      "601857   15.475546   100.0   6.913111\n",
      "601918    6.848706   400.0   4.459477\n",
      "601929    7.076011   100.0   4.893625\n",
      "601969   11.481404   100.0   5.060285\n",
      "601988    6.892210   100.0   6.464925\n",
      "603088   23.453837   100.0  18.341817\n",
      "603518   28.990447   100.0  13.761681\n",
      "603901   62.609399   100.0  45.145337\n",
      "当前总资产:271457.55\n",
      "资金变化率:90.33%\n",
      "资产变化率:542.92%\n",
      "总手续费:103402.23\n",
      "总印花税:60108.81\n",
      "   available_cash  total_assets_cur  total_assets_buy  buy_cur_diff  \\\n",
      "0         45164.5         163966.35         271457.55     -107491.2   \n",
      "\n",
      "   trade_times  init_cash  t1  t2  \n",
      "0        18363      50000  29  87  \n"
     ]
    },
    {
     "data": {
      "application/vnd.jupyter.widget-view+json": {
       "model_id": "c50671b6f83948f78eb2f5074b7140d1",
       "version_major": 2,
       "version_minor": 0
      },
      "text/plain": [
       "HBox(children=(IntProgress(value=0, description='分析买卖点...', max=3794, style=ProgressStyle(description_width='i…"
      ]
     },
     "metadata": {},
     "output_type": "display_data"
    },
    {
     "name": "stderr",
     "output_type": "stream",
     "text": [
      "C:\\Users\\guqiang\\AppData\\Local\\conda\\conda\\envs\\stock_ai\\lib\\site-packages\\ipykernel_launcher.py:65: RuntimeWarning: invalid value encountered in sign\n"
     ]
    },
    {
     "name": "stdout",
     "output_type": "stream",
     "text": [
      "\n"
     ]
    },
    {
     "data": {
      "application/vnd.jupyter.widget-view+json": {
       "model_id": "bb266f38ae384b09bbbc9398f39e4f6a",
       "version_major": 2,
       "version_minor": 0
      },
      "text/plain": [
       "HBox(children=(IntProgress(value=0, description='回测计算中...', max=8001644, style=ProgressStyle(description_width…"
      ]
     },
     "metadata": {},
     "output_type": "display_data"
    },
    {
     "name": "stdout",
     "output_type": "stream",
     "text": [
      "\n",
      "数据时间:2005-01-04 00:00:00~2020-03-09 00:00:00（可交易天数3688）\n",
      "初始资金:50000.00\n",
      "交易次数:10337 (买入/卖出各算1次)\n",
      "可用资金:25416.17\n",
      "当前持仓:         buy_price  amount  price_cur\n",
      "code                                 \n",
      "000429   15.655220   100.0  15.144035\n",
      "000534   27.188142   100.0  16.062563\n",
      "000545   22.426772   100.0  11.187001\n",
      "000750   55.507233   100.0  24.979691\n",
      "002162   17.743905   200.0   7.984206\n",
      "300288  458.265570   100.0  78.674044\n",
      "600077   14.580860   100.0  10.433401\n",
      "600120   41.568299   100.0  38.712988\n",
      "600272   14.001812   100.0   8.759484\n",
      "600491  101.473459   100.0  55.444075\n",
      "600755   63.216245   100.0  31.867443\n",
      "600853    9.153001   300.0   8.901740\n",
      "601117    7.950801   300.0   7.750302\n",
      "601919    7.237600   400.0   4.494821\n",
      "603126   22.533567   100.0   7.090260\n",
      "当前总资产:120632.85\n",
      "资金变化率:50.83%\n",
      "资产变化率:241.27%\n",
      "总手续费:54050.83\n",
      "总印花税:26725.93\n",
      "   available_cash  total_assets_cur  total_assets_buy  buy_cur_diff  \\\n",
      "0        25416.17          63642.05         120632.85      -56990.8   \n",
      "\n",
      "   trade_times  init_cash  t1   t2  \n",
      "0        10337      50000  29  116  \n"
     ]
    },
    {
     "data": {
      "application/vnd.jupyter.widget-view+json": {
       "model_id": "d5d9a0983b4f4b04b79c0266f5d6730d",
       "version_major": 2,
       "version_minor": 0
      },
      "text/plain": [
       "HBox(children=(IntProgress(value=0, description='分析买卖点...', max=3794, style=ProgressStyle(description_width='i…"
      ]
     },
     "metadata": {},
     "output_type": "display_data"
    },
    {
     "name": "stderr",
     "output_type": "stream",
     "text": [
      "C:\\Users\\guqiang\\AppData\\Local\\conda\\conda\\envs\\stock_ai\\lib\\site-packages\\ipykernel_launcher.py:65: RuntimeWarning: invalid value encountered in sign\n"
     ]
    },
    {
     "name": "stdout",
     "output_type": "stream",
     "text": [
      "\n"
     ]
    },
    {
     "data": {
      "application/vnd.jupyter.widget-view+json": {
       "model_id": "ecd6bcf94e094794a738ba4170ec19fd",
       "version_major": 2,
       "version_minor": 0
      },
      "text/plain": [
       "HBox(children=(IntProgress(value=0, description='回测计算中...', max=8001644, style=ProgressStyle(description_width…"
      ]
     },
     "metadata": {},
     "output_type": "display_data"
    },
    {
     "name": "stdout",
     "output_type": "stream",
     "text": [
      "\n",
      "数据时间:2005-01-04 00:00:00~2020-03-09 00:00:00（可交易天数3688）\n",
      "初始资金:50000.00\n",
      "交易次数:8225 (买入/卖出各算1次)\n",
      "可用资金:12953.08\n",
      "当前持仓:         buy_price  amount  price_cur\n",
      "code                                 \n",
      "000036   30.446789   100.0  16.988637\n",
      "000655   13.436916   100.0   9.113156\n",
      "000686  117.781695   100.0  54.608642\n",
      "000831   81.746635   200.0  26.047500\n",
      "000878   53.599944   200.0  15.084499\n",
      "002067   14.905594   100.0   9.208065\n",
      "002363   20.630982   100.0  18.116597\n",
      "002403   18.917318   200.0  12.805398\n",
      "300415   58.010627   100.0  33.495053\n",
      "600301   12.495673   200.0   9.725932\n",
      "600837  111.367777   100.0  64.700687\n",
      "600919    7.428753   100.0   7.053025\n",
      "601010   50.821697   100.0  14.300556\n",
      "601555   25.914236   100.0  10.953864\n",
      "601628   40.746024   200.0  35.083653\n",
      "601727    7.639369   100.0   5.492178\n",
      "601901   14.775820   200.0   8.295131\n",
      "601988    6.908659   100.0   6.464925\n",
      "603618   25.322570   100.0  17.599184\n",
      "当前总资产:106470.92\n",
      "资金变化率:25.91%\n",
      "资产变化率:212.94%\n",
      "总手续费:42886.89\n",
      "总印花税:20856.70\n",
      "   available_cash  total_assets_cur  total_assets_buy  buy_cur_diff  \\\n",
      "0        12953.08          61170.96         106470.92     -45299.96   \n",
      "\n",
      "   trade_times  init_cash  t1   t2  \n",
      "0         8225      50000  29  145  \n"
     ]
    },
    {
     "data": {
      "application/vnd.jupyter.widget-view+json": {
       "model_id": "c18eea9095eb498483f4c1e3fb37ea49",
       "version_major": 2,
       "version_minor": 0
      },
      "text/plain": [
       "HBox(children=(IntProgress(value=0, description='分析买卖点...', max=3794, style=ProgressStyle(description_width='i…"
      ]
     },
     "metadata": {},
     "output_type": "display_data"
    },
    {
     "name": "stderr",
     "output_type": "stream",
     "text": [
      "C:\\Users\\guqiang\\AppData\\Local\\conda\\conda\\envs\\stock_ai\\lib\\site-packages\\ipykernel_launcher.py:65: RuntimeWarning: invalid value encountered in sign\n"
     ]
    },
    {
     "name": "stdout",
     "output_type": "stream",
     "text": [
      "\n"
     ]
    },
    {
     "data": {
      "application/vnd.jupyter.widget-view+json": {
       "model_id": "aa19578a0daf47e0b037c8cf6b9337a3",
       "version_major": 2,
       "version_minor": 0
      },
      "text/plain": [
       "HBox(children=(IntProgress(value=0, description='回测计算中...', max=8001644, style=ProgressStyle(description_width…"
      ]
     },
     "metadata": {},
     "output_type": "display_data"
    },
    {
     "name": "stdout",
     "output_type": "stream",
     "text": [
      "\n",
      "数据时间:2005-01-04 00:00:00~2020-03-09 00:00:00（可交易天数3688）\n",
      "初始资金:50000.00\n",
      "交易次数:17610 (买入/卖出各算1次)\n",
      "可用资金:19400.82\n",
      "当前持仓:         buy_price  amount  price_cur\n",
      "code                                 \n",
      "000150   42.680000   100.0  10.036874\n",
      "000681   36.733667   300.0  22.108295\n",
      "000683   14.581713   500.0   7.768153\n",
      "000686  120.155002   200.0  54.608642\n",
      "000766   15.680000   100.0   6.280000\n",
      "000831   89.944511   100.0  26.047500\n",
      "000882    7.270701   100.0   4.449920\n",
      "000913   27.769055   100.0  15.732442\n",
      "002164   30.521796   100.0  11.988650\n",
      "002260  106.251557   100.0   7.275922\n",
      "002406   30.938543   100.0  21.194819\n",
      "002576   25.605368   100.0  13.182553\n",
      "002603   47.129119   200.0  42.981690\n",
      "300189   48.235459   100.0  21.783403\n",
      "300233   63.503579   100.0  43.728737\n",
      "300490   37.446709   200.0  21.395354\n",
      "600027    7.619221   100.0   5.818673\n",
      "600033   21.560910   100.0  13.643438\n",
      "600035   15.088042   100.0   9.222024\n",
      "600135   22.086836   100.0  11.174984\n",
      "600180   39.196176   200.0   9.561255\n",
      "600208   37.439285   200.0  18.455496\n",
      "600288   92.068303   100.0  35.853548\n",
      "600311   24.310000   100.0  13.260000\n",
      "600333   15.820686   100.0   6.760695\n",
      "600361   33.845817   300.0   9.668639\n",
      "600744   12.719102   200.0   3.380492\n",
      "600755   63.001370   200.0  31.867443\n",
      "600823   31.049549   100.0  22.127547\n",
      "600861   14.140225   200.0  13.363507\n",
      "600877   21.295440   100.0  14.670192\n",
      "600999   46.702737   100.0  28.924737\n",
      "601028   25.896405   200.0  14.903121\n",
      "601107    6.133193   300.0   4.547590\n",
      "601126   31.448587   100.0  15.040579\n",
      "601390   12.547264   200.0   6.485958\n",
      "601633   53.503606   100.0  31.454093\n",
      "601777   11.707829   100.0   3.277069\n",
      "601857   15.475546   100.0   6.913111\n",
      "601919    6.976879   100.0   4.494821\n",
      "603703   43.215922   100.0  40.377506\n",
      "当前总资产:226472.68\n",
      "资金变化率:38.80%\n",
      "资产变化率:452.95%\n",
      "总手续费:98927.24\n",
      "总印花税:55503.84\n",
      "   available_cash  total_assets_cur  total_assets_buy  buy_cur_diff  \\\n",
      "0        19400.82         122054.23         226472.68    -104418.45   \n",
      "\n",
      "   trade_times  init_cash  t1  t2  \n",
      "0        17610      50000  30  90  \n"
     ]
    },
    {
     "data": {
      "application/vnd.jupyter.widget-view+json": {
       "model_id": "27e386bee99d4b8087613d635ec40a78",
       "version_major": 2,
       "version_minor": 0
      },
      "text/plain": [
       "HBox(children=(IntProgress(value=0, description='分析买卖点...', max=3794, style=ProgressStyle(description_width='i…"
      ]
     },
     "metadata": {},
     "output_type": "display_data"
    },
    {
     "name": "stderr",
     "output_type": "stream",
     "text": [
      "C:\\Users\\guqiang\\AppData\\Local\\conda\\conda\\envs\\stock_ai\\lib\\site-packages\\ipykernel_launcher.py:65: RuntimeWarning: invalid value encountered in sign\n"
     ]
    },
    {
     "name": "stdout",
     "output_type": "stream",
     "text": [
      "\n"
     ]
    },
    {
     "data": {
      "application/vnd.jupyter.widget-view+json": {
       "model_id": "a7f71746172549f5992dd6e99a36fa7c",
       "version_major": 2,
       "version_minor": 0
      },
      "text/plain": [
       "HBox(children=(IntProgress(value=0, description='回测计算中...', max=8001644, style=ProgressStyle(description_width…"
      ]
     },
     "metadata": {},
     "output_type": "display_data"
    },
    {
     "name": "stdout",
     "output_type": "stream",
     "text": [
      "\n",
      "数据时间:2005-01-04 00:00:00~2020-03-09 00:00:00（可交易天数3688）\n",
      "初始资金:50000.00\n",
      "交易次数:10159 (买入/卖出各算1次)\n",
      "可用资金:17.67\n",
      "当前持仓:         buy_price  amount  price_cur\n",
      "code                                 \n",
      "000831   85.827247   200.0  26.047500\n",
      "002087   15.520002   100.0  15.443066\n",
      "002102   52.079902   100.0  19.726783\n",
      "002162   11.373449   300.0   7.984206\n",
      "002438   60.397373   100.0  32.905316\n",
      "300288  458.265570   100.0  78.674044\n",
      "600120   41.568299   100.0  38.712988\n",
      "600272   14.001812   100.0   8.759484\n",
      "600339   12.827959   200.0   5.293691\n",
      "600601    9.829221   200.0   6.166599\n",
      "600657   12.730588   100.0   9.032633\n",
      "600828   43.923138   100.0  16.476527\n",
      "601106    4.135493   300.0   2.801788\n",
      "601519   83.294239   100.0  24.168126\n",
      "601600    5.397604   100.0   3.163057\n",
      "601886   22.241519   100.0  15.126443\n",
      "601918    6.803350   100.0   4.459477\n",
      "603011   26.009471   100.0  15.419909\n",
      "当前总资产:110590.52\n",
      "资金变化率:0.04%\n",
      "资产变化率:221.18%\n",
      "总手续费:52690.36\n",
      "总印花税:25397.55\n",
      "   available_cash  total_assets_cur  total_assets_buy  buy_cur_diff  \\\n",
      "0           17.67          38961.81         110590.52     -71628.71   \n",
      "\n",
      "   trade_times  init_cash  t1   t2  \n",
      "0        10159      50000  30  120  \n"
     ]
    },
    {
     "data": {
      "application/vnd.jupyter.widget-view+json": {
       "model_id": "48c59435dd6843cfa538572973aba871",
       "version_major": 2,
       "version_minor": 0
      },
      "text/plain": [
       "HBox(children=(IntProgress(value=0, description='分析买卖点...', max=3794, style=ProgressStyle(description_width='i…"
      ]
     },
     "metadata": {},
     "output_type": "display_data"
    },
    {
     "name": "stderr",
     "output_type": "stream",
     "text": [
      "C:\\Users\\guqiang\\AppData\\Local\\conda\\conda\\envs\\stock_ai\\lib\\site-packages\\ipykernel_launcher.py:65: RuntimeWarning: invalid value encountered in sign\n"
     ]
    },
    {
     "name": "stdout",
     "output_type": "stream",
     "text": [
      "\n"
     ]
    },
    {
     "data": {
      "application/vnd.jupyter.widget-view+json": {
       "model_id": "3f7cd910045342b9b7c851a4d222149a",
       "version_major": 2,
       "version_minor": 0
      },
      "text/plain": [
       "HBox(children=(IntProgress(value=0, description='回测计算中...', max=8001644, style=ProgressStyle(description_width…"
      ]
     },
     "metadata": {},
     "output_type": "display_data"
    },
    {
     "name": "stdout",
     "output_type": "stream",
     "text": [
      "\n",
      "数据时间:2005-01-04 00:00:00~2020-03-09 00:00:00（可交易天数3688）\n",
      "初始资金:50000.00\n",
      "交易次数:9332 (买入/卖出各算1次)\n",
      "可用资金:21096.14\n",
      "当前持仓:         buy_price  amount  price_cur\n",
      "code                                 \n",
      "000035   26.784000   100.0  18.648000\n",
      "000156   58.620591   100.0  17.201370\n",
      "000498   11.215800   100.0   7.451496\n",
      "000541   57.478364   100.0  36.279570\n",
      "000551   21.870396   100.0  18.590446\n",
      "000633   11.649000   100.0   4.158000\n",
      "000665   22.588155   100.0  14.081345\n",
      "000686  117.781695   100.0  54.608642\n",
      "002583  104.996019   100.0  43.872712\n",
      "002616   49.086586   100.0  36.377509\n",
      "300165   86.410327   100.0  33.224770\n",
      "300230   55.907679   100.0  37.652902\n",
      "600103    7.407406   100.0   4.891588\n",
      "600119   25.661685   200.0   8.448106\n",
      "600139   53.016036   100.0  19.561734\n",
      "600202   44.226056   100.0  10.529265\n",
      "600279   14.930876   100.0   9.270909\n",
      "600819   10.390961   100.0   7.622381\n",
      "601555   25.914236   100.0  10.953864\n",
      "601633   51.158359   100.0  31.454093\n",
      "601677   12.220475   100.0  12.163559\n",
      "601777   10.768167   400.0   3.277069\n",
      "601800   21.917135   100.0  11.428368\n",
      "601968    5.975840   100.0   4.733138\n",
      "601991   11.200815   100.0   5.728319\n",
      "603126   20.848105   100.0   7.090260\n",
      "603766   26.434374   200.0  10.925790\n",
      "603818   30.498176   100.0  15.658545\n",
      "当前总资产:129231.92\n",
      "资金变化率:42.19%\n",
      "资产变化率:258.46%\n",
      "总手续费:49518.02\n",
      "总印花税:25837.91\n",
      "   available_cash  total_assets_cur  total_assets_buy  buy_cur_diff  \\\n",
      "0        21096.14          73605.02         129231.92      -55626.9   \n",
      "\n",
      "   trade_times  init_cash  t1   t2  \n",
      "0         9332      50000  30  150  \n"
     ]
    }
   ],
   "source": [
    "result={}\n",
    "for t1 in range(3,31):\n",
    "    for t2 in range(3,6):\n",
    "        t2=t1*t2\n",
    "        \n",
    "        simdatas,buys,sells=test(qfqs,t1=t1,t2=t2)\n",
    "        \n",
    "        bt = BackTest(alldata_fqf, init_cash=50000, callbacks=[chker(\n",
    "             buy_dict=buys,\n",
    "             sell_dict=sells)])\n",
    "        bt.calc_trade_history(verbose=0)\n",
    "        print(bt.report(show_history=False))\n",
    "        cur=0\n",
    "        if not bt.hold_price_cur_df.empty:\n",
    "            cur=np.round(bt.available_cash + sum(bt.hold_price_cur_df['amount']*bt.hold_price_cur_df['price_cur']),2)\n",
    "        df=pd.DataFrame(\n",
    "            {\n",
    "                'available_cash':[np.round(bt.available_cash,2)],\n",
    "                'total_assets_cur':[cur],\n",
    "                'total_assets_buy':[np.round(bt.total_assets_cur,2)],\n",
    "                'buy_cur_diff':[np.round(cur-bt.total_assets_cur,2)],\n",
    "                'trade_times':[len(bt.history_df)],\n",
    "                'init_cash':[bt.init_cash],\n",
    "                't1':[t1],\n",
    "                't2':[t2]\n",
    "            })\n",
    "        print(df)\n",
    "        if os.path.exists(filename):\n",
    "            df=pd.read_csv(filename,index_col=False).append(df)\n",
    "        df.to_csv(filename,index=False)"
   ]
  },
  {
   "cell_type": "code",
   "execution_count": 8,
   "metadata": {},
   "outputs": [
    {
     "data": {
      "text/html": [
       "<div>\n",
       "<style scoped>\n",
       "    .dataframe tbody tr th:only-of-type {\n",
       "        vertical-align: middle;\n",
       "    }\n",
       "\n",
       "    .dataframe tbody tr th {\n",
       "        vertical-align: top;\n",
       "    }\n",
       "\n",
       "    .dataframe thead th {\n",
       "        text-align: right;\n",
       "    }\n",
       "</style>\n",
       "<table border=\"1\" class=\"dataframe\">\n",
       "  <thead>\n",
       "    <tr style=\"text-align: right;\">\n",
       "      <th></th>\n",
       "      <th>available_cash</th>\n",
       "      <th>total_assets_cur</th>\n",
       "      <th>total_assets_buy</th>\n",
       "      <th>buy_cur_diff</th>\n",
       "      <th>trade_times</th>\n",
       "      <th>init_cash</th>\n",
       "      <th>t1</th>\n",
       "      <th>t2</th>\n",
       "    </tr>\n",
       "  </thead>\n",
       "  <tbody>\n",
       "    <tr>\n",
       "      <th>67</th>\n",
       "      <td>54625.60</td>\n",
       "      <td>179605.37</td>\n",
       "      <td>275250.37</td>\n",
       "      <td>-95645.00</td>\n",
       "      <td>19582</td>\n",
       "      <td>50000</td>\n",
       "      <td>25</td>\n",
       "      <td>100</td>\n",
       "    </tr>\n",
       "    <tr>\n",
       "      <th>78</th>\n",
       "      <td>45164.50</td>\n",
       "      <td>163966.35</td>\n",
       "      <td>271457.55</td>\n",
       "      <td>-107491.20</td>\n",
       "      <td>18363</td>\n",
       "      <td>50000</td>\n",
       "      <td>29</td>\n",
       "      <td>87</td>\n",
       "    </tr>\n",
       "    <tr>\n",
       "      <th>72</th>\n",
       "      <td>27774.75</td>\n",
       "      <td>163023.74</td>\n",
       "      <td>271445.35</td>\n",
       "      <td>-108421.61</td>\n",
       "      <td>21689</td>\n",
       "      <td>50000</td>\n",
       "      <td>27</td>\n",
       "      <td>81</td>\n",
       "    </tr>\n",
       "    <tr>\n",
       "      <th>59</th>\n",
       "      <td>71444.63</td>\n",
       "      <td>145160.98</td>\n",
       "      <td>228486.12</td>\n",
       "      <td>-83325.14</td>\n",
       "      <td>16716</td>\n",
       "      <td>50000</td>\n",
       "      <td>22</td>\n",
       "      <td>110</td>\n",
       "    </tr>\n",
       "    <tr>\n",
       "      <th>53</th>\n",
       "      <td>49192.48</td>\n",
       "      <td>137286.16</td>\n",
       "      <td>250343.76</td>\n",
       "      <td>-113057.60</td>\n",
       "      <td>18649</td>\n",
       "      <td>50000</td>\n",
       "      <td>20</td>\n",
       "      <td>100</td>\n",
       "    </tr>\n",
       "    <tr>\n",
       "      <th>81</th>\n",
       "      <td>19400.82</td>\n",
       "      <td>122054.23</td>\n",
       "      <td>226472.68</td>\n",
       "      <td>-104418.45</td>\n",
       "      <td>17610</td>\n",
       "      <td>50000</td>\n",
       "      <td>30</td>\n",
       "      <td>90</td>\n",
       "    </tr>\n",
       "    <tr>\n",
       "      <th>64</th>\n",
       "      <td>14092.43</td>\n",
       "      <td>112416.52</td>\n",
       "      <td>190237.27</td>\n",
       "      <td>-77820.75</td>\n",
       "      <td>14491</td>\n",
       "      <td>50000</td>\n",
       "      <td>24</td>\n",
       "      <td>96</td>\n",
       "    </tr>\n",
       "    <tr>\n",
       "      <th>35</th>\n",
       "      <td>60580.95</td>\n",
       "      <td>108807.30</td>\n",
       "      <td>155714.77</td>\n",
       "      <td>-46907.47</td>\n",
       "      <td>15309</td>\n",
       "      <td>50000</td>\n",
       "      <td>14</td>\n",
       "      <td>70</td>\n",
       "    </tr>\n",
       "    <tr>\n",
       "      <th>74</th>\n",
       "      <td>40778.51</td>\n",
       "      <td>103553.14</td>\n",
       "      <td>150916.72</td>\n",
       "      <td>-47363.58</td>\n",
       "      <td>12042</td>\n",
       "      <td>50000</td>\n",
       "      <td>27</td>\n",
       "      <td>135</td>\n",
       "    </tr>\n",
       "    <tr>\n",
       "      <th>34</th>\n",
       "      <td>17361.15</td>\n",
       "      <td>97725.62</td>\n",
       "      <td>279293.93</td>\n",
       "      <td>-181568.31</td>\n",
       "      <td>22335</td>\n",
       "      <td>50000</td>\n",
       "      <td>14</td>\n",
       "      <td>56</td>\n",
       "    </tr>\n",
       "    <tr>\n",
       "      <th>58</th>\n",
       "      <td>12610.58</td>\n",
       "      <td>94277.82</td>\n",
       "      <td>230693.40</td>\n",
       "      <td>-136415.58</td>\n",
       "      <td>19145</td>\n",
       "      <td>50000</td>\n",
       "      <td>22</td>\n",
       "      <td>88</td>\n",
       "    </tr>\n",
       "    <tr>\n",
       "      <th>66</th>\n",
       "      <td>17978.87</td>\n",
       "      <td>92986.89</td>\n",
       "      <td>169442.00</td>\n",
       "      <td>-76455.11</td>\n",
       "      <td>15465</td>\n",
       "      <td>50000</td>\n",
       "      <td>25</td>\n",
       "      <td>75</td>\n",
       "    </tr>\n",
       "    <tr>\n",
       "      <th>50</th>\n",
       "      <td>17911.51</td>\n",
       "      <td>88478.77</td>\n",
       "      <td>199645.46</td>\n",
       "      <td>-111166.69</td>\n",
       "      <td>15534</td>\n",
       "      <td>50000</td>\n",
       "      <td>19</td>\n",
       "      <td>95</td>\n",
       "    </tr>\n",
       "    <tr>\n",
       "      <th>70</th>\n",
       "      <td>14226.15</td>\n",
       "      <td>87685.49</td>\n",
       "      <td>179447.64</td>\n",
       "      <td>-91762.15</td>\n",
       "      <td>14804</td>\n",
       "      <td>50000</td>\n",
       "      <td>26</td>\n",
       "      <td>104</td>\n",
       "    </tr>\n",
       "    <tr>\n",
       "      <th>47</th>\n",
       "      <td>22944.63</td>\n",
       "      <td>81471.19</td>\n",
       "      <td>138195.82</td>\n",
       "      <td>-56724.63</td>\n",
       "      <td>12742</td>\n",
       "      <td>50000</td>\n",
       "      <td>18</td>\n",
       "      <td>90</td>\n",
       "    </tr>\n",
       "    <tr>\n",
       "      <th>43</th>\n",
       "      <td>19896.39</td>\n",
       "      <td>80391.48</td>\n",
       "      <td>151790.09</td>\n",
       "      <td>-71398.61</td>\n",
       "      <td>16246</td>\n",
       "      <td>50000</td>\n",
       "      <td>17</td>\n",
       "      <td>68</td>\n",
       "    </tr>\n",
       "    <tr>\n",
       "      <th>77</th>\n",
       "      <td>11848.93</td>\n",
       "      <td>79535.67</td>\n",
       "      <td>141632.65</td>\n",
       "      <td>-62096.98</td>\n",
       "      <td>12371</td>\n",
       "      <td>50000</td>\n",
       "      <td>28</td>\n",
       "      <td>140</td>\n",
       "    </tr>\n",
       "    <tr>\n",
       "      <th>69</th>\n",
       "      <td>4830.54</td>\n",
       "      <td>75551.07</td>\n",
       "      <td>164209.13</td>\n",
       "      <td>-88658.06</td>\n",
       "      <td>16222</td>\n",
       "      <td>50000</td>\n",
       "      <td>26</td>\n",
       "      <td>78</td>\n",
       "    </tr>\n",
       "    <tr>\n",
       "      <th>73</th>\n",
       "      <td>25331.60</td>\n",
       "      <td>74257.40</td>\n",
       "      <td>132388.73</td>\n",
       "      <td>-58131.33</td>\n",
       "      <td>12959</td>\n",
       "      <td>50000</td>\n",
       "      <td>27</td>\n",
       "      <td>108</td>\n",
       "    </tr>\n",
       "    <tr>\n",
       "      <th>46</th>\n",
       "      <td>11786.36</td>\n",
       "      <td>73861.41</td>\n",
       "      <td>144004.80</td>\n",
       "      <td>-70143.39</td>\n",
       "      <td>13823</td>\n",
       "      <td>50000</td>\n",
       "      <td>18</td>\n",
       "      <td>72</td>\n",
       "    </tr>\n",
       "    <tr>\n",
       "      <th>83</th>\n",
       "      <td>21096.14</td>\n",
       "      <td>73605.02</td>\n",
       "      <td>129231.92</td>\n",
       "      <td>-55626.90</td>\n",
       "      <td>9332</td>\n",
       "      <td>50000</td>\n",
       "      <td>30</td>\n",
       "      <td>150</td>\n",
       "    </tr>\n",
       "    <tr>\n",
       "      <th>62</th>\n",
       "      <td>21222.58</td>\n",
       "      <td>73241.99</td>\n",
       "      <td>193552.51</td>\n",
       "      <td>-120310.52</td>\n",
       "      <td>15207</td>\n",
       "      <td>50000</td>\n",
       "      <td>23</td>\n",
       "      <td>115</td>\n",
       "    </tr>\n",
       "    <tr>\n",
       "      <th>49</th>\n",
       "      <td>10731.63</td>\n",
       "      <td>71043.72</td>\n",
       "      <td>128716.51</td>\n",
       "      <td>-57672.79</td>\n",
       "      <td>13539</td>\n",
       "      <td>50000</td>\n",
       "      <td>19</td>\n",
       "      <td>76</td>\n",
       "    </tr>\n",
       "    <tr>\n",
       "      <th>56</th>\n",
       "      <td>6003.48</td>\n",
       "      <td>71007.64</td>\n",
       "      <td>121554.87</td>\n",
       "      <td>-50547.23</td>\n",
       "      <td>13428</td>\n",
       "      <td>50000</td>\n",
       "      <td>21</td>\n",
       "      <td>105</td>\n",
       "    </tr>\n",
       "    <tr>\n",
       "      <th>61</th>\n",
       "      <td>13219.51</td>\n",
       "      <td>69492.92</td>\n",
       "      <td>170309.93</td>\n",
       "      <td>-100817.01</td>\n",
       "      <td>14864</td>\n",
       "      <td>50000</td>\n",
       "      <td>23</td>\n",
       "      <td>92</td>\n",
       "    </tr>\n",
       "    <tr>\n",
       "      <th>40</th>\n",
       "      <td>30373.36</td>\n",
       "      <td>69434.78</td>\n",
       "      <td>108934.01</td>\n",
       "      <td>-39499.23</td>\n",
       "      <td>13262</td>\n",
       "      <td>50000</td>\n",
       "      <td>16</td>\n",
       "      <td>64</td>\n",
       "    </tr>\n",
       "    <tr>\n",
       "      <th>26</th>\n",
       "      <td>8584.19</td>\n",
       "      <td>68898.25</td>\n",
       "      <td>184950.82</td>\n",
       "      <td>-116052.57</td>\n",
       "      <td>19526</td>\n",
       "      <td>50000</td>\n",
       "      <td>11</td>\n",
       "      <td>55</td>\n",
       "    </tr>\n",
       "    <tr>\n",
       "      <th>22</th>\n",
       "      <td>28913.95</td>\n",
       "      <td>68145.50</td>\n",
       "      <td>112879.10</td>\n",
       "      <td>-44733.60</td>\n",
       "      <td>17180</td>\n",
       "      <td>50000</td>\n",
       "      <td>10</td>\n",
       "      <td>40</td>\n",
       "    </tr>\n",
       "    <tr>\n",
       "      <th>20</th>\n",
       "      <td>39262.88</td>\n",
       "      <td>67604.49</td>\n",
       "      <td>88758.71</td>\n",
       "      <td>-21154.22</td>\n",
       "      <td>16033</td>\n",
       "      <td>50000</td>\n",
       "      <td>9</td>\n",
       "      <td>45</td>\n",
       "    </tr>\n",
       "    <tr>\n",
       "      <th>25</th>\n",
       "      <td>22063.22</td>\n",
       "      <td>67529.67</td>\n",
       "      <td>98920.41</td>\n",
       "      <td>-31390.74</td>\n",
       "      <td>14679</td>\n",
       "      <td>50000</td>\n",
       "      <td>11</td>\n",
       "      <td>44</td>\n",
       "    </tr>\n",
       "    <tr>\n",
       "      <th>...</th>\n",
       "      <td>...</td>\n",
       "      <td>...</td>\n",
       "      <td>...</td>\n",
       "      <td>...</td>\n",
       "      <td>...</td>\n",
       "      <td>...</td>\n",
       "      <td>...</td>\n",
       "      <td>...</td>\n",
       "    </tr>\n",
       "    <tr>\n",
       "      <th>65</th>\n",
       "      <td>8191.73</td>\n",
       "      <td>48786.48</td>\n",
       "      <td>136438.08</td>\n",
       "      <td>-87651.60</td>\n",
       "      <td>10415</td>\n",
       "      <td>50000</td>\n",
       "      <td>24</td>\n",
       "      <td>120</td>\n",
       "    </tr>\n",
       "    <tr>\n",
       "      <th>12</th>\n",
       "      <td>13657.88</td>\n",
       "      <td>47997.86</td>\n",
       "      <td>89219.61</td>\n",
       "      <td>-41221.75</td>\n",
       "      <td>17856</td>\n",
       "      <td>50000</td>\n",
       "      <td>7</td>\n",
       "      <td>21</td>\n",
       "    </tr>\n",
       "    <tr>\n",
       "      <th>28</th>\n",
       "      <td>2024.69</td>\n",
       "      <td>47262.02</td>\n",
       "      <td>102076.06</td>\n",
       "      <td>-54814.04</td>\n",
       "      <td>13640</td>\n",
       "      <td>50000</td>\n",
       "      <td>12</td>\n",
       "      <td>48</td>\n",
       "    </tr>\n",
       "    <tr>\n",
       "      <th>68</th>\n",
       "      <td>8404.65</td>\n",
       "      <td>46386.20</td>\n",
       "      <td>127381.83</td>\n",
       "      <td>-80995.63</td>\n",
       "      <td>9876</td>\n",
       "      <td>50000</td>\n",
       "      <td>25</td>\n",
       "      <td>125</td>\n",
       "    </tr>\n",
       "    <tr>\n",
       "      <th>17</th>\n",
       "      <td>16143.92</td>\n",
       "      <td>45184.90</td>\n",
       "      <td>83220.66</td>\n",
       "      <td>-38035.76</td>\n",
       "      <td>17139</td>\n",
       "      <td>50000</td>\n",
       "      <td>8</td>\n",
       "      <td>40</td>\n",
       "    </tr>\n",
       "    <tr>\n",
       "      <th>48</th>\n",
       "      <td>17395.40</td>\n",
       "      <td>44756.33</td>\n",
       "      <td>74480.39</td>\n",
       "      <td>-29724.06</td>\n",
       "      <td>12857</td>\n",
       "      <td>50000</td>\n",
       "      <td>19</td>\n",
       "      <td>57</td>\n",
       "    </tr>\n",
       "    <tr>\n",
       "      <th>31</th>\n",
       "      <td>7742.02</td>\n",
       "      <td>42233.66</td>\n",
       "      <td>100308.07</td>\n",
       "      <td>-58074.41</td>\n",
       "      <td>12520</td>\n",
       "      <td>50000</td>\n",
       "      <td>13</td>\n",
       "      <td>52</td>\n",
       "    </tr>\n",
       "    <tr>\n",
       "      <th>32</th>\n",
       "      <td>14333.43</td>\n",
       "      <td>42046.64</td>\n",
       "      <td>130148.87</td>\n",
       "      <td>-88102.23</td>\n",
       "      <td>14752</td>\n",
       "      <td>50000</td>\n",
       "      <td>13</td>\n",
       "      <td>65</td>\n",
       "    </tr>\n",
       "    <tr>\n",
       "      <th>33</th>\n",
       "      <td>2497.07</td>\n",
       "      <td>41633.91</td>\n",
       "      <td>99313.69</td>\n",
       "      <td>-57679.78</td>\n",
       "      <td>13980</td>\n",
       "      <td>50000</td>\n",
       "      <td>14</td>\n",
       "      <td>42</td>\n",
       "    </tr>\n",
       "    <tr>\n",
       "      <th>82</th>\n",
       "      <td>17.67</td>\n",
       "      <td>38961.81</td>\n",
       "      <td>110590.52</td>\n",
       "      <td>-71628.71</td>\n",
       "      <td>10159</td>\n",
       "      <td>50000</td>\n",
       "      <td>30</td>\n",
       "      <td>120</td>\n",
       "    </tr>\n",
       "    <tr>\n",
       "      <th>10</th>\n",
       "      <td>12578.95</td>\n",
       "      <td>36527.67</td>\n",
       "      <td>66324.56</td>\n",
       "      <td>-29796.89</td>\n",
       "      <td>18369</td>\n",
       "      <td>50000</td>\n",
       "      <td>6</td>\n",
       "      <td>24</td>\n",
       "    </tr>\n",
       "    <tr>\n",
       "      <th>13</th>\n",
       "      <td>720.73</td>\n",
       "      <td>34549.56</td>\n",
       "      <td>94994.61</td>\n",
       "      <td>-60445.05</td>\n",
       "      <td>18797</td>\n",
       "      <td>50000</td>\n",
       "      <td>7</td>\n",
       "      <td>28</td>\n",
       "    </tr>\n",
       "    <tr>\n",
       "      <th>45</th>\n",
       "      <td>12232.02</td>\n",
       "      <td>33041.83</td>\n",
       "      <td>106793.42</td>\n",
       "      <td>-73751.59</td>\n",
       "      <td>12860</td>\n",
       "      <td>50000</td>\n",
       "      <td>18</td>\n",
       "      <td>54</td>\n",
       "    </tr>\n",
       "    <tr>\n",
       "      <th>19</th>\n",
       "      <td>1785.37</td>\n",
       "      <td>31535.01</td>\n",
       "      <td>79722.88</td>\n",
       "      <td>-48187.87</td>\n",
       "      <td>16447</td>\n",
       "      <td>50000</td>\n",
       "      <td>9</td>\n",
       "      <td>36</td>\n",
       "    </tr>\n",
       "    <tr>\n",
       "      <th>8</th>\n",
       "      <td>3851.92</td>\n",
       "      <td>29105.70</td>\n",
       "      <td>50267.50</td>\n",
       "      <td>-21161.80</td>\n",
       "      <td>13940</td>\n",
       "      <td>50000</td>\n",
       "      <td>5</td>\n",
       "      <td>25</td>\n",
       "    </tr>\n",
       "    <tr>\n",
       "      <th>16</th>\n",
       "      <td>1601.99</td>\n",
       "      <td>28201.56</td>\n",
       "      <td>58693.69</td>\n",
       "      <td>-30492.13</td>\n",
       "      <td>15514</td>\n",
       "      <td>50000</td>\n",
       "      <td>8</td>\n",
       "      <td>32</td>\n",
       "    </tr>\n",
       "    <tr>\n",
       "      <th>14</th>\n",
       "      <td>643.56</td>\n",
       "      <td>25701.18</td>\n",
       "      <td>50969.65</td>\n",
       "      <td>-25268.47</td>\n",
       "      <td>14766</td>\n",
       "      <td>50000</td>\n",
       "      <td>7</td>\n",
       "      <td>35</td>\n",
       "    </tr>\n",
       "    <tr>\n",
       "      <th>18</th>\n",
       "      <td>7022.31</td>\n",
       "      <td>25479.77</td>\n",
       "      <td>67272.36</td>\n",
       "      <td>-41792.59</td>\n",
       "      <td>15511</td>\n",
       "      <td>50000</td>\n",
       "      <td>9</td>\n",
       "      <td>27</td>\n",
       "    </tr>\n",
       "    <tr>\n",
       "      <th>21</th>\n",
       "      <td>694.57</td>\n",
       "      <td>24438.20</td>\n",
       "      <td>54893.63</td>\n",
       "      <td>-30455.43</td>\n",
       "      <td>14537</td>\n",
       "      <td>50000</td>\n",
       "      <td>10</td>\n",
       "      <td>30</td>\n",
       "    </tr>\n",
       "    <tr>\n",
       "      <th>7</th>\n",
       "      <td>3174.34</td>\n",
       "      <td>22173.07</td>\n",
       "      <td>44664.46</td>\n",
       "      <td>-22491.39</td>\n",
       "      <td>15002</td>\n",
       "      <td>50000</td>\n",
       "      <td>5</td>\n",
       "      <td>20</td>\n",
       "    </tr>\n",
       "    <tr>\n",
       "      <th>11</th>\n",
       "      <td>840.12</td>\n",
       "      <td>21015.81</td>\n",
       "      <td>62572.08</td>\n",
       "      <td>-41556.27</td>\n",
       "      <td>17209</td>\n",
       "      <td>50000</td>\n",
       "      <td>6</td>\n",
       "      <td>30</td>\n",
       "    </tr>\n",
       "    <tr>\n",
       "      <th>15</th>\n",
       "      <td>1711.47</td>\n",
       "      <td>20914.64</td>\n",
       "      <td>71629.51</td>\n",
       "      <td>-50714.87</td>\n",
       "      <td>15584</td>\n",
       "      <td>50000</td>\n",
       "      <td>8</td>\n",
       "      <td>24</td>\n",
       "    </tr>\n",
       "    <tr>\n",
       "      <th>5</th>\n",
       "      <td>2804.58</td>\n",
       "      <td>19963.80</td>\n",
       "      <td>36373.46</td>\n",
       "      <td>-16409.66</td>\n",
       "      <td>15085</td>\n",
       "      <td>50000</td>\n",
       "      <td>4</td>\n",
       "      <td>20</td>\n",
       "    </tr>\n",
       "    <tr>\n",
       "      <th>9</th>\n",
       "      <td>1186.39</td>\n",
       "      <td>19602.44</td>\n",
       "      <td>43260.50</td>\n",
       "      <td>-23658.06</td>\n",
       "      <td>13689</td>\n",
       "      <td>50000</td>\n",
       "      <td>6</td>\n",
       "      <td>18</td>\n",
       "    </tr>\n",
       "    <tr>\n",
       "      <th>6</th>\n",
       "      <td>89.56</td>\n",
       "      <td>16351.35</td>\n",
       "      <td>33735.94</td>\n",
       "      <td>-17384.59</td>\n",
       "      <td>19268</td>\n",
       "      <td>50000</td>\n",
       "      <td>5</td>\n",
       "      <td>15</td>\n",
       "    </tr>\n",
       "    <tr>\n",
       "      <th>4</th>\n",
       "      <td>22.10</td>\n",
       "      <td>16103.58</td>\n",
       "      <td>33307.24</td>\n",
       "      <td>-17203.66</td>\n",
       "      <td>17715</td>\n",
       "      <td>50000</td>\n",
       "      <td>4</td>\n",
       "      <td>16</td>\n",
       "    </tr>\n",
       "    <tr>\n",
       "      <th>2</th>\n",
       "      <td>6122.78</td>\n",
       "      <td>12104.65</td>\n",
       "      <td>15961.96</td>\n",
       "      <td>-3857.31</td>\n",
       "      <td>14470</td>\n",
       "      <td>50000</td>\n",
       "      <td>3</td>\n",
       "      <td>15</td>\n",
       "    </tr>\n",
       "    <tr>\n",
       "      <th>0</th>\n",
       "      <td>6384.75</td>\n",
       "      <td>11579.16</td>\n",
       "      <td>16315.87</td>\n",
       "      <td>-4736.71</td>\n",
       "      <td>16883</td>\n",
       "      <td>50000</td>\n",
       "      <td>3</td>\n",
       "      <td>9</td>\n",
       "    </tr>\n",
       "    <tr>\n",
       "      <th>1</th>\n",
       "      <td>3333.05</td>\n",
       "      <td>8639.84</td>\n",
       "      <td>21428.64</td>\n",
       "      <td>-12788.80</td>\n",
       "      <td>18032</td>\n",
       "      <td>50000</td>\n",
       "      <td>3</td>\n",
       "      <td>12</td>\n",
       "    </tr>\n",
       "    <tr>\n",
       "      <th>3</th>\n",
       "      <td>135.42</td>\n",
       "      <td>4776.30</td>\n",
       "      <td>8876.78</td>\n",
       "      <td>-4100.48</td>\n",
       "      <td>13619</td>\n",
       "      <td>50000</td>\n",
       "      <td>4</td>\n",
       "      <td>12</td>\n",
       "    </tr>\n",
       "  </tbody>\n",
       "</table>\n",
       "<p>84 rows × 8 columns</p>\n",
       "</div>"
      ],
      "text/plain": [
       "    available_cash  total_assets_cur  total_assets_buy  buy_cur_diff  \\\n",
       "67        54625.60         179605.37         275250.37     -95645.00   \n",
       "78        45164.50         163966.35         271457.55    -107491.20   \n",
       "72        27774.75         163023.74         271445.35    -108421.61   \n",
       "59        71444.63         145160.98         228486.12     -83325.14   \n",
       "53        49192.48         137286.16         250343.76    -113057.60   \n",
       "81        19400.82         122054.23         226472.68    -104418.45   \n",
       "64        14092.43         112416.52         190237.27     -77820.75   \n",
       "35        60580.95         108807.30         155714.77     -46907.47   \n",
       "74        40778.51         103553.14         150916.72     -47363.58   \n",
       "34        17361.15          97725.62         279293.93    -181568.31   \n",
       "58        12610.58          94277.82         230693.40    -136415.58   \n",
       "66        17978.87          92986.89         169442.00     -76455.11   \n",
       "50        17911.51          88478.77         199645.46    -111166.69   \n",
       "70        14226.15          87685.49         179447.64     -91762.15   \n",
       "47        22944.63          81471.19         138195.82     -56724.63   \n",
       "43        19896.39          80391.48         151790.09     -71398.61   \n",
       "77        11848.93          79535.67         141632.65     -62096.98   \n",
       "69         4830.54          75551.07         164209.13     -88658.06   \n",
       "73        25331.60          74257.40         132388.73     -58131.33   \n",
       "46        11786.36          73861.41         144004.80     -70143.39   \n",
       "83        21096.14          73605.02         129231.92     -55626.90   \n",
       "62        21222.58          73241.99         193552.51    -120310.52   \n",
       "49        10731.63          71043.72         128716.51     -57672.79   \n",
       "56         6003.48          71007.64         121554.87     -50547.23   \n",
       "61        13219.51          69492.92         170309.93    -100817.01   \n",
       "40        30373.36          69434.78         108934.01     -39499.23   \n",
       "26         8584.19          68898.25         184950.82    -116052.57   \n",
       "22        28913.95          68145.50         112879.10     -44733.60   \n",
       "20        39262.88          67604.49          88758.71     -21154.22   \n",
       "25        22063.22          67529.67          98920.41     -31390.74   \n",
       "..             ...               ...               ...           ...   \n",
       "65         8191.73          48786.48         136438.08     -87651.60   \n",
       "12        13657.88          47997.86          89219.61     -41221.75   \n",
       "28         2024.69          47262.02         102076.06     -54814.04   \n",
       "68         8404.65          46386.20         127381.83     -80995.63   \n",
       "17        16143.92          45184.90          83220.66     -38035.76   \n",
       "48        17395.40          44756.33          74480.39     -29724.06   \n",
       "31         7742.02          42233.66         100308.07     -58074.41   \n",
       "32        14333.43          42046.64         130148.87     -88102.23   \n",
       "33         2497.07          41633.91          99313.69     -57679.78   \n",
       "82           17.67          38961.81         110590.52     -71628.71   \n",
       "10        12578.95          36527.67          66324.56     -29796.89   \n",
       "13          720.73          34549.56          94994.61     -60445.05   \n",
       "45        12232.02          33041.83         106793.42     -73751.59   \n",
       "19         1785.37          31535.01          79722.88     -48187.87   \n",
       "8          3851.92          29105.70          50267.50     -21161.80   \n",
       "16         1601.99          28201.56          58693.69     -30492.13   \n",
       "14          643.56          25701.18          50969.65     -25268.47   \n",
       "18         7022.31          25479.77          67272.36     -41792.59   \n",
       "21          694.57          24438.20          54893.63     -30455.43   \n",
       "7          3174.34          22173.07          44664.46     -22491.39   \n",
       "11          840.12          21015.81          62572.08     -41556.27   \n",
       "15         1711.47          20914.64          71629.51     -50714.87   \n",
       "5          2804.58          19963.80          36373.46     -16409.66   \n",
       "9          1186.39          19602.44          43260.50     -23658.06   \n",
       "6            89.56          16351.35          33735.94     -17384.59   \n",
       "4            22.10          16103.58          33307.24     -17203.66   \n",
       "2          6122.78          12104.65          15961.96      -3857.31   \n",
       "0          6384.75          11579.16          16315.87      -4736.71   \n",
       "1          3333.05           8639.84          21428.64     -12788.80   \n",
       "3           135.42           4776.30           8876.78      -4100.48   \n",
       "\n",
       "    trade_times  init_cash  t1   t2  \n",
       "67        19582      50000  25  100  \n",
       "78        18363      50000  29   87  \n",
       "72        21689      50000  27   81  \n",
       "59        16716      50000  22  110  \n",
       "53        18649      50000  20  100  \n",
       "81        17610      50000  30   90  \n",
       "64        14491      50000  24   96  \n",
       "35        15309      50000  14   70  \n",
       "74        12042      50000  27  135  \n",
       "34        22335      50000  14   56  \n",
       "58        19145      50000  22   88  \n",
       "66        15465      50000  25   75  \n",
       "50        15534      50000  19   95  \n",
       "70        14804      50000  26  104  \n",
       "47        12742      50000  18   90  \n",
       "43        16246      50000  17   68  \n",
       "77        12371      50000  28  140  \n",
       "69        16222      50000  26   78  \n",
       "73        12959      50000  27  108  \n",
       "46        13823      50000  18   72  \n",
       "83         9332      50000  30  150  \n",
       "62        15207      50000  23  115  \n",
       "49        13539      50000  19   76  \n",
       "56        13428      50000  21  105  \n",
       "61        14864      50000  23   92  \n",
       "40        13262      50000  16   64  \n",
       "26        19526      50000  11   55  \n",
       "22        17180      50000  10   40  \n",
       "20        16033      50000   9   45  \n",
       "25        14679      50000  11   44  \n",
       "..          ...        ...  ..  ...  \n",
       "65        10415      50000  24  120  \n",
       "12        17856      50000   7   21  \n",
       "28        13640      50000  12   48  \n",
       "68         9876      50000  25  125  \n",
       "17        17139      50000   8   40  \n",
       "48        12857      50000  19   57  \n",
       "31        12520      50000  13   52  \n",
       "32        14752      50000  13   65  \n",
       "33        13980      50000  14   42  \n",
       "82        10159      50000  30  120  \n",
       "10        18369      50000   6   24  \n",
       "13        18797      50000   7   28  \n",
       "45        12860      50000  18   54  \n",
       "19        16447      50000   9   36  \n",
       "8         13940      50000   5   25  \n",
       "16        15514      50000   8   32  \n",
       "14        14766      50000   7   35  \n",
       "18        15511      50000   9   27  \n",
       "21        14537      50000  10   30  \n",
       "7         15002      50000   5   20  \n",
       "11        17209      50000   6   30  \n",
       "15        15584      50000   8   24  \n",
       "5         15085      50000   4   20  \n",
       "9         13689      50000   6   18  \n",
       "6         19268      50000   5   15  \n",
       "4         17715      50000   4   16  \n",
       "2         14470      50000   3   15  \n",
       "0         16883      50000   3    9  \n",
       "1         18032      50000   3   12  \n",
       "3         13619      50000   4   12  \n",
       "\n",
       "[84 rows x 8 columns]"
      ]
     },
     "execution_count": 8,
     "metadata": {},
     "output_type": "execute_result"
    }
   ],
   "source": [
    "pd.read_csv(r'C:\\Users\\guqiang\\Desktop\\DEMA双线交叉.csv').sort_values(\"total_assets_cur\",ascending=False)"
   ]
  },
  {
   "cell_type": "code",
   "execution_count": null,
   "metadata": {},
   "outputs": [],
   "source": []
  }
 ],
 "metadata": {
  "kernelspec": {
   "display_name": "stock_ai",
   "language": "python",
   "name": "stock_ai"
  },
  "language_info": {
   "codemirror_mode": {
    "name": "ipython",
    "version": 3
   },
   "file_extension": ".py",
   "mimetype": "text/x-python",
   "name": "python",
   "nbconvert_exporter": "python",
   "pygments_lexer": "ipython3",
   "version": "3.7.3"
  }
 },
 "nbformat": 4,
 "nbformat_minor": 2
}
