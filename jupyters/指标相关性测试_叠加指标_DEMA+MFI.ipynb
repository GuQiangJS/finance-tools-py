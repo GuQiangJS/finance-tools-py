{
  "nbformat": 4,
  "nbformat_minor": 0,
  "metadata": {
    "colab": {
      "name": "指标相关性测试-叠加指标-DEMA+MFI",
      "provenance": [],
      "collapsed_sections": [],
      "toc_visible": true,
      "authorship_tag": "ABX9TyMMATq/a/SFATj3vQSlM93l",
      "include_colab_link": true
    },
    "kernelspec": {
      "name": "python3",
      "display_name": "Python 3"
    },
    "widgets": {
      "application/vnd.jupyter.widget-state+json": {
        "1729d77aacd44017b55571a0fb97c101": {
          "model_module": "@jupyter-widgets/controls",
          "model_name": "HBoxModel",
          "state": {
            "_view_name": "HBoxView",
            "_dom_classes": [],
            "_model_name": "HBoxModel",
            "_view_module": "@jupyter-widgets/controls",
            "_model_module_version": "1.5.0",
            "_view_count": null,
            "_view_module_version": "1.5.0",
            "box_style": "",
            "layout": "IPY_MODEL_7b19f8b34d354bffb22a1ba75273b738",
            "_model_module": "@jupyter-widgets/controls",
            "children": [
              "IPY_MODEL_e5449732b2ce417285f45925069bb64e",
              "IPY_MODEL_4faaca0dd8e0459a80483a17c4a538a8"
            ]
          }
        },
        "7b19f8b34d354bffb22a1ba75273b738": {
          "model_module": "@jupyter-widgets/base",
          "model_name": "LayoutModel",
          "state": {
            "_view_name": "LayoutView",
            "grid_template_rows": null,
            "right": null,
            "justify_content": null,
            "_view_module": "@jupyter-widgets/base",
            "overflow": null,
            "_model_module_version": "1.2.0",
            "_view_count": null,
            "flex_flow": null,
            "width": null,
            "min_width": null,
            "border": null,
            "align_items": null,
            "bottom": null,
            "_model_module": "@jupyter-widgets/base",
            "top": null,
            "grid_column": null,
            "overflow_y": null,
            "overflow_x": null,
            "grid_auto_flow": null,
            "grid_area": null,
            "grid_template_columns": null,
            "flex": null,
            "_model_name": "LayoutModel",
            "justify_items": null,
            "grid_row": null,
            "max_height": null,
            "align_content": null,
            "visibility": null,
            "align_self": null,
            "height": null,
            "min_height": null,
            "padding": null,
            "grid_auto_rows": null,
            "grid_gap": null,
            "max_width": null,
            "order": null,
            "_view_module_version": "1.2.0",
            "grid_template_areas": null,
            "object_position": null,
            "object_fit": null,
            "grid_auto_columns": null,
            "margin": null,
            "display": null,
            "left": null
          }
        },
        "e5449732b2ce417285f45925069bb64e": {
          "model_module": "@jupyter-widgets/controls",
          "model_name": "IntProgressModel",
          "state": {
            "_view_name": "ProgressView",
            "style": "IPY_MODEL_831b5c79c4ca433f8f946dae6ac378e4",
            "_dom_classes": [],
            "description": "回测计算中...: 100%",
            "_model_name": "IntProgressModel",
            "bar_style": "success",
            "max": 4236,
            "_view_module": "@jupyter-widgets/controls",
            "_model_module_version": "1.5.0",
            "value": 4236,
            "_view_count": null,
            "_view_module_version": "1.5.0",
            "orientation": "horizontal",
            "min": 0,
            "description_tooltip": null,
            "_model_module": "@jupyter-widgets/controls",
            "layout": "IPY_MODEL_d5f066b88bc740018ab0caf0f47cbb22"
          }
        },
        "4faaca0dd8e0459a80483a17c4a538a8": {
          "model_module": "@jupyter-widgets/controls",
          "model_name": "HTMLModel",
          "state": {
            "_view_name": "HTMLView",
            "style": "IPY_MODEL_bcaab09b7bf44cd4bd950716fa8aa81a",
            "_dom_classes": [],
            "description": "",
            "_model_name": "HTMLModel",
            "placeholder": "​",
            "_view_module": "@jupyter-widgets/controls",
            "_model_module_version": "1.5.0",
            "value": " 4236/4236 [00:03&lt;00:00, 1197.43it/s]",
            "_view_count": null,
            "_view_module_version": "1.5.0",
            "description_tooltip": null,
            "_model_module": "@jupyter-widgets/controls",
            "layout": "IPY_MODEL_dafaed5f331049c0bb185f675d543094"
          }
        },
        "831b5c79c4ca433f8f946dae6ac378e4": {
          "model_module": "@jupyter-widgets/controls",
          "model_name": "ProgressStyleModel",
          "state": {
            "_view_name": "StyleView",
            "_model_name": "ProgressStyleModel",
            "description_width": "initial",
            "_view_module": "@jupyter-widgets/base",
            "_model_module_version": "1.5.0",
            "_view_count": null,
            "_view_module_version": "1.2.0",
            "bar_color": null,
            "_model_module": "@jupyter-widgets/controls"
          }
        },
        "d5f066b88bc740018ab0caf0f47cbb22": {
          "model_module": "@jupyter-widgets/base",
          "model_name": "LayoutModel",
          "state": {
            "_view_name": "LayoutView",
            "grid_template_rows": null,
            "right": null,
            "justify_content": null,
            "_view_module": "@jupyter-widgets/base",
            "overflow": null,
            "_model_module_version": "1.2.0",
            "_view_count": null,
            "flex_flow": null,
            "width": null,
            "min_width": null,
            "border": null,
            "align_items": null,
            "bottom": null,
            "_model_module": "@jupyter-widgets/base",
            "top": null,
            "grid_column": null,
            "overflow_y": null,
            "overflow_x": null,
            "grid_auto_flow": null,
            "grid_area": null,
            "grid_template_columns": null,
            "flex": null,
            "_model_name": "LayoutModel",
            "justify_items": null,
            "grid_row": null,
            "max_height": null,
            "align_content": null,
            "visibility": null,
            "align_self": null,
            "height": null,
            "min_height": null,
            "padding": null,
            "grid_auto_rows": null,
            "grid_gap": null,
            "max_width": null,
            "order": null,
            "_view_module_version": "1.2.0",
            "grid_template_areas": null,
            "object_position": null,
            "object_fit": null,
            "grid_auto_columns": null,
            "margin": null,
            "display": null,
            "left": null
          }
        },
        "bcaab09b7bf44cd4bd950716fa8aa81a": {
          "model_module": "@jupyter-widgets/controls",
          "model_name": "DescriptionStyleModel",
          "state": {
            "_view_name": "StyleView",
            "_model_name": "DescriptionStyleModel",
            "description_width": "",
            "_view_module": "@jupyter-widgets/base",
            "_model_module_version": "1.5.0",
            "_view_count": null,
            "_view_module_version": "1.2.0",
            "_model_module": "@jupyter-widgets/controls"
          }
        },
        "dafaed5f331049c0bb185f675d543094": {
          "model_module": "@jupyter-widgets/base",
          "model_name": "LayoutModel",
          "state": {
            "_view_name": "LayoutView",
            "grid_template_rows": null,
            "right": null,
            "justify_content": null,
            "_view_module": "@jupyter-widgets/base",
            "overflow": null,
            "_model_module_version": "1.2.0",
            "_view_count": null,
            "flex_flow": null,
            "width": null,
            "min_width": null,
            "border": null,
            "align_items": null,
            "bottom": null,
            "_model_module": "@jupyter-widgets/base",
            "top": null,
            "grid_column": null,
            "overflow_y": null,
            "overflow_x": null,
            "grid_auto_flow": null,
            "grid_area": null,
            "grid_template_columns": null,
            "flex": null,
            "_model_name": "LayoutModel",
            "justify_items": null,
            "grid_row": null,
            "max_height": null,
            "align_content": null,
            "visibility": null,
            "align_self": null,
            "height": null,
            "min_height": null,
            "padding": null,
            "grid_auto_rows": null,
            "grid_gap": null,
            "max_width": null,
            "order": null,
            "_view_module_version": "1.2.0",
            "grid_template_areas": null,
            "object_position": null,
            "object_fit": null,
            "grid_auto_columns": null,
            "margin": null,
            "display": null,
            "left": null
          }
        },
        "f28fc7d2b1d940e0ba3f4cc2c2f02253": {
          "model_module": "@jupyter-widgets/controls",
          "model_name": "HBoxModel",
          "state": {
            "_view_name": "HBoxView",
            "_dom_classes": [],
            "_model_name": "HBoxModel",
            "_view_module": "@jupyter-widgets/controls",
            "_model_module_version": "1.5.0",
            "_view_count": null,
            "_view_module_version": "1.5.0",
            "box_style": "",
            "layout": "IPY_MODEL_bf1d5aafc30f4b5a8e461590f33b6492",
            "_model_module": "@jupyter-widgets/controls",
            "children": [
              "IPY_MODEL_8cf9d792e30f4f5599814737f68a3c1d",
              "IPY_MODEL_cf8e0aa3ecd94d479e405a8278fe9e4c"
            ]
          }
        },
        "bf1d5aafc30f4b5a8e461590f33b6492": {
          "model_module": "@jupyter-widgets/base",
          "model_name": "LayoutModel",
          "state": {
            "_view_name": "LayoutView",
            "grid_template_rows": null,
            "right": null,
            "justify_content": null,
            "_view_module": "@jupyter-widgets/base",
            "overflow": null,
            "_model_module_version": "1.2.0",
            "_view_count": null,
            "flex_flow": null,
            "width": null,
            "min_width": null,
            "border": null,
            "align_items": null,
            "bottom": null,
            "_model_module": "@jupyter-widgets/base",
            "top": null,
            "grid_column": null,
            "overflow_y": null,
            "overflow_x": null,
            "grid_auto_flow": null,
            "grid_area": null,
            "grid_template_columns": null,
            "flex": null,
            "_model_name": "LayoutModel",
            "justify_items": null,
            "grid_row": null,
            "max_height": null,
            "align_content": null,
            "visibility": null,
            "align_self": null,
            "height": null,
            "min_height": null,
            "padding": null,
            "grid_auto_rows": null,
            "grid_gap": null,
            "max_width": null,
            "order": null,
            "_view_module_version": "1.2.0",
            "grid_template_areas": null,
            "object_position": null,
            "object_fit": null,
            "grid_auto_columns": null,
            "margin": null,
            "display": null,
            "left": null
          }
        },
        "8cf9d792e30f4f5599814737f68a3c1d": {
          "model_module": "@jupyter-widgets/controls",
          "model_name": "IntProgressModel",
          "state": {
            "_view_name": "ProgressView",
            "style": "IPY_MODEL_bff9f28fae84400e99895ae215fab58e",
            "_dom_classes": [],
            "description": "回测计算中...: 100%",
            "_model_name": "IntProgressModel",
            "bar_style": "success",
            "max": 4236,
            "_view_module": "@jupyter-widgets/controls",
            "_model_module_version": "1.5.0",
            "value": 4236,
            "_view_count": null,
            "_view_module_version": "1.5.0",
            "orientation": "horizontal",
            "min": 0,
            "description_tooltip": null,
            "_model_module": "@jupyter-widgets/controls",
            "layout": "IPY_MODEL_d4b7c9e9608e49cebe0b319bd3a76dcf"
          }
        },
        "cf8e0aa3ecd94d479e405a8278fe9e4c": {
          "model_module": "@jupyter-widgets/controls",
          "model_name": "HTMLModel",
          "state": {
            "_view_name": "HTMLView",
            "style": "IPY_MODEL_0265ce364384489dbc8fdfb3c924bc6b",
            "_dom_classes": [],
            "description": "",
            "_model_name": "HTMLModel",
            "placeholder": "​",
            "_view_module": "@jupyter-widgets/controls",
            "_model_module_version": "1.5.0",
            "value": " 4236/4236 [00:01&lt;00:00, 3201.39it/s]",
            "_view_count": null,
            "_view_module_version": "1.5.0",
            "description_tooltip": null,
            "_model_module": "@jupyter-widgets/controls",
            "layout": "IPY_MODEL_b3080a1771db4448bbbddc4027983fe4"
          }
        },
        "bff9f28fae84400e99895ae215fab58e": {
          "model_module": "@jupyter-widgets/controls",
          "model_name": "ProgressStyleModel",
          "state": {
            "_view_name": "StyleView",
            "_model_name": "ProgressStyleModel",
            "description_width": "initial",
            "_view_module": "@jupyter-widgets/base",
            "_model_module_version": "1.5.0",
            "_view_count": null,
            "_view_module_version": "1.2.0",
            "bar_color": null,
            "_model_module": "@jupyter-widgets/controls"
          }
        },
        "d4b7c9e9608e49cebe0b319bd3a76dcf": {
          "model_module": "@jupyter-widgets/base",
          "model_name": "LayoutModel",
          "state": {
            "_view_name": "LayoutView",
            "grid_template_rows": null,
            "right": null,
            "justify_content": null,
            "_view_module": "@jupyter-widgets/base",
            "overflow": null,
            "_model_module_version": "1.2.0",
            "_view_count": null,
            "flex_flow": null,
            "width": null,
            "min_width": null,
            "border": null,
            "align_items": null,
            "bottom": null,
            "_model_module": "@jupyter-widgets/base",
            "top": null,
            "grid_column": null,
            "overflow_y": null,
            "overflow_x": null,
            "grid_auto_flow": null,
            "grid_area": null,
            "grid_template_columns": null,
            "flex": null,
            "_model_name": "LayoutModel",
            "justify_items": null,
            "grid_row": null,
            "max_height": null,
            "align_content": null,
            "visibility": null,
            "align_self": null,
            "height": null,
            "min_height": null,
            "padding": null,
            "grid_auto_rows": null,
            "grid_gap": null,
            "max_width": null,
            "order": null,
            "_view_module_version": "1.2.0",
            "grid_template_areas": null,
            "object_position": null,
            "object_fit": null,
            "grid_auto_columns": null,
            "margin": null,
            "display": null,
            "left": null
          }
        },
        "0265ce364384489dbc8fdfb3c924bc6b": {
          "model_module": "@jupyter-widgets/controls",
          "model_name": "DescriptionStyleModel",
          "state": {
            "_view_name": "StyleView",
            "_model_name": "DescriptionStyleModel",
            "description_width": "",
            "_view_module": "@jupyter-widgets/base",
            "_model_module_version": "1.5.0",
            "_view_count": null,
            "_view_module_version": "1.2.0",
            "_model_module": "@jupyter-widgets/controls"
          }
        },
        "b3080a1771db4448bbbddc4027983fe4": {
          "model_module": "@jupyter-widgets/base",
          "model_name": "LayoutModel",
          "state": {
            "_view_name": "LayoutView",
            "grid_template_rows": null,
            "right": null,
            "justify_content": null,
            "_view_module": "@jupyter-widgets/base",
            "overflow": null,
            "_model_module_version": "1.2.0",
            "_view_count": null,
            "flex_flow": null,
            "width": null,
            "min_width": null,
            "border": null,
            "align_items": null,
            "bottom": null,
            "_model_module": "@jupyter-widgets/base",
            "top": null,
            "grid_column": null,
            "overflow_y": null,
            "overflow_x": null,
            "grid_auto_flow": null,
            "grid_area": null,
            "grid_template_columns": null,
            "flex": null,
            "_model_name": "LayoutModel",
            "justify_items": null,
            "grid_row": null,
            "max_height": null,
            "align_content": null,
            "visibility": null,
            "align_self": null,
            "height": null,
            "min_height": null,
            "padding": null,
            "grid_auto_rows": null,
            "grid_gap": null,
            "max_width": null,
            "order": null,
            "_view_module_version": "1.2.0",
            "grid_template_areas": null,
            "object_position": null,
            "object_fit": null,
            "grid_auto_columns": null,
            "margin": null,
            "display": null,
            "left": null
          }
        },
        "afe9df7bd3054afb9af9a09c25df2f51": {
          "model_module": "@jupyter-widgets/controls",
          "model_name": "HBoxModel",
          "state": {
            "_view_name": "HBoxView",
            "_dom_classes": [],
            "_model_name": "HBoxModel",
            "_view_module": "@jupyter-widgets/controls",
            "_model_module_version": "1.5.0",
            "_view_count": null,
            "_view_module_version": "1.5.0",
            "box_style": "",
            "layout": "IPY_MODEL_5bdbac03adee4d3eae3ea4ba59608f27",
            "_model_module": "@jupyter-widgets/controls",
            "children": [
              "IPY_MODEL_e4b98affd0fe4de885459d20fec1a856",
              "IPY_MODEL_a39ed848943a4259a0df32edb5e9b9b7"
            ]
          }
        },
        "5bdbac03adee4d3eae3ea4ba59608f27": {
          "model_module": "@jupyter-widgets/base",
          "model_name": "LayoutModel",
          "state": {
            "_view_name": "LayoutView",
            "grid_template_rows": null,
            "right": null,
            "justify_content": null,
            "_view_module": "@jupyter-widgets/base",
            "overflow": null,
            "_model_module_version": "1.2.0",
            "_view_count": null,
            "flex_flow": null,
            "width": null,
            "min_width": null,
            "border": null,
            "align_items": null,
            "bottom": null,
            "_model_module": "@jupyter-widgets/base",
            "top": null,
            "grid_column": null,
            "overflow_y": null,
            "overflow_x": null,
            "grid_auto_flow": null,
            "grid_area": null,
            "grid_template_columns": null,
            "flex": null,
            "_model_name": "LayoutModel",
            "justify_items": null,
            "grid_row": null,
            "max_height": null,
            "align_content": null,
            "visibility": null,
            "align_self": null,
            "height": null,
            "min_height": null,
            "padding": null,
            "grid_auto_rows": null,
            "grid_gap": null,
            "max_width": null,
            "order": null,
            "_view_module_version": "1.2.0",
            "grid_template_areas": null,
            "object_position": null,
            "object_fit": null,
            "grid_auto_columns": null,
            "margin": null,
            "display": null,
            "left": null
          }
        },
        "e4b98affd0fe4de885459d20fec1a856": {
          "model_module": "@jupyter-widgets/controls",
          "model_name": "IntProgressModel",
          "state": {
            "_view_name": "ProgressView",
            "style": "IPY_MODEL_3d7a2a508eba49b08e156da079540f89",
            "_dom_classes": [],
            "description": "回测计算中...: 100%",
            "_model_name": "IntProgressModel",
            "bar_style": "success",
            "max": 5860,
            "_view_module": "@jupyter-widgets/controls",
            "_model_module_version": "1.5.0",
            "value": 5860,
            "_view_count": null,
            "_view_module_version": "1.5.0",
            "orientation": "horizontal",
            "min": 0,
            "description_tooltip": null,
            "_model_module": "@jupyter-widgets/controls",
            "layout": "IPY_MODEL_53b4b7537ce441c4accf06847818c020"
          }
        },
        "a39ed848943a4259a0df32edb5e9b9b7": {
          "model_module": "@jupyter-widgets/controls",
          "model_name": "HTMLModel",
          "state": {
            "_view_name": "HTMLView",
            "style": "IPY_MODEL_fecaf208d1414a649ad3a6aaf656b7e8",
            "_dom_classes": [],
            "description": "",
            "_model_name": "HTMLModel",
            "placeholder": "​",
            "_view_module": "@jupyter-widgets/controls",
            "_model_module_version": "1.5.0",
            "value": " 5860/5860 [00:05&lt;00:00, 1074.50it/s]",
            "_view_count": null,
            "_view_module_version": "1.5.0",
            "description_tooltip": null,
            "_model_module": "@jupyter-widgets/controls",
            "layout": "IPY_MODEL_88dd399adbe74a8cb923e71a627ca0b9"
          }
        },
        "3d7a2a508eba49b08e156da079540f89": {
          "model_module": "@jupyter-widgets/controls",
          "model_name": "ProgressStyleModel",
          "state": {
            "_view_name": "StyleView",
            "_model_name": "ProgressStyleModel",
            "description_width": "initial",
            "_view_module": "@jupyter-widgets/base",
            "_model_module_version": "1.5.0",
            "_view_count": null,
            "_view_module_version": "1.2.0",
            "bar_color": null,
            "_model_module": "@jupyter-widgets/controls"
          }
        },
        "53b4b7537ce441c4accf06847818c020": {
          "model_module": "@jupyter-widgets/base",
          "model_name": "LayoutModel",
          "state": {
            "_view_name": "LayoutView",
            "grid_template_rows": null,
            "right": null,
            "justify_content": null,
            "_view_module": "@jupyter-widgets/base",
            "overflow": null,
            "_model_module_version": "1.2.0",
            "_view_count": null,
            "flex_flow": null,
            "width": null,
            "min_width": null,
            "border": null,
            "align_items": null,
            "bottom": null,
            "_model_module": "@jupyter-widgets/base",
            "top": null,
            "grid_column": null,
            "overflow_y": null,
            "overflow_x": null,
            "grid_auto_flow": null,
            "grid_area": null,
            "grid_template_columns": null,
            "flex": null,
            "_model_name": "LayoutModel",
            "justify_items": null,
            "grid_row": null,
            "max_height": null,
            "align_content": null,
            "visibility": null,
            "align_self": null,
            "height": null,
            "min_height": null,
            "padding": null,
            "grid_auto_rows": null,
            "grid_gap": null,
            "max_width": null,
            "order": null,
            "_view_module_version": "1.2.0",
            "grid_template_areas": null,
            "object_position": null,
            "object_fit": null,
            "grid_auto_columns": null,
            "margin": null,
            "display": null,
            "left": null
          }
        },
        "fecaf208d1414a649ad3a6aaf656b7e8": {
          "model_module": "@jupyter-widgets/controls",
          "model_name": "DescriptionStyleModel",
          "state": {
            "_view_name": "StyleView",
            "_model_name": "DescriptionStyleModel",
            "description_width": "",
            "_view_module": "@jupyter-widgets/base",
            "_model_module_version": "1.5.0",
            "_view_count": null,
            "_view_module_version": "1.2.0",
            "_model_module": "@jupyter-widgets/controls"
          }
        },
        "88dd399adbe74a8cb923e71a627ca0b9": {
          "model_module": "@jupyter-widgets/base",
          "model_name": "LayoutModel",
          "state": {
            "_view_name": "LayoutView",
            "grid_template_rows": null,
            "right": null,
            "justify_content": null,
            "_view_module": "@jupyter-widgets/base",
            "overflow": null,
            "_model_module_version": "1.2.0",
            "_view_count": null,
            "flex_flow": null,
            "width": null,
            "min_width": null,
            "border": null,
            "align_items": null,
            "bottom": null,
            "_model_module": "@jupyter-widgets/base",
            "top": null,
            "grid_column": null,
            "overflow_y": null,
            "overflow_x": null,
            "grid_auto_flow": null,
            "grid_area": null,
            "grid_template_columns": null,
            "flex": null,
            "_model_name": "LayoutModel",
            "justify_items": null,
            "grid_row": null,
            "max_height": null,
            "align_content": null,
            "visibility": null,
            "align_self": null,
            "height": null,
            "min_height": null,
            "padding": null,
            "grid_auto_rows": null,
            "grid_gap": null,
            "max_width": null,
            "order": null,
            "_view_module_version": "1.2.0",
            "grid_template_areas": null,
            "object_position": null,
            "object_fit": null,
            "grid_auto_columns": null,
            "margin": null,
            "display": null,
            "left": null
          }
        },
        "cca89303b6ba4f8a97d7b76545a0c037": {
          "model_module": "@jupyter-widgets/controls",
          "model_name": "HBoxModel",
          "state": {
            "_view_name": "HBoxView",
            "_dom_classes": [],
            "_model_name": "HBoxModel",
            "_view_module": "@jupyter-widgets/controls",
            "_model_module_version": "1.5.0",
            "_view_count": null,
            "_view_module_version": "1.5.0",
            "box_style": "",
            "layout": "IPY_MODEL_a969ff3c1cf1421ebc4b6f0f055dbe22",
            "_model_module": "@jupyter-widgets/controls",
            "children": [
              "IPY_MODEL_cb5d82400b304d768f3f85bbba41b32e",
              "IPY_MODEL_e2f62093c6d4429bb5a0b40c57759106"
            ]
          }
        },
        "a969ff3c1cf1421ebc4b6f0f055dbe22": {
          "model_module": "@jupyter-widgets/base",
          "model_name": "LayoutModel",
          "state": {
            "_view_name": "LayoutView",
            "grid_template_rows": null,
            "right": null,
            "justify_content": null,
            "_view_module": "@jupyter-widgets/base",
            "overflow": null,
            "_model_module_version": "1.2.0",
            "_view_count": null,
            "flex_flow": null,
            "width": null,
            "min_width": null,
            "border": null,
            "align_items": null,
            "bottom": null,
            "_model_module": "@jupyter-widgets/base",
            "top": null,
            "grid_column": null,
            "overflow_y": null,
            "overflow_x": null,
            "grid_auto_flow": null,
            "grid_area": null,
            "grid_template_columns": null,
            "flex": null,
            "_model_name": "LayoutModel",
            "justify_items": null,
            "grid_row": null,
            "max_height": null,
            "align_content": null,
            "visibility": null,
            "align_self": null,
            "height": null,
            "min_height": null,
            "padding": null,
            "grid_auto_rows": null,
            "grid_gap": null,
            "max_width": null,
            "order": null,
            "_view_module_version": "1.2.0",
            "grid_template_areas": null,
            "object_position": null,
            "object_fit": null,
            "grid_auto_columns": null,
            "margin": null,
            "display": null,
            "left": null
          }
        },
        "cb5d82400b304d768f3f85bbba41b32e": {
          "model_module": "@jupyter-widgets/controls",
          "model_name": "IntProgressModel",
          "state": {
            "_view_name": "ProgressView",
            "style": "IPY_MODEL_a07f24896b4d4b71bcfde5274a95ce88",
            "_dom_classes": [],
            "description": "回测计算中...: 100%",
            "_model_name": "IntProgressModel",
            "bar_style": "success",
            "max": 5860,
            "_view_module": "@jupyter-widgets/controls",
            "_model_module_version": "1.5.0",
            "value": 5860,
            "_view_count": null,
            "_view_module_version": "1.5.0",
            "orientation": "horizontal",
            "min": 0,
            "description_tooltip": null,
            "_model_module": "@jupyter-widgets/controls",
            "layout": "IPY_MODEL_f25e3b13a9244549a415b56a4d56a924"
          }
        },
        "e2f62093c6d4429bb5a0b40c57759106": {
          "model_module": "@jupyter-widgets/controls",
          "model_name": "HTMLModel",
          "state": {
            "_view_name": "HTMLView",
            "style": "IPY_MODEL_0c19f0e4c1bd4075a81ba661bc50babf",
            "_dom_classes": [],
            "description": "",
            "_model_name": "HTMLModel",
            "placeholder": "​",
            "_view_module": "@jupyter-widgets/controls",
            "_model_module_version": "1.5.0",
            "value": " 5860/5860 [00:01&lt;00:00, 3082.80it/s]",
            "_view_count": null,
            "_view_module_version": "1.5.0",
            "description_tooltip": null,
            "_model_module": "@jupyter-widgets/controls",
            "layout": "IPY_MODEL_0424942209fb4b8cbf6928a0983350b9"
          }
        },
        "a07f24896b4d4b71bcfde5274a95ce88": {
          "model_module": "@jupyter-widgets/controls",
          "model_name": "ProgressStyleModel",
          "state": {
            "_view_name": "StyleView",
            "_model_name": "ProgressStyleModel",
            "description_width": "initial",
            "_view_module": "@jupyter-widgets/base",
            "_model_module_version": "1.5.0",
            "_view_count": null,
            "_view_module_version": "1.2.0",
            "bar_color": null,
            "_model_module": "@jupyter-widgets/controls"
          }
        },
        "f25e3b13a9244549a415b56a4d56a924": {
          "model_module": "@jupyter-widgets/base",
          "model_name": "LayoutModel",
          "state": {
            "_view_name": "LayoutView",
            "grid_template_rows": null,
            "right": null,
            "justify_content": null,
            "_view_module": "@jupyter-widgets/base",
            "overflow": null,
            "_model_module_version": "1.2.0",
            "_view_count": null,
            "flex_flow": null,
            "width": null,
            "min_width": null,
            "border": null,
            "align_items": null,
            "bottom": null,
            "_model_module": "@jupyter-widgets/base",
            "top": null,
            "grid_column": null,
            "overflow_y": null,
            "overflow_x": null,
            "grid_auto_flow": null,
            "grid_area": null,
            "grid_template_columns": null,
            "flex": null,
            "_model_name": "LayoutModel",
            "justify_items": null,
            "grid_row": null,
            "max_height": null,
            "align_content": null,
            "visibility": null,
            "align_self": null,
            "height": null,
            "min_height": null,
            "padding": null,
            "grid_auto_rows": null,
            "grid_gap": null,
            "max_width": null,
            "order": null,
            "_view_module_version": "1.2.0",
            "grid_template_areas": null,
            "object_position": null,
            "object_fit": null,
            "grid_auto_columns": null,
            "margin": null,
            "display": null,
            "left": null
          }
        },
        "0c19f0e4c1bd4075a81ba661bc50babf": {
          "model_module": "@jupyter-widgets/controls",
          "model_name": "DescriptionStyleModel",
          "state": {
            "_view_name": "StyleView",
            "_model_name": "DescriptionStyleModel",
            "description_width": "",
            "_view_module": "@jupyter-widgets/base",
            "_model_module_version": "1.5.0",
            "_view_count": null,
            "_view_module_version": "1.2.0",
            "_model_module": "@jupyter-widgets/controls"
          }
        },
        "0424942209fb4b8cbf6928a0983350b9": {
          "model_module": "@jupyter-widgets/base",
          "model_name": "LayoutModel",
          "state": {
            "_view_name": "LayoutView",
            "grid_template_rows": null,
            "right": null,
            "justify_content": null,
            "_view_module": "@jupyter-widgets/base",
            "overflow": null,
            "_model_module_version": "1.2.0",
            "_view_count": null,
            "flex_flow": null,
            "width": null,
            "min_width": null,
            "border": null,
            "align_items": null,
            "bottom": null,
            "_model_module": "@jupyter-widgets/base",
            "top": null,
            "grid_column": null,
            "overflow_y": null,
            "overflow_x": null,
            "grid_auto_flow": null,
            "grid_area": null,
            "grid_template_columns": null,
            "flex": null,
            "_model_name": "LayoutModel",
            "justify_items": null,
            "grid_row": null,
            "max_height": null,
            "align_content": null,
            "visibility": null,
            "align_self": null,
            "height": null,
            "min_height": null,
            "padding": null,
            "grid_auto_rows": null,
            "grid_gap": null,
            "max_width": null,
            "order": null,
            "_view_module_version": "1.2.0",
            "grid_template_areas": null,
            "object_position": null,
            "object_fit": null,
            "grid_auto_columns": null,
            "margin": null,
            "display": null,
            "left": null
          }
        },
        "836f4b696dcc4dd5b9854fc0bafb90ed": {
          "model_module": "@jupyter-widgets/controls",
          "model_name": "HBoxModel",
          "state": {
            "_view_name": "HBoxView",
            "_dom_classes": [],
            "_model_name": "HBoxModel",
            "_view_module": "@jupyter-widgets/controls",
            "_model_module_version": "1.5.0",
            "_view_count": null,
            "_view_module_version": "1.5.0",
            "box_style": "",
            "layout": "IPY_MODEL_e8bd29ec65e6420a868902b2a43c3af5",
            "_model_module": "@jupyter-widgets/controls",
            "children": [
              "IPY_MODEL_921ce539869a4eae98470e63beb956ab",
              "IPY_MODEL_f81dd02c2e924bef9200d4a9c544b481"
            ]
          }
        },
        "e8bd29ec65e6420a868902b2a43c3af5": {
          "model_module": "@jupyter-widgets/base",
          "model_name": "LayoutModel",
          "state": {
            "_view_name": "LayoutView",
            "grid_template_rows": null,
            "right": null,
            "justify_content": null,
            "_view_module": "@jupyter-widgets/base",
            "overflow": null,
            "_model_module_version": "1.2.0",
            "_view_count": null,
            "flex_flow": null,
            "width": null,
            "min_width": null,
            "border": null,
            "align_items": null,
            "bottom": null,
            "_model_module": "@jupyter-widgets/base",
            "top": null,
            "grid_column": null,
            "overflow_y": null,
            "overflow_x": null,
            "grid_auto_flow": null,
            "grid_area": null,
            "grid_template_columns": null,
            "flex": null,
            "_model_name": "LayoutModel",
            "justify_items": null,
            "grid_row": null,
            "max_height": null,
            "align_content": null,
            "visibility": null,
            "align_self": null,
            "height": null,
            "min_height": null,
            "padding": null,
            "grid_auto_rows": null,
            "grid_gap": null,
            "max_width": null,
            "order": null,
            "_view_module_version": "1.2.0",
            "grid_template_areas": null,
            "object_position": null,
            "object_fit": null,
            "grid_auto_columns": null,
            "margin": null,
            "display": null,
            "left": null
          }
        },
        "921ce539869a4eae98470e63beb956ab": {
          "model_module": "@jupyter-widgets/controls",
          "model_name": "IntProgressModel",
          "state": {
            "_view_name": "ProgressView",
            "style": "IPY_MODEL_d25fdd709d944cc69ef499cac1475108",
            "_dom_classes": [],
            "description": "回测计算中...: 100%",
            "_model_name": "IntProgressModel",
            "bar_style": "success",
            "max": 4236,
            "_view_module": "@jupyter-widgets/controls",
            "_model_module_version": "1.5.0",
            "value": 4236,
            "_view_count": null,
            "_view_module_version": "1.5.0",
            "orientation": "horizontal",
            "min": 0,
            "description_tooltip": null,
            "_model_module": "@jupyter-widgets/controls",
            "layout": "IPY_MODEL_bedbe5b752ba4227a3edb27c7e72f338"
          }
        },
        "f81dd02c2e924bef9200d4a9c544b481": {
          "model_module": "@jupyter-widgets/controls",
          "model_name": "HTMLModel",
          "state": {
            "_view_name": "HTMLView",
            "style": "IPY_MODEL_2c596070530845fb85ad83f5445a7814",
            "_dom_classes": [],
            "description": "",
            "_model_name": "HTMLModel",
            "placeholder": "​",
            "_view_module": "@jupyter-widgets/controls",
            "_model_module_version": "1.5.0",
            "value": " 4236/4236 [00:02&lt;00:00, 1509.68it/s]",
            "_view_count": null,
            "_view_module_version": "1.5.0",
            "description_tooltip": null,
            "_model_module": "@jupyter-widgets/controls",
            "layout": "IPY_MODEL_5b090d5d95c54111ba8961d8b7a2ee57"
          }
        },
        "d25fdd709d944cc69ef499cac1475108": {
          "model_module": "@jupyter-widgets/controls",
          "model_name": "ProgressStyleModel",
          "state": {
            "_view_name": "StyleView",
            "_model_name": "ProgressStyleModel",
            "description_width": "initial",
            "_view_module": "@jupyter-widgets/base",
            "_model_module_version": "1.5.0",
            "_view_count": null,
            "_view_module_version": "1.2.0",
            "bar_color": null,
            "_model_module": "@jupyter-widgets/controls"
          }
        },
        "bedbe5b752ba4227a3edb27c7e72f338": {
          "model_module": "@jupyter-widgets/base",
          "model_name": "LayoutModel",
          "state": {
            "_view_name": "LayoutView",
            "grid_template_rows": null,
            "right": null,
            "justify_content": null,
            "_view_module": "@jupyter-widgets/base",
            "overflow": null,
            "_model_module_version": "1.2.0",
            "_view_count": null,
            "flex_flow": null,
            "width": null,
            "min_width": null,
            "border": null,
            "align_items": null,
            "bottom": null,
            "_model_module": "@jupyter-widgets/base",
            "top": null,
            "grid_column": null,
            "overflow_y": null,
            "overflow_x": null,
            "grid_auto_flow": null,
            "grid_area": null,
            "grid_template_columns": null,
            "flex": null,
            "_model_name": "LayoutModel",
            "justify_items": null,
            "grid_row": null,
            "max_height": null,
            "align_content": null,
            "visibility": null,
            "align_self": null,
            "height": null,
            "min_height": null,
            "padding": null,
            "grid_auto_rows": null,
            "grid_gap": null,
            "max_width": null,
            "order": null,
            "_view_module_version": "1.2.0",
            "grid_template_areas": null,
            "object_position": null,
            "object_fit": null,
            "grid_auto_columns": null,
            "margin": null,
            "display": null,
            "left": null
          }
        },
        "2c596070530845fb85ad83f5445a7814": {
          "model_module": "@jupyter-widgets/controls",
          "model_name": "DescriptionStyleModel",
          "state": {
            "_view_name": "StyleView",
            "_model_name": "DescriptionStyleModel",
            "description_width": "",
            "_view_module": "@jupyter-widgets/base",
            "_model_module_version": "1.5.0",
            "_view_count": null,
            "_view_module_version": "1.2.0",
            "_model_module": "@jupyter-widgets/controls"
          }
        },
        "5b090d5d95c54111ba8961d8b7a2ee57": {
          "model_module": "@jupyter-widgets/base",
          "model_name": "LayoutModel",
          "state": {
            "_view_name": "LayoutView",
            "grid_template_rows": null,
            "right": null,
            "justify_content": null,
            "_view_module": "@jupyter-widgets/base",
            "overflow": null,
            "_model_module_version": "1.2.0",
            "_view_count": null,
            "flex_flow": null,
            "width": null,
            "min_width": null,
            "border": null,
            "align_items": null,
            "bottom": null,
            "_model_module": "@jupyter-widgets/base",
            "top": null,
            "grid_column": null,
            "overflow_y": null,
            "overflow_x": null,
            "grid_auto_flow": null,
            "grid_area": null,
            "grid_template_columns": null,
            "flex": null,
            "_model_name": "LayoutModel",
            "justify_items": null,
            "grid_row": null,
            "max_height": null,
            "align_content": null,
            "visibility": null,
            "align_self": null,
            "height": null,
            "min_height": null,
            "padding": null,
            "grid_auto_rows": null,
            "grid_gap": null,
            "max_width": null,
            "order": null,
            "_view_module_version": "1.2.0",
            "grid_template_areas": null,
            "object_position": null,
            "object_fit": null,
            "grid_auto_columns": null,
            "margin": null,
            "display": null,
            "left": null
          }
        },
        "24a2ebb6373a4104b3370eb5791ec680": {
          "model_module": "@jupyter-widgets/controls",
          "model_name": "HBoxModel",
          "state": {
            "_view_name": "HBoxView",
            "_dom_classes": [],
            "_model_name": "HBoxModel",
            "_view_module": "@jupyter-widgets/controls",
            "_model_module_version": "1.5.0",
            "_view_count": null,
            "_view_module_version": "1.5.0",
            "box_style": "",
            "layout": "IPY_MODEL_70c0c4b8c201475bb18cb36623cc6417",
            "_model_module": "@jupyter-widgets/controls",
            "children": [
              "IPY_MODEL_03fd40455c3d4b46b81819d82e7fcf60",
              "IPY_MODEL_3662991f5abc429290b3f778930c008d"
            ]
          }
        },
        "70c0c4b8c201475bb18cb36623cc6417": {
          "model_module": "@jupyter-widgets/base",
          "model_name": "LayoutModel",
          "state": {
            "_view_name": "LayoutView",
            "grid_template_rows": null,
            "right": null,
            "justify_content": null,
            "_view_module": "@jupyter-widgets/base",
            "overflow": null,
            "_model_module_version": "1.2.0",
            "_view_count": null,
            "flex_flow": null,
            "width": null,
            "min_width": null,
            "border": null,
            "align_items": null,
            "bottom": null,
            "_model_module": "@jupyter-widgets/base",
            "top": null,
            "grid_column": null,
            "overflow_y": null,
            "overflow_x": null,
            "grid_auto_flow": null,
            "grid_area": null,
            "grid_template_columns": null,
            "flex": null,
            "_model_name": "LayoutModel",
            "justify_items": null,
            "grid_row": null,
            "max_height": null,
            "align_content": null,
            "visibility": null,
            "align_self": null,
            "height": null,
            "min_height": null,
            "padding": null,
            "grid_auto_rows": null,
            "grid_gap": null,
            "max_width": null,
            "order": null,
            "_view_module_version": "1.2.0",
            "grid_template_areas": null,
            "object_position": null,
            "object_fit": null,
            "grid_auto_columns": null,
            "margin": null,
            "display": null,
            "left": null
          }
        },
        "03fd40455c3d4b46b81819d82e7fcf60": {
          "model_module": "@jupyter-widgets/controls",
          "model_name": "IntProgressModel",
          "state": {
            "_view_name": "ProgressView",
            "style": "IPY_MODEL_a37ce82b36944eb7b6e397429bba60ee",
            "_dom_classes": [],
            "description": "回测计算中...: 100%",
            "_model_name": "IntProgressModel",
            "bar_style": "success",
            "max": 4236,
            "_view_module": "@jupyter-widgets/controls",
            "_model_module_version": "1.5.0",
            "value": 4236,
            "_view_count": null,
            "_view_module_version": "1.5.0",
            "orientation": "horizontal",
            "min": 0,
            "description_tooltip": null,
            "_model_module": "@jupyter-widgets/controls",
            "layout": "IPY_MODEL_4fe0e9095b024ded986ebcbee56fc5cd"
          }
        },
        "3662991f5abc429290b3f778930c008d": {
          "model_module": "@jupyter-widgets/controls",
          "model_name": "HTMLModel",
          "state": {
            "_view_name": "HTMLView",
            "style": "IPY_MODEL_4d82d37bace14df9b42c2c8b5cc76695",
            "_dom_classes": [],
            "description": "",
            "_model_name": "HTMLModel",
            "placeholder": "​",
            "_view_module": "@jupyter-widgets/controls",
            "_model_module_version": "1.5.0",
            "value": " 4236/4236 [00:01&lt;00:00, 3540.52it/s]",
            "_view_count": null,
            "_view_module_version": "1.5.0",
            "description_tooltip": null,
            "_model_module": "@jupyter-widgets/controls",
            "layout": "IPY_MODEL_26a61a72e24b4ed99caa076fbef5f8aa"
          }
        },
        "a37ce82b36944eb7b6e397429bba60ee": {
          "model_module": "@jupyter-widgets/controls",
          "model_name": "ProgressStyleModel",
          "state": {
            "_view_name": "StyleView",
            "_model_name": "ProgressStyleModel",
            "description_width": "initial",
            "_view_module": "@jupyter-widgets/base",
            "_model_module_version": "1.5.0",
            "_view_count": null,
            "_view_module_version": "1.2.0",
            "bar_color": null,
            "_model_module": "@jupyter-widgets/controls"
          }
        },
        "4fe0e9095b024ded986ebcbee56fc5cd": {
          "model_module": "@jupyter-widgets/base",
          "model_name": "LayoutModel",
          "state": {
            "_view_name": "LayoutView",
            "grid_template_rows": null,
            "right": null,
            "justify_content": null,
            "_view_module": "@jupyter-widgets/base",
            "overflow": null,
            "_model_module_version": "1.2.0",
            "_view_count": null,
            "flex_flow": null,
            "width": null,
            "min_width": null,
            "border": null,
            "align_items": null,
            "bottom": null,
            "_model_module": "@jupyter-widgets/base",
            "top": null,
            "grid_column": null,
            "overflow_y": null,
            "overflow_x": null,
            "grid_auto_flow": null,
            "grid_area": null,
            "grid_template_columns": null,
            "flex": null,
            "_model_name": "LayoutModel",
            "justify_items": null,
            "grid_row": null,
            "max_height": null,
            "align_content": null,
            "visibility": null,
            "align_self": null,
            "height": null,
            "min_height": null,
            "padding": null,
            "grid_auto_rows": null,
            "grid_gap": null,
            "max_width": null,
            "order": null,
            "_view_module_version": "1.2.0",
            "grid_template_areas": null,
            "object_position": null,
            "object_fit": null,
            "grid_auto_columns": null,
            "margin": null,
            "display": null,
            "left": null
          }
        },
        "4d82d37bace14df9b42c2c8b5cc76695": {
          "model_module": "@jupyter-widgets/controls",
          "model_name": "DescriptionStyleModel",
          "state": {
            "_view_name": "StyleView",
            "_model_name": "DescriptionStyleModel",
            "description_width": "",
            "_view_module": "@jupyter-widgets/base",
            "_model_module_version": "1.5.0",
            "_view_count": null,
            "_view_module_version": "1.2.0",
            "_model_module": "@jupyter-widgets/controls"
          }
        },
        "26a61a72e24b4ed99caa076fbef5f8aa": {
          "model_module": "@jupyter-widgets/base",
          "model_name": "LayoutModel",
          "state": {
            "_view_name": "LayoutView",
            "grid_template_rows": null,
            "right": null,
            "justify_content": null,
            "_view_module": "@jupyter-widgets/base",
            "overflow": null,
            "_model_module_version": "1.2.0",
            "_view_count": null,
            "flex_flow": null,
            "width": null,
            "min_width": null,
            "border": null,
            "align_items": null,
            "bottom": null,
            "_model_module": "@jupyter-widgets/base",
            "top": null,
            "grid_column": null,
            "overflow_y": null,
            "overflow_x": null,
            "grid_auto_flow": null,
            "grid_area": null,
            "grid_template_columns": null,
            "flex": null,
            "_model_name": "LayoutModel",
            "justify_items": null,
            "grid_row": null,
            "max_height": null,
            "align_content": null,
            "visibility": null,
            "align_self": null,
            "height": null,
            "min_height": null,
            "padding": null,
            "grid_auto_rows": null,
            "grid_gap": null,
            "max_width": null,
            "order": null,
            "_view_module_version": "1.2.0",
            "grid_template_areas": null,
            "object_position": null,
            "object_fit": null,
            "grid_auto_columns": null,
            "margin": null,
            "display": null,
            "left": null
          }
        },
        "dbba71f6aaa44b4db801158fd11bc0c9": {
          "model_module": "@jupyter-widgets/controls",
          "model_name": "HBoxModel",
          "state": {
            "_view_name": "HBoxView",
            "_dom_classes": [],
            "_model_name": "HBoxModel",
            "_view_module": "@jupyter-widgets/controls",
            "_model_module_version": "1.5.0",
            "_view_count": null,
            "_view_module_version": "1.5.0",
            "box_style": "",
            "layout": "IPY_MODEL_55cac844fc014a799a23d6b81f663438",
            "_model_module": "@jupyter-widgets/controls",
            "children": [
              "IPY_MODEL_554ada2f3ecc4933b22e6f53f1988cd3",
              "IPY_MODEL_3ecacb9ab5034494a71c774bbc4fc261"
            ]
          }
        },
        "55cac844fc014a799a23d6b81f663438": {
          "model_module": "@jupyter-widgets/base",
          "model_name": "LayoutModel",
          "state": {
            "_view_name": "LayoutView",
            "grid_template_rows": null,
            "right": null,
            "justify_content": null,
            "_view_module": "@jupyter-widgets/base",
            "overflow": null,
            "_model_module_version": "1.2.0",
            "_view_count": null,
            "flex_flow": null,
            "width": null,
            "min_width": null,
            "border": null,
            "align_items": null,
            "bottom": null,
            "_model_module": "@jupyter-widgets/base",
            "top": null,
            "grid_column": null,
            "overflow_y": null,
            "overflow_x": null,
            "grid_auto_flow": null,
            "grid_area": null,
            "grid_template_columns": null,
            "flex": null,
            "_model_name": "LayoutModel",
            "justify_items": null,
            "grid_row": null,
            "max_height": null,
            "align_content": null,
            "visibility": null,
            "align_self": null,
            "height": null,
            "min_height": null,
            "padding": null,
            "grid_auto_rows": null,
            "grid_gap": null,
            "max_width": null,
            "order": null,
            "_view_module_version": "1.2.0",
            "grid_template_areas": null,
            "object_position": null,
            "object_fit": null,
            "grid_auto_columns": null,
            "margin": null,
            "display": null,
            "left": null
          }
        },
        "554ada2f3ecc4933b22e6f53f1988cd3": {
          "model_module": "@jupyter-widgets/controls",
          "model_name": "IntProgressModel",
          "state": {
            "_view_name": "ProgressView",
            "style": "IPY_MODEL_3b834520be0746d2be7bda977554b82d",
            "_dom_classes": [],
            "description": "回测计算中...: 100%",
            "_model_name": "IntProgressModel",
            "bar_style": "success",
            "max": 5860,
            "_view_module": "@jupyter-widgets/controls",
            "_model_module_version": "1.5.0",
            "value": 5860,
            "_view_count": null,
            "_view_module_version": "1.5.0",
            "orientation": "horizontal",
            "min": 0,
            "description_tooltip": null,
            "_model_module": "@jupyter-widgets/controls",
            "layout": "IPY_MODEL_900a3e7ff60f41ee9adbcbda4ee70300"
          }
        },
        "3ecacb9ab5034494a71c774bbc4fc261": {
          "model_module": "@jupyter-widgets/controls",
          "model_name": "HTMLModel",
          "state": {
            "_view_name": "HTMLView",
            "style": "IPY_MODEL_824b8a6863524bfabd68c7124bf7f98d",
            "_dom_classes": [],
            "description": "",
            "_model_name": "HTMLModel",
            "placeholder": "​",
            "_view_module": "@jupyter-widgets/controls",
            "_model_module_version": "1.5.0",
            "value": " 5860/5860 [00:04&lt;00:00, 1313.47it/s]",
            "_view_count": null,
            "_view_module_version": "1.5.0",
            "description_tooltip": null,
            "_model_module": "@jupyter-widgets/controls",
            "layout": "IPY_MODEL_3971679c2a1546e393845ea3becb349b"
          }
        },
        "3b834520be0746d2be7bda977554b82d": {
          "model_module": "@jupyter-widgets/controls",
          "model_name": "ProgressStyleModel",
          "state": {
            "_view_name": "StyleView",
            "_model_name": "ProgressStyleModel",
            "description_width": "initial",
            "_view_module": "@jupyter-widgets/base",
            "_model_module_version": "1.5.0",
            "_view_count": null,
            "_view_module_version": "1.2.0",
            "bar_color": null,
            "_model_module": "@jupyter-widgets/controls"
          }
        },
        "900a3e7ff60f41ee9adbcbda4ee70300": {
          "model_module": "@jupyter-widgets/base",
          "model_name": "LayoutModel",
          "state": {
            "_view_name": "LayoutView",
            "grid_template_rows": null,
            "right": null,
            "justify_content": null,
            "_view_module": "@jupyter-widgets/base",
            "overflow": null,
            "_model_module_version": "1.2.0",
            "_view_count": null,
            "flex_flow": null,
            "width": null,
            "min_width": null,
            "border": null,
            "align_items": null,
            "bottom": null,
            "_model_module": "@jupyter-widgets/base",
            "top": null,
            "grid_column": null,
            "overflow_y": null,
            "overflow_x": null,
            "grid_auto_flow": null,
            "grid_area": null,
            "grid_template_columns": null,
            "flex": null,
            "_model_name": "LayoutModel",
            "justify_items": null,
            "grid_row": null,
            "max_height": null,
            "align_content": null,
            "visibility": null,
            "align_self": null,
            "height": null,
            "min_height": null,
            "padding": null,
            "grid_auto_rows": null,
            "grid_gap": null,
            "max_width": null,
            "order": null,
            "_view_module_version": "1.2.0",
            "grid_template_areas": null,
            "object_position": null,
            "object_fit": null,
            "grid_auto_columns": null,
            "margin": null,
            "display": null,
            "left": null
          }
        },
        "824b8a6863524bfabd68c7124bf7f98d": {
          "model_module": "@jupyter-widgets/controls",
          "model_name": "DescriptionStyleModel",
          "state": {
            "_view_name": "StyleView",
            "_model_name": "DescriptionStyleModel",
            "description_width": "",
            "_view_module": "@jupyter-widgets/base",
            "_model_module_version": "1.5.0",
            "_view_count": null,
            "_view_module_version": "1.2.0",
            "_model_module": "@jupyter-widgets/controls"
          }
        },
        "3971679c2a1546e393845ea3becb349b": {
          "model_module": "@jupyter-widgets/base",
          "model_name": "LayoutModel",
          "state": {
            "_view_name": "LayoutView",
            "grid_template_rows": null,
            "right": null,
            "justify_content": null,
            "_view_module": "@jupyter-widgets/base",
            "overflow": null,
            "_model_module_version": "1.2.0",
            "_view_count": null,
            "flex_flow": null,
            "width": null,
            "min_width": null,
            "border": null,
            "align_items": null,
            "bottom": null,
            "_model_module": "@jupyter-widgets/base",
            "top": null,
            "grid_column": null,
            "overflow_y": null,
            "overflow_x": null,
            "grid_auto_flow": null,
            "grid_area": null,
            "grid_template_columns": null,
            "flex": null,
            "_model_name": "LayoutModel",
            "justify_items": null,
            "grid_row": null,
            "max_height": null,
            "align_content": null,
            "visibility": null,
            "align_self": null,
            "height": null,
            "min_height": null,
            "padding": null,
            "grid_auto_rows": null,
            "grid_gap": null,
            "max_width": null,
            "order": null,
            "_view_module_version": "1.2.0",
            "grid_template_areas": null,
            "object_position": null,
            "object_fit": null,
            "grid_auto_columns": null,
            "margin": null,
            "display": null,
            "left": null
          }
        },
        "a3e9b4a36f14473bbfabf6001f3b915d": {
          "model_module": "@jupyter-widgets/controls",
          "model_name": "HBoxModel",
          "state": {
            "_view_name": "HBoxView",
            "_dom_classes": [],
            "_model_name": "HBoxModel",
            "_view_module": "@jupyter-widgets/controls",
            "_model_module_version": "1.5.0",
            "_view_count": null,
            "_view_module_version": "1.5.0",
            "box_style": "",
            "layout": "IPY_MODEL_120141fa4aff472498fa96d55d6c3e56",
            "_model_module": "@jupyter-widgets/controls",
            "children": [
              "IPY_MODEL_63c86c26ec894658b6b0e138a292aa23",
              "IPY_MODEL_4b3ea2cb4edd4b5f91cef53fb9747f03"
            ]
          }
        },
        "120141fa4aff472498fa96d55d6c3e56": {
          "model_module": "@jupyter-widgets/base",
          "model_name": "LayoutModel",
          "state": {
            "_view_name": "LayoutView",
            "grid_template_rows": null,
            "right": null,
            "justify_content": null,
            "_view_module": "@jupyter-widgets/base",
            "overflow": null,
            "_model_module_version": "1.2.0",
            "_view_count": null,
            "flex_flow": null,
            "width": null,
            "min_width": null,
            "border": null,
            "align_items": null,
            "bottom": null,
            "_model_module": "@jupyter-widgets/base",
            "top": null,
            "grid_column": null,
            "overflow_y": null,
            "overflow_x": null,
            "grid_auto_flow": null,
            "grid_area": null,
            "grid_template_columns": null,
            "flex": null,
            "_model_name": "LayoutModel",
            "justify_items": null,
            "grid_row": null,
            "max_height": null,
            "align_content": null,
            "visibility": null,
            "align_self": null,
            "height": null,
            "min_height": null,
            "padding": null,
            "grid_auto_rows": null,
            "grid_gap": null,
            "max_width": null,
            "order": null,
            "_view_module_version": "1.2.0",
            "grid_template_areas": null,
            "object_position": null,
            "object_fit": null,
            "grid_auto_columns": null,
            "margin": null,
            "display": null,
            "left": null
          }
        },
        "63c86c26ec894658b6b0e138a292aa23": {
          "model_module": "@jupyter-widgets/controls",
          "model_name": "IntProgressModel",
          "state": {
            "_view_name": "ProgressView",
            "style": "IPY_MODEL_3b5a00d795a241b0aca3ee2b13e38c07",
            "_dom_classes": [],
            "description": "回测计算中...: 100%",
            "_model_name": "IntProgressModel",
            "bar_style": "success",
            "max": 5860,
            "_view_module": "@jupyter-widgets/controls",
            "_model_module_version": "1.5.0",
            "value": 5860,
            "_view_count": null,
            "_view_module_version": "1.5.0",
            "orientation": "horizontal",
            "min": 0,
            "description_tooltip": null,
            "_model_module": "@jupyter-widgets/controls",
            "layout": "IPY_MODEL_5f0152bbb7a241bda0f7e16afa5d6cd0"
          }
        },
        "4b3ea2cb4edd4b5f91cef53fb9747f03": {
          "model_module": "@jupyter-widgets/controls",
          "model_name": "HTMLModel",
          "state": {
            "_view_name": "HTMLView",
            "style": "IPY_MODEL_0e515895f0474761992dc6e16e67b71f",
            "_dom_classes": [],
            "description": "",
            "_model_name": "HTMLModel",
            "placeholder": "​",
            "_view_module": "@jupyter-widgets/controls",
            "_model_module_version": "1.5.0",
            "value": " 5860/5860 [00:01&lt;00:00, 3402.07it/s]",
            "_view_count": null,
            "_view_module_version": "1.5.0",
            "description_tooltip": null,
            "_model_module": "@jupyter-widgets/controls",
            "layout": "IPY_MODEL_d7414bdde5734b0ebe9801624bd57643"
          }
        },
        "3b5a00d795a241b0aca3ee2b13e38c07": {
          "model_module": "@jupyter-widgets/controls",
          "model_name": "ProgressStyleModel",
          "state": {
            "_view_name": "StyleView",
            "_model_name": "ProgressStyleModel",
            "description_width": "initial",
            "_view_module": "@jupyter-widgets/base",
            "_model_module_version": "1.5.0",
            "_view_count": null,
            "_view_module_version": "1.2.0",
            "bar_color": null,
            "_model_module": "@jupyter-widgets/controls"
          }
        },
        "5f0152bbb7a241bda0f7e16afa5d6cd0": {
          "model_module": "@jupyter-widgets/base",
          "model_name": "LayoutModel",
          "state": {
            "_view_name": "LayoutView",
            "grid_template_rows": null,
            "right": null,
            "justify_content": null,
            "_view_module": "@jupyter-widgets/base",
            "overflow": null,
            "_model_module_version": "1.2.0",
            "_view_count": null,
            "flex_flow": null,
            "width": null,
            "min_width": null,
            "border": null,
            "align_items": null,
            "bottom": null,
            "_model_module": "@jupyter-widgets/base",
            "top": null,
            "grid_column": null,
            "overflow_y": null,
            "overflow_x": null,
            "grid_auto_flow": null,
            "grid_area": null,
            "grid_template_columns": null,
            "flex": null,
            "_model_name": "LayoutModel",
            "justify_items": null,
            "grid_row": null,
            "max_height": null,
            "align_content": null,
            "visibility": null,
            "align_self": null,
            "height": null,
            "min_height": null,
            "padding": null,
            "grid_auto_rows": null,
            "grid_gap": null,
            "max_width": null,
            "order": null,
            "_view_module_version": "1.2.0",
            "grid_template_areas": null,
            "object_position": null,
            "object_fit": null,
            "grid_auto_columns": null,
            "margin": null,
            "display": null,
            "left": null
          }
        },
        "0e515895f0474761992dc6e16e67b71f": {
          "model_module": "@jupyter-widgets/controls",
          "model_name": "DescriptionStyleModel",
          "state": {
            "_view_name": "StyleView",
            "_model_name": "DescriptionStyleModel",
            "description_width": "",
            "_view_module": "@jupyter-widgets/base",
            "_model_module_version": "1.5.0",
            "_view_count": null,
            "_view_module_version": "1.2.0",
            "_model_module": "@jupyter-widgets/controls"
          }
        },
        "d7414bdde5734b0ebe9801624bd57643": {
          "model_module": "@jupyter-widgets/base",
          "model_name": "LayoutModel",
          "state": {
            "_view_name": "LayoutView",
            "grid_template_rows": null,
            "right": null,
            "justify_content": null,
            "_view_module": "@jupyter-widgets/base",
            "overflow": null,
            "_model_module_version": "1.2.0",
            "_view_count": null,
            "flex_flow": null,
            "width": null,
            "min_width": null,
            "border": null,
            "align_items": null,
            "bottom": null,
            "_model_module": "@jupyter-widgets/base",
            "top": null,
            "grid_column": null,
            "overflow_y": null,
            "overflow_x": null,
            "grid_auto_flow": null,
            "grid_area": null,
            "grid_template_columns": null,
            "flex": null,
            "_model_name": "LayoutModel",
            "justify_items": null,
            "grid_row": null,
            "max_height": null,
            "align_content": null,
            "visibility": null,
            "align_self": null,
            "height": null,
            "min_height": null,
            "padding": null,
            "grid_auto_rows": null,
            "grid_gap": null,
            "max_width": null,
            "order": null,
            "_view_module_version": "1.2.0",
            "grid_template_areas": null,
            "object_position": null,
            "object_fit": null,
            "grid_auto_columns": null,
            "margin": null,
            "display": null,
            "left": null
          }
        }
      }
    }
  },
  "cells": [
    {
      "cell_type": "markdown",
      "metadata": {
        "id": "view-in-github",
        "colab_type": "text"
      },
      "source": [
        "<a href=\"https://colab.research.google.com/github/GuQiangJS/finance-tools-py/blob/master/jupyters/%E6%8C%87%E6%A0%87%E7%9B%B8%E5%85%B3%E6%80%A7%E6%B5%8B%E8%AF%95_%E5%8F%A0%E5%8A%A0%E6%8C%87%E6%A0%87_DEMA%2BMFI.ipynb\" target=\"_parent\"><img src=\"https://colab.research.google.com/assets/colab-badge.svg\" alt=\"Open In Colab\"/></a>"
      ]
    },
    {
      "cell_type": "markdown",
      "metadata": {
        "id": "ImAtj_OOJ3_R",
        "colab_type": "text"
      },
      "source": [
        "## 初步结论\n",
        "\n",
        "结合 DEMA 和 MFI 以后，交易次数明显减少，套牢也随之减少。DEMA拉长时间段以后可以更加减少套牢。"
      ]
    },
    {
      "cell_type": "markdown",
      "metadata": {
        "id": "pmLt9pYWVlUo",
        "colab_type": "text"
      },
      "source": [
        "## 安装思源字体\n",
        "\n",
        "这样显示好看点。呵呵！"
      ]
    },
    {
      "cell_type": "code",
      "metadata": {
        "id": "yNfCCcxTUsJp",
        "colab_type": "code",
        "colab": {}
      },
      "source": [
        "import os\n",
        "noto_font_path='/usr/share/fonts/NotoSansCJKsc-Medium.otf'\n",
        "if not os.path.exists(noto_font_path):\n",
        "    !wget \"https://noto-website-2.storage.googleapis.com/pkgs/NotoSansCJKsc-hinted.zip\"\n",
        "    !unzip \"NotoSansCJKsc-hinted.zip\"\n",
        "    !mv NotoSansCJKsc-Medium.otf /usr/share/fonts/\n",
        "from IPython.display import clear_output\n",
        "clear_output(True)"
      ],
      "execution_count": 0,
      "outputs": []
    },
    {
      "cell_type": "markdown",
      "metadata": {
        "id": "tFS7GDcQUvv5",
        "colab_type": "text"
      },
      "source": [
        "## 安装第三方库。\n",
        "\n",
        "[talib](https://www.fmz.com/bbs-topic/1234)，[finance-tools-py](https://github.com/GuQiangJS/finance-tools-py)"
      ]
    },
    {
      "cell_type": "code",
      "metadata": {
        "id": "lrGERDctUvCq",
        "colab_type": "code",
        "colab": {}
      },
      "source": [
        "try:\n",
        "    import talib\n",
        "except ModuleNotFoundError:\n",
        "    !wget http://prdownloads.sourceforge.net/ta-lib/ta-lib-0.4.0-src.tar.gz\n",
        "    !tar -xzvf ta-lib-0.4.0-src.tar.gz\n",
        "    %cd ta-lib\n",
        "    !./configure --prefix=/usr\n",
        "    !make\n",
        "    !make install\n",
        "    !pip install Ta-Lib\n",
        "    import talib\n",
        "try:\n",
        "    import finance_tools_py\n",
        "    from finance_tools_py.simulation import Simulation\n",
        "    from finance_tools_py.backtest import BackTest\n",
        "    from finance_tools_py.simulation.callbacks import CallBack\n",
        "    from finance_tools_py.simulation.callbacks.talib import DEMA\n",
        "    from finance_tools_py.simulation.callbacks.talib import MFI\n",
        "    from finance_tools_py.simulation.callbacks import Rolling_Future\n",
        "    from finance_tools_py.backtest import AllInChecker\n",
        "except ModuleNotFoundError:\n",
        "    !pip install git+https://github.com/GuQiangJS/finance-tools-py.git -U\n",
        "    import finance_tools_py\n",
        "    from finance_tools_py.simulation import Simulation\n",
        "    from finance_tools_py.backtest import BackTest\n",
        "    from finance_tools_py.simulation.callbacks import CallBack\n",
        "    from finance_tools_py.simulation.callbacks.talib import DEMA\n",
        "    from finance_tools_py.simulation.callbacks.talib import MFI\n",
        "    from finance_tools_py.simulation.callbacks import Rolling_Future\n",
        "    from finance_tools_py.backtest import AllInChecker\n",
        "clear_output(True)"
      ],
      "execution_count": 0,
      "outputs": []
    },
    {
      "cell_type": "markdown",
      "metadata": {
        "id": "6bWRJwflVKq5",
        "colab_type": "text"
      },
      "source": [
        "## 其他相关引用"
      ]
    },
    {
      "cell_type": "code",
      "metadata": {
        "id": "ZTDGHyE1VJqo",
        "colab_type": "code",
        "colab": {}
      },
      "source": [
        "import pandas as pd\n",
        "import seaborn as sns\n",
        "import matplotlib.pyplot as plt\n",
        "import matplotlib\n",
        "import numpy as np\n",
        "import datetime\n",
        "%matplotlib inline\n",
        "# plt.rcParams['figure.figsize'] = (18, 6)\n",
        "plt.style.use('ggplot')\n",
        "\n",
        "fontprop = matplotlib.font_manager.FontProperties(fname=noto_font_path)\n",
        "matplotlib.font_manager.fontManager.ttflist += matplotlib.font_manager.createFontList([noto_font_path])\n",
        "plt.rcParams['font.family'] = fontprop.get_name()\n",
        "\n",
        "plt.rcParams['axes.unicode_minus'] = False  # 解决保存图像是负号'-'显示为方块的问题\n",
        "\n",
        "import warnings\n",
        "warnings.filterwarnings('ignore')\n",
        "\n",
        "%matplotlib inline\n",
        "# %tensorflow_version 2.x\n",
        "# import tensorflow as tf\n",
        "# device_name = tf.test.gpu_device_name()\n",
        "# if device_name != '/device:GPU:0':\n",
        "#   raise SystemError('GPU device not found')\n",
        "# print('Found GPU at: {}'.format(device_name))"
      ],
      "execution_count": 0,
      "outputs": []
    },
    {
      "cell_type": "markdown",
      "metadata": {
        "id": "iUZNbLDhVSwO",
        "colab_type": "text"
      },
      "source": [
        "## 读取数据\n",
        "\n",
        "1. 读取交易日期、开盘价、最高价、最低价、收盘价、成交量。所有数据均取**前复权**数据。"
      ]
    },
    {
      "cell_type": "code",
      "metadata": {
        "id": "kLp-SZdYVU4j",
        "colab_type": "code",
        "colab": {}
      },
      "source": [
        "def read_data(symbol='600036'):\n",
        "    data=pd.read_csv('https://raw.githubusercontent.com/GuQiangJS/temp/master/{}_daily.csv'.format(symbol),parse_dates=True,\n",
        "                    usecols=['date','open_qfq','high_qfq','low_qfq','close_qfq','volume_qfq'])\n",
        "    data['date']=pd.to_datetime(data['date'])\n",
        "    data.rename(columns={'open_qfq':'open','high_qfq':'high','low_qfq':'low','close_qfq':'close','volume_qfq':'volume'},inplace=True)\n",
        "    data['preclose']=data['close'].shift()\n",
        "    data['nextclose']=data['close'].shift(-1)\n",
        "    data['nextchange']=data['nextclose']-data['close']\n",
        "    data['nextchange_sign']=np.sign(data['nextchange'])\n",
        "    return data"
      ],
      "execution_count": 0,
      "outputs": []
    },
    {
      "cell_type": "markdown",
      "metadata": {
        "id": "PipZFk1_pimz",
        "colab_type": "text"
      },
      "source": [
        "## 数据处理\n",
        "\n",
        "计算两条线的上穿和下穿"
      ]
    },
    {
      "cell_type": "code",
      "metadata": {
        "id": "Wj6f9O0sGzjQ",
        "colab_type": "code",
        "colab": {}
      },
      "source": [
        "class Cross_DEMA(CallBack):\n",
        "    def __init__(self,t1,t2):\n",
        "        self.t1=t1\n",
        "        self.t2=t2\n",
        "\n",
        "    \"\"\"双线相交法\"\"\"\n",
        "    def on_preparing_data(self, data, **kwargs):\n",
        "        data['{}日线上穿{}日线'.format(self.t1,self.t2)]=0\n",
        "        data['{}日线下穿{}日线'.format(self.t1,self.t2)]=0\n",
        "        #下穿。t1.dema<t2.dema & t1.dema.shift>t2.dema.shift\n",
        "        data.loc[(data['dema_close_{}'.format(self.t1)]<data['dema_close_{}'.format(self.t2)]) & (data['dema_close_{}'.format(self.t1)].shift()>data['dema_close_{}'.format(self.t2)].shift()),'{}日线下穿{}日线'.format(self.t1,self.t2)]=1\n",
        "        #上穿。t1.dema>t2.dema & t1.dema.shift<t2.dema.shift\n",
        "        data.loc[(data['dema_close_{}'.format(self.t1)]>data['dema_close_{}'.format(self.t2)]) & (data['dema_close_{}'.format(self.t1)].shift()<data['dema_close_{}'.format(self.t2)].shift()),'{}日线上穿{}日线'.format(self.t1,self.t2)]=1\n",
        "\n",
        "class Rolling_Future_New(Rolling_Future):\n",
        "    def on_preparing_data(self, data, **kwargs):\n",
        "        super().on_preparing_data(data, **kwargs)\n",
        "        data['未来{}日涨跌'.format(self.timeperiod)]=np.sign(data['rolling_{}_{}_mean'.format(self.col_name,self.timeperiod)]-data[self.col_name])\n",
        "        data.rename(columns={'rolling_close_{}_mean/close'.format(self.timeperiod):'未来 {} 日均价/当前'.format(self.timeperiod)},inplace=True)\n",
        "\n"
      ],
      "execution_count": 0,
      "outputs": []
    },
    {
      "cell_type": "code",
      "metadata": {
        "id": "vTpatb1MyItq",
        "colab_type": "code",
        "colab": {}
      },
      "source": [
        "import plotly.graph_objects as go\n",
        "def plot(data,x,y,buy=None,sell=None):\n",
        "    plot_ly(data,x,y,buy,sell).show()\n",
        "    plot_py(data,x,y,buy,sell)\n",
        "    plt.show()\n",
        "\n",
        "def plot_ly(data,x,y,buy=None,sell=None):\n",
        "    fig = go.Figure()\n",
        "    for y1 in y:\n",
        "        fig.add_trace(go.Scatter(x=data[x], y=data[y1],mode='lines',name=y1))\n",
        "    if buy:\n",
        "        b=data[data[x].isin(buy)]\n",
        "        fig.add_trace(go.Scatter(x=b[x], y=b['close'],mode='markers',marker=dict(color=\"red\",size=6)))\n",
        "    if sell:\n",
        "        b=data[data[x].isin(sell)]\n",
        "        fig.add_trace(go.Scatter(x=b[x], y=b['close'],mode='markers',marker=dict(color=\"green\",size=6)))\n",
        "    return fig\n",
        "\n",
        "def plot_py(data,x,y,buy=None,sell=None):\n",
        "    fig=plt.figure(figsize=(22,8))\n",
        "    for y1 in y:\n",
        "        sns.lineplot(data=data,x=x,y=y1)\n",
        "    if buy:\n",
        "        b=data[data[x].isin(buy)]\n",
        "        plt.plot(b[x], b['close'],'r.')\n",
        "    if sell:\n",
        "        b=data[data[x].isin(sell)]\n",
        "        plt.plot(b[x], b['close'],'gx')\n",
        "    return fig\n",
        "    \n",
        "\n",
        "\n",
        "def test_dema_line_plot(symbol,t1,t2):\n",
        "    data=read_data(symbol)\n",
        "    s=Simulation(data,'',callbacks=[DEMA(t1),\n",
        "                    DEMA(t2),\n",
        "                    Cross_DEMA(t1,t2)])\n",
        "    s.simulate()\n",
        "\n",
        "    fig = go.Figure()\n",
        "    fig.add_trace(go.Scatter(x=s.data['date'], y=s.data['close'],mode='lines',name='close'))\n",
        "    fig.add_trace(go.Scatter(x=s.data['date'], y=s.data['dema_close_{}'.format(t1)],mode='lines',name='{} 日线'.format(t1)))\n",
        "    fig.add_trace(go.Scatter(x=s.data['date'], y=s.data['dema_close_{}'.format(t2)],mode='lines',name='{} 日线'.format(t2)))\n",
        "\n",
        "    cross_up=s.data.loc[s.data['{}日线上穿{}日线'.format(t1,t2)]==1]\n",
        "    cross_low=s.data.loc[s.data['{}日线下穿{}日线'.format(t1,t2)]==1]\n",
        "\n",
        "    fig.add_trace(go.Scatter(x=cross_up['date'], y=cross_up['close'],mode='markers',marker=dict(color=\"red\",size=6),name='{}日线上穿{}日线'.format(t1,t2)))\n",
        "    fig.add_trace(go.Scatter(x=cross_low['date'], y=cross_low['close'],mode='markers',marker=dict(color=\"green\",size=6),name='{}日线下穿{}日线'.format(t1,t2)))\n",
        "    fig.update_layout(title='{}日线 VS {}日线'.format(t1,t2))\n",
        "    return fig\n",
        "\n",
        "class Checker(AllInChecker):\n",
        "    \n",
        "    def on_calc_buy_amount(self,\n",
        "                           date: datetime.datetime.timestamp,\n",
        "                           code: str,\n",
        "                           price: float,\n",
        "                           cash: float) -> float:\n",
        "        # 每次最多买1/5\n",
        "        return super().on_calc_buy_amount(date,code,price,cash*0.25)\n",
        "\n",
        "    def on_check_sell(self,\n",
        "                      date: datetime.datetime.timestamp,\n",
        "                      code: str,\n",
        "                      price: float,\n",
        "                      cash: float,\n",
        "                      hold_amount: float,\n",
        "                      hold_price: float) -> bool:\n",
        "        \"\"\"当 `date` 及 `code` 包含在参数 :py:attr:`sell_dict` 中时返回 `True` 。否则返回 `False` 。\"\"\"\n",
        "        if hold_amount>0 and hold_price*1.15>price:\n",
        "            return False\n",
        "        if code in self.sell_dict.keys() and date in self.sell_dict[code]:\n",
        "            return True\n",
        "        else:\n",
        "            return False"
      ],
      "execution_count": 0,
      "outputs": []
    },
    {
      "cell_type": "markdown",
      "metadata": {
        "id": "DiPBFVID50mp",
        "colab_type": "text"
      },
      "source": [
        "## 三移动平均线"
      ]
    },
    {
      "cell_type": "code",
      "metadata": {
        "id": "VOXkOqlT6olP",
        "colab_type": "code",
        "colab": {}
      },
      "source": [
        "class Cross_DEMA_3(CallBack):\n",
        "    def __init__(self,t1,t2,t3):\n",
        "        self.t1=t1\n",
        "        self.t2=t2\n",
        "        self.t3=t3\n",
        "\n",
        "    \"\"\"三移动平均法\"\"\"\n",
        "    def on_preparing_data(self, data, **kwargs):\n",
        "        data['均是向下']=0\n",
        "        data['均是向上']=0\n",
        "\n",
        "        data.loc[(data['close']<data['dema_close_{}'.format(self.t1)]) &\n",
        "                 (data['dema_close_{}'.format(self.t1)]<data['dema_close_{}'.format(self.t2)]) &\n",
        "                 (data['dema_close_{}'.format(self.t2)]<data['dema_close_{}'.format(self.t3)])\n",
        "                 ,'均是向下']=1\n",
        "        data.loc[(data['close']>data['dema_close_{}'.format(self.t1)]) &\n",
        "                 (data['dema_close_{}'.format(self.t1)]>data['dema_close_{}'.format(self.t2)]) &\n",
        "                 (data['dema_close_{}'.format(self.t2)]>data['dema_close_{}'.format(self.t3)])\n",
        "                 ,'均是向上']=1\n",
        "\n",
        "def test_dema_3_cross1(symbol,t1,t2,t3,**kwargs):\n",
        "    data=read_data(symbol)\n",
        "    s=Simulation(data,'',callbacks=[DEMA(t1),\n",
        "                    DEMA(t2),\n",
        "                    DEMA(t3),\n",
        "                    Cross_DEMA_3(t1,t2,t3),\n",
        "                    ])\n",
        "    s.simulate()\n",
        "    # s.data.loc[s.data['{}日线下穿{}日线'.format(t1,t2)]==1]['date'].values\n",
        "    s.data['code']=symbol\n",
        "\n",
        "    buy=s.data[(s.data['date']<'2019-01-01') & (s.data['均是向下']==1)]['date']\n",
        "    sell=s.data[(s.data['date']<'2019-01-01') & (s.data['均是向上']==1)]['date']\n",
        "\n",
        "    bt = BackTest(s.data, init_cash=10000, callbacks=[Checker(\n",
        "        buy_dict={symbol: buy.dt.to_pydatetime()},\n",
        "        sell_dict={symbol: sell.dt.to_pydatetime()})])\n",
        "    bt.calc_trade_history(verbose=0)\n",
        "    if kwargs.pop('print_report',True):\n",
        "        print(bt.report(show_history=kwargs.pop('show_history',False)))\n",
        "    if kwargs.pop('plot',True):\n",
        "        plot(s.data,x='date',\n",
        "            y=['close'],\n",
        "            buy=list(buy.values),\n",
        "            sell=list(sell.values)\n",
        "            )\n",
        "    return bt if bt else None\n",
        "\n",
        "def test_dema_3_cross2(symbol,t1,t2,t3,mfi_day=14,**kwargs):\n",
        "    data=read_data(symbol)\n",
        "    s=Simulation(data,'',callbacks=[DEMA(t1),\n",
        "                    DEMA(t2),\n",
        "                    DEMA(t3),\n",
        "                    MFI(mfi_day),\n",
        "                    Cross_DEMA_3(t1,t2,t3),\n",
        "                    ])\n",
        "    s.simulate()\n",
        "    # s.data.loc[s.data['{}日线下穿{}日线'.format(t1,t2)]==1]['date'].values\n",
        "    s.data['code']=symbol\n",
        "\n",
        "    # sell=s.data[s.data['mfi_{}'.format(day)]>80]['date']\n",
        "    # buy=s.data[s.data['mfi_{}'.format(day)]<20]['date']\n",
        "\n",
        "    buy=s.data[(s.data['date']<'2019-01-01') & (s.data['均是向下']==1) & (s.data['mfi_{}'.format(mfi_day)]<20)]['date']\n",
        "    sell=s.data[(s.data['date']<'2019-01-01') & (s.data['均是向上']==1) & (s.data['mfi_{}'.format(mfi_day)]>80)]['date']\n",
        "\n",
        "    bt = BackTest(s.data, init_cash=10000, callbacks=[Checker(\n",
        "        buy_dict={symbol: buy.dt.to_pydatetime()},\n",
        "        sell_dict={symbol: sell.dt.to_pydatetime()})])\n",
        "    bt.calc_trade_history(verbose=0)\n",
        "    if kwargs.pop('print_report',True):\n",
        "        print(bt.report(show_history=kwargs.pop('show_history',False)))\n",
        "    if kwargs.pop('plot',True):\n",
        "        plot(s.data,x='date',\n",
        "            y=['close'],\n",
        "            buy=list(buy.values),\n",
        "            sell=list(sell.values)\n",
        "            )\n",
        "    return bt if bt else None"
      ],
      "execution_count": 0,
      "outputs": []
    },
    {
      "cell_type": "markdown",
      "metadata": {
        "id": "OoKX-aazjvwQ",
        "colab_type": "text"
      },
      "source": [
        "### 5-10-20"
      ]
    },
    {
      "cell_type": "code",
      "metadata": {
        "id": "zVrZtkxhx8BW",
        "colab_type": "code",
        "outputId": "19dc9ca6-0fda-4930-d861-a43b72786e5b",
        "colab": {
          "base_uri": "https://localhost:8080/",
          "height": 797,
          "referenced_widgets": [
            "1729d77aacd44017b55571a0fb97c101",
            "7b19f8b34d354bffb22a1ba75273b738",
            "e5449732b2ce417285f45925069bb64e",
            "4faaca0dd8e0459a80483a17c4a538a8",
            "831b5c79c4ca433f8f946dae6ac378e4",
            "d5f066b88bc740018ab0caf0f47cbb22",
            "bcaab09b7bf44cd4bd950716fa8aa81a",
            "dafaed5f331049c0bb185f675d543094",
            "f28fc7d2b1d940e0ba3f4cc2c2f02253",
            "bf1d5aafc30f4b5a8e461590f33b6492",
            "8cf9d792e30f4f5599814737f68a3c1d",
            "cf8e0aa3ecd94d479e405a8278fe9e4c",
            "bff9f28fae84400e99895ae215fab58e",
            "d4b7c9e9608e49cebe0b319bd3a76dcf",
            "0265ce364384489dbc8fdfb3c924bc6b",
            "b3080a1771db4448bbbddc4027983fe4"
          ]
        }
      },
      "source": [
        "bt1=test_dema_3_cross1('600036',5,10,20,plot=False)\n",
        "bt2=test_dema_3_cross2('600036',5,10,20,plot=False)\n",
        "\n",
        "df1=pd.DataFrame({'value':[bt1.available_cash,\n",
        "                           len(bt1.history_df),\n",
        "                           bt1.total_assets_cur,\n",
        "                           sum((bt1.hold_price_cur_df['buy_price']-bt1.hold_price_cur_df['price_cur'])*bt1.hold_price_cur_df['amount']) if not bt1.hold_price_cur_df.empty else 0,\n",
        "                           ],\n",
        "                  'field':['现金','交易次数','当前总资产','当前持仓亏损'],\n",
        "                  '是否附加MFI':['否','否','否','否']})\n",
        "df2=pd.DataFrame({'value':[bt2.available_cash,\n",
        "                           len(bt2.history_df),\n",
        "                           bt2.total_assets_cur,\n",
        "                           sum((bt2.hold_price_cur_df['buy_price']-bt2.hold_price_cur_df['price_cur'])*bt2.hold_price_cur_df['amount']) if not bt2.hold_price_cur_df.empty else 0,\n",
        "                           ],\n",
        "                  'field':['现金','交易次数','当前总资产','当前持仓亏损'],\n",
        "                  '是否附加MFI':['是','是','是','是']})\n",
        "df=pd.concat([df1,df2])\n",
        "\n",
        "sns.barplot(data=df,x='field',y='value',hue='是否附加MFI')"
      ],
      "execution_count": 59,
      "outputs": [
        {
          "output_type": "display_data",
          "data": {
            "application/vnd.jupyter.widget-view+json": {
              "model_id": "1729d77aacd44017b55571a0fb97c101",
              "version_minor": 0,
              "version_major": 2
            },
            "text/plain": [
              "HBox(children=(IntProgress(value=0, description='回测计算中...', max=4236, style=ProgressStyle(description_width='i…"
            ]
          },
          "metadata": {
            "tags": []
          }
        },
        {
          "output_type": "stream",
          "text": [
            "\n",
            "数据时间:2002-04-09 00:00:00~2019-12-31 00:00:00（可交易天数4236）\n",
            "初始资金:10000.00\n",
            "交易次数:145 (买入/卖出各算1次)\n",
            "可用资金:9369.15\n",
            "当前持仓:        buy_price  amount  price_cur\n",
            "code                                \n",
            "600036  29.296809  1800.0      37.58\n",
            "当前总资产:77013.15(现金+持股现价值)\n",
            "资金变化率:93.69%\n",
            "资产变化率:770.13%\n",
            "总手续费:1088.43\n",
            "总印花税:752.07\n"
          ],
          "name": "stdout"
        },
        {
          "output_type": "display_data",
          "data": {
            "application/vnd.jupyter.widget-view+json": {
              "model_id": "f28fc7d2b1d940e0ba3f4cc2c2f02253",
              "version_minor": 0,
              "version_major": 2
            },
            "text/plain": [
              "HBox(children=(IntProgress(value=0, description='回测计算中...', max=4236, style=ProgressStyle(description_width='i…"
            ]
          },
          "metadata": {
            "tags": []
          }
        },
        {
          "output_type": "stream",
          "text": [
            "\n",
            "数据时间:2002-04-09 00:00:00~2019-12-31 00:00:00（可交易天数4236）\n",
            "初始资金:10000.00\n",
            "交易次数:23 (买入/卖出各算1次)\n",
            "可用资金:15227.37\n",
            "当前持仓:无\n",
            "当前总资产:15227.37(现金+持股现价值)\n",
            "资金变化率:152.27%\n",
            "资产变化率:152.27%\n",
            "总手续费:128.55\n",
            "总印花税:57.40\n"
          ],
          "name": "stdout"
        },
        {
          "output_type": "execute_result",
          "data": {
            "text/plain": [
              "<matplotlib.axes._subplots.AxesSubplot at 0x7fd2b95e14a8>"
            ]
          },
          "metadata": {
            "tags": []
          },
          "execution_count": 59
        },
        {
          "output_type": "display_data",
          "data": {
            "image/png": "[encoded data removed]",
            "text/plain": [
              "<Figure size 432x288 with 1 Axes>"
            ]
          },
          "metadata": {
            "tags": []
          }
        }
      ]
    },
    {
      "cell_type": "code",
      "metadata": {
        "id": "EnnBaUPoE9BM",
        "colab_type": "code",
        "outputId": "cba89160-ffc7-431b-fe03-fcecea49c03a",
        "colab": {
          "base_uri": "https://localhost:8080/",
          "height": 832,
          "referenced_widgets": [
            "afe9df7bd3054afb9af9a09c25df2f51",
            "5bdbac03adee4d3eae3ea4ba59608f27",
            "e4b98affd0fe4de885459d20fec1a856",
            "a39ed848943a4259a0df32edb5e9b9b7",
            "3d7a2a508eba49b08e156da079540f89",
            "53b4b7537ce441c4accf06847818c020",
            "fecaf208d1414a649ad3a6aaf656b7e8",
            "88dd399adbe74a8cb923e71a627ca0b9",
            "cca89303b6ba4f8a97d7b76545a0c037",
            "a969ff3c1cf1421ebc4b6f0f055dbe22",
            "cb5d82400b304d768f3f85bbba41b32e",
            "e2f62093c6d4429bb5a0b40c57759106",
            "a07f24896b4d4b71bcfde5274a95ce88",
            "f25e3b13a9244549a415b56a4d56a924",
            "0c19f0e4c1bd4075a81ba661bc50babf",
            "0424942209fb4b8cbf6928a0983350b9"
          ]
        }
      },
      "source": [
        "bt1=test_dema_3_cross1('600858',5,10,20,plot=False)\n",
        "bt2=test_dema_3_cross2('600858',5,10,20,plot=False)\n",
        "\n",
        "df1=pd.DataFrame({'value':[bt1.available_cash,\n",
        "                           len(bt1.history_df),\n",
        "                           bt1.total_assets_cur,\n",
        "                           sum((bt1.hold_price_cur_df['buy_price']-bt1.hold_price_cur_df['price_cur'])*bt1.hold_price_cur_df['amount']) if not bt1.hold_price_cur_df.empty else 0,\n",
        "                           ],\n",
        "                  'field':['现金','交易次数','当前总资产','当前持仓亏损'],\n",
        "                  '是否附加MFI':['否','否','否','否']})\n",
        "df2=pd.DataFrame({'value':[bt2.available_cash,\n",
        "                           len(bt2.history_df),\n",
        "                           bt2.total_assets_cur,\n",
        "                           sum((bt2.hold_price_cur_df['buy_price']-bt2.hold_price_cur_df['price_cur'])*bt2.hold_price_cur_df['amount']) if not bt2.hold_price_cur_df.empty else 0,\n",
        "                           ],\n",
        "                  'field':['现金','交易次数','当前总资产','当前持仓亏损'],\n",
        "                  '是否附加MFI':['是','是','是','是']})\n",
        "df=pd.concat([df1,df2])\n",
        "\n",
        "sns.barplot(data=df,x='field',y='value',hue='是否附加MFI')"
      ],
      "execution_count": 60,
      "outputs": [
        {
          "output_type": "display_data",
          "data": {
            "application/vnd.jupyter.widget-view+json": {
              "model_id": "afe9df7bd3054afb9af9a09c25df2f51",
              "version_minor": 0,
              "version_major": 2
            },
            "text/plain": [
              "HBox(children=(IntProgress(value=0, description='回测计算中...', max=5860, style=ProgressStyle(description_width='i…"
            ]
          },
          "metadata": {
            "tags": []
          }
        },
        {
          "output_type": "stream",
          "text": [
            "\n",
            "数据时间:1994-05-06 00:00:00~2020-03-09 00:00:00（可交易天数5860）\n",
            "初始资金:10000.00\n",
            "交易次数:233 (买入/卖出各算1次)\n",
            "可用资金:1619.40\n",
            "当前持仓:        buy_price   amount  price_cur\n",
            "code                                 \n",
            "600858  13.844455  10000.0        4.5\n",
            "当前总资产:46619.40(现金+持股现价值)\n",
            "资金变化率:16.19%\n",
            "资产变化率:466.19%\n",
            "总手续费:2380.16\n",
            "总印花税:1838.43\n"
          ],
          "name": "stdout"
        },
        {
          "output_type": "display_data",
          "data": {
            "application/vnd.jupyter.widget-view+json": {
              "model_id": "cca89303b6ba4f8a97d7b76545a0c037",
              "version_minor": 0,
              "version_major": 2
            },
            "text/plain": [
              "HBox(children=(IntProgress(value=0, description='回测计算中...', max=5860, style=ProgressStyle(description_width='i…"
            ]
          },
          "metadata": {
            "tags": []
          }
        },
        {
          "output_type": "stream",
          "text": [
            "\n",
            "数据时间:1994-05-06 00:00:00~2020-03-09 00:00:00（可交易天数5860）\n",
            "初始资金:10000.00\n",
            "交易次数:61 (买入/卖出各算1次)\n",
            "可用资金:11355.10\n",
            "当前持仓:        buy_price  amount  price_cur\n",
            "code                                \n",
            "600858   5.887073  8100.0        4.5\n",
            "当前总资产:47805.10(现金+持股现价值)\n",
            "资金变化率:113.55%\n",
            "资产变化率:478.05%\n",
            "总手续费:502.76\n",
            "总印花税:414.34\n"
          ],
          "name": "stdout"
        },
        {
          "output_type": "execute_result",
          "data": {
            "text/plain": [
              "<matplotlib.axes._subplots.AxesSubplot at 0x7fd2b93e8048>"
            ]
          },
          "metadata": {
            "tags": []
          },
          "execution_count": 60
        },
        {
          "output_type": "display_data",
          "data": {
            "image/png": "[encoded data removed]",
            "text/plain": [
              "<Figure size 432x288 with 1 Axes>"
            ]
          },
          "metadata": {
            "tags": []
          }
        }
      ]
    },
    {
      "cell_type": "markdown",
      "metadata": {
        "id": "TNSZWVvkjyUq",
        "colab_type": "text"
      },
      "source": [
        "### 10-30-120"
      ]
    },
    {
      "cell_type": "code",
      "metadata": {
        "id": "d_5h8kOtBKmN",
        "colab_type": "code",
        "colab": {
          "base_uri": "https://localhost:8080/",
          "height": 832,
          "referenced_widgets": [
            "836f4b696dcc4dd5b9854fc0bafb90ed",
            "e8bd29ec65e6420a868902b2a43c3af5",
            "921ce539869a4eae98470e63beb956ab",
            "f81dd02c2e924bef9200d4a9c544b481",
            "d25fdd709d944cc69ef499cac1475108",
            "bedbe5b752ba4227a3edb27c7e72f338",
            "2c596070530845fb85ad83f5445a7814",
            "5b090d5d95c54111ba8961d8b7a2ee57",
            "24a2ebb6373a4104b3370eb5791ec680",
            "70c0c4b8c201475bb18cb36623cc6417",
            "03fd40455c3d4b46b81819d82e7fcf60",
            "3662991f5abc429290b3f778930c008d",
            "a37ce82b36944eb7b6e397429bba60ee",
            "4fe0e9095b024ded986ebcbee56fc5cd",
            "4d82d37bace14df9b42c2c8b5cc76695",
            "26a61a72e24b4ed99caa076fbef5f8aa"
          ]
        },
        "outputId": "67a23f3c-a1ee-443e-f733-bd3787e3ee87"
      },
      "source": [
        "bt1=test_dema_3_cross1('600036',10,30,120,plot=False)\n",
        "bt2=test_dema_3_cross2('600036',10,30,120,plot=False)\n",
        "\n",
        "df1=pd.DataFrame({'value':[bt1.available_cash,\n",
        "                           len(bt1.history_df),\n",
        "                           bt1.total_assets_cur,\n",
        "                           sum((bt1.hold_price_cur_df['buy_price']-bt1.hold_price_cur_df['price_cur'])*bt1.hold_price_cur_df['amount']) if not bt1.hold_price_cur_df.empty else 0,\n",
        "                           ],\n",
        "                  'field':['现金','交易次数','当前总资产','当前持仓亏损'],\n",
        "                  '是否附加MFI':['否','否','否','否']})\n",
        "df2=pd.DataFrame({'value':[bt2.available_cash,\n",
        "                           len(bt2.history_df),\n",
        "                           bt2.total_assets_cur,\n",
        "                           sum((bt2.hold_price_cur_df['buy_price']-bt2.hold_price_cur_df['price_cur'])*bt2.hold_price_cur_df['amount']) if not bt2.hold_price_cur_df.empty else 0,\n",
        "                           ],\n",
        "                  'field':['现金','交易次数','当前总资产','当前持仓亏损'],\n",
        "                  '是否附加MFI':['是','是','是','是']})\n",
        "df=pd.concat([df1,df2])\n",
        "\n",
        "sns.barplot(data=df,x='field',y='value',hue='是否附加MFI')"
      ],
      "execution_count": 61,
      "outputs": [
        {
          "output_type": "display_data",
          "data": {
            "application/vnd.jupyter.widget-view+json": {
              "model_id": "836f4b696dcc4dd5b9854fc0bafb90ed",
              "version_minor": 0,
              "version_major": 2
            },
            "text/plain": [
              "HBox(children=(IntProgress(value=0, description='回测计算中...', max=4236, style=ProgressStyle(description_width='i…"
            ]
          },
          "metadata": {
            "tags": []
          }
        },
        {
          "output_type": "stream",
          "text": [
            "\n",
            "数据时间:2002-04-09 00:00:00~2019-12-31 00:00:00（可交易天数4236）\n",
            "初始资金:10000.00\n",
            "交易次数:53 (买入/卖出各算1次)\n",
            "可用资金:7351.18\n",
            "当前持仓:        buy_price  amount  price_cur\n",
            "code                                \n",
            "600036  28.027864   600.0      37.58\n",
            "当前总资产:29899.18(现金+持股现价值)\n",
            "资金变化率:73.51%\n",
            "资产变化率:298.99%\n",
            "总手续费:319.97\n",
            "总印花税:179.85\n"
          ],
          "name": "stdout"
        },
        {
          "output_type": "display_data",
          "data": {
            "application/vnd.jupyter.widget-view+json": {
              "model_id": "24a2ebb6373a4104b3370eb5791ec680",
              "version_minor": 0,
              "version_major": 2
            },
            "text/plain": [
              "HBox(children=(IntProgress(value=0, description='回测计算中...', max=4236, style=ProgressStyle(description_width='i…"
            ]
          },
          "metadata": {
            "tags": []
          }
        },
        {
          "output_type": "stream",
          "text": [
            "\n",
            "数据时间:2002-04-09 00:00:00~2019-12-31 00:00:00（可交易天数4236）\n",
            "初始资金:10000.00\n",
            "交易次数:26 (买入/卖出各算1次)\n",
            "可用资金:8144.76\n",
            "当前持仓:        buy_price  amount  price_cur\n",
            "code                                \n",
            "600036  24.536921   300.0      37.58\n",
            "当前总资产:19418.76(现金+持股现价值)\n",
            "资金变化率:81.45%\n",
            "资产变化率:194.19%\n",
            "总手续费:143.50\n",
            "总印花税:58.65\n"
          ],
          "name": "stdout"
        },
        {
          "output_type": "execute_result",
          "data": {
            "text/plain": [
              "<matplotlib.axes._subplots.AxesSubplot at 0x7fd2b947bda0>"
            ]
          },
          "metadata": {
            "tags": []
          },
          "execution_count": 61
        },
        {
          "output_type": "display_data",
          "data": {
            "image/png": "[encoded data removed]",
            "text/plain": [
              "<Figure size 432x288 with 1 Axes>"
            ]
          },
          "metadata": {
            "tags": []
          }
        }
      ]
    },
    {
      "cell_type": "code",
      "metadata": {
        "id": "EOIsuFo6j26V",
        "colab_type": "code",
        "colab": {
          "base_uri": "https://localhost:8080/",
          "height": 832,
          "referenced_widgets": [
            "dbba71f6aaa44b4db801158fd11bc0c9",
            "55cac844fc014a799a23d6b81f663438",
            "554ada2f3ecc4933b22e6f53f1988cd3",
            "3ecacb9ab5034494a71c774bbc4fc261",
            "3b834520be0746d2be7bda977554b82d",
            "900a3e7ff60f41ee9adbcbda4ee70300",
            "824b8a6863524bfabd68c7124bf7f98d",
            "3971679c2a1546e393845ea3becb349b",
            "a3e9b4a36f14473bbfabf6001f3b915d",
            "120141fa4aff472498fa96d55d6c3e56",
            "63c86c26ec894658b6b0e138a292aa23",
            "4b3ea2cb4edd4b5f91cef53fb9747f03",
            "3b5a00d795a241b0aca3ee2b13e38c07",
            "5f0152bbb7a241bda0f7e16afa5d6cd0",
            "0e515895f0474761992dc6e16e67b71f",
            "d7414bdde5734b0ebe9801624bd57643"
          ]
        },
        "outputId": "e0924814-058a-433b-fc48-52336200c600"
      },
      "source": [
        "bt1=test_dema_3_cross1('600858',10,30,120,plot=False)\n",
        "bt2=test_dema_3_cross2('600858',10,30,120,plot=False)\n",
        "\n",
        "df1=pd.DataFrame({'value':[bt1.available_cash,\n",
        "                           len(bt1.history_df),\n",
        "                           bt1.total_assets_cur,\n",
        "                           sum((bt1.hold_price_cur_df['buy_price']-bt1.hold_price_cur_df['price_cur'])*bt1.hold_price_cur_df['amount']) if not bt1.hold_price_cur_df.empty else 0,\n",
        "                           ],\n",
        "                  'field':['现金','交易次数','当前总资产','当前持仓亏损'],\n",
        "                  '是否附加MFI':['否','否','否','否']})\n",
        "df2=pd.DataFrame({'value':[bt2.available_cash,\n",
        "                           len(bt2.history_df),\n",
        "                           bt2.total_assets_cur,\n",
        "                           sum((bt2.hold_price_cur_df['buy_price']-bt2.hold_price_cur_df['price_cur'])*bt2.hold_price_cur_df['amount']) if not bt2.hold_price_cur_df.empty else 0,\n",
        "                           ],\n",
        "                  'field':['现金','交易次数','当前总资产','当前持仓亏损'],\n",
        "                  '是否附加MFI':['是','是','是','是']})\n",
        "df=pd.concat([df1,df2])\n",
        "\n",
        "sns.barplot(data=df,x='field',y='value',hue='是否附加MFI')"
      ],
      "execution_count": 62,
      "outputs": [
        {
          "output_type": "display_data",
          "data": {
            "application/vnd.jupyter.widget-view+json": {
              "model_id": "dbba71f6aaa44b4db801158fd11bc0c9",
              "version_minor": 0,
              "version_major": 2
            },
            "text/plain": [
              "HBox(children=(IntProgress(value=0, description='回测计算中...', max=5860, style=ProgressStyle(description_width='i…"
            ]
          },
          "metadata": {
            "tags": []
          }
        },
        {
          "output_type": "stream",
          "text": [
            "\n",
            "数据时间:1994-05-06 00:00:00~2020-03-09 00:00:00（可交易天数5860）\n",
            "初始资金:10000.00\n",
            "交易次数:282 (买入/卖出各算1次)\n",
            "可用资金:1573.75\n",
            "当前持仓:        buy_price   amount  price_cur\n",
            "code                                 \n",
            "600858    9.42837  30200.0        4.5\n",
            "当前总资产:137473.75(现金+持股现价值)\n",
            "资金变化率:15.74%\n",
            "资产变化率:1374.74%\n",
            "总手续费:4113.26\n",
            "总印花税:3483.06\n"
          ],
          "name": "stdout"
        },
        {
          "output_type": "display_data",
          "data": {
            "application/vnd.jupyter.widget-view+json": {
              "model_id": "a3e9b4a36f14473bbfabf6001f3b915d",
              "version_minor": 0,
              "version_major": 2
            },
            "text/plain": [
              "HBox(children=(IntProgress(value=0, description='回测计算中...', max=5860, style=ProgressStyle(description_width='i…"
            ]
          },
          "metadata": {
            "tags": []
          }
        },
        {
          "output_type": "stream",
          "text": [
            "\n",
            "数据时间:1994-05-06 00:00:00~2020-03-09 00:00:00（可交易天数5860）\n",
            "初始资金:10000.00\n",
            "交易次数:72 (买入/卖出各算1次)\n",
            "可用资金:5001.51\n",
            "当前持仓:        buy_price  amount  price_cur\n",
            "code                                \n",
            "600858   5.987093  6100.0        4.5\n",
            "当前总资产:32451.51(现金+持股现价值)\n",
            "资金变化率:50.02%\n",
            "资产变化率:324.52%\n",
            "总手续费:480.52\n",
            "总印花税:311.22\n"
          ],
          "name": "stdout"
        },
        {
          "output_type": "execute_result",
          "data": {
            "text/plain": [
              "<matplotlib.axes._subplots.AxesSubplot at 0x7fd2b9515b70>"
            ]
          },
          "metadata": {
            "tags": []
          },
          "execution_count": 62
        },
        {
          "output_type": "display_data",
          "data": {
            "image/png": "[encoded data removed]",
            "text/plain": [
              "<Figure size 432x288 with 1 Axes>"
            ]
          },
          "metadata": {
            "tags": []
          }
        }
      ]
    },
    {
      "cell_type": "code",
      "metadata": {
        "id": "5ek3i1OZk2KL",
        "colab_type": "code",
        "colab": {}
      },
      "source": [
        ""
      ],
      "execution_count": 0,
      "outputs": []
    }
  ]
}